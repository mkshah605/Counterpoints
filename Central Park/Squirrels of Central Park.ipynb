{
 "cells": [
  {
   "cell_type": "code",
   "execution_count": 16,
   "id": "52ff65af",
   "metadata": {},
   "outputs": [],
   "source": [
    "import pandas as pd\n",
    "import numpy as np\n",
    "import plotly.express as px\n",
    "import datetime"
   ]
  },
  {
   "cell_type": "code",
   "execution_count": 20,
   "id": "aece37a3",
   "metadata": {},
   "outputs": [],
   "source": [
    "squirrel_data = pd.read_csv(r'/Users/mansi/Downloads/2018_Central_Park_Squirrel_Census_-_Squirrel_Data.csv')\n",
    "squirrel_stories = pd.read_csv(r'/Users/mansi/Downloads/2018_Central_Park_Squirrel_Census_-_Stories.csv')"
   ]
  },
  {
   "cell_type": "code",
   "execution_count": 21,
   "id": "9799c8ed",
   "metadata": {},
   "outputs": [
    {
     "data": {
      "text/plain": [
       "Index(['X', 'Y', 'Unique Squirrel ID', 'Hectare', 'Shift', 'Date',\n",
       "       'Hectare Squirrel Number', 'Age', 'Primary Fur Color',\n",
       "       'Highlight Fur Color', 'Combination of Primary and Highlight Color',\n",
       "       'Color notes', 'Location', 'Above Ground Sighter Measurement',\n",
       "       'Specific Location', 'Running', 'Chasing', 'Climbing', 'Eating',\n",
       "       'Foraging', 'Other Activities', 'Kuks', 'Quaas', 'Moans', 'Tail flags',\n",
       "       'Tail twitches', 'Approaches', 'Indifferent', 'Runs from',\n",
       "       'Other Interactions', 'Lat/Long'],\n",
       "      dtype='object')"
      ]
     },
     "execution_count": 21,
     "metadata": {},
     "output_type": "execute_result"
    }
   ],
   "source": [
    "squirrel_data.columns"
   ]
  },
  {
   "cell_type": "code",
   "execution_count": 22,
   "id": "a7b9e209",
   "metadata": {
    "scrolled": true
   },
   "outputs": [
    {
     "data": {
      "text/html": [
       "<div>\n",
       "<style scoped>\n",
       "    .dataframe tbody tr th:only-of-type {\n",
       "        vertical-align: middle;\n",
       "    }\n",
       "\n",
       "    .dataframe tbody tr th {\n",
       "        vertical-align: top;\n",
       "    }\n",
       "\n",
       "    .dataframe thead th {\n",
       "        text-align: right;\n",
       "    }\n",
       "</style>\n",
       "<table border=\"1\" class=\"dataframe\">\n",
       "  <thead>\n",
       "    <tr style=\"text-align: right;\">\n",
       "      <th></th>\n",
       "      <th>X</th>\n",
       "      <th>Y</th>\n",
       "      <th>Unique Squirrel ID</th>\n",
       "      <th>Hectare</th>\n",
       "      <th>Shift</th>\n",
       "      <th>Date</th>\n",
       "      <th>Hectare Squirrel Number</th>\n",
       "      <th>Age</th>\n",
       "      <th>Primary Fur Color</th>\n",
       "      <th>Highlight Fur Color</th>\n",
       "      <th>...</th>\n",
       "      <th>Kuks</th>\n",
       "      <th>Quaas</th>\n",
       "      <th>Moans</th>\n",
       "      <th>Tail flags</th>\n",
       "      <th>Tail twitches</th>\n",
       "      <th>Approaches</th>\n",
       "      <th>Indifferent</th>\n",
       "      <th>Runs from</th>\n",
       "      <th>Other Interactions</th>\n",
       "      <th>Lat/Long</th>\n",
       "    </tr>\n",
       "  </thead>\n",
       "  <tbody>\n",
       "    <tr>\n",
       "      <th>0</th>\n",
       "      <td>-73.956134</td>\n",
       "      <td>40.794082</td>\n",
       "      <td>37F-PM-1014-03</td>\n",
       "      <td>37F</td>\n",
       "      <td>PM</td>\n",
       "      <td>10142018</td>\n",
       "      <td>3</td>\n",
       "      <td>NaN</td>\n",
       "      <td>NaN</td>\n",
       "      <td>NaN</td>\n",
       "      <td>...</td>\n",
       "      <td>False</td>\n",
       "      <td>False</td>\n",
       "      <td>False</td>\n",
       "      <td>False</td>\n",
       "      <td>False</td>\n",
       "      <td>False</td>\n",
       "      <td>False</td>\n",
       "      <td>False</td>\n",
       "      <td>NaN</td>\n",
       "      <td>POINT (-73.9561344937861 40.7940823884086)</td>\n",
       "    </tr>\n",
       "    <tr>\n",
       "      <th>1</th>\n",
       "      <td>-73.968857</td>\n",
       "      <td>40.783783</td>\n",
       "      <td>21B-AM-1019-04</td>\n",
       "      <td>21B</td>\n",
       "      <td>AM</td>\n",
       "      <td>10192018</td>\n",
       "      <td>4</td>\n",
       "      <td>NaN</td>\n",
       "      <td>NaN</td>\n",
       "      <td>NaN</td>\n",
       "      <td>...</td>\n",
       "      <td>False</td>\n",
       "      <td>False</td>\n",
       "      <td>False</td>\n",
       "      <td>False</td>\n",
       "      <td>False</td>\n",
       "      <td>False</td>\n",
       "      <td>False</td>\n",
       "      <td>False</td>\n",
       "      <td>NaN</td>\n",
       "      <td>POINT (-73.9688574691102 40.7837825208444)</td>\n",
       "    </tr>\n",
       "    <tr>\n",
       "      <th>2</th>\n",
       "      <td>-73.974281</td>\n",
       "      <td>40.775534</td>\n",
       "      <td>11B-PM-1014-08</td>\n",
       "      <td>11B</td>\n",
       "      <td>PM</td>\n",
       "      <td>10142018</td>\n",
       "      <td>8</td>\n",
       "      <td>NaN</td>\n",
       "      <td>Gray</td>\n",
       "      <td>NaN</td>\n",
       "      <td>...</td>\n",
       "      <td>False</td>\n",
       "      <td>False</td>\n",
       "      <td>False</td>\n",
       "      <td>False</td>\n",
       "      <td>False</td>\n",
       "      <td>False</td>\n",
       "      <td>False</td>\n",
       "      <td>False</td>\n",
       "      <td>NaN</td>\n",
       "      <td>POINT (-73.97428114848522 40.775533619083)</td>\n",
       "    </tr>\n",
       "    <tr>\n",
       "      <th>3</th>\n",
       "      <td>-73.959641</td>\n",
       "      <td>40.790313</td>\n",
       "      <td>32E-PM-1017-14</td>\n",
       "      <td>32E</td>\n",
       "      <td>PM</td>\n",
       "      <td>10172018</td>\n",
       "      <td>14</td>\n",
       "      <td>Adult</td>\n",
       "      <td>Gray</td>\n",
       "      <td>NaN</td>\n",
       "      <td>...</td>\n",
       "      <td>False</td>\n",
       "      <td>False</td>\n",
       "      <td>False</td>\n",
       "      <td>False</td>\n",
       "      <td>False</td>\n",
       "      <td>False</td>\n",
       "      <td>False</td>\n",
       "      <td>True</td>\n",
       "      <td>NaN</td>\n",
       "      <td>POINT (-73.9596413903948 40.7903128889029)</td>\n",
       "    </tr>\n",
       "    <tr>\n",
       "      <th>4</th>\n",
       "      <td>-73.970268</td>\n",
       "      <td>40.776213</td>\n",
       "      <td>13E-AM-1017-05</td>\n",
       "      <td>13E</td>\n",
       "      <td>AM</td>\n",
       "      <td>10172018</td>\n",
       "      <td>5</td>\n",
       "      <td>Adult</td>\n",
       "      <td>Gray</td>\n",
       "      <td>Cinnamon</td>\n",
       "      <td>...</td>\n",
       "      <td>False</td>\n",
       "      <td>False</td>\n",
       "      <td>False</td>\n",
       "      <td>False</td>\n",
       "      <td>False</td>\n",
       "      <td>False</td>\n",
       "      <td>False</td>\n",
       "      <td>False</td>\n",
       "      <td>NaN</td>\n",
       "      <td>POINT (-73.9702676472613 40.7762126854894)</td>\n",
       "    </tr>\n",
       "    <tr>\n",
       "      <th>...</th>\n",
       "      <td>...</td>\n",
       "      <td>...</td>\n",
       "      <td>...</td>\n",
       "      <td>...</td>\n",
       "      <td>...</td>\n",
       "      <td>...</td>\n",
       "      <td>...</td>\n",
       "      <td>...</td>\n",
       "      <td>...</td>\n",
       "      <td>...</td>\n",
       "      <td>...</td>\n",
       "      <td>...</td>\n",
       "      <td>...</td>\n",
       "      <td>...</td>\n",
       "      <td>...</td>\n",
       "      <td>...</td>\n",
       "      <td>...</td>\n",
       "      <td>...</td>\n",
       "      <td>...</td>\n",
       "      <td>...</td>\n",
       "      <td>...</td>\n",
       "    </tr>\n",
       "    <tr>\n",
       "      <th>3018</th>\n",
       "      <td>-73.963943</td>\n",
       "      <td>40.790868</td>\n",
       "      <td>30B-AM-1007-04</td>\n",
       "      <td>30B</td>\n",
       "      <td>AM</td>\n",
       "      <td>10072018</td>\n",
       "      <td>4</td>\n",
       "      <td>Adult</td>\n",
       "      <td>Gray</td>\n",
       "      <td>NaN</td>\n",
       "      <td>...</td>\n",
       "      <td>False</td>\n",
       "      <td>False</td>\n",
       "      <td>False</td>\n",
       "      <td>False</td>\n",
       "      <td>False</td>\n",
       "      <td>False</td>\n",
       "      <td>False</td>\n",
       "      <td>True</td>\n",
       "      <td>NaN</td>\n",
       "      <td>POINT (-73.9639431360458 40.7908677445466)</td>\n",
       "    </tr>\n",
       "    <tr>\n",
       "      <th>3019</th>\n",
       "      <td>-73.970402</td>\n",
       "      <td>40.782560</td>\n",
       "      <td>19A-PM-1013-05</td>\n",
       "      <td>19A</td>\n",
       "      <td>PM</td>\n",
       "      <td>10132018</td>\n",
       "      <td>5</td>\n",
       "      <td>Adult</td>\n",
       "      <td>Gray</td>\n",
       "      <td>White</td>\n",
       "      <td>...</td>\n",
       "      <td>False</td>\n",
       "      <td>False</td>\n",
       "      <td>False</td>\n",
       "      <td>False</td>\n",
       "      <td>False</td>\n",
       "      <td>False</td>\n",
       "      <td>True</td>\n",
       "      <td>False</td>\n",
       "      <td>NaN</td>\n",
       "      <td>POINT (-73.9704015859639 40.7825600069973)</td>\n",
       "    </tr>\n",
       "    <tr>\n",
       "      <th>3020</th>\n",
       "      <td>-73.966587</td>\n",
       "      <td>40.783678</td>\n",
       "      <td>22D-PM-1012-07</td>\n",
       "      <td>22D</td>\n",
       "      <td>PM</td>\n",
       "      <td>10122018</td>\n",
       "      <td>7</td>\n",
       "      <td>Adult</td>\n",
       "      <td>Gray</td>\n",
       "      <td>Black, Cinnamon, White</td>\n",
       "      <td>...</td>\n",
       "      <td>False</td>\n",
       "      <td>False</td>\n",
       "      <td>False</td>\n",
       "      <td>False</td>\n",
       "      <td>False</td>\n",
       "      <td>False</td>\n",
       "      <td>True</td>\n",
       "      <td>False</td>\n",
       "      <td>NaN</td>\n",
       "      <td>POINT (-73.9665871993517 40.7836775064883)</td>\n",
       "    </tr>\n",
       "    <tr>\n",
       "      <th>3021</th>\n",
       "      <td>-73.963994</td>\n",
       "      <td>40.789915</td>\n",
       "      <td>29B-PM-1010-02</td>\n",
       "      <td>29B</td>\n",
       "      <td>PM</td>\n",
       "      <td>10102018</td>\n",
       "      <td>2</td>\n",
       "      <td>NaN</td>\n",
       "      <td>Gray</td>\n",
       "      <td>Cinnamon, White</td>\n",
       "      <td>...</td>\n",
       "      <td>False</td>\n",
       "      <td>False</td>\n",
       "      <td>False</td>\n",
       "      <td>False</td>\n",
       "      <td>False</td>\n",
       "      <td>False</td>\n",
       "      <td>True</td>\n",
       "      <td>False</td>\n",
       "      <td>NaN</td>\n",
       "      <td>POINT (-73.9639941227864 40.7899152327912)</td>\n",
       "    </tr>\n",
       "    <tr>\n",
       "      <th>3022</th>\n",
       "      <td>-73.975479</td>\n",
       "      <td>40.769640</td>\n",
       "      <td>5E-PM-1012-01</td>\n",
       "      <td>05E</td>\n",
       "      <td>PM</td>\n",
       "      <td>10122018</td>\n",
       "      <td>1</td>\n",
       "      <td>Adult</td>\n",
       "      <td>Cinnamon</td>\n",
       "      <td>Gray, White</td>\n",
       "      <td>...</td>\n",
       "      <td>False</td>\n",
       "      <td>False</td>\n",
       "      <td>False</td>\n",
       "      <td>False</td>\n",
       "      <td>False</td>\n",
       "      <td>True</td>\n",
       "      <td>False</td>\n",
       "      <td>False</td>\n",
       "      <td>NaN</td>\n",
       "      <td>POINT (-73.9754794191553 40.7696404489025)</td>\n",
       "    </tr>\n",
       "  </tbody>\n",
       "</table>\n",
       "<p>3023 rows × 31 columns</p>\n",
       "</div>"
      ],
      "text/plain": [
       "              X          Y Unique Squirrel ID Hectare Shift      Date  \\\n",
       "0    -73.956134  40.794082     37F-PM-1014-03     37F    PM  10142018   \n",
       "1    -73.968857  40.783783     21B-AM-1019-04     21B    AM  10192018   \n",
       "2    -73.974281  40.775534     11B-PM-1014-08     11B    PM  10142018   \n",
       "3    -73.959641  40.790313     32E-PM-1017-14     32E    PM  10172018   \n",
       "4    -73.970268  40.776213     13E-AM-1017-05     13E    AM  10172018   \n",
       "...         ...        ...                ...     ...   ...       ...   \n",
       "3018 -73.963943  40.790868     30B-AM-1007-04     30B    AM  10072018   \n",
       "3019 -73.970402  40.782560     19A-PM-1013-05     19A    PM  10132018   \n",
       "3020 -73.966587  40.783678     22D-PM-1012-07     22D    PM  10122018   \n",
       "3021 -73.963994  40.789915     29B-PM-1010-02     29B    PM  10102018   \n",
       "3022 -73.975479  40.769640      5E-PM-1012-01     05E    PM  10122018   \n",
       "\n",
       "      Hectare Squirrel Number    Age Primary Fur Color  \\\n",
       "0                           3    NaN               NaN   \n",
       "1                           4    NaN               NaN   \n",
       "2                           8    NaN              Gray   \n",
       "3                          14  Adult              Gray   \n",
       "4                           5  Adult              Gray   \n",
       "...                       ...    ...               ...   \n",
       "3018                        4  Adult              Gray   \n",
       "3019                        5  Adult              Gray   \n",
       "3020                        7  Adult              Gray   \n",
       "3021                        2    NaN              Gray   \n",
       "3022                        1  Adult          Cinnamon   \n",
       "\n",
       "         Highlight Fur Color  ...   Kuks  Quaas  Moans Tail flags  \\\n",
       "0                        NaN  ...  False  False  False      False   \n",
       "1                        NaN  ...  False  False  False      False   \n",
       "2                        NaN  ...  False  False  False      False   \n",
       "3                        NaN  ...  False  False  False      False   \n",
       "4                   Cinnamon  ...  False  False  False      False   \n",
       "...                      ...  ...    ...    ...    ...        ...   \n",
       "3018                     NaN  ...  False  False  False      False   \n",
       "3019                   White  ...  False  False  False      False   \n",
       "3020  Black, Cinnamon, White  ...  False  False  False      False   \n",
       "3021         Cinnamon, White  ...  False  False  False      False   \n",
       "3022             Gray, White  ...  False  False  False      False   \n",
       "\n",
       "     Tail twitches  Approaches  Indifferent  Runs from  Other Interactions  \\\n",
       "0            False       False        False      False                 NaN   \n",
       "1            False       False        False      False                 NaN   \n",
       "2            False       False        False      False                 NaN   \n",
       "3            False       False        False       True                 NaN   \n",
       "4            False       False        False      False                 NaN   \n",
       "...            ...         ...          ...        ...                 ...   \n",
       "3018         False       False        False       True                 NaN   \n",
       "3019         False       False         True      False                 NaN   \n",
       "3020         False       False         True      False                 NaN   \n",
       "3021         False       False         True      False                 NaN   \n",
       "3022         False        True        False      False                 NaN   \n",
       "\n",
       "                                        Lat/Long  \n",
       "0     POINT (-73.9561344937861 40.7940823884086)  \n",
       "1     POINT (-73.9688574691102 40.7837825208444)  \n",
       "2     POINT (-73.97428114848522 40.775533619083)  \n",
       "3     POINT (-73.9596413903948 40.7903128889029)  \n",
       "4     POINT (-73.9702676472613 40.7762126854894)  \n",
       "...                                          ...  \n",
       "3018  POINT (-73.9639431360458 40.7908677445466)  \n",
       "3019  POINT (-73.9704015859639 40.7825600069973)  \n",
       "3020  POINT (-73.9665871993517 40.7836775064883)  \n",
       "3021  POINT (-73.9639941227864 40.7899152327912)  \n",
       "3022  POINT (-73.9754794191553 40.7696404489025)  \n",
       "\n",
       "[3023 rows x 31 columns]"
      ]
     },
     "execution_count": 22,
     "metadata": {},
     "output_type": "execute_result"
    }
   ],
   "source": [
    "squirrel_data"
   ]
  },
  {
   "cell_type": "code",
   "execution_count": 23,
   "id": "121450a0",
   "metadata": {},
   "outputs": [],
   "source": [
    "# Convert Boolean cols to Int\n",
    "\n",
    "boolean_cols = ['Running', 'Chasing', 'Climbing', 'Eating',\n",
    "       'Foraging','Kuks', 'Quaas', 'Moans', 'Tail flags',\n",
    "       'Tail twitches', 'Approaches', 'Indifferent', 'Runs from']\n",
    "\n",
    "for col in boolean_cols:\n",
    "    squirrel_data[col] = list(map(int, squirrel_data[col]))\n",
    " "
   ]
  },
  {
   "cell_type": "code",
   "execution_count": 24,
   "id": "6be863a5",
   "metadata": {},
   "outputs": [
    {
     "data": {
      "text/html": [
       "<div>\n",
       "<style scoped>\n",
       "    .dataframe tbody tr th:only-of-type {\n",
       "        vertical-align: middle;\n",
       "    }\n",
       "\n",
       "    .dataframe tbody tr th {\n",
       "        vertical-align: top;\n",
       "    }\n",
       "\n",
       "    .dataframe thead th {\n",
       "        text-align: right;\n",
       "    }\n",
       "</style>\n",
       "<table border=\"1\" class=\"dataframe\">\n",
       "  <thead>\n",
       "    <tr style=\"text-align: right;\">\n",
       "      <th></th>\n",
       "      <th>X</th>\n",
       "      <th>Y</th>\n",
       "      <th>Unique Squirrel ID</th>\n",
       "      <th>Hectare</th>\n",
       "      <th>Shift</th>\n",
       "      <th>Date</th>\n",
       "      <th>Hectare Squirrel Number</th>\n",
       "      <th>Age</th>\n",
       "      <th>Primary Fur Color</th>\n",
       "      <th>Highlight Fur Color</th>\n",
       "      <th>...</th>\n",
       "      <th>Kuks</th>\n",
       "      <th>Quaas</th>\n",
       "      <th>Moans</th>\n",
       "      <th>Tail flags</th>\n",
       "      <th>Tail twitches</th>\n",
       "      <th>Approaches</th>\n",
       "      <th>Indifferent</th>\n",
       "      <th>Runs from</th>\n",
       "      <th>Other Interactions</th>\n",
       "      <th>Lat/Long</th>\n",
       "    </tr>\n",
       "  </thead>\n",
       "  <tbody>\n",
       "    <tr>\n",
       "      <th>0</th>\n",
       "      <td>-73.956134</td>\n",
       "      <td>40.794082</td>\n",
       "      <td>37F-PM-1014-03</td>\n",
       "      <td>37F</td>\n",
       "      <td>PM</td>\n",
       "      <td>10142018</td>\n",
       "      <td>3</td>\n",
       "      <td>NaN</td>\n",
       "      <td>NaN</td>\n",
       "      <td>NaN</td>\n",
       "      <td>...</td>\n",
       "      <td>0</td>\n",
       "      <td>0</td>\n",
       "      <td>0</td>\n",
       "      <td>0</td>\n",
       "      <td>0</td>\n",
       "      <td>0</td>\n",
       "      <td>0</td>\n",
       "      <td>0</td>\n",
       "      <td>NaN</td>\n",
       "      <td>POINT (-73.9561344937861 40.7940823884086)</td>\n",
       "    </tr>\n",
       "    <tr>\n",
       "      <th>1</th>\n",
       "      <td>-73.968857</td>\n",
       "      <td>40.783783</td>\n",
       "      <td>21B-AM-1019-04</td>\n",
       "      <td>21B</td>\n",
       "      <td>AM</td>\n",
       "      <td>10192018</td>\n",
       "      <td>4</td>\n",
       "      <td>NaN</td>\n",
       "      <td>NaN</td>\n",
       "      <td>NaN</td>\n",
       "      <td>...</td>\n",
       "      <td>0</td>\n",
       "      <td>0</td>\n",
       "      <td>0</td>\n",
       "      <td>0</td>\n",
       "      <td>0</td>\n",
       "      <td>0</td>\n",
       "      <td>0</td>\n",
       "      <td>0</td>\n",
       "      <td>NaN</td>\n",
       "      <td>POINT (-73.9688574691102 40.7837825208444)</td>\n",
       "    </tr>\n",
       "    <tr>\n",
       "      <th>2</th>\n",
       "      <td>-73.974281</td>\n",
       "      <td>40.775534</td>\n",
       "      <td>11B-PM-1014-08</td>\n",
       "      <td>11B</td>\n",
       "      <td>PM</td>\n",
       "      <td>10142018</td>\n",
       "      <td>8</td>\n",
       "      <td>NaN</td>\n",
       "      <td>Gray</td>\n",
       "      <td>NaN</td>\n",
       "      <td>...</td>\n",
       "      <td>0</td>\n",
       "      <td>0</td>\n",
       "      <td>0</td>\n",
       "      <td>0</td>\n",
       "      <td>0</td>\n",
       "      <td>0</td>\n",
       "      <td>0</td>\n",
       "      <td>0</td>\n",
       "      <td>NaN</td>\n",
       "      <td>POINT (-73.97428114848522 40.775533619083)</td>\n",
       "    </tr>\n",
       "    <tr>\n",
       "      <th>3</th>\n",
       "      <td>-73.959641</td>\n",
       "      <td>40.790313</td>\n",
       "      <td>32E-PM-1017-14</td>\n",
       "      <td>32E</td>\n",
       "      <td>PM</td>\n",
       "      <td>10172018</td>\n",
       "      <td>14</td>\n",
       "      <td>Adult</td>\n",
       "      <td>Gray</td>\n",
       "      <td>NaN</td>\n",
       "      <td>...</td>\n",
       "      <td>0</td>\n",
       "      <td>0</td>\n",
       "      <td>0</td>\n",
       "      <td>0</td>\n",
       "      <td>0</td>\n",
       "      <td>0</td>\n",
       "      <td>0</td>\n",
       "      <td>1</td>\n",
       "      <td>NaN</td>\n",
       "      <td>POINT (-73.9596413903948 40.7903128889029)</td>\n",
       "    </tr>\n",
       "    <tr>\n",
       "      <th>4</th>\n",
       "      <td>-73.970268</td>\n",
       "      <td>40.776213</td>\n",
       "      <td>13E-AM-1017-05</td>\n",
       "      <td>13E</td>\n",
       "      <td>AM</td>\n",
       "      <td>10172018</td>\n",
       "      <td>5</td>\n",
       "      <td>Adult</td>\n",
       "      <td>Gray</td>\n",
       "      <td>Cinnamon</td>\n",
       "      <td>...</td>\n",
       "      <td>0</td>\n",
       "      <td>0</td>\n",
       "      <td>0</td>\n",
       "      <td>0</td>\n",
       "      <td>0</td>\n",
       "      <td>0</td>\n",
       "      <td>0</td>\n",
       "      <td>0</td>\n",
       "      <td>NaN</td>\n",
       "      <td>POINT (-73.9702676472613 40.7762126854894)</td>\n",
       "    </tr>\n",
       "    <tr>\n",
       "      <th>...</th>\n",
       "      <td>...</td>\n",
       "      <td>...</td>\n",
       "      <td>...</td>\n",
       "      <td>...</td>\n",
       "      <td>...</td>\n",
       "      <td>...</td>\n",
       "      <td>...</td>\n",
       "      <td>...</td>\n",
       "      <td>...</td>\n",
       "      <td>...</td>\n",
       "      <td>...</td>\n",
       "      <td>...</td>\n",
       "      <td>...</td>\n",
       "      <td>...</td>\n",
       "      <td>...</td>\n",
       "      <td>...</td>\n",
       "      <td>...</td>\n",
       "      <td>...</td>\n",
       "      <td>...</td>\n",
       "      <td>...</td>\n",
       "      <td>...</td>\n",
       "    </tr>\n",
       "    <tr>\n",
       "      <th>3018</th>\n",
       "      <td>-73.963943</td>\n",
       "      <td>40.790868</td>\n",
       "      <td>30B-AM-1007-04</td>\n",
       "      <td>30B</td>\n",
       "      <td>AM</td>\n",
       "      <td>10072018</td>\n",
       "      <td>4</td>\n",
       "      <td>Adult</td>\n",
       "      <td>Gray</td>\n",
       "      <td>NaN</td>\n",
       "      <td>...</td>\n",
       "      <td>0</td>\n",
       "      <td>0</td>\n",
       "      <td>0</td>\n",
       "      <td>0</td>\n",
       "      <td>0</td>\n",
       "      <td>0</td>\n",
       "      <td>0</td>\n",
       "      <td>1</td>\n",
       "      <td>NaN</td>\n",
       "      <td>POINT (-73.9639431360458 40.7908677445466)</td>\n",
       "    </tr>\n",
       "    <tr>\n",
       "      <th>3019</th>\n",
       "      <td>-73.970402</td>\n",
       "      <td>40.782560</td>\n",
       "      <td>19A-PM-1013-05</td>\n",
       "      <td>19A</td>\n",
       "      <td>PM</td>\n",
       "      <td>10132018</td>\n",
       "      <td>5</td>\n",
       "      <td>Adult</td>\n",
       "      <td>Gray</td>\n",
       "      <td>White</td>\n",
       "      <td>...</td>\n",
       "      <td>0</td>\n",
       "      <td>0</td>\n",
       "      <td>0</td>\n",
       "      <td>0</td>\n",
       "      <td>0</td>\n",
       "      <td>0</td>\n",
       "      <td>1</td>\n",
       "      <td>0</td>\n",
       "      <td>NaN</td>\n",
       "      <td>POINT (-73.9704015859639 40.7825600069973)</td>\n",
       "    </tr>\n",
       "    <tr>\n",
       "      <th>3020</th>\n",
       "      <td>-73.966587</td>\n",
       "      <td>40.783678</td>\n",
       "      <td>22D-PM-1012-07</td>\n",
       "      <td>22D</td>\n",
       "      <td>PM</td>\n",
       "      <td>10122018</td>\n",
       "      <td>7</td>\n",
       "      <td>Adult</td>\n",
       "      <td>Gray</td>\n",
       "      <td>Black, Cinnamon, White</td>\n",
       "      <td>...</td>\n",
       "      <td>0</td>\n",
       "      <td>0</td>\n",
       "      <td>0</td>\n",
       "      <td>0</td>\n",
       "      <td>0</td>\n",
       "      <td>0</td>\n",
       "      <td>1</td>\n",
       "      <td>0</td>\n",
       "      <td>NaN</td>\n",
       "      <td>POINT (-73.9665871993517 40.7836775064883)</td>\n",
       "    </tr>\n",
       "    <tr>\n",
       "      <th>3021</th>\n",
       "      <td>-73.963994</td>\n",
       "      <td>40.789915</td>\n",
       "      <td>29B-PM-1010-02</td>\n",
       "      <td>29B</td>\n",
       "      <td>PM</td>\n",
       "      <td>10102018</td>\n",
       "      <td>2</td>\n",
       "      <td>NaN</td>\n",
       "      <td>Gray</td>\n",
       "      <td>Cinnamon, White</td>\n",
       "      <td>...</td>\n",
       "      <td>0</td>\n",
       "      <td>0</td>\n",
       "      <td>0</td>\n",
       "      <td>0</td>\n",
       "      <td>0</td>\n",
       "      <td>0</td>\n",
       "      <td>1</td>\n",
       "      <td>0</td>\n",
       "      <td>NaN</td>\n",
       "      <td>POINT (-73.9639941227864 40.7899152327912)</td>\n",
       "    </tr>\n",
       "    <tr>\n",
       "      <th>3022</th>\n",
       "      <td>-73.975479</td>\n",
       "      <td>40.769640</td>\n",
       "      <td>5E-PM-1012-01</td>\n",
       "      <td>05E</td>\n",
       "      <td>PM</td>\n",
       "      <td>10122018</td>\n",
       "      <td>1</td>\n",
       "      <td>Adult</td>\n",
       "      <td>Cinnamon</td>\n",
       "      <td>Gray, White</td>\n",
       "      <td>...</td>\n",
       "      <td>0</td>\n",
       "      <td>0</td>\n",
       "      <td>0</td>\n",
       "      <td>0</td>\n",
       "      <td>0</td>\n",
       "      <td>1</td>\n",
       "      <td>0</td>\n",
       "      <td>0</td>\n",
       "      <td>NaN</td>\n",
       "      <td>POINT (-73.9754794191553 40.7696404489025)</td>\n",
       "    </tr>\n",
       "  </tbody>\n",
       "</table>\n",
       "<p>3023 rows × 31 columns</p>\n",
       "</div>"
      ],
      "text/plain": [
       "              X          Y Unique Squirrel ID Hectare Shift      Date  \\\n",
       "0    -73.956134  40.794082     37F-PM-1014-03     37F    PM  10142018   \n",
       "1    -73.968857  40.783783     21B-AM-1019-04     21B    AM  10192018   \n",
       "2    -73.974281  40.775534     11B-PM-1014-08     11B    PM  10142018   \n",
       "3    -73.959641  40.790313     32E-PM-1017-14     32E    PM  10172018   \n",
       "4    -73.970268  40.776213     13E-AM-1017-05     13E    AM  10172018   \n",
       "...         ...        ...                ...     ...   ...       ...   \n",
       "3018 -73.963943  40.790868     30B-AM-1007-04     30B    AM  10072018   \n",
       "3019 -73.970402  40.782560     19A-PM-1013-05     19A    PM  10132018   \n",
       "3020 -73.966587  40.783678     22D-PM-1012-07     22D    PM  10122018   \n",
       "3021 -73.963994  40.789915     29B-PM-1010-02     29B    PM  10102018   \n",
       "3022 -73.975479  40.769640      5E-PM-1012-01     05E    PM  10122018   \n",
       "\n",
       "      Hectare Squirrel Number    Age Primary Fur Color  \\\n",
       "0                           3    NaN               NaN   \n",
       "1                           4    NaN               NaN   \n",
       "2                           8    NaN              Gray   \n",
       "3                          14  Adult              Gray   \n",
       "4                           5  Adult              Gray   \n",
       "...                       ...    ...               ...   \n",
       "3018                        4  Adult              Gray   \n",
       "3019                        5  Adult              Gray   \n",
       "3020                        7  Adult              Gray   \n",
       "3021                        2    NaN              Gray   \n",
       "3022                        1  Adult          Cinnamon   \n",
       "\n",
       "         Highlight Fur Color  ... Kuks Quaas Moans Tail flags Tail twitches  \\\n",
       "0                        NaN  ...    0     0     0          0             0   \n",
       "1                        NaN  ...    0     0     0          0             0   \n",
       "2                        NaN  ...    0     0     0          0             0   \n",
       "3                        NaN  ...    0     0     0          0             0   \n",
       "4                   Cinnamon  ...    0     0     0          0             0   \n",
       "...                      ...  ...  ...   ...   ...        ...           ...   \n",
       "3018                     NaN  ...    0     0     0          0             0   \n",
       "3019                   White  ...    0     0     0          0             0   \n",
       "3020  Black, Cinnamon, White  ...    0     0     0          0             0   \n",
       "3021         Cinnamon, White  ...    0     0     0          0             0   \n",
       "3022             Gray, White  ...    0     0     0          0             0   \n",
       "\n",
       "      Approaches  Indifferent  Runs from  Other Interactions  \\\n",
       "0              0            0          0                 NaN   \n",
       "1              0            0          0                 NaN   \n",
       "2              0            0          0                 NaN   \n",
       "3              0            0          1                 NaN   \n",
       "4              0            0          0                 NaN   \n",
       "...          ...          ...        ...                 ...   \n",
       "3018           0            0          1                 NaN   \n",
       "3019           0            1          0                 NaN   \n",
       "3020           0            1          0                 NaN   \n",
       "3021           0            1          0                 NaN   \n",
       "3022           1            0          0                 NaN   \n",
       "\n",
       "                                        Lat/Long  \n",
       "0     POINT (-73.9561344937861 40.7940823884086)  \n",
       "1     POINT (-73.9688574691102 40.7837825208444)  \n",
       "2     POINT (-73.97428114848522 40.775533619083)  \n",
       "3     POINT (-73.9596413903948 40.7903128889029)  \n",
       "4     POINT (-73.9702676472613 40.7762126854894)  \n",
       "...                                          ...  \n",
       "3018  POINT (-73.9639431360458 40.7908677445466)  \n",
       "3019  POINT (-73.9704015859639 40.7825600069973)  \n",
       "3020  POINT (-73.9665871993517 40.7836775064883)  \n",
       "3021  POINT (-73.9639941227864 40.7899152327912)  \n",
       "3022  POINT (-73.9754794191553 40.7696404489025)  \n",
       "\n",
       "[3023 rows x 31 columns]"
      ]
     },
     "execution_count": 24,
     "metadata": {},
     "output_type": "execute_result"
    }
   ],
   "source": [
    "squirrel_data"
   ]
  },
  {
   "cell_type": "code",
   "execution_count": 25,
   "id": "0092e2c1",
   "metadata": {},
   "outputs": [],
   "source": [
    "# Create Date column that's in the official datetime format\n",
    "squirrel_data['Date'] =  pd.to_datetime(squirrel_data['Date'], format='%m%d%Y')"
   ]
  },
  {
   "cell_type": "code",
   "execution_count": 26,
   "id": "43d0e609",
   "metadata": {},
   "outputs": [
    {
     "data": {
      "text/plain": [
       "0      2018-10-14\n",
       "1      2018-10-19\n",
       "2      2018-10-14\n",
       "3      2018-10-17\n",
       "4      2018-10-17\n",
       "          ...    \n",
       "3018   2018-10-07\n",
       "3019   2018-10-13\n",
       "3020   2018-10-12\n",
       "3021   2018-10-10\n",
       "3022   2018-10-12\n",
       "Name: Date, Length: 3023, dtype: datetime64[ns]"
      ]
     },
     "execution_count": 26,
     "metadata": {},
     "output_type": "execute_result"
    }
   ],
   "source": [
    "squirrel_data['Date']"
   ]
  },
  {
   "cell_type": "code",
   "execution_count": 27,
   "id": "680d9e0f",
   "metadata": {
    "scrolled": false
   },
   "outputs": [
    {
     "data": {
      "text/plain": [
       "Unique Squirrel ID\n",
       "10A-AM-1006-01    1\n",
       "10A-AM-1006-02    1\n",
       "10A-AM-1006-03    1\n",
       "10A-AM-1006-04    1\n",
       "10A-PM-1014-01    1\n",
       "                 ..\n",
       "9I-PM-1010-03     1\n",
       "9I-PM-1010-04     1\n",
       "9I-PM-1010-05     1\n",
       "9I-PM-1010-06     1\n",
       "9I-PM-1010-07     1\n",
       "Name: X, Length: 3018, dtype: int64"
      ]
     },
     "execution_count": 27,
     "metadata": {},
     "output_type": "execute_result"
    }
   ],
   "source": [
    "squirrel_data.groupby(['Unique Squirrel ID']).count()['X']"
   ]
  },
  {
   "cell_type": "code",
   "execution_count": 28,
   "id": "f24c60f5",
   "metadata": {
    "scrolled": true
   },
   "outputs": [],
   "source": [
    "grouped_squirrels = squirrel_data.groupby(['Date']).sum()"
   ]
  },
  {
   "cell_type": "code",
   "execution_count": 29,
   "id": "fea9b248",
   "metadata": {
    "scrolled": false
   },
   "outputs": [
    {
     "name": "stdout",
     "output_type": "stream",
     "text": [
      "        Date Activity  Value\n",
      "0 2018-10-14  Running      0\n",
      "1 2018-10-19  Running      0\n",
      "2 2018-10-14  Running      0\n",
      "3 2018-10-17  Running      0\n",
      "4 2018-10-17  Running      0\n"
     ]
    }
   ],
   "source": [
    "squirrel_activity = squirrel_data.melt(id_vars='Date', value_vars=['Running', 'Chasing', 'Climbing', 'Eating',\n",
    "       'Foraging'], var_name='Activity', value_name='Value')\n",
    "print(squirrel_activity.head())\n",
    "squirrel_activity_grouped = squirrel_activity.groupby(['Date', 'Activity'], as_index=False).sum()"
   ]
  },
  {
   "cell_type": "code",
   "execution_count": 41,
   "id": "590067a3",
   "metadata": {},
   "outputs": [
    {
     "data": {
      "application/vnd.plotly.v1+json": {
       "config": {
        "plotlyServerURL": "https://plot.ly"
       },
       "data": [
        {
         "hovertemplate": "Activity=Chasing<br>Date=%{x}<br># of Squirels Spotted=%{y}<extra></extra>",
         "legendgroup": "Chasing",
         "line": {
          "color": "#636efa",
          "dash": "solid"
         },
         "marker": {
          "symbol": "circle"
         },
         "mode": "lines",
         "name": "Chasing",
         "orientation": "v",
         "showlegend": true,
         "type": "scatter",
         "x": [
          "2018-10-06T00:00:00",
          "2018-10-07T00:00:00",
          "2018-10-08T00:00:00",
          "2018-10-10T00:00:00",
          "2018-10-12T00:00:00",
          "2018-10-13T00:00:00",
          "2018-10-14T00:00:00",
          "2018-10-17T00:00:00",
          "2018-10-18T00:00:00",
          "2018-10-19T00:00:00",
          "2018-10-20T00:00:00"
         ],
         "xaxis": "x",
         "y": [
          29,
          31,
          30,
          22,
          28,
          31,
          42,
          27,
          18,
          13,
          8
         ],
         "yaxis": "y"
        },
        {
         "hovertemplate": "Activity=Climbing<br>Date=%{x}<br># of Squirels Spotted=%{y}<extra></extra>",
         "legendgroup": "Climbing",
         "line": {
          "color": "#EF553B",
          "dash": "solid"
         },
         "marker": {
          "symbol": "circle"
         },
         "mode": "lines",
         "name": "Climbing",
         "orientation": "v",
         "showlegend": true,
         "type": "scatter",
         "x": [
          "2018-10-06T00:00:00",
          "2018-10-07T00:00:00",
          "2018-10-08T00:00:00",
          "2018-10-10T00:00:00",
          "2018-10-12T00:00:00",
          "2018-10-13T00:00:00",
          "2018-10-14T00:00:00",
          "2018-10-17T00:00:00",
          "2018-10-18T00:00:00",
          "2018-10-19T00:00:00",
          "2018-10-20T00:00:00"
         ],
         "xaxis": "x",
         "y": [
          84,
          122,
          65,
          67,
          48,
          74,
          79,
          35,
          40,
          33,
          11
         ],
         "yaxis": "y"
        },
        {
         "hovertemplate": "Activity=Eating<br>Date=%{x}<br># of Squirels Spotted=%{y}<extra></extra>",
         "legendgroup": "Eating",
         "line": {
          "color": "#00cc96",
          "dash": "solid"
         },
         "marker": {
          "symbol": "circle"
         },
         "mode": "lines",
         "name": "Eating",
         "orientation": "v",
         "showlegend": true,
         "type": "scatter",
         "x": [
          "2018-10-06T00:00:00",
          "2018-10-07T00:00:00",
          "2018-10-08T00:00:00",
          "2018-10-10T00:00:00",
          "2018-10-12T00:00:00",
          "2018-10-13T00:00:00",
          "2018-10-14T00:00:00",
          "2018-10-17T00:00:00",
          "2018-10-18T00:00:00",
          "2018-10-19T00:00:00",
          "2018-10-20T00:00:00"
         ],
         "xaxis": "x",
         "y": [
          85,
          95,
          77,
          94,
          67,
          108,
          80,
          64,
          39,
          35,
          16
         ],
         "yaxis": "y"
        },
        {
         "hovertemplate": "Activity=Foraging<br>Date=%{x}<br># of Squirels Spotted=%{y}<extra></extra>",
         "legendgroup": "Foraging",
         "line": {
          "color": "#ab63fa",
          "dash": "solid"
         },
         "marker": {
          "symbol": "circle"
         },
         "mode": "lines",
         "name": "Foraging",
         "orientation": "v",
         "showlegend": true,
         "type": "scatter",
         "x": [
          "2018-10-06T00:00:00",
          "2018-10-07T00:00:00",
          "2018-10-08T00:00:00",
          "2018-10-10T00:00:00",
          "2018-10-12T00:00:00",
          "2018-10-13T00:00:00",
          "2018-10-14T00:00:00",
          "2018-10-17T00:00:00",
          "2018-10-18T00:00:00",
          "2018-10-19T00:00:00",
          "2018-10-20T00:00:00"
         ],
         "xaxis": "x",
         "y": [
          141,
          169,
          136,
          173,
          131,
          224,
          171,
          118,
          81,
          67,
          24
         ],
         "yaxis": "y"
        },
        {
         "hovertemplate": "Activity=Running<br>Date=%{x}<br># of Squirels Spotted=%{y}<extra></extra>",
         "legendgroup": "Running",
         "line": {
          "color": "#FFA15A",
          "dash": "solid"
         },
         "marker": {
          "symbol": "circle"
         },
         "mode": "lines",
         "name": "Running",
         "orientation": "v",
         "showlegend": true,
         "type": "scatter",
         "x": [
          "2018-10-06T00:00:00",
          "2018-10-07T00:00:00",
          "2018-10-08T00:00:00",
          "2018-10-10T00:00:00",
          "2018-10-12T00:00:00",
          "2018-10-13T00:00:00",
          "2018-10-14T00:00:00",
          "2018-10-17T00:00:00",
          "2018-10-18T00:00:00",
          "2018-10-19T00:00:00",
          "2018-10-20T00:00:00"
         ],
         "xaxis": "x",
         "y": [
          86,
          79,
          56,
          74,
          74,
          111,
          80,
          54,
          62,
          41,
          13
         ],
         "yaxis": "y"
        }
       ],
       "layout": {
        "legend": {
         "title": {
          "text": "Activity"
         },
         "tracegroupgap": 0
        },
        "margin": {
         "t": 60
        },
        "template": {
         "data": {
          "bar": [
           {
            "error_x": {
             "color": "#2a3f5f"
            },
            "error_y": {
             "color": "#2a3f5f"
            },
            "marker": {
             "line": {
              "color": "#E5ECF6",
              "width": 0.5
             },
             "pattern": {
              "fillmode": "overlay",
              "size": 10,
              "solidity": 0.2
             }
            },
            "type": "bar"
           }
          ],
          "barpolar": [
           {
            "marker": {
             "line": {
              "color": "#E5ECF6",
              "width": 0.5
             },
             "pattern": {
              "fillmode": "overlay",
              "size": 10,
              "solidity": 0.2
             }
            },
            "type": "barpolar"
           }
          ],
          "carpet": [
           {
            "aaxis": {
             "endlinecolor": "#2a3f5f",
             "gridcolor": "white",
             "linecolor": "white",
             "minorgridcolor": "white",
             "startlinecolor": "#2a3f5f"
            },
            "baxis": {
             "endlinecolor": "#2a3f5f",
             "gridcolor": "white",
             "linecolor": "white",
             "minorgridcolor": "white",
             "startlinecolor": "#2a3f5f"
            },
            "type": "carpet"
           }
          ],
          "choropleth": [
           {
            "colorbar": {
             "outlinewidth": 0,
             "ticks": ""
            },
            "type": "choropleth"
           }
          ],
          "contour": [
           {
            "colorbar": {
             "outlinewidth": 0,
             "ticks": ""
            },
            "colorscale": [
             [
              0,
              "#0d0887"
             ],
             [
              0.1111111111111111,
              "#46039f"
             ],
             [
              0.2222222222222222,
              "#7201a8"
             ],
             [
              0.3333333333333333,
              "#9c179e"
             ],
             [
              0.4444444444444444,
              "#bd3786"
             ],
             [
              0.5555555555555556,
              "#d8576b"
             ],
             [
              0.6666666666666666,
              "#ed7953"
             ],
             [
              0.7777777777777778,
              "#fb9f3a"
             ],
             [
              0.8888888888888888,
              "#fdca26"
             ],
             [
              1,
              "#f0f921"
             ]
            ],
            "type": "contour"
           }
          ],
          "contourcarpet": [
           {
            "colorbar": {
             "outlinewidth": 0,
             "ticks": ""
            },
            "type": "contourcarpet"
           }
          ],
          "heatmap": [
           {
            "colorbar": {
             "outlinewidth": 0,
             "ticks": ""
            },
            "colorscale": [
             [
              0,
              "#0d0887"
             ],
             [
              0.1111111111111111,
              "#46039f"
             ],
             [
              0.2222222222222222,
              "#7201a8"
             ],
             [
              0.3333333333333333,
              "#9c179e"
             ],
             [
              0.4444444444444444,
              "#bd3786"
             ],
             [
              0.5555555555555556,
              "#d8576b"
             ],
             [
              0.6666666666666666,
              "#ed7953"
             ],
             [
              0.7777777777777778,
              "#fb9f3a"
             ],
             [
              0.8888888888888888,
              "#fdca26"
             ],
             [
              1,
              "#f0f921"
             ]
            ],
            "type": "heatmap"
           }
          ],
          "heatmapgl": [
           {
            "colorbar": {
             "outlinewidth": 0,
             "ticks": ""
            },
            "colorscale": [
             [
              0,
              "#0d0887"
             ],
             [
              0.1111111111111111,
              "#46039f"
             ],
             [
              0.2222222222222222,
              "#7201a8"
             ],
             [
              0.3333333333333333,
              "#9c179e"
             ],
             [
              0.4444444444444444,
              "#bd3786"
             ],
             [
              0.5555555555555556,
              "#d8576b"
             ],
             [
              0.6666666666666666,
              "#ed7953"
             ],
             [
              0.7777777777777778,
              "#fb9f3a"
             ],
             [
              0.8888888888888888,
              "#fdca26"
             ],
             [
              1,
              "#f0f921"
             ]
            ],
            "type": "heatmapgl"
           }
          ],
          "histogram": [
           {
            "marker": {
             "pattern": {
              "fillmode": "overlay",
              "size": 10,
              "solidity": 0.2
             }
            },
            "type": "histogram"
           }
          ],
          "histogram2d": [
           {
            "colorbar": {
             "outlinewidth": 0,
             "ticks": ""
            },
            "colorscale": [
             [
              0,
              "#0d0887"
             ],
             [
              0.1111111111111111,
              "#46039f"
             ],
             [
              0.2222222222222222,
              "#7201a8"
             ],
             [
              0.3333333333333333,
              "#9c179e"
             ],
             [
              0.4444444444444444,
              "#bd3786"
             ],
             [
              0.5555555555555556,
              "#d8576b"
             ],
             [
              0.6666666666666666,
              "#ed7953"
             ],
             [
              0.7777777777777778,
              "#fb9f3a"
             ],
             [
              0.8888888888888888,
              "#fdca26"
             ],
             [
              1,
              "#f0f921"
             ]
            ],
            "type": "histogram2d"
           }
          ],
          "histogram2dcontour": [
           {
            "colorbar": {
             "outlinewidth": 0,
             "ticks": ""
            },
            "colorscale": [
             [
              0,
              "#0d0887"
             ],
             [
              0.1111111111111111,
              "#46039f"
             ],
             [
              0.2222222222222222,
              "#7201a8"
             ],
             [
              0.3333333333333333,
              "#9c179e"
             ],
             [
              0.4444444444444444,
              "#bd3786"
             ],
             [
              0.5555555555555556,
              "#d8576b"
             ],
             [
              0.6666666666666666,
              "#ed7953"
             ],
             [
              0.7777777777777778,
              "#fb9f3a"
             ],
             [
              0.8888888888888888,
              "#fdca26"
             ],
             [
              1,
              "#f0f921"
             ]
            ],
            "type": "histogram2dcontour"
           }
          ],
          "mesh3d": [
           {
            "colorbar": {
             "outlinewidth": 0,
             "ticks": ""
            },
            "type": "mesh3d"
           }
          ],
          "parcoords": [
           {
            "line": {
             "colorbar": {
              "outlinewidth": 0,
              "ticks": ""
             }
            },
            "type": "parcoords"
           }
          ],
          "pie": [
           {
            "automargin": true,
            "type": "pie"
           }
          ],
          "scatter": [
           {
            "marker": {
             "colorbar": {
              "outlinewidth": 0,
              "ticks": ""
             }
            },
            "type": "scatter"
           }
          ],
          "scatter3d": [
           {
            "line": {
             "colorbar": {
              "outlinewidth": 0,
              "ticks": ""
             }
            },
            "marker": {
             "colorbar": {
              "outlinewidth": 0,
              "ticks": ""
             }
            },
            "type": "scatter3d"
           }
          ],
          "scattercarpet": [
           {
            "marker": {
             "colorbar": {
              "outlinewidth": 0,
              "ticks": ""
             }
            },
            "type": "scattercarpet"
           }
          ],
          "scattergeo": [
           {
            "marker": {
             "colorbar": {
              "outlinewidth": 0,
              "ticks": ""
             }
            },
            "type": "scattergeo"
           }
          ],
          "scattergl": [
           {
            "marker": {
             "colorbar": {
              "outlinewidth": 0,
              "ticks": ""
             }
            },
            "type": "scattergl"
           }
          ],
          "scattermapbox": [
           {
            "marker": {
             "colorbar": {
              "outlinewidth": 0,
              "ticks": ""
             }
            },
            "type": "scattermapbox"
           }
          ],
          "scatterpolar": [
           {
            "marker": {
             "colorbar": {
              "outlinewidth": 0,
              "ticks": ""
             }
            },
            "type": "scatterpolar"
           }
          ],
          "scatterpolargl": [
           {
            "marker": {
             "colorbar": {
              "outlinewidth": 0,
              "ticks": ""
             }
            },
            "type": "scatterpolargl"
           }
          ],
          "scatterternary": [
           {
            "marker": {
             "colorbar": {
              "outlinewidth": 0,
              "ticks": ""
             }
            },
            "type": "scatterternary"
           }
          ],
          "surface": [
           {
            "colorbar": {
             "outlinewidth": 0,
             "ticks": ""
            },
            "colorscale": [
             [
              0,
              "#0d0887"
             ],
             [
              0.1111111111111111,
              "#46039f"
             ],
             [
              0.2222222222222222,
              "#7201a8"
             ],
             [
              0.3333333333333333,
              "#9c179e"
             ],
             [
              0.4444444444444444,
              "#bd3786"
             ],
             [
              0.5555555555555556,
              "#d8576b"
             ],
             [
              0.6666666666666666,
              "#ed7953"
             ],
             [
              0.7777777777777778,
              "#fb9f3a"
             ],
             [
              0.8888888888888888,
              "#fdca26"
             ],
             [
              1,
              "#f0f921"
             ]
            ],
            "type": "surface"
           }
          ],
          "table": [
           {
            "cells": {
             "fill": {
              "color": "#EBF0F8"
             },
             "line": {
              "color": "white"
             }
            },
            "header": {
             "fill": {
              "color": "#C8D4E3"
             },
             "line": {
              "color": "white"
             }
            },
            "type": "table"
           }
          ]
         },
         "layout": {
          "annotationdefaults": {
           "arrowcolor": "#2a3f5f",
           "arrowhead": 0,
           "arrowwidth": 1
          },
          "autotypenumbers": "strict",
          "coloraxis": {
           "colorbar": {
            "outlinewidth": 0,
            "ticks": ""
           }
          },
          "colorscale": {
           "diverging": [
            [
             0,
             "#8e0152"
            ],
            [
             0.1,
             "#c51b7d"
            ],
            [
             0.2,
             "#de77ae"
            ],
            [
             0.3,
             "#f1b6da"
            ],
            [
             0.4,
             "#fde0ef"
            ],
            [
             0.5,
             "#f7f7f7"
            ],
            [
             0.6,
             "#e6f5d0"
            ],
            [
             0.7,
             "#b8e186"
            ],
            [
             0.8,
             "#7fbc41"
            ],
            [
             0.9,
             "#4d9221"
            ],
            [
             1,
             "#276419"
            ]
           ],
           "sequential": [
            [
             0,
             "#0d0887"
            ],
            [
             0.1111111111111111,
             "#46039f"
            ],
            [
             0.2222222222222222,
             "#7201a8"
            ],
            [
             0.3333333333333333,
             "#9c179e"
            ],
            [
             0.4444444444444444,
             "#bd3786"
            ],
            [
             0.5555555555555556,
             "#d8576b"
            ],
            [
             0.6666666666666666,
             "#ed7953"
            ],
            [
             0.7777777777777778,
             "#fb9f3a"
            ],
            [
             0.8888888888888888,
             "#fdca26"
            ],
            [
             1,
             "#f0f921"
            ]
           ],
           "sequentialminus": [
            [
             0,
             "#0d0887"
            ],
            [
             0.1111111111111111,
             "#46039f"
            ],
            [
             0.2222222222222222,
             "#7201a8"
            ],
            [
             0.3333333333333333,
             "#9c179e"
            ],
            [
             0.4444444444444444,
             "#bd3786"
            ],
            [
             0.5555555555555556,
             "#d8576b"
            ],
            [
             0.6666666666666666,
             "#ed7953"
            ],
            [
             0.7777777777777778,
             "#fb9f3a"
            ],
            [
             0.8888888888888888,
             "#fdca26"
            ],
            [
             1,
             "#f0f921"
            ]
           ]
          },
          "colorway": [
           "#636efa",
           "#EF553B",
           "#00cc96",
           "#ab63fa",
           "#FFA15A",
           "#19d3f3",
           "#FF6692",
           "#B6E880",
           "#FF97FF",
           "#FECB52"
          ],
          "font": {
           "color": "#2a3f5f"
          },
          "geo": {
           "bgcolor": "white",
           "lakecolor": "white",
           "landcolor": "#E5ECF6",
           "showlakes": true,
           "showland": true,
           "subunitcolor": "white"
          },
          "hoverlabel": {
           "align": "left"
          },
          "hovermode": "closest",
          "mapbox": {
           "style": "light"
          },
          "paper_bgcolor": "white",
          "plot_bgcolor": "#E5ECF6",
          "polar": {
           "angularaxis": {
            "gridcolor": "white",
            "linecolor": "white",
            "ticks": ""
           },
           "bgcolor": "#E5ECF6",
           "radialaxis": {
            "gridcolor": "white",
            "linecolor": "white",
            "ticks": ""
           }
          },
          "scene": {
           "xaxis": {
            "backgroundcolor": "#E5ECF6",
            "gridcolor": "white",
            "gridwidth": 2,
            "linecolor": "white",
            "showbackground": true,
            "ticks": "",
            "zerolinecolor": "white"
           },
           "yaxis": {
            "backgroundcolor": "#E5ECF6",
            "gridcolor": "white",
            "gridwidth": 2,
            "linecolor": "white",
            "showbackground": true,
            "ticks": "",
            "zerolinecolor": "white"
           },
           "zaxis": {
            "backgroundcolor": "#E5ECF6",
            "gridcolor": "white",
            "gridwidth": 2,
            "linecolor": "white",
            "showbackground": true,
            "ticks": "",
            "zerolinecolor": "white"
           }
          },
          "shapedefaults": {
           "line": {
            "color": "#2a3f5f"
           }
          },
          "ternary": {
           "aaxis": {
            "gridcolor": "white",
            "linecolor": "white",
            "ticks": ""
           },
           "baxis": {
            "gridcolor": "white",
            "linecolor": "white",
            "ticks": ""
           },
           "bgcolor": "#E5ECF6",
           "caxis": {
            "gridcolor": "white",
            "linecolor": "white",
            "ticks": ""
           }
          },
          "title": {
           "x": 0.05
          },
          "xaxis": {
           "automargin": true,
           "gridcolor": "white",
           "linecolor": "white",
           "ticks": "",
           "title": {
            "standoff": 15
           },
           "zerolinecolor": "white",
           "zerolinewidth": 2
          },
          "yaxis": {
           "automargin": true,
           "gridcolor": "white",
           "linecolor": "white",
           "ticks": "",
           "title": {
            "standoff": 15
           },
           "zerolinecolor": "white",
           "zerolinewidth": 2
          }
         }
        },
        "title": {
         "text": "2018 Squirrel Activity",
         "x": 0.5
        },
        "xaxis": {
         "anchor": "y",
         "domain": [
          0,
          1
         ],
         "tickangle": 45,
         "tickformat": "%b %d",
         "title": {
          "text": "Date"
         }
        },
        "yaxis": {
         "anchor": "x",
         "domain": [
          0,
          1
         ],
         "title": {
          "text": "# of Squirels Spotted"
         }
        }
       }
      },
      "text/html": [
       "<div>                            <div id=\"c472978a-8e32-4af0-b3cc-2253aa5708af\" class=\"plotly-graph-div\" style=\"height:525px; width:100%;\"></div>            <script type=\"text/javascript\">                require([\"plotly\"], function(Plotly) {                    window.PLOTLYENV=window.PLOTLYENV || {};                                    if (document.getElementById(\"c472978a-8e32-4af0-b3cc-2253aa5708af\")) {                    Plotly.newPlot(                        \"c472978a-8e32-4af0-b3cc-2253aa5708af\",                        [{\"hovertemplate\":\"Activity=Chasing<br>Date=%{x}<br># of Squirels Spotted=%{y}<extra></extra>\",\"legendgroup\":\"Chasing\",\"line\":{\"color\":\"#636efa\",\"dash\":\"solid\"},\"marker\":{\"symbol\":\"circle\"},\"mode\":\"lines\",\"name\":\"Chasing\",\"orientation\":\"v\",\"showlegend\":true,\"x\":[\"2018-10-06T00:00:00\",\"2018-10-07T00:00:00\",\"2018-10-08T00:00:00\",\"2018-10-10T00:00:00\",\"2018-10-12T00:00:00\",\"2018-10-13T00:00:00\",\"2018-10-14T00:00:00\",\"2018-10-17T00:00:00\",\"2018-10-18T00:00:00\",\"2018-10-19T00:00:00\",\"2018-10-20T00:00:00\"],\"xaxis\":\"x\",\"y\":[29,31,30,22,28,31,42,27,18,13,8],\"yaxis\":\"y\",\"type\":\"scatter\"},{\"hovertemplate\":\"Activity=Climbing<br>Date=%{x}<br># of Squirels Spotted=%{y}<extra></extra>\",\"legendgroup\":\"Climbing\",\"line\":{\"color\":\"#EF553B\",\"dash\":\"solid\"},\"marker\":{\"symbol\":\"circle\"},\"mode\":\"lines\",\"name\":\"Climbing\",\"orientation\":\"v\",\"showlegend\":true,\"x\":[\"2018-10-06T00:00:00\",\"2018-10-07T00:00:00\",\"2018-10-08T00:00:00\",\"2018-10-10T00:00:00\",\"2018-10-12T00:00:00\",\"2018-10-13T00:00:00\",\"2018-10-14T00:00:00\",\"2018-10-17T00:00:00\",\"2018-10-18T00:00:00\",\"2018-10-19T00:00:00\",\"2018-10-20T00:00:00\"],\"xaxis\":\"x\",\"y\":[84,122,65,67,48,74,79,35,40,33,11],\"yaxis\":\"y\",\"type\":\"scatter\"},{\"hovertemplate\":\"Activity=Eating<br>Date=%{x}<br># of Squirels Spotted=%{y}<extra></extra>\",\"legendgroup\":\"Eating\",\"line\":{\"color\":\"#00cc96\",\"dash\":\"solid\"},\"marker\":{\"symbol\":\"circle\"},\"mode\":\"lines\",\"name\":\"Eating\",\"orientation\":\"v\",\"showlegend\":true,\"x\":[\"2018-10-06T00:00:00\",\"2018-10-07T00:00:00\",\"2018-10-08T00:00:00\",\"2018-10-10T00:00:00\",\"2018-10-12T00:00:00\",\"2018-10-13T00:00:00\",\"2018-10-14T00:00:00\",\"2018-10-17T00:00:00\",\"2018-10-18T00:00:00\",\"2018-10-19T00:00:00\",\"2018-10-20T00:00:00\"],\"xaxis\":\"x\",\"y\":[85,95,77,94,67,108,80,64,39,35,16],\"yaxis\":\"y\",\"type\":\"scatter\"},{\"hovertemplate\":\"Activity=Foraging<br>Date=%{x}<br># of Squirels Spotted=%{y}<extra></extra>\",\"legendgroup\":\"Foraging\",\"line\":{\"color\":\"#ab63fa\",\"dash\":\"solid\"},\"marker\":{\"symbol\":\"circle\"},\"mode\":\"lines\",\"name\":\"Foraging\",\"orientation\":\"v\",\"showlegend\":true,\"x\":[\"2018-10-06T00:00:00\",\"2018-10-07T00:00:00\",\"2018-10-08T00:00:00\",\"2018-10-10T00:00:00\",\"2018-10-12T00:00:00\",\"2018-10-13T00:00:00\",\"2018-10-14T00:00:00\",\"2018-10-17T00:00:00\",\"2018-10-18T00:00:00\",\"2018-10-19T00:00:00\",\"2018-10-20T00:00:00\"],\"xaxis\":\"x\",\"y\":[141,169,136,173,131,224,171,118,81,67,24],\"yaxis\":\"y\",\"type\":\"scatter\"},{\"hovertemplate\":\"Activity=Running<br>Date=%{x}<br># of Squirels Spotted=%{y}<extra></extra>\",\"legendgroup\":\"Running\",\"line\":{\"color\":\"#FFA15A\",\"dash\":\"solid\"},\"marker\":{\"symbol\":\"circle\"},\"mode\":\"lines\",\"name\":\"Running\",\"orientation\":\"v\",\"showlegend\":true,\"x\":[\"2018-10-06T00:00:00\",\"2018-10-07T00:00:00\",\"2018-10-08T00:00:00\",\"2018-10-10T00:00:00\",\"2018-10-12T00:00:00\",\"2018-10-13T00:00:00\",\"2018-10-14T00:00:00\",\"2018-10-17T00:00:00\",\"2018-10-18T00:00:00\",\"2018-10-19T00:00:00\",\"2018-10-20T00:00:00\"],\"xaxis\":\"x\",\"y\":[86,79,56,74,74,111,80,54,62,41,13],\"yaxis\":\"y\",\"type\":\"scatter\"}],                        {\"template\":{\"data\":{\"bar\":[{\"error_x\":{\"color\":\"#2a3f5f\"},\"error_y\":{\"color\":\"#2a3f5f\"},\"marker\":{\"line\":{\"color\":\"#E5ECF6\",\"width\":0.5},\"pattern\":{\"fillmode\":\"overlay\",\"size\":10,\"solidity\":0.2}},\"type\":\"bar\"}],\"barpolar\":[{\"marker\":{\"line\":{\"color\":\"#E5ECF6\",\"width\":0.5},\"pattern\":{\"fillmode\":\"overlay\",\"size\":10,\"solidity\":0.2}},\"type\":\"barpolar\"}],\"carpet\":[{\"aaxis\":{\"endlinecolor\":\"#2a3f5f\",\"gridcolor\":\"white\",\"linecolor\":\"white\",\"minorgridcolor\":\"white\",\"startlinecolor\":\"#2a3f5f\"},\"baxis\":{\"endlinecolor\":\"#2a3f5f\",\"gridcolor\":\"white\",\"linecolor\":\"white\",\"minorgridcolor\":\"white\",\"startlinecolor\":\"#2a3f5f\"},\"type\":\"carpet\"}],\"choropleth\":[{\"colorbar\":{\"outlinewidth\":0,\"ticks\":\"\"},\"type\":\"choropleth\"}],\"contour\":[{\"colorbar\":{\"outlinewidth\":0,\"ticks\":\"\"},\"colorscale\":[[0.0,\"#0d0887\"],[0.1111111111111111,\"#46039f\"],[0.2222222222222222,\"#7201a8\"],[0.3333333333333333,\"#9c179e\"],[0.4444444444444444,\"#bd3786\"],[0.5555555555555556,\"#d8576b\"],[0.6666666666666666,\"#ed7953\"],[0.7777777777777778,\"#fb9f3a\"],[0.8888888888888888,\"#fdca26\"],[1.0,\"#f0f921\"]],\"type\":\"contour\"}],\"contourcarpet\":[{\"colorbar\":{\"outlinewidth\":0,\"ticks\":\"\"},\"type\":\"contourcarpet\"}],\"heatmap\":[{\"colorbar\":{\"outlinewidth\":0,\"ticks\":\"\"},\"colorscale\":[[0.0,\"#0d0887\"],[0.1111111111111111,\"#46039f\"],[0.2222222222222222,\"#7201a8\"],[0.3333333333333333,\"#9c179e\"],[0.4444444444444444,\"#bd3786\"],[0.5555555555555556,\"#d8576b\"],[0.6666666666666666,\"#ed7953\"],[0.7777777777777778,\"#fb9f3a\"],[0.8888888888888888,\"#fdca26\"],[1.0,\"#f0f921\"]],\"type\":\"heatmap\"}],\"heatmapgl\":[{\"colorbar\":{\"outlinewidth\":0,\"ticks\":\"\"},\"colorscale\":[[0.0,\"#0d0887\"],[0.1111111111111111,\"#46039f\"],[0.2222222222222222,\"#7201a8\"],[0.3333333333333333,\"#9c179e\"],[0.4444444444444444,\"#bd3786\"],[0.5555555555555556,\"#d8576b\"],[0.6666666666666666,\"#ed7953\"],[0.7777777777777778,\"#fb9f3a\"],[0.8888888888888888,\"#fdca26\"],[1.0,\"#f0f921\"]],\"type\":\"heatmapgl\"}],\"histogram\":[{\"marker\":{\"pattern\":{\"fillmode\":\"overlay\",\"size\":10,\"solidity\":0.2}},\"type\":\"histogram\"}],\"histogram2d\":[{\"colorbar\":{\"outlinewidth\":0,\"ticks\":\"\"},\"colorscale\":[[0.0,\"#0d0887\"],[0.1111111111111111,\"#46039f\"],[0.2222222222222222,\"#7201a8\"],[0.3333333333333333,\"#9c179e\"],[0.4444444444444444,\"#bd3786\"],[0.5555555555555556,\"#d8576b\"],[0.6666666666666666,\"#ed7953\"],[0.7777777777777778,\"#fb9f3a\"],[0.8888888888888888,\"#fdca26\"],[1.0,\"#f0f921\"]],\"type\":\"histogram2d\"}],\"histogram2dcontour\":[{\"colorbar\":{\"outlinewidth\":0,\"ticks\":\"\"},\"colorscale\":[[0.0,\"#0d0887\"],[0.1111111111111111,\"#46039f\"],[0.2222222222222222,\"#7201a8\"],[0.3333333333333333,\"#9c179e\"],[0.4444444444444444,\"#bd3786\"],[0.5555555555555556,\"#d8576b\"],[0.6666666666666666,\"#ed7953\"],[0.7777777777777778,\"#fb9f3a\"],[0.8888888888888888,\"#fdca26\"],[1.0,\"#f0f921\"]],\"type\":\"histogram2dcontour\"}],\"mesh3d\":[{\"colorbar\":{\"outlinewidth\":0,\"ticks\":\"\"},\"type\":\"mesh3d\"}],\"parcoords\":[{\"line\":{\"colorbar\":{\"outlinewidth\":0,\"ticks\":\"\"}},\"type\":\"parcoords\"}],\"pie\":[{\"automargin\":true,\"type\":\"pie\"}],\"scatter\":[{\"marker\":{\"colorbar\":{\"outlinewidth\":0,\"ticks\":\"\"}},\"type\":\"scatter\"}],\"scatter3d\":[{\"line\":{\"colorbar\":{\"outlinewidth\":0,\"ticks\":\"\"}},\"marker\":{\"colorbar\":{\"outlinewidth\":0,\"ticks\":\"\"}},\"type\":\"scatter3d\"}],\"scattercarpet\":[{\"marker\":{\"colorbar\":{\"outlinewidth\":0,\"ticks\":\"\"}},\"type\":\"scattercarpet\"}],\"scattergeo\":[{\"marker\":{\"colorbar\":{\"outlinewidth\":0,\"ticks\":\"\"}},\"type\":\"scattergeo\"}],\"scattergl\":[{\"marker\":{\"colorbar\":{\"outlinewidth\":0,\"ticks\":\"\"}},\"type\":\"scattergl\"}],\"scattermapbox\":[{\"marker\":{\"colorbar\":{\"outlinewidth\":0,\"ticks\":\"\"}},\"type\":\"scattermapbox\"}],\"scatterpolar\":[{\"marker\":{\"colorbar\":{\"outlinewidth\":0,\"ticks\":\"\"}},\"type\":\"scatterpolar\"}],\"scatterpolargl\":[{\"marker\":{\"colorbar\":{\"outlinewidth\":0,\"ticks\":\"\"}},\"type\":\"scatterpolargl\"}],\"scatterternary\":[{\"marker\":{\"colorbar\":{\"outlinewidth\":0,\"ticks\":\"\"}},\"type\":\"scatterternary\"}],\"surface\":[{\"colorbar\":{\"outlinewidth\":0,\"ticks\":\"\"},\"colorscale\":[[0.0,\"#0d0887\"],[0.1111111111111111,\"#46039f\"],[0.2222222222222222,\"#7201a8\"],[0.3333333333333333,\"#9c179e\"],[0.4444444444444444,\"#bd3786\"],[0.5555555555555556,\"#d8576b\"],[0.6666666666666666,\"#ed7953\"],[0.7777777777777778,\"#fb9f3a\"],[0.8888888888888888,\"#fdca26\"],[1.0,\"#f0f921\"]],\"type\":\"surface\"}],\"table\":[{\"cells\":{\"fill\":{\"color\":\"#EBF0F8\"},\"line\":{\"color\":\"white\"}},\"header\":{\"fill\":{\"color\":\"#C8D4E3\"},\"line\":{\"color\":\"white\"}},\"type\":\"table\"}]},\"layout\":{\"annotationdefaults\":{\"arrowcolor\":\"#2a3f5f\",\"arrowhead\":0,\"arrowwidth\":1},\"autotypenumbers\":\"strict\",\"coloraxis\":{\"colorbar\":{\"outlinewidth\":0,\"ticks\":\"\"}},\"colorscale\":{\"diverging\":[[0,\"#8e0152\"],[0.1,\"#c51b7d\"],[0.2,\"#de77ae\"],[0.3,\"#f1b6da\"],[0.4,\"#fde0ef\"],[0.5,\"#f7f7f7\"],[0.6,\"#e6f5d0\"],[0.7,\"#b8e186\"],[0.8,\"#7fbc41\"],[0.9,\"#4d9221\"],[1,\"#276419\"]],\"sequential\":[[0.0,\"#0d0887\"],[0.1111111111111111,\"#46039f\"],[0.2222222222222222,\"#7201a8\"],[0.3333333333333333,\"#9c179e\"],[0.4444444444444444,\"#bd3786\"],[0.5555555555555556,\"#d8576b\"],[0.6666666666666666,\"#ed7953\"],[0.7777777777777778,\"#fb9f3a\"],[0.8888888888888888,\"#fdca26\"],[1.0,\"#f0f921\"]],\"sequentialminus\":[[0.0,\"#0d0887\"],[0.1111111111111111,\"#46039f\"],[0.2222222222222222,\"#7201a8\"],[0.3333333333333333,\"#9c179e\"],[0.4444444444444444,\"#bd3786\"],[0.5555555555555556,\"#d8576b\"],[0.6666666666666666,\"#ed7953\"],[0.7777777777777778,\"#fb9f3a\"],[0.8888888888888888,\"#fdca26\"],[1.0,\"#f0f921\"]]},\"colorway\":[\"#636efa\",\"#EF553B\",\"#00cc96\",\"#ab63fa\",\"#FFA15A\",\"#19d3f3\",\"#FF6692\",\"#B6E880\",\"#FF97FF\",\"#FECB52\"],\"font\":{\"color\":\"#2a3f5f\"},\"geo\":{\"bgcolor\":\"white\",\"lakecolor\":\"white\",\"landcolor\":\"#E5ECF6\",\"showlakes\":true,\"showland\":true,\"subunitcolor\":\"white\"},\"hoverlabel\":{\"align\":\"left\"},\"hovermode\":\"closest\",\"mapbox\":{\"style\":\"light\"},\"paper_bgcolor\":\"white\",\"plot_bgcolor\":\"#E5ECF6\",\"polar\":{\"angularaxis\":{\"gridcolor\":\"white\",\"linecolor\":\"white\",\"ticks\":\"\"},\"bgcolor\":\"#E5ECF6\",\"radialaxis\":{\"gridcolor\":\"white\",\"linecolor\":\"white\",\"ticks\":\"\"}},\"scene\":{\"xaxis\":{\"backgroundcolor\":\"#E5ECF6\",\"gridcolor\":\"white\",\"gridwidth\":2,\"linecolor\":\"white\",\"showbackground\":true,\"ticks\":\"\",\"zerolinecolor\":\"white\"},\"yaxis\":{\"backgroundcolor\":\"#E5ECF6\",\"gridcolor\":\"white\",\"gridwidth\":2,\"linecolor\":\"white\",\"showbackground\":true,\"ticks\":\"\",\"zerolinecolor\":\"white\"},\"zaxis\":{\"backgroundcolor\":\"#E5ECF6\",\"gridcolor\":\"white\",\"gridwidth\":2,\"linecolor\":\"white\",\"showbackground\":true,\"ticks\":\"\",\"zerolinecolor\":\"white\"}},\"shapedefaults\":{\"line\":{\"color\":\"#2a3f5f\"}},\"ternary\":{\"aaxis\":{\"gridcolor\":\"white\",\"linecolor\":\"white\",\"ticks\":\"\"},\"baxis\":{\"gridcolor\":\"white\",\"linecolor\":\"white\",\"ticks\":\"\"},\"bgcolor\":\"#E5ECF6\",\"caxis\":{\"gridcolor\":\"white\",\"linecolor\":\"white\",\"ticks\":\"\"}},\"title\":{\"x\":0.05},\"xaxis\":{\"automargin\":true,\"gridcolor\":\"white\",\"linecolor\":\"white\",\"ticks\":\"\",\"title\":{\"standoff\":15},\"zerolinecolor\":\"white\",\"zerolinewidth\":2},\"yaxis\":{\"automargin\":true,\"gridcolor\":\"white\",\"linecolor\":\"white\",\"ticks\":\"\",\"title\":{\"standoff\":15},\"zerolinecolor\":\"white\",\"zerolinewidth\":2}}},\"xaxis\":{\"anchor\":\"y\",\"domain\":[0.0,1.0],\"title\":{\"text\":\"Date\"},\"tickformat\":\"%b %d\",\"tickangle\":45},\"yaxis\":{\"anchor\":\"x\",\"domain\":[0.0,1.0],\"title\":{\"text\":\"# of Squirels Spotted\"}},\"legend\":{\"title\":{\"text\":\"Activity\"},\"tracegroupgap\":0},\"margin\":{\"t\":60},\"title\":{\"text\":\"2018 Squirrel Activity\",\"x\":0.5}},                        {\"responsive\": true}                    ).then(function(){\n",
       "                            \n",
       "var gd = document.getElementById('c472978a-8e32-4af0-b3cc-2253aa5708af');\n",
       "var x = new MutationObserver(function (mutations, observer) {{\n",
       "        var display = window.getComputedStyle(gd).display;\n",
       "        if (!display || display === 'none') {{\n",
       "            console.log([gd, 'removed!']);\n",
       "            Plotly.purge(gd);\n",
       "            observer.disconnect();\n",
       "        }}\n",
       "}});\n",
       "\n",
       "// Listen for the removal of the full notebook cells\n",
       "var notebookContainer = gd.closest('#notebook-container');\n",
       "if (notebookContainer) {{\n",
       "    x.observe(notebookContainer, {childList: true});\n",
       "}}\n",
       "\n",
       "// Listen for the clearing of the current output cell\n",
       "var outputEl = gd.closest('.output');\n",
       "if (outputEl) {{\n",
       "    x.observe(outputEl, {childList: true});\n",
       "}}\n",
       "\n",
       "                        })                };                });            </script>        </div>"
      ]
     },
     "metadata": {},
     "output_type": "display_data"
    }
   ],
   "source": [
    "fig = px.line(squirrel_activity_grouped,\n",
    "        x='Date',\n",
    "        y='Value',\n",
    "        color='Activity', labels={\"Value\": \"# of Squirels Spotted\"})\n",
    "\n",
    "fig.update_layout(title = '2018 Squirrel Activity', title_x=0.5, xaxis=dict(tickformat=\"%b %d\", tickangle=45))\n"
   ]
  },
  {
   "cell_type": "code",
   "execution_count": 42,
   "id": "97180844",
   "metadata": {},
   "outputs": [
    {
     "name": "stdout",
     "output_type": "stream",
     "text": [
      "        Date Sounds  Value\n",
      "0 2018-10-14   Kuks      0\n",
      "1 2018-10-19   Kuks      0\n",
      "2 2018-10-14   Kuks      0\n",
      "3 2018-10-17   Kuks      0\n",
      "4 2018-10-17   Kuks      0\n"
     ]
    }
   ],
   "source": [
    "squirrel_sounds = squirrel_data.melt(id_vars='Date', value_vars=['Kuks', 'Quaas', 'Moans'], var_name='Sounds', value_name='Value')\n",
    "print(squirrel_sounds.head())\n",
    "squirrel_sounds_grouped = squirrel_sounds.groupby(['Date', 'Sounds'], as_index=False).sum()"
   ]
  },
  {
   "cell_type": "code",
   "execution_count": 43,
   "id": "e0ad8f42",
   "metadata": {},
   "outputs": [
    {
     "data": {
      "application/vnd.plotly.v1+json": {
       "config": {
        "plotlyServerURL": "https://plot.ly"
       },
       "data": [
        {
         "hovertemplate": "Sounds=Kuks<br>Date=%{x}<br># of Squirels Spotted=%{y}<extra></extra>",
         "legendgroup": "Kuks",
         "line": {
          "color": "#636efa",
          "dash": "solid"
         },
         "marker": {
          "symbol": "circle"
         },
         "mode": "lines",
         "name": "Kuks",
         "orientation": "v",
         "showlegend": true,
         "type": "scatter",
         "x": [
          "2018-10-06T00:00:00",
          "2018-10-07T00:00:00",
          "2018-10-08T00:00:00",
          "2018-10-10T00:00:00",
          "2018-10-12T00:00:00",
          "2018-10-13T00:00:00",
          "2018-10-14T00:00:00",
          "2018-10-17T00:00:00",
          "2018-10-18T00:00:00",
          "2018-10-19T00:00:00",
          "2018-10-20T00:00:00"
         ],
         "xaxis": "x",
         "y": [
          12,
          5,
          14,
          10,
          9,
          12,
          13,
          8,
          9,
          9,
          1
         ],
         "yaxis": "y"
        },
        {
         "hovertemplate": "Sounds=Moans<br>Date=%{x}<br># of Squirels Spotted=%{y}<extra></extra>",
         "legendgroup": "Moans",
         "line": {
          "color": "#EF553B",
          "dash": "solid"
         },
         "marker": {
          "symbol": "circle"
         },
         "mode": "lines",
         "name": "Moans",
         "orientation": "v",
         "showlegend": true,
         "type": "scatter",
         "x": [
          "2018-10-06T00:00:00",
          "2018-10-07T00:00:00",
          "2018-10-08T00:00:00",
          "2018-10-10T00:00:00",
          "2018-10-12T00:00:00",
          "2018-10-13T00:00:00",
          "2018-10-14T00:00:00",
          "2018-10-17T00:00:00",
          "2018-10-18T00:00:00",
          "2018-10-19T00:00:00",
          "2018-10-20T00:00:00"
         ],
         "xaxis": "x",
         "y": [
          0,
          0,
          0,
          0,
          0,
          0,
          2,
          0,
          0,
          1,
          0
         ],
         "yaxis": "y"
        },
        {
         "hovertemplate": "Sounds=Quaas<br>Date=%{x}<br># of Squirels Spotted=%{y}<extra></extra>",
         "legendgroup": "Quaas",
         "line": {
          "color": "#00cc96",
          "dash": "solid"
         },
         "marker": {
          "symbol": "circle"
         },
         "mode": "lines",
         "name": "Quaas",
         "orientation": "v",
         "showlegend": true,
         "type": "scatter",
         "x": [
          "2018-10-06T00:00:00",
          "2018-10-07T00:00:00",
          "2018-10-08T00:00:00",
          "2018-10-10T00:00:00",
          "2018-10-12T00:00:00",
          "2018-10-13T00:00:00",
          "2018-10-14T00:00:00",
          "2018-10-17T00:00:00",
          "2018-10-18T00:00:00",
          "2018-10-19T00:00:00",
          "2018-10-20T00:00:00"
         ],
         "xaxis": "x",
         "y": [
          9,
          5,
          4,
          4,
          2,
          5,
          5,
          5,
          2,
          4,
          5
         ],
         "yaxis": "y"
        }
       ],
       "layout": {
        "legend": {
         "title": {
          "text": "Sounds"
         },
         "tracegroupgap": 0
        },
        "margin": {
         "t": 60
        },
        "template": {
         "data": {
          "bar": [
           {
            "error_x": {
             "color": "#2a3f5f"
            },
            "error_y": {
             "color": "#2a3f5f"
            },
            "marker": {
             "line": {
              "color": "#E5ECF6",
              "width": 0.5
             },
             "pattern": {
              "fillmode": "overlay",
              "size": 10,
              "solidity": 0.2
             }
            },
            "type": "bar"
           }
          ],
          "barpolar": [
           {
            "marker": {
             "line": {
              "color": "#E5ECF6",
              "width": 0.5
             },
             "pattern": {
              "fillmode": "overlay",
              "size": 10,
              "solidity": 0.2
             }
            },
            "type": "barpolar"
           }
          ],
          "carpet": [
           {
            "aaxis": {
             "endlinecolor": "#2a3f5f",
             "gridcolor": "white",
             "linecolor": "white",
             "minorgridcolor": "white",
             "startlinecolor": "#2a3f5f"
            },
            "baxis": {
             "endlinecolor": "#2a3f5f",
             "gridcolor": "white",
             "linecolor": "white",
             "minorgridcolor": "white",
             "startlinecolor": "#2a3f5f"
            },
            "type": "carpet"
           }
          ],
          "choropleth": [
           {
            "colorbar": {
             "outlinewidth": 0,
             "ticks": ""
            },
            "type": "choropleth"
           }
          ],
          "contour": [
           {
            "colorbar": {
             "outlinewidth": 0,
             "ticks": ""
            },
            "colorscale": [
             [
              0,
              "#0d0887"
             ],
             [
              0.1111111111111111,
              "#46039f"
             ],
             [
              0.2222222222222222,
              "#7201a8"
             ],
             [
              0.3333333333333333,
              "#9c179e"
             ],
             [
              0.4444444444444444,
              "#bd3786"
             ],
             [
              0.5555555555555556,
              "#d8576b"
             ],
             [
              0.6666666666666666,
              "#ed7953"
             ],
             [
              0.7777777777777778,
              "#fb9f3a"
             ],
             [
              0.8888888888888888,
              "#fdca26"
             ],
             [
              1,
              "#f0f921"
             ]
            ],
            "type": "contour"
           }
          ],
          "contourcarpet": [
           {
            "colorbar": {
             "outlinewidth": 0,
             "ticks": ""
            },
            "type": "contourcarpet"
           }
          ],
          "heatmap": [
           {
            "colorbar": {
             "outlinewidth": 0,
             "ticks": ""
            },
            "colorscale": [
             [
              0,
              "#0d0887"
             ],
             [
              0.1111111111111111,
              "#46039f"
             ],
             [
              0.2222222222222222,
              "#7201a8"
             ],
             [
              0.3333333333333333,
              "#9c179e"
             ],
             [
              0.4444444444444444,
              "#bd3786"
             ],
             [
              0.5555555555555556,
              "#d8576b"
             ],
             [
              0.6666666666666666,
              "#ed7953"
             ],
             [
              0.7777777777777778,
              "#fb9f3a"
             ],
             [
              0.8888888888888888,
              "#fdca26"
             ],
             [
              1,
              "#f0f921"
             ]
            ],
            "type": "heatmap"
           }
          ],
          "heatmapgl": [
           {
            "colorbar": {
             "outlinewidth": 0,
             "ticks": ""
            },
            "colorscale": [
             [
              0,
              "#0d0887"
             ],
             [
              0.1111111111111111,
              "#46039f"
             ],
             [
              0.2222222222222222,
              "#7201a8"
             ],
             [
              0.3333333333333333,
              "#9c179e"
             ],
             [
              0.4444444444444444,
              "#bd3786"
             ],
             [
              0.5555555555555556,
              "#d8576b"
             ],
             [
              0.6666666666666666,
              "#ed7953"
             ],
             [
              0.7777777777777778,
              "#fb9f3a"
             ],
             [
              0.8888888888888888,
              "#fdca26"
             ],
             [
              1,
              "#f0f921"
             ]
            ],
            "type": "heatmapgl"
           }
          ],
          "histogram": [
           {
            "marker": {
             "pattern": {
              "fillmode": "overlay",
              "size": 10,
              "solidity": 0.2
             }
            },
            "type": "histogram"
           }
          ],
          "histogram2d": [
           {
            "colorbar": {
             "outlinewidth": 0,
             "ticks": ""
            },
            "colorscale": [
             [
              0,
              "#0d0887"
             ],
             [
              0.1111111111111111,
              "#46039f"
             ],
             [
              0.2222222222222222,
              "#7201a8"
             ],
             [
              0.3333333333333333,
              "#9c179e"
             ],
             [
              0.4444444444444444,
              "#bd3786"
             ],
             [
              0.5555555555555556,
              "#d8576b"
             ],
             [
              0.6666666666666666,
              "#ed7953"
             ],
             [
              0.7777777777777778,
              "#fb9f3a"
             ],
             [
              0.8888888888888888,
              "#fdca26"
             ],
             [
              1,
              "#f0f921"
             ]
            ],
            "type": "histogram2d"
           }
          ],
          "histogram2dcontour": [
           {
            "colorbar": {
             "outlinewidth": 0,
             "ticks": ""
            },
            "colorscale": [
             [
              0,
              "#0d0887"
             ],
             [
              0.1111111111111111,
              "#46039f"
             ],
             [
              0.2222222222222222,
              "#7201a8"
             ],
             [
              0.3333333333333333,
              "#9c179e"
             ],
             [
              0.4444444444444444,
              "#bd3786"
             ],
             [
              0.5555555555555556,
              "#d8576b"
             ],
             [
              0.6666666666666666,
              "#ed7953"
             ],
             [
              0.7777777777777778,
              "#fb9f3a"
             ],
             [
              0.8888888888888888,
              "#fdca26"
             ],
             [
              1,
              "#f0f921"
             ]
            ],
            "type": "histogram2dcontour"
           }
          ],
          "mesh3d": [
           {
            "colorbar": {
             "outlinewidth": 0,
             "ticks": ""
            },
            "type": "mesh3d"
           }
          ],
          "parcoords": [
           {
            "line": {
             "colorbar": {
              "outlinewidth": 0,
              "ticks": ""
             }
            },
            "type": "parcoords"
           }
          ],
          "pie": [
           {
            "automargin": true,
            "type": "pie"
           }
          ],
          "scatter": [
           {
            "marker": {
             "colorbar": {
              "outlinewidth": 0,
              "ticks": ""
             }
            },
            "type": "scatter"
           }
          ],
          "scatter3d": [
           {
            "line": {
             "colorbar": {
              "outlinewidth": 0,
              "ticks": ""
             }
            },
            "marker": {
             "colorbar": {
              "outlinewidth": 0,
              "ticks": ""
             }
            },
            "type": "scatter3d"
           }
          ],
          "scattercarpet": [
           {
            "marker": {
             "colorbar": {
              "outlinewidth": 0,
              "ticks": ""
             }
            },
            "type": "scattercarpet"
           }
          ],
          "scattergeo": [
           {
            "marker": {
             "colorbar": {
              "outlinewidth": 0,
              "ticks": ""
             }
            },
            "type": "scattergeo"
           }
          ],
          "scattergl": [
           {
            "marker": {
             "colorbar": {
              "outlinewidth": 0,
              "ticks": ""
             }
            },
            "type": "scattergl"
           }
          ],
          "scattermapbox": [
           {
            "marker": {
             "colorbar": {
              "outlinewidth": 0,
              "ticks": ""
             }
            },
            "type": "scattermapbox"
           }
          ],
          "scatterpolar": [
           {
            "marker": {
             "colorbar": {
              "outlinewidth": 0,
              "ticks": ""
             }
            },
            "type": "scatterpolar"
           }
          ],
          "scatterpolargl": [
           {
            "marker": {
             "colorbar": {
              "outlinewidth": 0,
              "ticks": ""
             }
            },
            "type": "scatterpolargl"
           }
          ],
          "scatterternary": [
           {
            "marker": {
             "colorbar": {
              "outlinewidth": 0,
              "ticks": ""
             }
            },
            "type": "scatterternary"
           }
          ],
          "surface": [
           {
            "colorbar": {
             "outlinewidth": 0,
             "ticks": ""
            },
            "colorscale": [
             [
              0,
              "#0d0887"
             ],
             [
              0.1111111111111111,
              "#46039f"
             ],
             [
              0.2222222222222222,
              "#7201a8"
             ],
             [
              0.3333333333333333,
              "#9c179e"
             ],
             [
              0.4444444444444444,
              "#bd3786"
             ],
             [
              0.5555555555555556,
              "#d8576b"
             ],
             [
              0.6666666666666666,
              "#ed7953"
             ],
             [
              0.7777777777777778,
              "#fb9f3a"
             ],
             [
              0.8888888888888888,
              "#fdca26"
             ],
             [
              1,
              "#f0f921"
             ]
            ],
            "type": "surface"
           }
          ],
          "table": [
           {
            "cells": {
             "fill": {
              "color": "#EBF0F8"
             },
             "line": {
              "color": "white"
             }
            },
            "header": {
             "fill": {
              "color": "#C8D4E3"
             },
             "line": {
              "color": "white"
             }
            },
            "type": "table"
           }
          ]
         },
         "layout": {
          "annotationdefaults": {
           "arrowcolor": "#2a3f5f",
           "arrowhead": 0,
           "arrowwidth": 1
          },
          "autotypenumbers": "strict",
          "coloraxis": {
           "colorbar": {
            "outlinewidth": 0,
            "ticks": ""
           }
          },
          "colorscale": {
           "diverging": [
            [
             0,
             "#8e0152"
            ],
            [
             0.1,
             "#c51b7d"
            ],
            [
             0.2,
             "#de77ae"
            ],
            [
             0.3,
             "#f1b6da"
            ],
            [
             0.4,
             "#fde0ef"
            ],
            [
             0.5,
             "#f7f7f7"
            ],
            [
             0.6,
             "#e6f5d0"
            ],
            [
             0.7,
             "#b8e186"
            ],
            [
             0.8,
             "#7fbc41"
            ],
            [
             0.9,
             "#4d9221"
            ],
            [
             1,
             "#276419"
            ]
           ],
           "sequential": [
            [
             0,
             "#0d0887"
            ],
            [
             0.1111111111111111,
             "#46039f"
            ],
            [
             0.2222222222222222,
             "#7201a8"
            ],
            [
             0.3333333333333333,
             "#9c179e"
            ],
            [
             0.4444444444444444,
             "#bd3786"
            ],
            [
             0.5555555555555556,
             "#d8576b"
            ],
            [
             0.6666666666666666,
             "#ed7953"
            ],
            [
             0.7777777777777778,
             "#fb9f3a"
            ],
            [
             0.8888888888888888,
             "#fdca26"
            ],
            [
             1,
             "#f0f921"
            ]
           ],
           "sequentialminus": [
            [
             0,
             "#0d0887"
            ],
            [
             0.1111111111111111,
             "#46039f"
            ],
            [
             0.2222222222222222,
             "#7201a8"
            ],
            [
             0.3333333333333333,
             "#9c179e"
            ],
            [
             0.4444444444444444,
             "#bd3786"
            ],
            [
             0.5555555555555556,
             "#d8576b"
            ],
            [
             0.6666666666666666,
             "#ed7953"
            ],
            [
             0.7777777777777778,
             "#fb9f3a"
            ],
            [
             0.8888888888888888,
             "#fdca26"
            ],
            [
             1,
             "#f0f921"
            ]
           ]
          },
          "colorway": [
           "#636efa",
           "#EF553B",
           "#00cc96",
           "#ab63fa",
           "#FFA15A",
           "#19d3f3",
           "#FF6692",
           "#B6E880",
           "#FF97FF",
           "#FECB52"
          ],
          "font": {
           "color": "#2a3f5f"
          },
          "geo": {
           "bgcolor": "white",
           "lakecolor": "white",
           "landcolor": "#E5ECF6",
           "showlakes": true,
           "showland": true,
           "subunitcolor": "white"
          },
          "hoverlabel": {
           "align": "left"
          },
          "hovermode": "closest",
          "mapbox": {
           "style": "light"
          },
          "paper_bgcolor": "white",
          "plot_bgcolor": "#E5ECF6",
          "polar": {
           "angularaxis": {
            "gridcolor": "white",
            "linecolor": "white",
            "ticks": ""
           },
           "bgcolor": "#E5ECF6",
           "radialaxis": {
            "gridcolor": "white",
            "linecolor": "white",
            "ticks": ""
           }
          },
          "scene": {
           "xaxis": {
            "backgroundcolor": "#E5ECF6",
            "gridcolor": "white",
            "gridwidth": 2,
            "linecolor": "white",
            "showbackground": true,
            "ticks": "",
            "zerolinecolor": "white"
           },
           "yaxis": {
            "backgroundcolor": "#E5ECF6",
            "gridcolor": "white",
            "gridwidth": 2,
            "linecolor": "white",
            "showbackground": true,
            "ticks": "",
            "zerolinecolor": "white"
           },
           "zaxis": {
            "backgroundcolor": "#E5ECF6",
            "gridcolor": "white",
            "gridwidth": 2,
            "linecolor": "white",
            "showbackground": true,
            "ticks": "",
            "zerolinecolor": "white"
           }
          },
          "shapedefaults": {
           "line": {
            "color": "#2a3f5f"
           }
          },
          "ternary": {
           "aaxis": {
            "gridcolor": "white",
            "linecolor": "white",
            "ticks": ""
           },
           "baxis": {
            "gridcolor": "white",
            "linecolor": "white",
            "ticks": ""
           },
           "bgcolor": "#E5ECF6",
           "caxis": {
            "gridcolor": "white",
            "linecolor": "white",
            "ticks": ""
           }
          },
          "title": {
           "x": 0.05
          },
          "xaxis": {
           "automargin": true,
           "gridcolor": "white",
           "linecolor": "white",
           "ticks": "",
           "title": {
            "standoff": 15
           },
           "zerolinecolor": "white",
           "zerolinewidth": 2
          },
          "yaxis": {
           "automargin": true,
           "gridcolor": "white",
           "linecolor": "white",
           "ticks": "",
           "title": {
            "standoff": 15
           },
           "zerolinecolor": "white",
           "zerolinewidth": 2
          }
         }
        },
        "title": {
         "text": "2018 Squirrel Sounds",
         "x": 0.5
        },
        "xaxis": {
         "anchor": "y",
         "domain": [
          0,
          1
         ],
         "tickangle": 45,
         "tickformat": "%b %d",
         "title": {
          "text": "Date"
         }
        },
        "yaxis": {
         "anchor": "x",
         "domain": [
          0,
          1
         ],
         "title": {
          "text": "# of Squirels Spotted"
         }
        }
       }
      },
      "text/html": [
       "<div>                            <div id=\"f68d0b2b-16c6-4264-b923-cc0f5c8dd2da\" class=\"plotly-graph-div\" style=\"height:525px; width:100%;\"></div>            <script type=\"text/javascript\">                require([\"plotly\"], function(Plotly) {                    window.PLOTLYENV=window.PLOTLYENV || {};                                    if (document.getElementById(\"f68d0b2b-16c6-4264-b923-cc0f5c8dd2da\")) {                    Plotly.newPlot(                        \"f68d0b2b-16c6-4264-b923-cc0f5c8dd2da\",                        [{\"hovertemplate\":\"Sounds=Kuks<br>Date=%{x}<br># of Squirels Spotted=%{y}<extra></extra>\",\"legendgroup\":\"Kuks\",\"line\":{\"color\":\"#636efa\",\"dash\":\"solid\"},\"marker\":{\"symbol\":\"circle\"},\"mode\":\"lines\",\"name\":\"Kuks\",\"orientation\":\"v\",\"showlegend\":true,\"x\":[\"2018-10-06T00:00:00\",\"2018-10-07T00:00:00\",\"2018-10-08T00:00:00\",\"2018-10-10T00:00:00\",\"2018-10-12T00:00:00\",\"2018-10-13T00:00:00\",\"2018-10-14T00:00:00\",\"2018-10-17T00:00:00\",\"2018-10-18T00:00:00\",\"2018-10-19T00:00:00\",\"2018-10-20T00:00:00\"],\"xaxis\":\"x\",\"y\":[12,5,14,10,9,12,13,8,9,9,1],\"yaxis\":\"y\",\"type\":\"scatter\"},{\"hovertemplate\":\"Sounds=Moans<br>Date=%{x}<br># of Squirels Spotted=%{y}<extra></extra>\",\"legendgroup\":\"Moans\",\"line\":{\"color\":\"#EF553B\",\"dash\":\"solid\"},\"marker\":{\"symbol\":\"circle\"},\"mode\":\"lines\",\"name\":\"Moans\",\"orientation\":\"v\",\"showlegend\":true,\"x\":[\"2018-10-06T00:00:00\",\"2018-10-07T00:00:00\",\"2018-10-08T00:00:00\",\"2018-10-10T00:00:00\",\"2018-10-12T00:00:00\",\"2018-10-13T00:00:00\",\"2018-10-14T00:00:00\",\"2018-10-17T00:00:00\",\"2018-10-18T00:00:00\",\"2018-10-19T00:00:00\",\"2018-10-20T00:00:00\"],\"xaxis\":\"x\",\"y\":[0,0,0,0,0,0,2,0,0,1,0],\"yaxis\":\"y\",\"type\":\"scatter\"},{\"hovertemplate\":\"Sounds=Quaas<br>Date=%{x}<br># of Squirels Spotted=%{y}<extra></extra>\",\"legendgroup\":\"Quaas\",\"line\":{\"color\":\"#00cc96\",\"dash\":\"solid\"},\"marker\":{\"symbol\":\"circle\"},\"mode\":\"lines\",\"name\":\"Quaas\",\"orientation\":\"v\",\"showlegend\":true,\"x\":[\"2018-10-06T00:00:00\",\"2018-10-07T00:00:00\",\"2018-10-08T00:00:00\",\"2018-10-10T00:00:00\",\"2018-10-12T00:00:00\",\"2018-10-13T00:00:00\",\"2018-10-14T00:00:00\",\"2018-10-17T00:00:00\",\"2018-10-18T00:00:00\",\"2018-10-19T00:00:00\",\"2018-10-20T00:00:00\"],\"xaxis\":\"x\",\"y\":[9,5,4,4,2,5,5,5,2,4,5],\"yaxis\":\"y\",\"type\":\"scatter\"}],                        {\"template\":{\"data\":{\"bar\":[{\"error_x\":{\"color\":\"#2a3f5f\"},\"error_y\":{\"color\":\"#2a3f5f\"},\"marker\":{\"line\":{\"color\":\"#E5ECF6\",\"width\":0.5},\"pattern\":{\"fillmode\":\"overlay\",\"size\":10,\"solidity\":0.2}},\"type\":\"bar\"}],\"barpolar\":[{\"marker\":{\"line\":{\"color\":\"#E5ECF6\",\"width\":0.5},\"pattern\":{\"fillmode\":\"overlay\",\"size\":10,\"solidity\":0.2}},\"type\":\"barpolar\"}],\"carpet\":[{\"aaxis\":{\"endlinecolor\":\"#2a3f5f\",\"gridcolor\":\"white\",\"linecolor\":\"white\",\"minorgridcolor\":\"white\",\"startlinecolor\":\"#2a3f5f\"},\"baxis\":{\"endlinecolor\":\"#2a3f5f\",\"gridcolor\":\"white\",\"linecolor\":\"white\",\"minorgridcolor\":\"white\",\"startlinecolor\":\"#2a3f5f\"},\"type\":\"carpet\"}],\"choropleth\":[{\"colorbar\":{\"outlinewidth\":0,\"ticks\":\"\"},\"type\":\"choropleth\"}],\"contour\":[{\"colorbar\":{\"outlinewidth\":0,\"ticks\":\"\"},\"colorscale\":[[0.0,\"#0d0887\"],[0.1111111111111111,\"#46039f\"],[0.2222222222222222,\"#7201a8\"],[0.3333333333333333,\"#9c179e\"],[0.4444444444444444,\"#bd3786\"],[0.5555555555555556,\"#d8576b\"],[0.6666666666666666,\"#ed7953\"],[0.7777777777777778,\"#fb9f3a\"],[0.8888888888888888,\"#fdca26\"],[1.0,\"#f0f921\"]],\"type\":\"contour\"}],\"contourcarpet\":[{\"colorbar\":{\"outlinewidth\":0,\"ticks\":\"\"},\"type\":\"contourcarpet\"}],\"heatmap\":[{\"colorbar\":{\"outlinewidth\":0,\"ticks\":\"\"},\"colorscale\":[[0.0,\"#0d0887\"],[0.1111111111111111,\"#46039f\"],[0.2222222222222222,\"#7201a8\"],[0.3333333333333333,\"#9c179e\"],[0.4444444444444444,\"#bd3786\"],[0.5555555555555556,\"#d8576b\"],[0.6666666666666666,\"#ed7953\"],[0.7777777777777778,\"#fb9f3a\"],[0.8888888888888888,\"#fdca26\"],[1.0,\"#f0f921\"]],\"type\":\"heatmap\"}],\"heatmapgl\":[{\"colorbar\":{\"outlinewidth\":0,\"ticks\":\"\"},\"colorscale\":[[0.0,\"#0d0887\"],[0.1111111111111111,\"#46039f\"],[0.2222222222222222,\"#7201a8\"],[0.3333333333333333,\"#9c179e\"],[0.4444444444444444,\"#bd3786\"],[0.5555555555555556,\"#d8576b\"],[0.6666666666666666,\"#ed7953\"],[0.7777777777777778,\"#fb9f3a\"],[0.8888888888888888,\"#fdca26\"],[1.0,\"#f0f921\"]],\"type\":\"heatmapgl\"}],\"histogram\":[{\"marker\":{\"pattern\":{\"fillmode\":\"overlay\",\"size\":10,\"solidity\":0.2}},\"type\":\"histogram\"}],\"histogram2d\":[{\"colorbar\":{\"outlinewidth\":0,\"ticks\":\"\"},\"colorscale\":[[0.0,\"#0d0887\"],[0.1111111111111111,\"#46039f\"],[0.2222222222222222,\"#7201a8\"],[0.3333333333333333,\"#9c179e\"],[0.4444444444444444,\"#bd3786\"],[0.5555555555555556,\"#d8576b\"],[0.6666666666666666,\"#ed7953\"],[0.7777777777777778,\"#fb9f3a\"],[0.8888888888888888,\"#fdca26\"],[1.0,\"#f0f921\"]],\"type\":\"histogram2d\"}],\"histogram2dcontour\":[{\"colorbar\":{\"outlinewidth\":0,\"ticks\":\"\"},\"colorscale\":[[0.0,\"#0d0887\"],[0.1111111111111111,\"#46039f\"],[0.2222222222222222,\"#7201a8\"],[0.3333333333333333,\"#9c179e\"],[0.4444444444444444,\"#bd3786\"],[0.5555555555555556,\"#d8576b\"],[0.6666666666666666,\"#ed7953\"],[0.7777777777777778,\"#fb9f3a\"],[0.8888888888888888,\"#fdca26\"],[1.0,\"#f0f921\"]],\"type\":\"histogram2dcontour\"}],\"mesh3d\":[{\"colorbar\":{\"outlinewidth\":0,\"ticks\":\"\"},\"type\":\"mesh3d\"}],\"parcoords\":[{\"line\":{\"colorbar\":{\"outlinewidth\":0,\"ticks\":\"\"}},\"type\":\"parcoords\"}],\"pie\":[{\"automargin\":true,\"type\":\"pie\"}],\"scatter\":[{\"marker\":{\"colorbar\":{\"outlinewidth\":0,\"ticks\":\"\"}},\"type\":\"scatter\"}],\"scatter3d\":[{\"line\":{\"colorbar\":{\"outlinewidth\":0,\"ticks\":\"\"}},\"marker\":{\"colorbar\":{\"outlinewidth\":0,\"ticks\":\"\"}},\"type\":\"scatter3d\"}],\"scattercarpet\":[{\"marker\":{\"colorbar\":{\"outlinewidth\":0,\"ticks\":\"\"}},\"type\":\"scattercarpet\"}],\"scattergeo\":[{\"marker\":{\"colorbar\":{\"outlinewidth\":0,\"ticks\":\"\"}},\"type\":\"scattergeo\"}],\"scattergl\":[{\"marker\":{\"colorbar\":{\"outlinewidth\":0,\"ticks\":\"\"}},\"type\":\"scattergl\"}],\"scattermapbox\":[{\"marker\":{\"colorbar\":{\"outlinewidth\":0,\"ticks\":\"\"}},\"type\":\"scattermapbox\"}],\"scatterpolar\":[{\"marker\":{\"colorbar\":{\"outlinewidth\":0,\"ticks\":\"\"}},\"type\":\"scatterpolar\"}],\"scatterpolargl\":[{\"marker\":{\"colorbar\":{\"outlinewidth\":0,\"ticks\":\"\"}},\"type\":\"scatterpolargl\"}],\"scatterternary\":[{\"marker\":{\"colorbar\":{\"outlinewidth\":0,\"ticks\":\"\"}},\"type\":\"scatterternary\"}],\"surface\":[{\"colorbar\":{\"outlinewidth\":0,\"ticks\":\"\"},\"colorscale\":[[0.0,\"#0d0887\"],[0.1111111111111111,\"#46039f\"],[0.2222222222222222,\"#7201a8\"],[0.3333333333333333,\"#9c179e\"],[0.4444444444444444,\"#bd3786\"],[0.5555555555555556,\"#d8576b\"],[0.6666666666666666,\"#ed7953\"],[0.7777777777777778,\"#fb9f3a\"],[0.8888888888888888,\"#fdca26\"],[1.0,\"#f0f921\"]],\"type\":\"surface\"}],\"table\":[{\"cells\":{\"fill\":{\"color\":\"#EBF0F8\"},\"line\":{\"color\":\"white\"}},\"header\":{\"fill\":{\"color\":\"#C8D4E3\"},\"line\":{\"color\":\"white\"}},\"type\":\"table\"}]},\"layout\":{\"annotationdefaults\":{\"arrowcolor\":\"#2a3f5f\",\"arrowhead\":0,\"arrowwidth\":1},\"autotypenumbers\":\"strict\",\"coloraxis\":{\"colorbar\":{\"outlinewidth\":0,\"ticks\":\"\"}},\"colorscale\":{\"diverging\":[[0,\"#8e0152\"],[0.1,\"#c51b7d\"],[0.2,\"#de77ae\"],[0.3,\"#f1b6da\"],[0.4,\"#fde0ef\"],[0.5,\"#f7f7f7\"],[0.6,\"#e6f5d0\"],[0.7,\"#b8e186\"],[0.8,\"#7fbc41\"],[0.9,\"#4d9221\"],[1,\"#276419\"]],\"sequential\":[[0.0,\"#0d0887\"],[0.1111111111111111,\"#46039f\"],[0.2222222222222222,\"#7201a8\"],[0.3333333333333333,\"#9c179e\"],[0.4444444444444444,\"#bd3786\"],[0.5555555555555556,\"#d8576b\"],[0.6666666666666666,\"#ed7953\"],[0.7777777777777778,\"#fb9f3a\"],[0.8888888888888888,\"#fdca26\"],[1.0,\"#f0f921\"]],\"sequentialminus\":[[0.0,\"#0d0887\"],[0.1111111111111111,\"#46039f\"],[0.2222222222222222,\"#7201a8\"],[0.3333333333333333,\"#9c179e\"],[0.4444444444444444,\"#bd3786\"],[0.5555555555555556,\"#d8576b\"],[0.6666666666666666,\"#ed7953\"],[0.7777777777777778,\"#fb9f3a\"],[0.8888888888888888,\"#fdca26\"],[1.0,\"#f0f921\"]]},\"colorway\":[\"#636efa\",\"#EF553B\",\"#00cc96\",\"#ab63fa\",\"#FFA15A\",\"#19d3f3\",\"#FF6692\",\"#B6E880\",\"#FF97FF\",\"#FECB52\"],\"font\":{\"color\":\"#2a3f5f\"},\"geo\":{\"bgcolor\":\"white\",\"lakecolor\":\"white\",\"landcolor\":\"#E5ECF6\",\"showlakes\":true,\"showland\":true,\"subunitcolor\":\"white\"},\"hoverlabel\":{\"align\":\"left\"},\"hovermode\":\"closest\",\"mapbox\":{\"style\":\"light\"},\"paper_bgcolor\":\"white\",\"plot_bgcolor\":\"#E5ECF6\",\"polar\":{\"angularaxis\":{\"gridcolor\":\"white\",\"linecolor\":\"white\",\"ticks\":\"\"},\"bgcolor\":\"#E5ECF6\",\"radialaxis\":{\"gridcolor\":\"white\",\"linecolor\":\"white\",\"ticks\":\"\"}},\"scene\":{\"xaxis\":{\"backgroundcolor\":\"#E5ECF6\",\"gridcolor\":\"white\",\"gridwidth\":2,\"linecolor\":\"white\",\"showbackground\":true,\"ticks\":\"\",\"zerolinecolor\":\"white\"},\"yaxis\":{\"backgroundcolor\":\"#E5ECF6\",\"gridcolor\":\"white\",\"gridwidth\":2,\"linecolor\":\"white\",\"showbackground\":true,\"ticks\":\"\",\"zerolinecolor\":\"white\"},\"zaxis\":{\"backgroundcolor\":\"#E5ECF6\",\"gridcolor\":\"white\",\"gridwidth\":2,\"linecolor\":\"white\",\"showbackground\":true,\"ticks\":\"\",\"zerolinecolor\":\"white\"}},\"shapedefaults\":{\"line\":{\"color\":\"#2a3f5f\"}},\"ternary\":{\"aaxis\":{\"gridcolor\":\"white\",\"linecolor\":\"white\",\"ticks\":\"\"},\"baxis\":{\"gridcolor\":\"white\",\"linecolor\":\"white\",\"ticks\":\"\"},\"bgcolor\":\"#E5ECF6\",\"caxis\":{\"gridcolor\":\"white\",\"linecolor\":\"white\",\"ticks\":\"\"}},\"title\":{\"x\":0.05},\"xaxis\":{\"automargin\":true,\"gridcolor\":\"white\",\"linecolor\":\"white\",\"ticks\":\"\",\"title\":{\"standoff\":15},\"zerolinecolor\":\"white\",\"zerolinewidth\":2},\"yaxis\":{\"automargin\":true,\"gridcolor\":\"white\",\"linecolor\":\"white\",\"ticks\":\"\",\"title\":{\"standoff\":15},\"zerolinecolor\":\"white\",\"zerolinewidth\":2}}},\"xaxis\":{\"anchor\":\"y\",\"domain\":[0.0,1.0],\"title\":{\"text\":\"Date\"},\"tickformat\":\"%b %d\",\"tickangle\":45},\"yaxis\":{\"anchor\":\"x\",\"domain\":[0.0,1.0],\"title\":{\"text\":\"# of Squirels Spotted\"}},\"legend\":{\"title\":{\"text\":\"Sounds\"},\"tracegroupgap\":0},\"margin\":{\"t\":60},\"title\":{\"text\":\"2018 Squirrel Sounds\",\"x\":0.5}},                        {\"responsive\": true}                    ).then(function(){\n",
       "                            \n",
       "var gd = document.getElementById('f68d0b2b-16c6-4264-b923-cc0f5c8dd2da');\n",
       "var x = new MutationObserver(function (mutations, observer) {{\n",
       "        var display = window.getComputedStyle(gd).display;\n",
       "        if (!display || display === 'none') {{\n",
       "            console.log([gd, 'removed!']);\n",
       "            Plotly.purge(gd);\n",
       "            observer.disconnect();\n",
       "        }}\n",
       "}});\n",
       "\n",
       "// Listen for the removal of the full notebook cells\n",
       "var notebookContainer = gd.closest('#notebook-container');\n",
       "if (notebookContainer) {{\n",
       "    x.observe(notebookContainer, {childList: true});\n",
       "}}\n",
       "\n",
       "// Listen for the clearing of the current output cell\n",
       "var outputEl = gd.closest('.output');\n",
       "if (outputEl) {{\n",
       "    x.observe(outputEl, {childList: true});\n",
       "}}\n",
       "\n",
       "                        })                };                });            </script>        </div>"
      ]
     },
     "metadata": {},
     "output_type": "display_data"
    }
   ],
   "source": [
    "fig2 = px.line(squirrel_sounds_grouped,\n",
    "        x='Date',\n",
    "        y='Value',\n",
    "        color='Sounds', labels={\"Value\": \"# of Squirels Spotted\"})\n",
    "\n",
    "fig2.update_layout(title = '2018 Squirrel Sounds', title_x=0.5, xaxis=dict(tickformat=\"%b %d\", tickangle=45))"
   ]
  },
  {
   "cell_type": "code",
   "execution_count": 44,
   "id": "f1357731",
   "metadata": {},
   "outputs": [
    {
     "name": "stdout",
     "output_type": "stream",
     "text": [
      "        Date   Movements  Value\n",
      "0 2018-10-14  Tail flags      0\n",
      "1 2018-10-19  Tail flags      0\n",
      "2 2018-10-14  Tail flags      0\n",
      "3 2018-10-17  Tail flags      0\n",
      "4 2018-10-17  Tail flags      0\n"
     ]
    }
   ],
   "source": [
    "squirrel_movements = squirrel_data.melt(id_vars='Date', value_vars=['Tail flags',\n",
    "       'Tail twitches', 'Approaches', 'Indifferent', 'Runs from'], var_name='Movements', value_name='Value')\n",
    "print(squirrel_movements.head())\n",
    "\n",
    "squirrel_movements_grouped = squirrel_movements.groupby(['Date', 'Movements'], as_index=False).sum()"
   ]
  },
  {
   "cell_type": "code",
   "execution_count": 46,
   "id": "2405999c",
   "metadata": {
    "scrolled": false
   },
   "outputs": [
    {
     "data": {
      "application/vnd.plotly.v1+json": {
       "config": {
        "plotlyServerURL": "https://plot.ly"
       },
       "data": [
        {
         "hovertemplate": "Movements=Approaches<br>Date=%{x}<br># of Squirels Spotted=%{y}<extra></extra>",
         "legendgroup": "Approaches",
         "line": {
          "color": "#636efa",
          "dash": "solid"
         },
         "marker": {
          "symbol": "circle"
         },
         "mode": "lines",
         "name": "Approaches",
         "orientation": "v",
         "showlegend": true,
         "type": "scatter",
         "x": [
          "2018-10-06T00:00:00",
          "2018-10-07T00:00:00",
          "2018-10-08T00:00:00",
          "2018-10-10T00:00:00",
          "2018-10-12T00:00:00",
          "2018-10-13T00:00:00",
          "2018-10-14T00:00:00",
          "2018-10-17T00:00:00",
          "2018-10-18T00:00:00",
          "2018-10-19T00:00:00",
          "2018-10-20T00:00:00"
         ],
         "xaxis": "x",
         "y": [
          29,
          13,
          12,
          14,
          12,
          32,
          20,
          18,
          14,
          10,
          4
         ],
         "yaxis": "y"
        },
        {
         "hovertemplate": "Movements=Indifferent<br>Date=%{x}<br># of Squirels Spotted=%{y}<extra></extra>",
         "legendgroup": "Indifferent",
         "line": {
          "color": "#EF553B",
          "dash": "solid"
         },
         "marker": {
          "symbol": "circle"
         },
         "mode": "lines",
         "name": "Indifferent",
         "orientation": "v",
         "showlegend": true,
         "type": "scatter",
         "x": [
          "2018-10-06T00:00:00",
          "2018-10-07T00:00:00",
          "2018-10-08T00:00:00",
          "2018-10-10T00:00:00",
          "2018-10-12T00:00:00",
          "2018-10-13T00:00:00",
          "2018-10-14T00:00:00",
          "2018-10-17T00:00:00",
          "2018-10-18T00:00:00",
          "2018-10-19T00:00:00",
          "2018-10-20T00:00:00"
         ],
         "xaxis": "x",
         "y": [
          148,
          190,
          175,
          177,
          102,
          186,
          183,
          107,
          93,
          67,
          26
         ],
         "yaxis": "y"
        },
        {
         "hovertemplate": "Movements=Runs from<br>Date=%{x}<br># of Squirels Spotted=%{y}<extra></extra>",
         "legendgroup": "Runs from",
         "line": {
          "color": "#00cc96",
          "dash": "solid"
         },
         "marker": {
          "symbol": "circle"
         },
         "mode": "lines",
         "name": "Runs from",
         "orientation": "v",
         "showlegend": true,
         "type": "scatter",
         "x": [
          "2018-10-06T00:00:00",
          "2018-10-07T00:00:00",
          "2018-10-08T00:00:00",
          "2018-10-10T00:00:00",
          "2018-10-12T00:00:00",
          "2018-10-13T00:00:00",
          "2018-10-14T00:00:00",
          "2018-10-17T00:00:00",
          "2018-10-18T00:00:00",
          "2018-10-19T00:00:00",
          "2018-10-20T00:00:00"
         ],
         "xaxis": "x",
         "y": [
          77,
          76,
          47,
          63,
          57,
          117,
          83,
          54,
          39,
          47,
          18
         ],
         "yaxis": "y"
        },
        {
         "hovertemplate": "Movements=Tail flags<br>Date=%{x}<br># of Squirels Spotted=%{y}<extra></extra>",
         "legendgroup": "Tail flags",
         "line": {
          "color": "#ab63fa",
          "dash": "solid"
         },
         "marker": {
          "symbol": "circle"
         },
         "mode": "lines",
         "name": "Tail flags",
         "orientation": "v",
         "showlegend": true,
         "type": "scatter",
         "x": [
          "2018-10-06T00:00:00",
          "2018-10-07T00:00:00",
          "2018-10-08T00:00:00",
          "2018-10-10T00:00:00",
          "2018-10-12T00:00:00",
          "2018-10-13T00:00:00",
          "2018-10-14T00:00:00",
          "2018-10-17T00:00:00",
          "2018-10-18T00:00:00",
          "2018-10-19T00:00:00",
          "2018-10-20T00:00:00"
         ],
         "xaxis": "x",
         "y": [
          29,
          26,
          11,
          15,
          11,
          26,
          8,
          2,
          10,
          7,
          10
         ],
         "yaxis": "y"
        },
        {
         "hovertemplate": "Movements=Tail twitches<br>Date=%{x}<br># of Squirels Spotted=%{y}<extra></extra>",
         "legendgroup": "Tail twitches",
         "line": {
          "color": "#FFA15A",
          "dash": "solid"
         },
         "marker": {
          "symbol": "circle"
         },
         "mode": "lines",
         "name": "Tail twitches",
         "orientation": "v",
         "showlegend": true,
         "type": "scatter",
         "x": [
          "2018-10-06T00:00:00",
          "2018-10-07T00:00:00",
          "2018-10-08T00:00:00",
          "2018-10-10T00:00:00",
          "2018-10-12T00:00:00",
          "2018-10-13T00:00:00",
          "2018-10-14T00:00:00",
          "2018-10-17T00:00:00",
          "2018-10-18T00:00:00",
          "2018-10-19T00:00:00",
          "2018-10-20T00:00:00"
         ],
         "xaxis": "x",
         "y": [
          69,
          50,
          26,
          54,
          41,
          69,
          35,
          24,
          31,
          28,
          7
         ],
         "yaxis": "y"
        }
       ],
       "layout": {
        "legend": {
         "title": {
          "text": "Movements"
         },
         "tracegroupgap": 0
        },
        "margin": {
         "t": 60
        },
        "template": {
         "data": {
          "bar": [
           {
            "error_x": {
             "color": "#2a3f5f"
            },
            "error_y": {
             "color": "#2a3f5f"
            },
            "marker": {
             "line": {
              "color": "#E5ECF6",
              "width": 0.5
             },
             "pattern": {
              "fillmode": "overlay",
              "size": 10,
              "solidity": 0.2
             }
            },
            "type": "bar"
           }
          ],
          "barpolar": [
           {
            "marker": {
             "line": {
              "color": "#E5ECF6",
              "width": 0.5
             },
             "pattern": {
              "fillmode": "overlay",
              "size": 10,
              "solidity": 0.2
             }
            },
            "type": "barpolar"
           }
          ],
          "carpet": [
           {
            "aaxis": {
             "endlinecolor": "#2a3f5f",
             "gridcolor": "white",
             "linecolor": "white",
             "minorgridcolor": "white",
             "startlinecolor": "#2a3f5f"
            },
            "baxis": {
             "endlinecolor": "#2a3f5f",
             "gridcolor": "white",
             "linecolor": "white",
             "minorgridcolor": "white",
             "startlinecolor": "#2a3f5f"
            },
            "type": "carpet"
           }
          ],
          "choropleth": [
           {
            "colorbar": {
             "outlinewidth": 0,
             "ticks": ""
            },
            "type": "choropleth"
           }
          ],
          "contour": [
           {
            "colorbar": {
             "outlinewidth": 0,
             "ticks": ""
            },
            "colorscale": [
             [
              0,
              "#0d0887"
             ],
             [
              0.1111111111111111,
              "#46039f"
             ],
             [
              0.2222222222222222,
              "#7201a8"
             ],
             [
              0.3333333333333333,
              "#9c179e"
             ],
             [
              0.4444444444444444,
              "#bd3786"
             ],
             [
              0.5555555555555556,
              "#d8576b"
             ],
             [
              0.6666666666666666,
              "#ed7953"
             ],
             [
              0.7777777777777778,
              "#fb9f3a"
             ],
             [
              0.8888888888888888,
              "#fdca26"
             ],
             [
              1,
              "#f0f921"
             ]
            ],
            "type": "contour"
           }
          ],
          "contourcarpet": [
           {
            "colorbar": {
             "outlinewidth": 0,
             "ticks": ""
            },
            "type": "contourcarpet"
           }
          ],
          "heatmap": [
           {
            "colorbar": {
             "outlinewidth": 0,
             "ticks": ""
            },
            "colorscale": [
             [
              0,
              "#0d0887"
             ],
             [
              0.1111111111111111,
              "#46039f"
             ],
             [
              0.2222222222222222,
              "#7201a8"
             ],
             [
              0.3333333333333333,
              "#9c179e"
             ],
             [
              0.4444444444444444,
              "#bd3786"
             ],
             [
              0.5555555555555556,
              "#d8576b"
             ],
             [
              0.6666666666666666,
              "#ed7953"
             ],
             [
              0.7777777777777778,
              "#fb9f3a"
             ],
             [
              0.8888888888888888,
              "#fdca26"
             ],
             [
              1,
              "#f0f921"
             ]
            ],
            "type": "heatmap"
           }
          ],
          "heatmapgl": [
           {
            "colorbar": {
             "outlinewidth": 0,
             "ticks": ""
            },
            "colorscale": [
             [
              0,
              "#0d0887"
             ],
             [
              0.1111111111111111,
              "#46039f"
             ],
             [
              0.2222222222222222,
              "#7201a8"
             ],
             [
              0.3333333333333333,
              "#9c179e"
             ],
             [
              0.4444444444444444,
              "#bd3786"
             ],
             [
              0.5555555555555556,
              "#d8576b"
             ],
             [
              0.6666666666666666,
              "#ed7953"
             ],
             [
              0.7777777777777778,
              "#fb9f3a"
             ],
             [
              0.8888888888888888,
              "#fdca26"
             ],
             [
              1,
              "#f0f921"
             ]
            ],
            "type": "heatmapgl"
           }
          ],
          "histogram": [
           {
            "marker": {
             "pattern": {
              "fillmode": "overlay",
              "size": 10,
              "solidity": 0.2
             }
            },
            "type": "histogram"
           }
          ],
          "histogram2d": [
           {
            "colorbar": {
             "outlinewidth": 0,
             "ticks": ""
            },
            "colorscale": [
             [
              0,
              "#0d0887"
             ],
             [
              0.1111111111111111,
              "#46039f"
             ],
             [
              0.2222222222222222,
              "#7201a8"
             ],
             [
              0.3333333333333333,
              "#9c179e"
             ],
             [
              0.4444444444444444,
              "#bd3786"
             ],
             [
              0.5555555555555556,
              "#d8576b"
             ],
             [
              0.6666666666666666,
              "#ed7953"
             ],
             [
              0.7777777777777778,
              "#fb9f3a"
             ],
             [
              0.8888888888888888,
              "#fdca26"
             ],
             [
              1,
              "#f0f921"
             ]
            ],
            "type": "histogram2d"
           }
          ],
          "histogram2dcontour": [
           {
            "colorbar": {
             "outlinewidth": 0,
             "ticks": ""
            },
            "colorscale": [
             [
              0,
              "#0d0887"
             ],
             [
              0.1111111111111111,
              "#46039f"
             ],
             [
              0.2222222222222222,
              "#7201a8"
             ],
             [
              0.3333333333333333,
              "#9c179e"
             ],
             [
              0.4444444444444444,
              "#bd3786"
             ],
             [
              0.5555555555555556,
              "#d8576b"
             ],
             [
              0.6666666666666666,
              "#ed7953"
             ],
             [
              0.7777777777777778,
              "#fb9f3a"
             ],
             [
              0.8888888888888888,
              "#fdca26"
             ],
             [
              1,
              "#f0f921"
             ]
            ],
            "type": "histogram2dcontour"
           }
          ],
          "mesh3d": [
           {
            "colorbar": {
             "outlinewidth": 0,
             "ticks": ""
            },
            "type": "mesh3d"
           }
          ],
          "parcoords": [
           {
            "line": {
             "colorbar": {
              "outlinewidth": 0,
              "ticks": ""
             }
            },
            "type": "parcoords"
           }
          ],
          "pie": [
           {
            "automargin": true,
            "type": "pie"
           }
          ],
          "scatter": [
           {
            "marker": {
             "colorbar": {
              "outlinewidth": 0,
              "ticks": ""
             }
            },
            "type": "scatter"
           }
          ],
          "scatter3d": [
           {
            "line": {
             "colorbar": {
              "outlinewidth": 0,
              "ticks": ""
             }
            },
            "marker": {
             "colorbar": {
              "outlinewidth": 0,
              "ticks": ""
             }
            },
            "type": "scatter3d"
           }
          ],
          "scattercarpet": [
           {
            "marker": {
             "colorbar": {
              "outlinewidth": 0,
              "ticks": ""
             }
            },
            "type": "scattercarpet"
           }
          ],
          "scattergeo": [
           {
            "marker": {
             "colorbar": {
              "outlinewidth": 0,
              "ticks": ""
             }
            },
            "type": "scattergeo"
           }
          ],
          "scattergl": [
           {
            "marker": {
             "colorbar": {
              "outlinewidth": 0,
              "ticks": ""
             }
            },
            "type": "scattergl"
           }
          ],
          "scattermapbox": [
           {
            "marker": {
             "colorbar": {
              "outlinewidth": 0,
              "ticks": ""
             }
            },
            "type": "scattermapbox"
           }
          ],
          "scatterpolar": [
           {
            "marker": {
             "colorbar": {
              "outlinewidth": 0,
              "ticks": ""
             }
            },
            "type": "scatterpolar"
           }
          ],
          "scatterpolargl": [
           {
            "marker": {
             "colorbar": {
              "outlinewidth": 0,
              "ticks": ""
             }
            },
            "type": "scatterpolargl"
           }
          ],
          "scatterternary": [
           {
            "marker": {
             "colorbar": {
              "outlinewidth": 0,
              "ticks": ""
             }
            },
            "type": "scatterternary"
           }
          ],
          "surface": [
           {
            "colorbar": {
             "outlinewidth": 0,
             "ticks": ""
            },
            "colorscale": [
             [
              0,
              "#0d0887"
             ],
             [
              0.1111111111111111,
              "#46039f"
             ],
             [
              0.2222222222222222,
              "#7201a8"
             ],
             [
              0.3333333333333333,
              "#9c179e"
             ],
             [
              0.4444444444444444,
              "#bd3786"
             ],
             [
              0.5555555555555556,
              "#d8576b"
             ],
             [
              0.6666666666666666,
              "#ed7953"
             ],
             [
              0.7777777777777778,
              "#fb9f3a"
             ],
             [
              0.8888888888888888,
              "#fdca26"
             ],
             [
              1,
              "#f0f921"
             ]
            ],
            "type": "surface"
           }
          ],
          "table": [
           {
            "cells": {
             "fill": {
              "color": "#EBF0F8"
             },
             "line": {
              "color": "white"
             }
            },
            "header": {
             "fill": {
              "color": "#C8D4E3"
             },
             "line": {
              "color": "white"
             }
            },
            "type": "table"
           }
          ]
         },
         "layout": {
          "annotationdefaults": {
           "arrowcolor": "#2a3f5f",
           "arrowhead": 0,
           "arrowwidth": 1
          },
          "autotypenumbers": "strict",
          "coloraxis": {
           "colorbar": {
            "outlinewidth": 0,
            "ticks": ""
           }
          },
          "colorscale": {
           "diverging": [
            [
             0,
             "#8e0152"
            ],
            [
             0.1,
             "#c51b7d"
            ],
            [
             0.2,
             "#de77ae"
            ],
            [
             0.3,
             "#f1b6da"
            ],
            [
             0.4,
             "#fde0ef"
            ],
            [
             0.5,
             "#f7f7f7"
            ],
            [
             0.6,
             "#e6f5d0"
            ],
            [
             0.7,
             "#b8e186"
            ],
            [
             0.8,
             "#7fbc41"
            ],
            [
             0.9,
             "#4d9221"
            ],
            [
             1,
             "#276419"
            ]
           ],
           "sequential": [
            [
             0,
             "#0d0887"
            ],
            [
             0.1111111111111111,
             "#46039f"
            ],
            [
             0.2222222222222222,
             "#7201a8"
            ],
            [
             0.3333333333333333,
             "#9c179e"
            ],
            [
             0.4444444444444444,
             "#bd3786"
            ],
            [
             0.5555555555555556,
             "#d8576b"
            ],
            [
             0.6666666666666666,
             "#ed7953"
            ],
            [
             0.7777777777777778,
             "#fb9f3a"
            ],
            [
             0.8888888888888888,
             "#fdca26"
            ],
            [
             1,
             "#f0f921"
            ]
           ],
           "sequentialminus": [
            [
             0,
             "#0d0887"
            ],
            [
             0.1111111111111111,
             "#46039f"
            ],
            [
             0.2222222222222222,
             "#7201a8"
            ],
            [
             0.3333333333333333,
             "#9c179e"
            ],
            [
             0.4444444444444444,
             "#bd3786"
            ],
            [
             0.5555555555555556,
             "#d8576b"
            ],
            [
             0.6666666666666666,
             "#ed7953"
            ],
            [
             0.7777777777777778,
             "#fb9f3a"
            ],
            [
             0.8888888888888888,
             "#fdca26"
            ],
            [
             1,
             "#f0f921"
            ]
           ]
          },
          "colorway": [
           "#636efa",
           "#EF553B",
           "#00cc96",
           "#ab63fa",
           "#FFA15A",
           "#19d3f3",
           "#FF6692",
           "#B6E880",
           "#FF97FF",
           "#FECB52"
          ],
          "font": {
           "color": "#2a3f5f"
          },
          "geo": {
           "bgcolor": "white",
           "lakecolor": "white",
           "landcolor": "#E5ECF6",
           "showlakes": true,
           "showland": true,
           "subunitcolor": "white"
          },
          "hoverlabel": {
           "align": "left"
          },
          "hovermode": "closest",
          "mapbox": {
           "style": "light"
          },
          "paper_bgcolor": "white",
          "plot_bgcolor": "#E5ECF6",
          "polar": {
           "angularaxis": {
            "gridcolor": "white",
            "linecolor": "white",
            "ticks": ""
           },
           "bgcolor": "#E5ECF6",
           "radialaxis": {
            "gridcolor": "white",
            "linecolor": "white",
            "ticks": ""
           }
          },
          "scene": {
           "xaxis": {
            "backgroundcolor": "#E5ECF6",
            "gridcolor": "white",
            "gridwidth": 2,
            "linecolor": "white",
            "showbackground": true,
            "ticks": "",
            "zerolinecolor": "white"
           },
           "yaxis": {
            "backgroundcolor": "#E5ECF6",
            "gridcolor": "white",
            "gridwidth": 2,
            "linecolor": "white",
            "showbackground": true,
            "ticks": "",
            "zerolinecolor": "white"
           },
           "zaxis": {
            "backgroundcolor": "#E5ECF6",
            "gridcolor": "white",
            "gridwidth": 2,
            "linecolor": "white",
            "showbackground": true,
            "ticks": "",
            "zerolinecolor": "white"
           }
          },
          "shapedefaults": {
           "line": {
            "color": "#2a3f5f"
           }
          },
          "ternary": {
           "aaxis": {
            "gridcolor": "white",
            "linecolor": "white",
            "ticks": ""
           },
           "baxis": {
            "gridcolor": "white",
            "linecolor": "white",
            "ticks": ""
           },
           "bgcolor": "#E5ECF6",
           "caxis": {
            "gridcolor": "white",
            "linecolor": "white",
            "ticks": ""
           }
          },
          "title": {
           "x": 0.05
          },
          "xaxis": {
           "automargin": true,
           "gridcolor": "white",
           "linecolor": "white",
           "ticks": "",
           "title": {
            "standoff": 15
           },
           "zerolinecolor": "white",
           "zerolinewidth": 2
          },
          "yaxis": {
           "automargin": true,
           "gridcolor": "white",
           "linecolor": "white",
           "ticks": "",
           "title": {
            "standoff": 15
           },
           "zerolinecolor": "white",
           "zerolinewidth": 2
          }
         }
        },
        "title": {
         "text": "2018 Squirrel Movements",
         "x": 0.5
        },
        "xaxis": {
         "anchor": "y",
         "domain": [
          0,
          1
         ],
         "tickangle": 45,
         "tickformat": "%b %d",
         "title": {
          "text": "Date"
         }
        },
        "yaxis": {
         "anchor": "x",
         "domain": [
          0,
          1
         ],
         "title": {
          "text": "# of Squirels Spotted"
         }
        }
       }
      },
      "text/html": [
       "<div>                            <div id=\"f2821593-6f16-49d9-999d-239d33217549\" class=\"plotly-graph-div\" style=\"height:525px; width:100%;\"></div>            <script type=\"text/javascript\">                require([\"plotly\"], function(Plotly) {                    window.PLOTLYENV=window.PLOTLYENV || {};                                    if (document.getElementById(\"f2821593-6f16-49d9-999d-239d33217549\")) {                    Plotly.newPlot(                        \"f2821593-6f16-49d9-999d-239d33217549\",                        [{\"hovertemplate\":\"Movements=Approaches<br>Date=%{x}<br># of Squirels Spotted=%{y}<extra></extra>\",\"legendgroup\":\"Approaches\",\"line\":{\"color\":\"#636efa\",\"dash\":\"solid\"},\"marker\":{\"symbol\":\"circle\"},\"mode\":\"lines\",\"name\":\"Approaches\",\"orientation\":\"v\",\"showlegend\":true,\"x\":[\"2018-10-06T00:00:00\",\"2018-10-07T00:00:00\",\"2018-10-08T00:00:00\",\"2018-10-10T00:00:00\",\"2018-10-12T00:00:00\",\"2018-10-13T00:00:00\",\"2018-10-14T00:00:00\",\"2018-10-17T00:00:00\",\"2018-10-18T00:00:00\",\"2018-10-19T00:00:00\",\"2018-10-20T00:00:00\"],\"xaxis\":\"x\",\"y\":[29,13,12,14,12,32,20,18,14,10,4],\"yaxis\":\"y\",\"type\":\"scatter\"},{\"hovertemplate\":\"Movements=Indifferent<br>Date=%{x}<br># of Squirels Spotted=%{y}<extra></extra>\",\"legendgroup\":\"Indifferent\",\"line\":{\"color\":\"#EF553B\",\"dash\":\"solid\"},\"marker\":{\"symbol\":\"circle\"},\"mode\":\"lines\",\"name\":\"Indifferent\",\"orientation\":\"v\",\"showlegend\":true,\"x\":[\"2018-10-06T00:00:00\",\"2018-10-07T00:00:00\",\"2018-10-08T00:00:00\",\"2018-10-10T00:00:00\",\"2018-10-12T00:00:00\",\"2018-10-13T00:00:00\",\"2018-10-14T00:00:00\",\"2018-10-17T00:00:00\",\"2018-10-18T00:00:00\",\"2018-10-19T00:00:00\",\"2018-10-20T00:00:00\"],\"xaxis\":\"x\",\"y\":[148,190,175,177,102,186,183,107,93,67,26],\"yaxis\":\"y\",\"type\":\"scatter\"},{\"hovertemplate\":\"Movements=Runs from<br>Date=%{x}<br># of Squirels Spotted=%{y}<extra></extra>\",\"legendgroup\":\"Runs from\",\"line\":{\"color\":\"#00cc96\",\"dash\":\"solid\"},\"marker\":{\"symbol\":\"circle\"},\"mode\":\"lines\",\"name\":\"Runs from\",\"orientation\":\"v\",\"showlegend\":true,\"x\":[\"2018-10-06T00:00:00\",\"2018-10-07T00:00:00\",\"2018-10-08T00:00:00\",\"2018-10-10T00:00:00\",\"2018-10-12T00:00:00\",\"2018-10-13T00:00:00\",\"2018-10-14T00:00:00\",\"2018-10-17T00:00:00\",\"2018-10-18T00:00:00\",\"2018-10-19T00:00:00\",\"2018-10-20T00:00:00\"],\"xaxis\":\"x\",\"y\":[77,76,47,63,57,117,83,54,39,47,18],\"yaxis\":\"y\",\"type\":\"scatter\"},{\"hovertemplate\":\"Movements=Tail flags<br>Date=%{x}<br># of Squirels Spotted=%{y}<extra></extra>\",\"legendgroup\":\"Tail flags\",\"line\":{\"color\":\"#ab63fa\",\"dash\":\"solid\"},\"marker\":{\"symbol\":\"circle\"},\"mode\":\"lines\",\"name\":\"Tail flags\",\"orientation\":\"v\",\"showlegend\":true,\"x\":[\"2018-10-06T00:00:00\",\"2018-10-07T00:00:00\",\"2018-10-08T00:00:00\",\"2018-10-10T00:00:00\",\"2018-10-12T00:00:00\",\"2018-10-13T00:00:00\",\"2018-10-14T00:00:00\",\"2018-10-17T00:00:00\",\"2018-10-18T00:00:00\",\"2018-10-19T00:00:00\",\"2018-10-20T00:00:00\"],\"xaxis\":\"x\",\"y\":[29,26,11,15,11,26,8,2,10,7,10],\"yaxis\":\"y\",\"type\":\"scatter\"},{\"hovertemplate\":\"Movements=Tail twitches<br>Date=%{x}<br># of Squirels Spotted=%{y}<extra></extra>\",\"legendgroup\":\"Tail twitches\",\"line\":{\"color\":\"#FFA15A\",\"dash\":\"solid\"},\"marker\":{\"symbol\":\"circle\"},\"mode\":\"lines\",\"name\":\"Tail twitches\",\"orientation\":\"v\",\"showlegend\":true,\"x\":[\"2018-10-06T00:00:00\",\"2018-10-07T00:00:00\",\"2018-10-08T00:00:00\",\"2018-10-10T00:00:00\",\"2018-10-12T00:00:00\",\"2018-10-13T00:00:00\",\"2018-10-14T00:00:00\",\"2018-10-17T00:00:00\",\"2018-10-18T00:00:00\",\"2018-10-19T00:00:00\",\"2018-10-20T00:00:00\"],\"xaxis\":\"x\",\"y\":[69,50,26,54,41,69,35,24,31,28,7],\"yaxis\":\"y\",\"type\":\"scatter\"}],                        {\"template\":{\"data\":{\"bar\":[{\"error_x\":{\"color\":\"#2a3f5f\"},\"error_y\":{\"color\":\"#2a3f5f\"},\"marker\":{\"line\":{\"color\":\"#E5ECF6\",\"width\":0.5},\"pattern\":{\"fillmode\":\"overlay\",\"size\":10,\"solidity\":0.2}},\"type\":\"bar\"}],\"barpolar\":[{\"marker\":{\"line\":{\"color\":\"#E5ECF6\",\"width\":0.5},\"pattern\":{\"fillmode\":\"overlay\",\"size\":10,\"solidity\":0.2}},\"type\":\"barpolar\"}],\"carpet\":[{\"aaxis\":{\"endlinecolor\":\"#2a3f5f\",\"gridcolor\":\"white\",\"linecolor\":\"white\",\"minorgridcolor\":\"white\",\"startlinecolor\":\"#2a3f5f\"},\"baxis\":{\"endlinecolor\":\"#2a3f5f\",\"gridcolor\":\"white\",\"linecolor\":\"white\",\"minorgridcolor\":\"white\",\"startlinecolor\":\"#2a3f5f\"},\"type\":\"carpet\"}],\"choropleth\":[{\"colorbar\":{\"outlinewidth\":0,\"ticks\":\"\"},\"type\":\"choropleth\"}],\"contour\":[{\"colorbar\":{\"outlinewidth\":0,\"ticks\":\"\"},\"colorscale\":[[0.0,\"#0d0887\"],[0.1111111111111111,\"#46039f\"],[0.2222222222222222,\"#7201a8\"],[0.3333333333333333,\"#9c179e\"],[0.4444444444444444,\"#bd3786\"],[0.5555555555555556,\"#d8576b\"],[0.6666666666666666,\"#ed7953\"],[0.7777777777777778,\"#fb9f3a\"],[0.8888888888888888,\"#fdca26\"],[1.0,\"#f0f921\"]],\"type\":\"contour\"}],\"contourcarpet\":[{\"colorbar\":{\"outlinewidth\":0,\"ticks\":\"\"},\"type\":\"contourcarpet\"}],\"heatmap\":[{\"colorbar\":{\"outlinewidth\":0,\"ticks\":\"\"},\"colorscale\":[[0.0,\"#0d0887\"],[0.1111111111111111,\"#46039f\"],[0.2222222222222222,\"#7201a8\"],[0.3333333333333333,\"#9c179e\"],[0.4444444444444444,\"#bd3786\"],[0.5555555555555556,\"#d8576b\"],[0.6666666666666666,\"#ed7953\"],[0.7777777777777778,\"#fb9f3a\"],[0.8888888888888888,\"#fdca26\"],[1.0,\"#f0f921\"]],\"type\":\"heatmap\"}],\"heatmapgl\":[{\"colorbar\":{\"outlinewidth\":0,\"ticks\":\"\"},\"colorscale\":[[0.0,\"#0d0887\"],[0.1111111111111111,\"#46039f\"],[0.2222222222222222,\"#7201a8\"],[0.3333333333333333,\"#9c179e\"],[0.4444444444444444,\"#bd3786\"],[0.5555555555555556,\"#d8576b\"],[0.6666666666666666,\"#ed7953\"],[0.7777777777777778,\"#fb9f3a\"],[0.8888888888888888,\"#fdca26\"],[1.0,\"#f0f921\"]],\"type\":\"heatmapgl\"}],\"histogram\":[{\"marker\":{\"pattern\":{\"fillmode\":\"overlay\",\"size\":10,\"solidity\":0.2}},\"type\":\"histogram\"}],\"histogram2d\":[{\"colorbar\":{\"outlinewidth\":0,\"ticks\":\"\"},\"colorscale\":[[0.0,\"#0d0887\"],[0.1111111111111111,\"#46039f\"],[0.2222222222222222,\"#7201a8\"],[0.3333333333333333,\"#9c179e\"],[0.4444444444444444,\"#bd3786\"],[0.5555555555555556,\"#d8576b\"],[0.6666666666666666,\"#ed7953\"],[0.7777777777777778,\"#fb9f3a\"],[0.8888888888888888,\"#fdca26\"],[1.0,\"#f0f921\"]],\"type\":\"histogram2d\"}],\"histogram2dcontour\":[{\"colorbar\":{\"outlinewidth\":0,\"ticks\":\"\"},\"colorscale\":[[0.0,\"#0d0887\"],[0.1111111111111111,\"#46039f\"],[0.2222222222222222,\"#7201a8\"],[0.3333333333333333,\"#9c179e\"],[0.4444444444444444,\"#bd3786\"],[0.5555555555555556,\"#d8576b\"],[0.6666666666666666,\"#ed7953\"],[0.7777777777777778,\"#fb9f3a\"],[0.8888888888888888,\"#fdca26\"],[1.0,\"#f0f921\"]],\"type\":\"histogram2dcontour\"}],\"mesh3d\":[{\"colorbar\":{\"outlinewidth\":0,\"ticks\":\"\"},\"type\":\"mesh3d\"}],\"parcoords\":[{\"line\":{\"colorbar\":{\"outlinewidth\":0,\"ticks\":\"\"}},\"type\":\"parcoords\"}],\"pie\":[{\"automargin\":true,\"type\":\"pie\"}],\"scatter\":[{\"marker\":{\"colorbar\":{\"outlinewidth\":0,\"ticks\":\"\"}},\"type\":\"scatter\"}],\"scatter3d\":[{\"line\":{\"colorbar\":{\"outlinewidth\":0,\"ticks\":\"\"}},\"marker\":{\"colorbar\":{\"outlinewidth\":0,\"ticks\":\"\"}},\"type\":\"scatter3d\"}],\"scattercarpet\":[{\"marker\":{\"colorbar\":{\"outlinewidth\":0,\"ticks\":\"\"}},\"type\":\"scattercarpet\"}],\"scattergeo\":[{\"marker\":{\"colorbar\":{\"outlinewidth\":0,\"ticks\":\"\"}},\"type\":\"scattergeo\"}],\"scattergl\":[{\"marker\":{\"colorbar\":{\"outlinewidth\":0,\"ticks\":\"\"}},\"type\":\"scattergl\"}],\"scattermapbox\":[{\"marker\":{\"colorbar\":{\"outlinewidth\":0,\"ticks\":\"\"}},\"type\":\"scattermapbox\"}],\"scatterpolar\":[{\"marker\":{\"colorbar\":{\"outlinewidth\":0,\"ticks\":\"\"}},\"type\":\"scatterpolar\"}],\"scatterpolargl\":[{\"marker\":{\"colorbar\":{\"outlinewidth\":0,\"ticks\":\"\"}},\"type\":\"scatterpolargl\"}],\"scatterternary\":[{\"marker\":{\"colorbar\":{\"outlinewidth\":0,\"ticks\":\"\"}},\"type\":\"scatterternary\"}],\"surface\":[{\"colorbar\":{\"outlinewidth\":0,\"ticks\":\"\"},\"colorscale\":[[0.0,\"#0d0887\"],[0.1111111111111111,\"#46039f\"],[0.2222222222222222,\"#7201a8\"],[0.3333333333333333,\"#9c179e\"],[0.4444444444444444,\"#bd3786\"],[0.5555555555555556,\"#d8576b\"],[0.6666666666666666,\"#ed7953\"],[0.7777777777777778,\"#fb9f3a\"],[0.8888888888888888,\"#fdca26\"],[1.0,\"#f0f921\"]],\"type\":\"surface\"}],\"table\":[{\"cells\":{\"fill\":{\"color\":\"#EBF0F8\"},\"line\":{\"color\":\"white\"}},\"header\":{\"fill\":{\"color\":\"#C8D4E3\"},\"line\":{\"color\":\"white\"}},\"type\":\"table\"}]},\"layout\":{\"annotationdefaults\":{\"arrowcolor\":\"#2a3f5f\",\"arrowhead\":0,\"arrowwidth\":1},\"autotypenumbers\":\"strict\",\"coloraxis\":{\"colorbar\":{\"outlinewidth\":0,\"ticks\":\"\"}},\"colorscale\":{\"diverging\":[[0,\"#8e0152\"],[0.1,\"#c51b7d\"],[0.2,\"#de77ae\"],[0.3,\"#f1b6da\"],[0.4,\"#fde0ef\"],[0.5,\"#f7f7f7\"],[0.6,\"#e6f5d0\"],[0.7,\"#b8e186\"],[0.8,\"#7fbc41\"],[0.9,\"#4d9221\"],[1,\"#276419\"]],\"sequential\":[[0.0,\"#0d0887\"],[0.1111111111111111,\"#46039f\"],[0.2222222222222222,\"#7201a8\"],[0.3333333333333333,\"#9c179e\"],[0.4444444444444444,\"#bd3786\"],[0.5555555555555556,\"#d8576b\"],[0.6666666666666666,\"#ed7953\"],[0.7777777777777778,\"#fb9f3a\"],[0.8888888888888888,\"#fdca26\"],[1.0,\"#f0f921\"]],\"sequentialminus\":[[0.0,\"#0d0887\"],[0.1111111111111111,\"#46039f\"],[0.2222222222222222,\"#7201a8\"],[0.3333333333333333,\"#9c179e\"],[0.4444444444444444,\"#bd3786\"],[0.5555555555555556,\"#d8576b\"],[0.6666666666666666,\"#ed7953\"],[0.7777777777777778,\"#fb9f3a\"],[0.8888888888888888,\"#fdca26\"],[1.0,\"#f0f921\"]]},\"colorway\":[\"#636efa\",\"#EF553B\",\"#00cc96\",\"#ab63fa\",\"#FFA15A\",\"#19d3f3\",\"#FF6692\",\"#B6E880\",\"#FF97FF\",\"#FECB52\"],\"font\":{\"color\":\"#2a3f5f\"},\"geo\":{\"bgcolor\":\"white\",\"lakecolor\":\"white\",\"landcolor\":\"#E5ECF6\",\"showlakes\":true,\"showland\":true,\"subunitcolor\":\"white\"},\"hoverlabel\":{\"align\":\"left\"},\"hovermode\":\"closest\",\"mapbox\":{\"style\":\"light\"},\"paper_bgcolor\":\"white\",\"plot_bgcolor\":\"#E5ECF6\",\"polar\":{\"angularaxis\":{\"gridcolor\":\"white\",\"linecolor\":\"white\",\"ticks\":\"\"},\"bgcolor\":\"#E5ECF6\",\"radialaxis\":{\"gridcolor\":\"white\",\"linecolor\":\"white\",\"ticks\":\"\"}},\"scene\":{\"xaxis\":{\"backgroundcolor\":\"#E5ECF6\",\"gridcolor\":\"white\",\"gridwidth\":2,\"linecolor\":\"white\",\"showbackground\":true,\"ticks\":\"\",\"zerolinecolor\":\"white\"},\"yaxis\":{\"backgroundcolor\":\"#E5ECF6\",\"gridcolor\":\"white\",\"gridwidth\":2,\"linecolor\":\"white\",\"showbackground\":true,\"ticks\":\"\",\"zerolinecolor\":\"white\"},\"zaxis\":{\"backgroundcolor\":\"#E5ECF6\",\"gridcolor\":\"white\",\"gridwidth\":2,\"linecolor\":\"white\",\"showbackground\":true,\"ticks\":\"\",\"zerolinecolor\":\"white\"}},\"shapedefaults\":{\"line\":{\"color\":\"#2a3f5f\"}},\"ternary\":{\"aaxis\":{\"gridcolor\":\"white\",\"linecolor\":\"white\",\"ticks\":\"\"},\"baxis\":{\"gridcolor\":\"white\",\"linecolor\":\"white\",\"ticks\":\"\"},\"bgcolor\":\"#E5ECF6\",\"caxis\":{\"gridcolor\":\"white\",\"linecolor\":\"white\",\"ticks\":\"\"}},\"title\":{\"x\":0.05},\"xaxis\":{\"automargin\":true,\"gridcolor\":\"white\",\"linecolor\":\"white\",\"ticks\":\"\",\"title\":{\"standoff\":15},\"zerolinecolor\":\"white\",\"zerolinewidth\":2},\"yaxis\":{\"automargin\":true,\"gridcolor\":\"white\",\"linecolor\":\"white\",\"ticks\":\"\",\"title\":{\"standoff\":15},\"zerolinecolor\":\"white\",\"zerolinewidth\":2}}},\"xaxis\":{\"anchor\":\"y\",\"domain\":[0.0,1.0],\"title\":{\"text\":\"Date\"},\"tickformat\":\"%b %d\",\"tickangle\":45},\"yaxis\":{\"anchor\":\"x\",\"domain\":[0.0,1.0],\"title\":{\"text\":\"# of Squirels Spotted\"}},\"legend\":{\"title\":{\"text\":\"Movements\"},\"tracegroupgap\":0},\"margin\":{\"t\":60},\"title\":{\"text\":\"2018 Squirrel Movements\",\"x\":0.5}},                        {\"responsive\": true}                    ).then(function(){\n",
       "                            \n",
       "var gd = document.getElementById('f2821593-6f16-49d9-999d-239d33217549');\n",
       "var x = new MutationObserver(function (mutations, observer) {{\n",
       "        var display = window.getComputedStyle(gd).display;\n",
       "        if (!display || display === 'none') {{\n",
       "            console.log([gd, 'removed!']);\n",
       "            Plotly.purge(gd);\n",
       "            observer.disconnect();\n",
       "        }}\n",
       "}});\n",
       "\n",
       "// Listen for the removal of the full notebook cells\n",
       "var notebookContainer = gd.closest('#notebook-container');\n",
       "if (notebookContainer) {{\n",
       "    x.observe(notebookContainer, {childList: true});\n",
       "}}\n",
       "\n",
       "// Listen for the clearing of the current output cell\n",
       "var outputEl = gd.closest('.output');\n",
       "if (outputEl) {{\n",
       "    x.observe(outputEl, {childList: true});\n",
       "}}\n",
       "\n",
       "                        })                };                });            </script>        </div>"
      ]
     },
     "metadata": {},
     "output_type": "display_data"
    }
   ],
   "source": [
    "fig3 = px.line(squirrel_movements_grouped,\n",
    "        x='Date',\n",
    "        y='Value',\n",
    "        color='Movements', labels={\"Value\": \"# of Squirels Spotted\"})\n",
    "\n",
    "fig3.update_layout(title = '2018 Squirrel Movements', title_x=0.5, xaxis=dict(tickformat=\"%b %d\", tickangle=45))"
   ]
  },
  {
   "cell_type": "markdown",
   "id": "be83f787",
   "metadata": {},
   "source": [
    "# Squirrel Stories Idea:\n",
    "We can maybe do one with the above data (just sound) and include a couple of the below notes for inspo as part of the written score. \n",
    "\n",
    "And/or we can do a different one (or the same one) also with reading some of the squirrell stories below. some are really funny/poignant!"
   ]
  },
  {
   "cell_type": "code",
   "execution_count": 51,
   "id": "61a0b31c",
   "metadata": {
    "scrolled": false
   },
   "outputs": [
    {
     "data": {
      "text/html": [
       "<div>\n",
       "<style scoped>\n",
       "    .dataframe tbody tr th:only-of-type {\n",
       "        vertical-align: middle;\n",
       "    }\n",
       "\n",
       "    .dataframe tbody tr th {\n",
       "        vertical-align: top;\n",
       "    }\n",
       "\n",
       "    .dataframe thead th {\n",
       "        text-align: right;\n",
       "    }\n",
       "</style>\n",
       "<table border=\"1\" class=\"dataframe\">\n",
       "  <thead>\n",
       "    <tr style=\"text-align: right;\">\n",
       "      <th></th>\n",
       "      <th>Hectare</th>\n",
       "      <th>Shift</th>\n",
       "      <th>Date</th>\n",
       "      <th>Note Squirrel &amp; Park Stories</th>\n",
       "      <th>Story Topic: Squirrel Experience or Squirrel Story</th>\n",
       "      <th>Story Topic: Park Experience or Census Taker Story</th>\n",
       "      <th>Story Topic: Dogs</th>\n",
       "      <th>Story Topic: Other Animals</th>\n",
       "      <th>Story Topic: Accidental Poems</th>\n",
       "      <th>Story Topic: Squirrels Acting Odd</th>\n",
       "      <th>Story Topic: Census Takers Recognized</th>\n",
       "      <th>Story Topic: Other</th>\n",
       "    </tr>\n",
       "  </thead>\n",
       "  <tbody>\n",
       "    <tr>\n",
       "      <th>0</th>\n",
       "      <td>01A</td>\n",
       "      <td>PM</td>\n",
       "      <td>2018-10-14</td>\n",
       "      <td>Observed a squirrel with a cache of peanuts th...</td>\n",
       "      <td>True</td>\n",
       "      <td>NaN</td>\n",
       "      <td>NaN</td>\n",
       "      <td>NaN</td>\n",
       "      <td>NaN</td>\n",
       "      <td>NaN</td>\n",
       "      <td>NaN</td>\n",
       "      <td>NaN</td>\n",
       "    </tr>\n",
       "    <tr>\n",
       "      <th>1</th>\n",
       "      <td>01A</td>\n",
       "      <td>AM</td>\n",
       "      <td>2018-10-18</td>\n",
       "      <td>Lots of pedestrians and vehicular traffic, foo...</td>\n",
       "      <td>NaN</td>\n",
       "      <td>True</td>\n",
       "      <td>NaN</td>\n",
       "      <td>NaN</td>\n",
       "      <td>NaN</td>\n",
       "      <td>NaN</td>\n",
       "      <td>NaN</td>\n",
       "      <td>NaN</td>\n",
       "    </tr>\n",
       "    <tr>\n",
       "      <th>2</th>\n",
       "      <td>01A</td>\n",
       "      <td>PM</td>\n",
       "      <td>2018-10-20</td>\n",
       "      <td>Three of the pedicab drivers (14 pedicabs line...</td>\n",
       "      <td>NaN</td>\n",
       "      <td>True</td>\n",
       "      <td>NaN</td>\n",
       "      <td>NaN</td>\n",
       "      <td>NaN</td>\n",
       "      <td>NaN</td>\n",
       "      <td>NaN</td>\n",
       "      <td>NaN</td>\n",
       "    </tr>\n",
       "    <tr>\n",
       "      <th>3</th>\n",
       "      <td>01A</td>\n",
       "      <td>AM</td>\n",
       "      <td>2018-10-07</td>\n",
       "      <td>Squirrels were in surrounding grass areas/tree...</td>\n",
       "      <td>True</td>\n",
       "      <td>True</td>\n",
       "      <td>NaN</td>\n",
       "      <td>True</td>\n",
       "      <td>NaN</td>\n",
       "      <td>NaN</td>\n",
       "      <td>NaN</td>\n",
       "      <td>Birds</td>\n",
       "    </tr>\n",
       "    <tr>\n",
       "      <th>4</th>\n",
       "      <td>01B</td>\n",
       "      <td>AM</td>\n",
       "      <td>2018-10-12</td>\n",
       "      <td>\"SQUIRREL APALOOZA\"\\n\\n6+7 were playing on tre...</td>\n",
       "      <td>True</td>\n",
       "      <td>NaN</td>\n",
       "      <td>NaN</td>\n",
       "      <td>NaN</td>\n",
       "      <td>NaN</td>\n",
       "      <td>NaN</td>\n",
       "      <td>NaN</td>\n",
       "      <td>NaN</td>\n",
       "    </tr>\n",
       "    <tr>\n",
       "      <th>...</th>\n",
       "      <td>...</td>\n",
       "      <td>...</td>\n",
       "      <td>...</td>\n",
       "      <td>...</td>\n",
       "      <td>...</td>\n",
       "      <td>...</td>\n",
       "      <td>...</td>\n",
       "      <td>...</td>\n",
       "      <td>...</td>\n",
       "      <td>...</td>\n",
       "      <td>...</td>\n",
       "      <td>...</td>\n",
       "    </tr>\n",
       "    <tr>\n",
       "      <th>804</th>\n",
       "      <td>42H</td>\n",
       "      <td>PM</td>\n",
       "      <td>2018-10-14</td>\n",
       "      <td>grey body, red head — exquisite. These two app...</td>\n",
       "      <td>True</td>\n",
       "      <td>NaN</td>\n",
       "      <td>NaN</td>\n",
       "      <td>NaN</td>\n",
       "      <td>NaN</td>\n",
       "      <td>NaN</td>\n",
       "      <td>NaN</td>\n",
       "      <td>NaN</td>\n",
       "    </tr>\n",
       "    <tr>\n",
       "      <th>805</th>\n",
       "      <td>42H</td>\n",
       "      <td>AM</td>\n",
       "      <td>2018-10-19</td>\n",
       "      <td>Very quiet for squirrel activity but glad I ma...</td>\n",
       "      <td>True</td>\n",
       "      <td>NaN</td>\n",
       "      <td>NaN</td>\n",
       "      <td>NaN</td>\n",
       "      <td>NaN</td>\n",
       "      <td>NaN</td>\n",
       "      <td>NaN</td>\n",
       "      <td>NaN</td>\n",
       "    </tr>\n",
       "    <tr>\n",
       "      <th>806</th>\n",
       "      <td>42H</td>\n",
       "      <td>AM</td>\n",
       "      <td>2018-10-14</td>\n",
       "      <td>Homeless couple under tree\\nBunch of mallards ...</td>\n",
       "      <td>NaN</td>\n",
       "      <td>True</td>\n",
       "      <td>NaN</td>\n",
       "      <td>NaN</td>\n",
       "      <td>True</td>\n",
       "      <td>NaN</td>\n",
       "      <td>NaN</td>\n",
       "      <td>NaN</td>\n",
       "    </tr>\n",
       "    <tr>\n",
       "      <th>807</th>\n",
       "      <td>42I</td>\n",
       "      <td>PM</td>\n",
       "      <td>2018-10-14</td>\n",
       "      <td>I saw squirrel #1 chase squirrel #2 away from ...</td>\n",
       "      <td>True</td>\n",
       "      <td>NaN</td>\n",
       "      <td>NaN</td>\n",
       "      <td>NaN</td>\n",
       "      <td>NaN</td>\n",
       "      <td>NaN</td>\n",
       "      <td>NaN</td>\n",
       "      <td>NaN</td>\n",
       "    </tr>\n",
       "    <tr>\n",
       "      <th>808</th>\n",
       "      <td>42I</td>\n",
       "      <td>AM</td>\n",
       "      <td>2018-10-19</td>\n",
       "      <td>A tiny apricot-colored dog bounded like a rabb...</td>\n",
       "      <td>NaN</td>\n",
       "      <td>True</td>\n",
       "      <td>True</td>\n",
       "      <td>NaN</td>\n",
       "      <td>NaN</td>\n",
       "      <td>NaN</td>\n",
       "      <td>NaN</td>\n",
       "      <td>NaN</td>\n",
       "    </tr>\n",
       "  </tbody>\n",
       "</table>\n",
       "<p>809 rows × 12 columns</p>\n",
       "</div>"
      ],
      "text/plain": [
       "    Hectare Shift       Date  \\\n",
       "0       01A    PM 2018-10-14   \n",
       "1       01A    AM 2018-10-18   \n",
       "2       01A    PM 2018-10-20   \n",
       "3       01A    AM 2018-10-07   \n",
       "4       01B    AM 2018-10-12   \n",
       "..      ...   ...        ...   \n",
       "804     42H    PM 2018-10-14   \n",
       "805     42H    AM 2018-10-19   \n",
       "806     42H    AM 2018-10-14   \n",
       "807     42I    PM 2018-10-14   \n",
       "808     42I    AM 2018-10-19   \n",
       "\n",
       "                          Note Squirrel & Park Stories  \\\n",
       "0    Observed a squirrel with a cache of peanuts th...   \n",
       "1    Lots of pedestrians and vehicular traffic, foo...   \n",
       "2    Three of the pedicab drivers (14 pedicabs line...   \n",
       "3    Squirrels were in surrounding grass areas/tree...   \n",
       "4    \"SQUIRREL APALOOZA\"\\n\\n6+7 were playing on tre...   \n",
       "..                                                 ...   \n",
       "804  grey body, red head — exquisite. These two app...   \n",
       "805  Very quiet for squirrel activity but glad I ma...   \n",
       "806  Homeless couple under tree\\nBunch of mallards ...   \n",
       "807  I saw squirrel #1 chase squirrel #2 away from ...   \n",
       "808  A tiny apricot-colored dog bounded like a rabb...   \n",
       "\n",
       "    Story Topic: Squirrel Experience or Squirrel Story  \\\n",
       "0                                                 True   \n",
       "1                                                  NaN   \n",
       "2                                                  NaN   \n",
       "3                                                 True   \n",
       "4                                                 True   \n",
       "..                                                 ...   \n",
       "804                                               True   \n",
       "805                                               True   \n",
       "806                                                NaN   \n",
       "807                                               True   \n",
       "808                                                NaN   \n",
       "\n",
       "    Story Topic: Park Experience or Census Taker Story Story Topic: Dogs  \\\n",
       "0                                                  NaN               NaN   \n",
       "1                                                 True               NaN   \n",
       "2                                                 True               NaN   \n",
       "3                                                 True               NaN   \n",
       "4                                                  NaN               NaN   \n",
       "..                                                 ...               ...   \n",
       "804                                                NaN               NaN   \n",
       "805                                                NaN               NaN   \n",
       "806                                               True               NaN   \n",
       "807                                                NaN               NaN   \n",
       "808                                               True              True   \n",
       "\n",
       "    Story Topic: Other Animals Story Topic: Accidental Poems  \\\n",
       "0                          NaN                           NaN   \n",
       "1                          NaN                           NaN   \n",
       "2                          NaN                           NaN   \n",
       "3                         True                           NaN   \n",
       "4                          NaN                           NaN   \n",
       "..                         ...                           ...   \n",
       "804                        NaN                           NaN   \n",
       "805                        NaN                           NaN   \n",
       "806                        NaN                          True   \n",
       "807                        NaN                           NaN   \n",
       "808                        NaN                           NaN   \n",
       "\n",
       "    Story Topic: Squirrels Acting Odd Story Topic: Census Takers Recognized  \\\n",
       "0                                 NaN                                   NaN   \n",
       "1                                 NaN                                   NaN   \n",
       "2                                 NaN                                   NaN   \n",
       "3                                 NaN                                   NaN   \n",
       "4                                 NaN                                   NaN   \n",
       "..                                ...                                   ...   \n",
       "804                               NaN                                   NaN   \n",
       "805                               NaN                                   NaN   \n",
       "806                               NaN                                   NaN   \n",
       "807                               NaN                                   NaN   \n",
       "808                               NaN                                   NaN   \n",
       "\n",
       "    Story Topic: Other  \n",
       "0                  NaN  \n",
       "1                  NaN  \n",
       "2                  NaN  \n",
       "3                Birds  \n",
       "4                  NaN  \n",
       "..                 ...  \n",
       "804                NaN  \n",
       "805                NaN  \n",
       "806                NaN  \n",
       "807                NaN  \n",
       "808                NaN  \n",
       "\n",
       "[809 rows x 12 columns]"
      ]
     },
     "execution_count": 51,
     "metadata": {},
     "output_type": "execute_result"
    }
   ],
   "source": [
    "squirrel_stories"
   ]
  },
  {
   "cell_type": "code",
   "execution_count": 50,
   "id": "e7144f2c",
   "metadata": {},
   "outputs": [],
   "source": [
    "# Create Date column that's in the official datetime format\n",
    "squirrel_stories['Date'] =  pd.to_datetime(squirrel_stories['Date'], format='%m%d%Y')"
   ]
  },
  {
   "cell_type": "code",
   "execution_count": 16,
   "id": "9d7ad5d2",
   "metadata": {
    "scrolled": true
   },
   "outputs": [
    {
     "data": {
      "text/plain": [
       "52     Hectare was peacefully bustling.\\nIt was a pea...\n",
       "72     One inch worm found its way onto \\nthis counte...\n",
       "96     - Guy rock-climbing \\n- Family playing chess\\n...\n",
       "101    Area is loud and busy. Traffic, both people an...\n",
       "113    1 People taking pictures of engraved paving st...\n",
       "                             ...                        \n",
       "773    Under the 110th Street Bridge, a man and his t...\n",
       "786    Two bulldogs trundled up to a small gaggle \\nA...\n",
       "788    Some kid is feeding geese but also terrified o...\n",
       "793    chipmunks, sm. rat, goldfinch\\nsparrows, starl...\n",
       "806    Homeless couple under tree\\nBunch of mallards ...\n",
       "Name: Note Squirrel & Park Stories, Length: 64, dtype: object"
      ]
     },
     "execution_count": 16,
     "metadata": {},
     "output_type": "execute_result"
    }
   ],
   "source": [
    "squirrel_stories[squirrel_stories['Story Topic: Accidental Poems']==True]['Note Squirrel & Park Stories']"
   ]
  },
  {
   "cell_type": "code",
   "execution_count": 49,
   "id": "2c85c8a9",
   "metadata": {},
   "outputs": [
    {
     "name": "stdout",
     "output_type": "stream",
     "text": [
      "Hectare was peacefully bustling.\n",
      "It was a peaceful bustle. \n",
      "A monk came to bless the squirrels.\n",
      "~~~\n",
      "One inch worm found its way onto \n",
      "this counter's shoulder. The waning\n",
      "sun left the air cool and calm.\n",
      "~~~\n",
      "- Guy rock-climbing \n",
      "- Family playing chess\n",
      "- Guy on electric unicycle \n",
      "- Teens selling Oreo packs\n",
      "- Family picnicking\n",
      "- Kid learning to roller ['skate,' crossed out] blade \n",
      "- Kids running in field \n",
      "- Scary doberman on leash \n",
      "- Fake monks \"selling\" bracel\n",
      "~~~\n",
      "Area is loud and busy. Traffic, both people and motor traffic. Construction, people having dinner, horse-drawn carts, bicycle cabs. Sirens. Very noisy. Joggers.\n",
      "\n",
      "Dad playing catch with his kids, with a football. Sweet.\n",
      "~~~\n",
      "1 People taking pictures of engraved paving stones near Will Shakespeare \n",
      "\n",
      "2 Woman teaching children to bike \n",
      "\n",
      "3 Man doing push-ups near William Shakespeare\n",
      "~~~\n",
      "To the north of the hectare is someone playing disco music for some rollerskaters + rollerbladers who seem to be having an afternoon dance party\n",
      "\n",
      "For squirrels 1 + 3 a mom w/ a young toddler was trying to lure the squirrels closer by tossing snacks at them\n",
      "\n",
      "Squirrels 5,6,7 were foraging + seemed to be playing together -- I was a little too far to hear if there were sounds\n",
      "\n",
      "OVER --> \n",
      "\n",
      "As I'm leaving the hectare, \n",
      "Freedom by Aretha Franklin \n",
      "is playing - The drizzle \n",
      "has gotten stronger during \n",
      "the past 20 mis but \n",
      "the skate dance party is not\n",
      "letting up\n",
      "~~~\n",
      "couple sitting on bench \n",
      "family with baby carriage \n",
      "Tourist walking around \n",
      "strawberry field with Guide \n",
      "car near (?) car traffic near \n",
      "road \n",
      "Dog walking \n",
      "Red Robbins hopping around\n",
      "~~~\n",
      "Lots of acorns on the ground\n",
      "Lots of people walking by (?)\n",
      "[unintelligible word] walk/run\n",
      "A lot of loud music\n",
      "~~~\n",
      "a rat, holding an apple core in its mouth, \n",
      "hopping leisurely off Race Drive and into \n",
      "the undergrowth \n",
      "\n",
      "a robin (looks upset) \n",
      "two finches \n",
      "two finches (same finches?\n",
      "abandoned tennis balls\n",
      "~~~\n",
      "A man was selling ponchos at the Bethesda \n",
      "Fountain & singing, \"Did you save your money for\n",
      "a rainy day? That's what my grandmother used\n",
      "to say.\"\n",
      "~~~\n",
      "Necktie draped over park bench. Someone ditched their day job.\n",
      "~~~\n",
      "A squirrel stood on a rock and he ate some grass\n",
      "~~~\n",
      "extremely enthusiastic scavenge hunting afoot \n",
      "very good german shepherd swimming/romping in rivulet\n",
      "~~~\n",
      "(1) Cloudy left eye \n",
      "most were foraging and eating \n",
      "(16) climbed on structure\n",
      "~~~\n",
      "crying children\n",
      "dogs that look like old men\n",
      "golf cart?\n",
      "\n",
      "Comicon (?) attendees appearing to pose w/ a taxidermied fox (?) -- some sort of ritual / photoshoot\n",
      "~~~\n",
      "Mostly men walking by themselves. \n",
      "A pair of women pushing a stroller were \n",
      "stopped by a bench. One woman was \n",
      "on the phone. She was confirming that \n",
      "they would go get the 6 train.\n",
      "~~~\n",
      "woman enjoying food on rock \n",
      "quiet foot traffic \n",
      "beautiful London plane trees!\n",
      "~~~\n",
      "less dogs joggers & cyclists \n",
      "pretty quiet \n",
      "someone reading \n",
      "(3) chasing (4)\n",
      "~~~\n",
      "Dead Bird\n",
      "dogs on leash \n",
      "children playing\n",
      "~~~\n",
      "No squirrels! Hundreds of Birds \n",
      "No dogs in the ramble, few dogs in Shakespeare Garden.\n",
      "~~~\n",
      "Walking when the sun started \n",
      "to come through the trees, so\n",
      "I looked to my right to see \n",
      "two big grassy hills, and \n",
      "the sun shining rays through\n",
      "them, highlighting the leaves\n",
      "+ pollen falling through the\n",
      "air, as if it was raining\n",
      "in slow motion. A father was\n",
      "pushing his daughter down\n",
      "the hill on her bike.\n",
      "~~~\n",
      "(birthday party)\n",
      "\n",
      "Lots of children playing in\n",
      "soccer grassy areas and all \n",
      "other sidewalks \n",
      "outside playground - screaming\n",
      "running \n",
      "\n",
      "entire area - very busy\n",
      "with Humans of all types - \n",
      "+ dogs\n",
      "~~~\n",
      "Sad man playing \n",
      "\n",
      "Dog in one squirrel area \n",
      "\n",
      "Cat on a leash\n",
      "~~~\n",
      "kids playing ball -- screaming \n",
      "wondering among the trees \n",
      "lots of people on sidewalk\n",
      "~~~\n",
      "Found an abandoned tennis ball close to the Met. There's a sad doggo out there somewhere.\n",
      "~~~\n",
      "- dead bird by MET :(\n",
      "- many sirens driving by main road (2 ambulances. 1 firetruck.)\n",
      "grey squirrel by Alexander Hamilton\n",
      "~~~\n",
      "An abandoned toy truck, Iron Man ball - sparkly headband \n",
      "at the playground - and one kid playing alone on a cold morning !\n",
      "~~~\n",
      "It was a chilly, wet morning, the kind that makes humans and squirrels alike want to stay in bed. Saw around six humans stroll through my space, nearly all with dogs. The playground was locked closed and empty. But just south, beyond th--\n",
      "~~~\n",
      "* Dog intently watching squirrel #1 \n",
      "* Area very calm \n",
      "* Squirrel #2 very acrobatic \n",
      "* Lots of nerf bullets\n",
      "~~~\n",
      "Somehow no squirrels! \n",
      "Seems like they should be here. But--\n",
      "\n",
      "- The wind kicked up\n",
      "- Caravan of police cares w/ flashing lights drove by \n",
      "- Caravan of screaming school kids also went by\n",
      "~~~\n",
      "There is a puddle in the area--\n",
      "Heard the hawk's noise.\n",
      "people are jogging and running all the time.\n",
      "~~~\n",
      "#NAME?\n",
      "~~~\n",
      "Cancer walk in pink, supporters cheering with hope, where are the squirrels?\n",
      "\n",
      "#1 rolled in a patch of loose dirt, they found #2 and they chased a lot [or 'about' .. hard to tell]\n",
      "\n",
      "entrance to secret lair [marked on map]\n",
      "~~~\n",
      "A good amount of noise - traffic \n",
      "+ horns, dogs scrabbling, kids screaming \n",
      "in the park\n",
      "~~~\n",
      "Well I Finally saw a [\"my\" crossed out and replaced with \"a\"] Black Squirrel \n",
      "on my Second Day. \n",
      "Talked to a Very opinionated Lady \n",
      "with a type of Hunting Dog who \n",
      "Told me a story about 3 Baby squirrels \n",
      "were thrown off a tree by a male \n",
      "squirrel. \n",
      "Then I heard Nut Hatchers. \n",
      "Then I think I heard Squirrel Squacks. \n",
      "Almost I Got run over by a Bicyclist \n",
      "on a path.\n",
      "~~~\n",
      "Playground closed.\n",
      "Surrounded by gate.\n",
      "No squirrels.\n",
      "\n",
      "Took about 10 minutes to get out\n",
      "of park to count section \n",
      "on 5th Ave. — none.\n",
      "~~~\n",
      "MANY DOGS \n",
      "TENNIS\n",
      "~~~\n",
      "Lots of runners & dog walkers \n",
      "Hear wind blowing through the tree as the sun peeks out of the sky. There are tennis players. Bike riders. Red Breast Robins hopping around. There is a water fountain where runners stop to drink water. That is something I have not seen in a very long time (a working-park water fountain) Hear ambulance in the background. Leaves are starting to change color.\n",
      "~~~\n",
      "They appeared in bunches. There were none, and then, suddenly, they came down from their trees.\n",
      "~~~\n",
      "A group of bike riders. There is a man exercising, connecting with nature. \n",
      "Hear a helicopter over my head. Tennis court are here and full of player. \n",
      "Hear bird call of a Blue Jay. Lot of people strolling through the park walking their dogs or conversing\n",
      "Hot Dog vendor near by.\n",
      "~~~\n",
      "Saw a chipmunk in\n",
      "the brush alongside\n",
      "the transverse highway\n",
      "~~~\n",
      "The bushes by the wall \n",
      "of the transverse are \n",
      "full of tiny birds. \n",
      "The foliage shakes\n",
      "with their movement \n",
      "and their chatter\n",
      "and chirp fills the air.\n",
      "~~~\n",
      "Tree trunk w/ human-like face\n",
      "Woman foraging Ginkgo nuts \n",
      "Free roaming dogs gone at 9 am\n",
      "Chipmunk\n",
      "~~~\n",
      "playground closed (under construction) \n",
      "children playing in surrounding area \n",
      "kids chasing squirrels\n",
      "~~~\n",
      "Lots of people (some with dogs)\n",
      "crying children \n",
      "baseball game\n",
      "~~~\n",
      "Many dogs.\n",
      "Tree trimmers, loud!\n",
      "No squirrels :(\n",
      "~~~\n",
      "A one legged man on a hand powered tricycle wheels by slowly enough to see me spying on a squirrel.\n",
      "~~~\n",
      "Kids listening to music / smoking pot \n",
      "man at pool doing Tai-Chi\n",
      "Two rats \n",
      "\n",
      "Such a nice day lots & lots of\n",
      "people & dogs in the park\n",
      "~~~\n",
      "That oval was completely unexpected. \n",
      "\n",
      "Few to no most trees, basswood, maple, pine, cherry \n",
      "\n",
      "Maybe squirrels aren't here b/c they're freaked out by unexpected ovals\n",
      "~~~\n",
      "Squirrel trying its hardest to pull the acorns off the tip of the branch without falling was a comical sight. Makes you wander what is so good about that acorn that makes it better than all the easier grabs around it.\n",
      "~~~\n",
      "uneventful; had a group of picnic-ers. \n",
      "\n",
      "very quiet. \n",
      "\n",
      "a couple dogs on walks.\n",
      "~~~\n",
      "2 - buried nuts in branch and debris pile at dumping ground \n",
      "\n",
      "saw bird kill butterfly \n",
      "\n",
      "wait, squirrel might have [unknown words]\n",
      "\n",
      "tar pits\n",
      "~~~\n",
      "Sassafras tree\n",
      "Dead apple tree\n",
      "Breast Cancer March along\n",
      "perimeter — no squirrel\n",
      "~~~\n",
      "quiet woods. skittish squirrels\n",
      "paper bag in tree\n",
      "~~~\n",
      "two kids' parties were going on during \n",
      "this sighting session. I like to think \n",
      "they're celebrating the squirrels of Central Park\n",
      "lawn games were being played on the \n",
      "grass, which may have interfered with\n",
      "squirrel activity \n",
      "\n",
      "a purple helium balloon flew away\n",
      "maybe a squirrel will be able to hitch a ride \n",
      "\n",
      "[beautiful drawing of this ^]\n",
      "~~~\n",
      "A beleaguered parks employee was seen [unknown word] out new graven on a running path - disrupted [unknown word] by a tour group, then by runners, then by a parks dept vehicle, etc. etc. A Sisyphean task. \n",
      "\n",
      "Lots of geese dunking their heads under water in the Meer, but no squirrels. :0\n",
      "~~~\n",
      "Guy blasting music w/ a speaker \n",
      "2 squirrels running together \n",
      "Food cart\n",
      "Lots of dogs\n",
      "~~~\n",
      "LOTS OF CHIPMUNKS \n",
      "SO MUCH TRASH\n",
      "WIDE VARIETY OF BEERS\n",
      "~~~\n",
      "Dozens of children in playground \n",
      "geese heard: saw 3 geese \n",
      "very loud.\n",
      "lots of hawks in sky. \n",
      "girl feeding pigeons. \n",
      "\n",
      "(1) eating berries in a tree\n",
      "guy playing drum w/ dancer.\n",
      "~~~\n",
      "Under the 110th Street Bridge, a man and his trainer listen to smooth jazz while he lifts weights. His grunting could be scaring the squirrels. \n",
      "\n",
      "Do squirrels like the rain? \n",
      "     Birds don't seem to mind it.\n",
      "     Neither do chipmunks.\n",
      "\n",
      "Of course, I saw five adult squirrels on my way to 40-D.\n",
      "~~~\n",
      "Two bulldogs trundled up to a small gaggle \n",
      "A goose hissed. A different goose honked. \n",
      "they stood their ground. the bulldogs retreated. \n",
      "Alas, there were no squirrels in sight.\n",
      "~~~\n",
      "Some kid is feeding geese but also terrified of geese, it would \n",
      "seem \n",
      "\n",
      "Woman to man: \"If someone could turn down the wind, \n",
      "that would be great.\"\n",
      "\n",
      "Man talking to woman w/ cane: Something \"smells like a dead body.\"\n",
      "\n",
      "Kids screaming on playground \n",
      "\n",
      "Apple on the ground\n",
      "~~~\n",
      "chipmunks, sm. rat, goldfinch\n",
      "sparrows, starlings, dove, robin, jay\n",
      "- central park north had lots of homeless + garbage \n",
      "- chipmunk + sm. rat chasing each other \n",
      "- two squirrels chasing each other (one had nut, the other ended up stealing the nut)\n",
      "~~~\n",
      "Homeless couple under tree\n",
      "Bunch of mallards (Meer bank)\n",
      "Heard a goose — didn't see it\n",
      "Small bird with stripes\n",
      "(like a hummingbird)\n",
      "Man fishing in the Meer\n",
      "Chipmunk crossing East Drive\n",
      "~~~\n"
     ]
    }
   ],
   "source": [
    "for i in squirrel_stories[squirrel_stories['Story Topic: Accidental Poems']==True]['Note Squirrel & Park Stories']:\n",
    "    print(i)\n",
    "    print('~~~')"
   ]
  },
  {
   "cell_type": "code",
   "execution_count": 18,
   "id": "dd1a67f0",
   "metadata": {
    "scrolled": true
   },
   "outputs": [
    {
     "name": "stdout",
     "output_type": "stream",
     "text": [
      "Observed a squirrel with a cache of peanuts that he was eating. Strangely, none of the other squirrels were eating those peanuts.\n",
      "~~~\n",
      "Squirrels were in surrounding grass areas/trees. Almost none on concrete/sidewalk/road area. There is a large pigeon population on the Maine Monument, so this may be deterring squirrels from leaving grassy area.\n",
      "~~~\n",
      "\"SQUIRREL APALOOZA\"\n",
      "\n",
      "6+7 were playing on tree trunk \n",
      "\n",
      "Nests spotted: 111     [?]\n",
      "\n",
      "Squirrel #11: There was a bag of nuts or trail mix under a tree - pigeons were eating at it - squirrel would come up + fight pigeons off, get a nut + go eat it a bit away. Pigeons come back, squirrel finishes nut, then goes back to bag + fights them off again - repeat\n",
      "~~~\n",
      "Counted 10 squirrels of different varieties. Mostly brown cinnamon with gray tails. What are the chances for running into two Norwegian tourists who love squirrels. They would have volunteered except they leave for Norway tomorrow. Weather is cool and cloudy.\n",
      "~~~\n",
      "The squirrels around here were running very fast through the grass. They even chased some. I felt as if the squirrels were more aggressive in this part than in the other part. [this person writes squirrels like ‘squares’]\n",
      "~~~\n",
      "Squirrels #1 and #4 interacted.\n",
      "\n",
      "Squirrels #8 and #9 very red.\n",
      "\n",
      "Bird poop ----->\n",
      "~~~\n",
      "Couple taking wedding photos near gazebo. Squirrel 7 I found because a family was staring at it. It was in a tree and just laying down. It then came down, approached me, went back up in the tree, then approached two little girls who were looking.\n",
      "~~~\n",
      "Squirrel #2 climbed a tree and looked at me like I was an idiot. I tapped my button as instructed and it seemed satisfied that I was on official business.\n",
      "\n",
      "Two separate creepy dudes stared at me. I did not tap my button; I just skedaddled out of there,\n",
      "~~~\n",
      "This area was slightly busy, however it was a great vibe. There were a good amount of squirrels running around and they were actually being friendly. I chased a few up a tree. I felt very alive and happy the whole time.\n",
      "~~~\n",
      "(1) eating on lawn\n",
      "(2) eating on lawn\n",
      "(3/4) were eating - then 3 chased 4 up a tree \n",
      "(5) 3/4/5 neat dumpsters\n",
      "~~~\n",
      "Squirrel #3 was a baby in a nest in a tree.\n",
      "~~~\n",
      "Squirrels #1 and #3 chased each other around the tree, then grew tired of that went back to foraging. Lots of digging and camping! Squirrel #3 found an acorn. Squirrel #4 had a mouth full of leaves (for a nest?) and was chased by Squirrel #3 for a short time. Then Squirrels #1 and #3 began chasing each other again. Two people took pictures/video.\n",
      "~~~\n",
      "We saw several squirrels all at the same time but we managed to document four.\n",
      "~~~\n",
      "Nest in large tree near kiosk with Squirrels #3 and #4.\n",
      "~~~\n",
      "- Lots of activity around\n",
      "- Rough sleeper in park area sleeping\n",
      "- Sprinklers on nearby (3-C)\n",
      "- Generally, all squirrels eating/foraging peacefully/calmly.\n",
      "\n",
      "Nests noted here.\n",
      "~~~\n",
      "Squirrel #2 chased #1 off linden tree. \n",
      "Squirrels #3, #4, and #5 found in tree canopy, assumed adult gray, assumed 100 feet above ground. \n",
      "Squirrels #3 and #5 on pin oak tree, #4 on maybe a dawn redwood tree. \n",
      "Squirrel #6 may be #4? Climbed up dawn redwood and ate.\n",
      "~~~\n",
      "I watched an amazing game of chicken between a woman and a squirrel on a path -- the squirrel was busy eating what appeared to be an acorn and could have cared less that people were attempting to walk around it. The squirrel maintained its position mid path and the woman was forced to shimmy up against the temporary fence to get around. A true New Yorker, that squirrel.\n",
      "~~~\n",
      "There's a wedding happening at the Cop Cot Gazeebo.\n",
      "Birds were super vocal by #2 \n",
      "Tons of blackbirds\n",
      "Birds were causing berries? Pits? to fall from the tree by #4. #4 scampered around eating what they dropped. \n",
      "A man passed 5 and said in what I dearly hope was a mock Appalachian accent \"Aw look ders a squirrel eating his nuts!\" \n",
      "Squirrels roamed just south of my hectare\n",
      "#5 found an uncracked peanut and ran w/ it sticking out of its mouth\n",
      "#5 reappeared at the little tree / rock island, peanut still in mouth \n",
      "Met some very bemused people at the end. Walked behind a couple's  fancy photos while writing that last sentence, so squirrel census has now been professionally documented.\n",
      "~~~\n",
      "Many DOGS \n",
      "Sanctuary locked! \n",
      "(opens at 10am)\n",
      "Mouse sighting!\n",
      "Reema from Bangladesh helped me find #3-4\n",
      "~~~\n",
      "Area was very dense with trees. Only saw 3 squirrels but much of area was not accessible. Suspect more squirrels in the hectare, out of sight. Visible squirrels were busy foraging for nuts and indifferent to human activity nearby. Possible other squirrels high in the trees, taking notes for 2018 Central Park Human Census.\n",
      "~~~\n",
      "Area marked for Squirrels #1, #2, and #3 is not open for humans and should be a good number of squirrels on the ground.\n",
      "~~~\n",
      "Three squirrels spotted running. Squirrels #2 chased #1 across grass and up Sophora tree.\n",
      "~~~\n",
      "Squirrels in this hectare were some of the friendliest I’ve come across, approaching people + taking food from hands.\n",
      "~~~\n",
      "A squirrel was chilling and foraging on the ground when it got into a confrontation with another squirrel. There were kuks exchanged but then they both ran away.\n",
      "~~~\n",
      "- #2/#3 Juveniles playing / chasing each other running up tree \n",
      "- Dogs still running around off leashes after 9 am \n",
      "- #9: Dogs around + running from \n",
      "\n",
      "- #10 - relaxed eating\n",
      "~~~\n",
      "Squirrel #1 spotted on walkway, climbed over wire fence and circled maple tree.\n",
      "~~~\n",
      "Squirrel #9 being chased by small child while another child yells + screams to go on the carousel again. Squirrel #12 fights w/ others. Drumset playing just outside hectare. People on rock by playground smoking weed. #14 sitting on branch in tree crying.\n",
      "~~~\n",
      "Squirrel #1 spotted (next to the playground) approached fence of the playground, cross slightly the fence, but did not go into the playground. \n",
      "\n",
      "Squirrel #1 ran away from small motor vehicle that left a WC structure \n",
      "and black dog that approached it (led by dog's owner).\n",
      "\n",
      "Squirrel #3 slightly approached (from a distance) and stared at a boy with his father.\n",
      "\n",
      "Squirrels #3 and #5 seem to have shorter and less puffy tails than the rest (about half the size).\n",
      "\n",
      "Squirrels described as “wary of humans“ would move about so as to avoid coming close to humans in playground.\n",
      "~~~\n",
      "Squirrel #7 sat there allowing pics. Five people near him.\n",
      "~~~\n",
      "Parade happening on 5th Avenue\n",
      "So many wedding/engagement photos\n",
      "The black squirrel attracted a ton of attention.\n",
      "~~~\n",
      "Squirrel #1 running across sidewalk with nut in mouth.\n",
      "\n",
      "Squirrel #2 running up/along tree branch.\n",
      "\n",
      "Squirrel #3 top of tree highway.\n",
      "\n",
      "Squirrel #4 foraging on the ground.\n",
      "\n",
      "Several delivery trucks for zoo – no obvious nests – squirrels must be using tree holes.\n",
      "~~~\n",
      "It was mostly the same five squirrels foraging and eating in the grass. They didn’t pay any attention to people walking nor dogs nor the birds also looking for food in this area. They were more in the open grass by a single tree then in the bushes.\n",
      "~~~\n",
      "The squirrels seem to be relaxed and hanging out by the rocks/boulders, where it was calmer. Mostly the hectare was pretty busy, lots of people on bikes, walking dogs, etc.\n",
      "~~~\n",
      "Squirrels #1 through #4 being fed by tourists.\n",
      "~~~\n",
      "There was a pretty obvious turf war happening in a tree. I heard it before I saw it. A scurry of claws on bark, a rustle of leaves and a shower of falling acorns. Squirrel (5) was obviously perturbed that squirrel (6) had found itself in his tree, and ran him right out of town. There was a brief exchange of \"words\" from tree to ground in what I can only imagine was language not meant for juvenile ears.\n",
      "~~~\n",
      "Once I got into the area I didn't notice any squirrels, so I climbed the Umpire Rock hoping to see around. Then I first noticed Squirrels #1 and #2. Jumping over each other. Very calm. No humans around. I would even say they were playing with each other. Then, immediately I see Squirrel #3 passing by and climbing a tree. I didn't see this squirrel anymore. I walk around, then notice that for the entire time a dog has been observing squirrels #1 and #2 from the distance, sitting, not moving. Like a statue for the entire time. After 20 minutes or so, I hear the dog's owners calling him but the dog won't move. His name is Harper. I walk around, don't notice more squirrels but then decide to come closer to squirrels #1 and #2. It's no longer two but three squirrels I see so I register Squirrel #4, then start watching the trees. I see Squirrel #5, who joins the rest of the \"family.\" Squirrels #1, #2, #4, and #5 keep climbing up and down the tree next to the baseball fields for the rest of my time there. Around five to seven humans stop by and take photos of the gang. The squirrels are indifferent through all of this. Before my time ends, I walk around once more but notice no new squirrels. I took a photo of Harper the dog watching squirrels. I'll send it to you.\n",
      "~~~\n",
      "- Squirrels #1 and #2 intxn\n",
      "* Someone drumming on top of Umpire Rock\n",
      "- Squirrels #11 through #15 maybe a family?\n",
      "~~~\n",
      "Nests spotted: ||||\n",
      "Squirrel #1 was burying some nuts then 2 dogs chased him + he ran up a tree \n",
      "\n",
      "Squirrels 3+4 were playing together \n",
      "\n",
      "While all seemed indifferent to humans, squirrel 1 ran from dogs + squirrel 2 was hanging out on tree trunk watching dogs off leash (who didn't notice him)\n",
      "~~~\n",
      "Squirrels #1 and #2 were playing up and down tree.\n",
      "~~~\n",
      "There was a tour that stopped (marked (T) on map). A (guide) person was talking to the group with a microphone. Guy walking by w/ a clanging, empty cart. At one point, a dog w/o a leash chased after squirrel #3 but it ran away up into a tree. A total of 3 dogs went after the squirrel unsuccessfully. There are at least 5 oaks in this area so acorns are in abundance.\n",
      "~~~\n",
      "Too many humans lounging on the lawn, lots of kids. Music in the background. Squirrels staying above ground.\n",
      "~~~\n",
      "As I sit writing this recap, a woman who was participating in the race is trying to balance a mobile phone on a rock to take a selfie -- a grey squirrel jumped up right next to her phone -- no Fear.  It wanted food. The woman annoyedly shooed it away. \n",
      "My hectare was mostly inaccessible, being comprised of a lot of the zoo which was \"authorized access only\" or not yet open. I was able to observe four squirrels in the densely wooded perimeter, having initially despaired of seeing any. 3 grays, 1 black. I also saw two squirrels just outside my area, in 4-I, I believe. The squirrels --> \n",
      "--> I observed were focused on their tasks, primarily foraging. \n",
      "I live in Stuyvesant Town, an area of Manhattan with an incredibly dense squirrel population. The squirrels in Stuy Townn are bold and fearless -- they want a nut and they want it now. They've become accustomed to being fed nuts by Stuy Town residents, primarily the elderly residents. Drop a nut, especially a premium one, such as a full walnut in its shell, and they will arrive en mass. The squirrels I saw today in Central Park, while they did not approach me, would not have needed much coaxing. You can \"turn\" a squirrel pretty quickly in this town. \n",
      "But enough about me...today was a fine day for a squirrel census and I very much appreciated this opportunity -- it was a very peaceful experience. Counting squirrels makes your troubles disappear into nature. \n",
      "Thanks! [drawing of squirrel]\n",
      "~~~\n",
      "A family of tourists was very interested in Squirrel #1. Squirrel #1 was outside a hectare. Most of 4-H is the zoo, so no squirrels sighted.\n",
      "~~~\n",
      "Squirrel #1 foraging — ran across path, climbed shrub five feet, ran down and hid under bush. Squirrel #2 chasing Squirrel #3.\n",
      "~~~\n",
      "Squirrel #3 was up at the highest branches, ripping off smaller twigs and returning them to its nest 30 feet up tree. Video taken. Always takes the same path to nest. Sometimes drops twig/leaf. Continued for 10+ minutes. I left area, still building.\n",
      "\n",
      "Area included busy Fifth Avenue — dogs and cars and path on western side had many people walking through.\n",
      "\n",
      "Squirrel #2 digging in ground, eating, very bushy tail, cross walking path without hesitation or addressing humans stopping to watch it, take pics up close. Most focused on digging, running back-and-forth across path. Video taken.\n",
      "~~~\n",
      "After seeing only one squirrel in 10 minutes, I was suddenly hit on the head with nuts.\n",
      "~~~\n",
      "Squirrel #1 – Heckscher Fields/nut stand. \n",
      "\n",
      "Squirrel #2 — in baseball field.\n",
      "\n",
      "Two women approached the squirrel and took photos of it. S/he was not afraid, although it did run partially up a tree after but soon returned to the ground.\n",
      "\n",
      "About 100 yards away, the other squirrel almost looked like a rabbit from afar. Both squirrels were busy foraging. It was a pretty busy area full of pedestrians. Surprisingly litter free.\n",
      "~~~\n",
      "- I said hi to squirrel #1 and she came to me! She climbed the fence and stared, probably waiting for me to give her food. - Squirrel #2 was running and climbing like crazy in a tree trying to get as much seeds as she could. She even hung from her hind pa\n",
      "~~~\n",
      "Squirrel #10 fed by passersby.\n",
      "~~~\n",
      "A human father and daughter sitting at one of the checker tables watching and photographing with a phone a squirrel on the adjacent table flocked by small birds, all eating from a pile of crumbled crackers. A second squirrel up ahead in the trellis went running along its way. A third squirrel approached the first squirrel (and the food), but backed away from the first larger squirrel — there was no confrontation and all was soundless, including the human father and daughter.\n",
      "~~~\n",
      "Squirrel #1 running along fence, then stopped to eat on fence. \n",
      "\n",
      "Squirrel #2 came down tree. \n",
      "\n",
      "Squirrel #3 on the ground. \n",
      "\n",
      "Squirrel #4 on rock outcropping. \n",
      "\n",
      "Squirrel #5 running up and down two trees. \n",
      "\n",
      "Squirrel #6 sitting on branch eating, very still.\n",
      "~~~\n",
      "Can hear but not see seals barking on the Zoo side. This area is pretty quiet otherwise, because the Zoo is closed for the day. \n",
      "\n",
      "East side of hectare is all street traffic. \n",
      "\n",
      "Squirrel #1 seemed threatened by my presence and stared me down for the whole time I was recording it. \n",
      "\n",
      "In the space between the Arsenal 5th Avenue/64th Street is a tall tree with a plastic bag stuffed in a hole in the tree about 20 feet up — put there by animal?\n",
      "~~~\n",
      "In each case the squirrels seemed less interested in humans than expected for Central Park squirrels, who are no beggars for human food. While voraciously foraging through the grass, barely a glance to see if I had a bite to offer. Also, I believe they know when dogs are leashed. Little fear of the leashed dog. An oddly silent bunch, given (or because of, perhaps) the constant symphony of the city.\n",
      "~~~\n",
      "Squirrel # did such a wonderful job of safely crossing West Drive -- which is teeming with runners, walkers and bikers at this time. Mr #1 Squirrel seemed very comfortable in his skin (yes -- great anthropomorphising -- sorry) and with his surroundings.\n",
      "~~~\n",
      "Squirrel #2 very interested in me. Took acorn I threw.\n",
      "\n",
      "Squirrels #4, #5, #6, #7 were playing together around tree base.\n",
      "~~~\n",
      "A lot of people stopped to take pictures of the squirrels and they were completely unfazed. One actually came closer to me and then stood up o its hind legs.\n",
      "\n",
      "It felt like there were way more squirrels out and about than in the morning. I saw a giant trash bag pile and hoped to see some squirrels there but no such luck. Their standards are much higher. So classy.\n",
      "~~~\n",
      "I approached Squirrel #1 to make his acquaintance. He noticed my intrusion but did not show signs of distress, nor did he phone the neighborhood watch. Parking myself an acorn's drop from his white belly, I stared up at his perch. We held a respectful gaze for about two hours*, he taking in my lowly figure and I paying reverence to his xylem throne. He then motioned to the Labradoodles to the west. I’m nodded. It was time for our revels to end. His agent has since contacted my team to authorize release of the footage.\n",
      "\n",
      "*45 seconds\n",
      "~~~\n",
      "Squirrels #1, #2, #3 are family, I think! Squirrels #2 and #3 were popping their heads out of a hole in the tree. Squirrel #1 was on top of the hole. It kept staring at me and eventually climb down in approach me, thinking I probably had food.\n",
      "\n",
      "Father was teaching his daughter how to ride a bike.\n",
      "\n",
      "A dog walker passed by with four dogs not on leashes.\n",
      "~~~\n",
      "There are people wrapped in wrapping paper north of Squirrel #3.\n",
      "Squirrel #5 was possibly #1, #2, or #3 again. Ran fast and disappeared.\n",
      "Accidentally discovered someone peeing in the woods. Their friend, in a loudly colored cloak, was trying to hide there with the cloak, but it really only drew attention.\n",
      "Squirrels #6 and #7 also may be repeats. They briefly met in tree, didn't fight, one just went back down and ran off.\n",
      "~~~\n",
      "Saw a punk rocker getting pic taken in front of Columbus on Columbus Day. He X'd his arms over his head. \n",
      "\n",
      "Squirrels #1 and #2 look like they are playing tag. \n",
      "\n",
      "A horse whinnied!\n",
      "\n",
      "Good hideaway here.\n",
      "~~~\n",
      "The squirrel was scared because there was a marathon and many dogs. But it was very friendly.\n",
      "~~~\n",
      "Saw a rat or mouse @ 66th & 5th\n",
      "(1) came down tree, foraging for food on rocks, looks very healthy \n",
      "Scared by a breeze! Went up tree partway\n",
      "~~~\n",
      "- Police cars, taxis parked in driveway. Many dogs on leashes. \n",
      "\n",
      "- On playground — a few children playing.\n",
      "\n",
      "- Three big squirrel nests in trees near playground.\n",
      "\n",
      "- A two-year-old child (human) fell off the slide on the playground and cried ... then laug\n",
      "~~~\n",
      "Wow! Squirrel City! Tavern on the Green a great spot.\n",
      "\n",
      "Many near Adventure Playground.\n",
      "~~~\n",
      "Sheep Meadow is closed this morning. But as a result, the field is so calm, pristine, and natural. The few squirrels that I did see seemed to know they had the space to themselves. They nibbled, they hopped, they nibbled, they dug, they hopped...with seemingly little care of the world outside the field.\n",
      "~~~\n",
      "We saw three people taking pictures of Squirrel number three! It appeared to be posing. A kid threw a nut at it, and it grabbed it and ran a little way away to eat it. \n",
      "\n",
      "We saw cool looking mushrooms. \n",
      "\n",
      "We saw more people taking pictures. We were surprised!\n",
      "~~~\n",
      "The area I was monitoring was mostly open field, bordered by a few London planetrees. There were no squirrels to be seen, and I speculated this might be because the trees do not provide sustenance for the squirrels. Suddenly, I saw one. It was thrashing around like a maniac, but it was kind of far away — visibility was poor. As I made a stealthy approach, the squirrel suddenly broke into two shapes and flew away! It was a couple of starlings in a death match or — it dawned on me — consummating an affair of the heart. No squirrels were seen, but I did begin the composition of my starling romance novel.\n",
      "~~~\n",
      "The Sheep Meadow was fenced in and closed off to the general public. All squirrels were in the fenced-in meadow. \n",
      "\n",
      "The pathway and volleyball courts were busy with pedestrian traffic. \n",
      "\n",
      "Loud music being played by the volleyball courts.\n",
      "~~~\n",
      "Squirrel #2 ate an acorn and observed me calmly. After about 3 minuted he/she climbed a tree about 3 feet high and perched upside down on the bark staring into space. Squirrel #3 was rapidly digging a hole. I didn’t spot any nuts.\n",
      "~~~\n",
      "Lots of cyclists, little dogs, many tourists speaking different languages. Plus raven (?) calls. Faint construction in background. East Dr. not that busy, handful of joggers. Lots of people walking work. Lawnmower going by around 9:11 a.m. Squirrels #6 and #7 seems smaller but probably not juvenile. They were standing up on two legs a lot while eating. Squirrel #8 also seems smaller. Tour group showing the statues. Squirrel #9 scratching with hind leg.\n",
      "~~~\n",
      "Some kids started chasing Squirrel #1. It ran up a tree.\n",
      "~~~\n",
      "Kai smelled a squirrel up a tree.\n",
      "\n",
      "Stopped to watch a bee gather nectar.\n",
      "\n",
      "Found half-eaten acorns. Squirrel leftovers.\n",
      "\n",
      "Squirrel party! Eight squirrels by a path. Woman taking photos. Two squirrels approached us, and Kai threw acorns to them that he collected. They were disinterested.\n",
      "\n",
      "Kai threw an acorn and the squirrel jumped in the air and did a 180 while tucking is tail in!\n",
      "~~~\n",
      "Across from the Balto Statue there is a big oak tree. Squirrels #6 and #7 were “playing,” “wrestling.” Then they stopped and threw acorns on our heads! The Mad Bombers. Can hear music from all the way over from bandshell.\n",
      "~~~\n",
      "#NAME?\n",
      "~~~\n",
      "* Construction of playground in process. (much noise) \n",
      "* No squirrels noted within construction area, including in the trees. \n",
      "* 5th Ave --> A lot of automobile traffic, noise \n",
      "* Many birds observed & heard --> NOT PIGEONS, other types (small birds)\n",
      "\n",
      "NO SQUIRRELS! :( \n",
      "\n",
      "On my way to hectare 7-I, though, I came across a mother squirrel carrying her baby squirrel in her mouth. There was a brief confrontation (or so it appeared) between the mama squirrel & myself. I allowed her to cross in front of me and she went on her way.\n",
      "~~~\n",
      "It's quiet. Too quiet.\n",
      "\n",
      "Squirrels #3 and #4 tag and wrestling. Slightly large. \n",
      "\n",
      "Someone left their purple Harry Potter glasses on the playground.\n",
      "~~~\n",
      "Three possible squirrel nests on acorn tree on southern corner of Central Park West and 68th St. One possible nest on bigger acorn tree on the northern corner, and there’s lots more acorns on the ground near this tree. Acorn trees in the playground area only had one possible nest and not many acorns in playground. I think they must be swept away so the kids can play.\n",
      "\n",
      "Area is busy with people with their dogs and children. Lots of kids yelling, screaming as they play.\n",
      "\n",
      "Family of squirrels in tree. Been staying 15 feet or more up in tree after seeing me. They are going through the acorn branches, eating acorns, and to their nest in this tree. Nest is about 30 feet above ground.\n",
      "~~~\n",
      "Busy area. Road full of cyclists, walkers, runners, hot dog carts, moms with babies in strollers. Lots of people relaxing on benches. Cold today, people wearing jackets and scarves. Lots of parents and kids in Tots Playground.\n",
      "~~~\n",
      "We were surprised that there were no squirrels on the east side of West Drive, even though there were oak trees and lots of acorns.\n",
      "\n",
      "Where we saw Squirrels #1 through #7, a man came and threw nuts for a couple of minutes.\n",
      "~~~\n",
      "Squirrels #1 and #2 are staying right outside a sprinkler. \n",
      "\n",
      "There must be birdseed on the ground. Lots of birds.\n",
      "~~~\n",
      "It is of this author's opinion that no squirrel with half an acorn for brain would voluntarily live in the Mineral Springs Dog Park area. Perhaps due to redlining or other morally bankrupt housing policies, we may someday find a population forced to live here as the only option made available to them. The much more affluent Le Pain Quotidien district lies adjacent, in a stark – but all too familiar — juxtaposition of the privileged and the marginalized.\n",
      "~~~\n",
      "A boxer was also very interested in the squirrels near area with Squirrels #1, #2, and #4.\n",
      "~~~\n",
      "To the north of the hectare is someone playing disco music for some rollerskaters + rollerbladers who seem to be having an afternoon dance party\n",
      "\n",
      "For squirrels 1 + 3 a mom w/ a young toddler was trying to lure the squirrels closer by tossing snacks at them\n",
      "\n",
      "Squirrels 5,6,7 were foraging + seemed to be playing together -- I was a little too far to hear if there were sounds\n",
      "\n",
      "OVER --> \n",
      "\n",
      "As I'm leaving the hectare, \n",
      "Freedom by Aretha Franklin \n",
      "is playing - The drizzle \n",
      "has gotten stronger during \n",
      "the past 20 mis but \n",
      "the skate dance party is not\n",
      "letting up\n",
      "~~~\n",
      "Squirrel #1 is being photographed by 3 people while eating and watching calmly from a distance of about 4 feet. Squirrel #3 carried an acorn in his/her mouth several paces, dug a hole, and then buried it. Squirrel #7 made 5+ trips in a tree to gather leaves to build a nest. The nest currently looks to be about 1.5x1.5’ and made out of twigs and leaves. Squirrel #8 was eating an acorn in a tree, saw me, ran down onto the ground, and ran away.\n",
      "~~~\n",
      "I saw two incredibly vibrant Blue Jays\n",
      "\n",
      "I'm seeing so few squirrels, feeling like a failure! \n",
      "Met French tourists looking to rent bikes. \n",
      "\n",
      "In 7-G, met two vendors asked it I was counting squirrels. They told me there were 7 squirrels that they feed & they sit on their tables. Tourists take photos, used to be 8. Hawk killed one. All named Charlie.\n",
      "~~~\n",
      "Pretzel squirrel \n",
      "3-legged dog walked past -- then he spotted squirrel for me!\n",
      "~~~\n",
      "The squirrels were indifferent to me and the other humans, but not to each other. When squirrel #2 came near squirrel #1, squirrel #1 chased #2 all soundlessly. They resolved their differences and were later in the same area without dispute. \n",
      "Similarly when squirrel #5 climbed a tree #6 descended chasing #5. Once both were on the ground and apart from one another there was peace. \n",
      "It was a morning for chasing as a dog on a long leash chased an off-leash dog who got away by jumping a fence.\n",
      "~~~\n",
      "Lots of construction near one corner of hectare (by gazebo, bottom left). Whole bunch in that one section! Must be a good foraging zone ...\n",
      "~~~\n",
      "Nest in elm on sidewalk between 68th and 69th.\n",
      "~~~\n",
      "One squirrel, #8, was almost silver in color — something I haven’t previously seen.\n",
      "~~~\n",
      "Can't help but sing, \"Ain't no hollaback squirrel\" to the tune of Gwen Stefani's song. \n",
      "\n",
      "THERE'S A ROLLER DISCO NEAR THIS HECTARE!\n",
      "\n",
      "A guy actually stopped to smell some flowers. (heart)\n",
      "\n",
      "Squirrels #2 and #3 were playing with each other. \n",
      "\n",
      "People dress really nicely for lawn bowling.\n",
      "\n",
      "YES, HULA-HOOP DANCE PRACTICE!\n",
      "\n",
      "Update: Oh no, someone appears to not be as committed to the routine.\n",
      "~~~\n",
      "Met this man who had an aggressive dog harass him.\n",
      "\n",
      "Finally saw some left of Strawberry Fields making aggressive noises, one chasing the other.\n",
      "~~~\n",
      "— Northeast side of hectare is roped off by security barricade for Central Park summer stage — can’t get close. \n",
      "— The southwest area is off limits for walking to protect American Elm. \n",
      "— On Northside of hectare, hear a man singing + hyping the crowd. \n",
      "— On Southside, hear solo jazz drumming. \n",
      "— Squirrels #1 and 2 spotted right next to each other - foraging together. \n",
      "OVER —> \n",
      "— 5:42 - Hear “Circle of  Life: being played on summer stage \n",
      "— #3 squirrel emerged from small cluster of wild flowers approximately 3 ft away from me, and ran to climb a nearby tree \n",
      "— There are 3 ppl laying out on the top of the large rock shelf \n",
      "— About a dozen other sitting on the northside of the rock shelf to watch concert — #5 squirrel ran away as a man entered the lawn area near it, but returned to original position once man was 10 ft away \n",
      "— By the end of this observation it was close to dusk + getting dark\n",
      "~~~\n",
      "Some kids attempting to catch a squirrel by hitting the tree with a very tall stick. They were unsuccessful.\n",
      "~~~\n",
      "Far enough from the concert at the bandstand to see squirrels! The movement of small birds suddenly makes 6&7 go on a tree, but they returned to the ground a sec later to continue foraging. Seriously, loads of small birds.\n",
      "~~~\n",
      "At first we were getting somewhat discouraged, given the running race and the large number of dogs in the hectare. But then, we saw her. She darted out of the bushes right in front of us and scampered up a very tall tree. When we looked up, we saw that she was with a juvenile high in the top of the tree.\n",
      "~~~\n",
      "Last three squirrels were in the same area and seemed to keep their distance from each other. When they got close to each other they ran in circles around each other, they ran and circled around each other. They stood apart and one held his tail straight up and moved it left to right a little (maybe meaning, \"I don’t want to fight\") and then they separated. There was some loud singing at Strawberry Fields from a Christian band that had been at the Beacon I was told by a friend.\n",
      "~~~\n",
      "Fancy black standard poodle is stalking a squirrel. hides behind tree, rather than run up tree. \n",
      "Squirrel holds nut in its mouth, twitches tail. \n",
      "\n",
      "- Near Falconer statue there are no people + no squirrels in rocky area. \n",
      "\n",
      "Squirrels all near paths w/ people in the area \n",
      "\n",
      "Sometimes I would throw an acorn for the squirrels, and half the time they'd eat it.\n",
      "~~~\n",
      "Squirrels were being very noisy in the area, but few were seen.\n",
      "\n",
      "There was one black squirrel sighted though — foraging, jumping more than others I’d seen.\n",
      "\n",
      "Nearby (Hector 9-E), park was doing tree trimming, which may have impact the population.\n",
      "~~~\n",
      "- Very loud music\n",
      "\n",
      "- Squirrel #6 attracted five human tourists. They took photos and the squirrel got very close to their hands.\n",
      "~~~\n",
      "- Loud speaker announcing runners' names nonstop\n",
      "- Runners walking by constantly\n",
      "- Blue jay tree fight\n",
      "- Summerstage workers moving items\n",
      "- Many porta-potties lining the area\n",
      "- No access in Summerstage (closed to external access)\n",
      "- No squirrels near Mothe\n",
      "~~~\n",
      "A squirrel nest sat high on the top floor of a prime real estate tree, but no squirrels to be seen. I turned, then suddenly saw him — an older gray squirrel, long time Upper West Sider, it seems.\n",
      "~~~\n",
      "As we spotted squirrels 1 and 2, a mama and baby who chased and grooved and nuzzled around a tree, a wedding was unfolding beneath a nearby gazebo. Quietly, we snuck a long the outskirts of the gathered crowd. Once again, we were quiet interlopers as we spotted squirrels 4 and 5. Women in complicated scrappy black lingerie, giant feathered and horned headdresses, and shiny satin robes posed for a photo shoot while the squirrels snacked.\n",
      "~~~\n",
      "This bench is for Emma, the good dog.\n",
      "\n",
      "I thought that squirrel and I had a bond. I was just next to its drinking fountain.\n",
      "~~~\n",
      "The area around the front of Bethesda Fountain was very busy. A busker was playing guitar and singing with an amp at the fountain, a couple was having an argument about a stolen credit card PIN while lounging on a blanket near Squirrel #5. All of these squirrels were snacking and looked like they had been for some time — they were Rubenesque! All of the squirrels seemed unperturbed by nearby humans – all have acorns in hand, happily munching unnoticed by humanity. Squirrels #1 through #4 kept themselves evenly spaced and equidistant – sharing the little knoll.\n",
      "~~~\n",
      "Squirrels stayed pretty close to the woody area. Had to go into the woods to spot first. Squirrel foraged and watched me cautiously. Kept scratching itself with its leg. Two squirrels but possibly one squirrel that covered ground quickly. Lots of runners and horses and buggies.\n",
      "~~~\n",
      "Squirrel #1 hopping with nut in his mouth.\n",
      "\n",
      "Squirrel #2 hopped down from tree.\n",
      "\n",
      "Squirrel #3 digging holes and planting nuts and eating.\n",
      "\n",
      "Squirrel #4 climbing a tree and on ground.\n",
      "~~~\n",
      "The tree variety in this hectare was unusually diverse. After a careful study, I’ve conducted that cinnamon colored squirrels with white highlights are the prettiest looking squirrels. The Waldo Hutchins Bench has a sundial and squirrel stonework on its side.\n",
      "~~~\n",
      "- Three squirrels come out looking for food at the same time but different trees.\n",
      "\n",
      "- Squirrels #4 through #6 come out to find food together.\n",
      "\n",
      "- Squirrel #7 is burying its food.\n",
      "\n",
      "* A mouse runs randomly to find its food left in the playground.\n",
      "~~~\n",
      "Lovely rainy morning \n",
      "There appear to be no squirrels on the lake's island \n",
      "The island is approximately 20 feet from the ramble's shoreline. It appears to be roughly 800 square feet. A family of squirrels \"could\" live there, quite happily, but would most likely begin to feel isolated. Some would turn on each other, while others would begin to build boats.\n",
      "~~~\n",
      "Heard quaas but couldn't find the source! \n",
      "(coming from the trees)\n",
      "Sun was low, getting darker, few squirrels visible! \n",
      "One squirrel (#2) seemed to be chewing on a piece of bark while sitting on a branch on a tree and it was making a grinding sound (perhaps grinding his teeth down?)\n",
      "~~~\n",
      "There are a ton of dogs and people, some off leash, some with leashes on. Some of these hunting dogs would easily catch and kill squirrels. This area is also littered with acorns. Well, I finally saw one on my way out. It was on that large green lawn where dog owners let their dogs loose — one squirrel going from tree to tree. I don’t think they like getting wet.\n",
      "~~~\n",
      "While brides took their photos at Bethesda Fountain, a young squirrel peeked its head up to see what all the fuss was about while the elder squirrel lounged upside down, hanging by its feet, on the side of a tree.\n",
      "~~~\n",
      "Dog frightened squirrel. Less birds. Less people! By loud fountain area but weirdly quiet. Squirrel was comfortable. I felt as though it was playing hide and seek with me. Found a dollar\n",
      "~~~\n",
      "Shortly after off leash hours ended, the squirrels started emerging from their hiding spots. One \"early bird\" squirrel was treed by two hounds.\n",
      "~~~\n",
      "Squirrels #1 and #2 playing in tree near picnic house. Squirrel #3 on ground near bushes. Cat bird on tree near. Green lawn with a lot of starlings and squirrels west of 12-G. Additional squirrels outside area. Squirrel dray 40 to 50 feet above ground. Hard to see characteristics of squirrels above ground due to bad light.\n",
      "~~~\n",
      "Squirrels #1, #2, #3, a lot of activity, people and birds. Lady feeding them nuts. Birds include blue jays, sparrows. Squirrel #4 eating mushrooms. Squirrel drays above Squirrel #4 in tree, 40 feet above ground. Tree full of sparrows in big round tree. Indigo called it the arguing tree. People picnicking.\n",
      "~~~\n",
      "Many dogs still off leash after 9 AM. On behalf of the squirrels, I am offended.\n",
      "\n",
      "Turns out, the hotdog cards use huge chunks of dry ice. Big brick of one wrapped in Kraft paper and twine, smoking.\n",
      "~~~\n",
      "This area was very busy, with bike, foot, and force traffic – despite numerous nut-bearing trees, only squirrel (#1) was observed in the open.\n",
      "\n",
      "Towards the end of the survey period, a hawk (seemingly stooping from the campanile of the San Remo) circled the area — two squirrels (#3 and #4) I was observing in the brush bolted, although they gave no alarm call.\n",
      "~~~\n",
      "[CROSSED OUT]\n",
      "3 People filming cardinal on iPads\n",
      "If you know it takes longer, you know it takes longer\n",
      "I mean I can pay it. I was just sort of mystified. \n",
      "Squirrel breaks into my apartment. \n",
      "\n",
      "[NOT CROSSED OUT]\n",
      "A guy with a big white mustache & binoculars told me that a squirrel broke into his house. And, in another instance, a raccoon. Later, talking to Nate, I understand this is a story he often tells to squirrel counters.\n",
      "~~~\n",
      "This very narrow, bramblous strip of land produced a surprising quantity of squirrels -- I observed one very tentatively nibble on some fungus sprouting from a fallen, rotted log. \n",
      "Squirrel (5) was observed rooting up a cache of acorns and consuming one. \n",
      "\n",
      "[\"Bug sacrificed in the name of science\" w/ arrow drawn pointing to a smear on the page]\n",
      "~~~\n",
      "A squirrel stood on a rock and he ate some grass\n",
      "~~~\n",
      "Squirrel #1 up in tree.\n",
      "~~~\n",
      "Several nests where I found Squirrels #1 through #7. High up in the birch trees. Where I found Squirrels #8 through #11 there was lots of foraging by both squirrels and birds on the ground plane. Very active area.\n",
      "~~~\n",
      "Squirrel #1 approached me to see if I had food. When he found me lacking, he went back to digging in leaves.\n",
      "\n",
      "Squirrels #4 and #5 were nearby one another and chased each other up and down a tree and finally across the branches.\n",
      "~~~\n",
      "Not many people eating at the Boathouse at start.\n",
      "\n",
      "Squirrel #1: Climbed upwards, transitioning between many small branches. Very quiet. \n",
      "\n",
      "Squirrel #2: Walking around on ground floor, periodically digging. Also quiet.\n",
      "\n",
      "Squirrel #3: Just a five-second sighting! Dog barks in distance starting around 9 a.m.\n",
      "\n",
      "Squirrel #4: Probably a repeat of #2, still foraging on the ground.\n",
      "\n",
      "Getting bit by flies in this area. Lots of foot trafficnear Boathouse, but no squirrel sightings around there.\n",
      "~~~\n",
      "Two women from Amsterdam with bikes admire squirrels (“so cute!“) and ask for directions to fountain (Bethesda).\n",
      "~~~\n",
      "Found squirrels especially behind boathouse. Used a tested squirrel call to attract and some approached me getting very close expecting that I had something to feed them. I was sorry to disappoint them.\n",
      "~~~\n",
      "Area is extremely busy w/ 2 tour groups at 9 am. Lots and lots of activity with runner + walker + people w/ dogs. Everywhere. Large dogs off leash running wild. #3 lady with black dog off leash. Scared it away. Went up a tree 50-60 high and started jumping from highest branch to highest branch\n",
      "~~~\n",
      "Saw man calling squirrel successfully. My legs have never hurt more. I am in pain. Cannot focus on squirrels.\n",
      "~~~\n",
      "* Squirrels #8 and #9 were chasing; #9 chasing #8.\n",
      "\n",
      "* Squirrel #14 was chasing itself, all alone, in the forest.\n",
      "\n",
      "* Squirrels and #17 and #18 were snacking on a rock by where the creek flows into the pond.\n",
      "\n",
      "* The activities of navigating a maze-like path system with a paper map and observing squirrels makes my brain work in a way that feels good to me. I feel refreshed and present with what is happening right now.\n",
      "\n",
      "* Took 40 minutes to walk through hectare.\n",
      "~~~\n",
      "Nothing of note here. The two pairs of squirrels did some chasing of one another, but that was pretty much the only notable thing I saw.\n",
      "~~~\n",
      "I saw and heard many birds.\n",
      "\n",
      "Saw five squirrels together, foraging, at the last minute. Chasing as well.\n",
      "~~~\n",
      "Squirrels #1, #2, #3, #4, and #5 approached me when I made squirrel noise I learned growing up in rural area. The area was very hilly and wooded with many side paths that I didn’t have time to explore.\n",
      "~~~\n",
      "More foliage on eastern side of the path. I saw Squirrel #3 twice but was sure it was the same squirrel.\n",
      "~~~\n",
      "Lots of small humans climbing on the statue, and squeaky sounds when they clamber on it. \n",
      "\n",
      "Plenty of birds chirping, and a falcon or hawk swooped by, fairly close to the tree canopy. Little clusters of people stretching or doing Tai-chi, posing for family portraits, or eating bagels and cream cheese on the benches. \n",
      "\n",
      "Any time I saw movement — a falling cluster of leaves, birds on the ground — I hoped it was a squirrel! Finally, it was! Squirrel was up in the tree eating and dropping things to the ground.\n",
      "~~~\n",
      "In observing the many activities, a juvenile squirrel was high on the tree and resumed to go inside its home. We also saw a blue jay in the cardinal. We saw very weird trees and plants. We collected a lot of acorns to give to the squirrels. Overall we had a great time counting all the squirrels.\n",
      "~~~\n",
      "Squirrel #1 foraging. Gray and chestnut. Looked at me. Young.\n",
      "\n",
      "Five dogs.\n",
      "\n",
      "Some areas not accessible via foot. Many small birds on the ground and in the trees. \n",
      "\n",
      "Two humans in a tree, kissing. They did not appreciate my presence.\n",
      "~~~\n",
      "Saw black squirrel just \"north\" of hectare.\n",
      "~~~\n",
      "All squirrels found in quieter sections off main walkways that were dense w/ fallen leaves + trees/greenery. Large concentration near the “Triplets Bridge” where there’s a dip in terrain near creek. (quiet) #3 here was so happy + content munching on his breakfast acorn!!\n",
      "~~~\n",
      "- Busy hectare - Squirrel nest - Lots! - Amusing squirrel community!\n",
      "~~~\n",
      "Squirrels #2 and #3 were foraging in a narrow strip between the road + a footpath as the Breast Cancer Walk went by -- both were mostly indifferent to all the people passing by. The younger of the two only ran when a dog showed interest.\n",
      "~~~\n",
      "3: scratched ear like dog?\n",
      "acorn may or may not have been deliberately dropped on one census taker's head\n",
      "~~~\n",
      "(*) Squirrels 7&8 are eating together, silently\n",
      "~~~\n",
      "Occasional walkers and dog walkers\n",
      "Squirrels #1 and #2 startled each other and ran in separate directions\n",
      "Squirrel #2 kept climbing, Squirrel #1 laid low, both ran away from humans. Squirrel #1 eventually returned and didn't really care about me.\n",
      "Squirrels #5 and #6 were a sprinting pair.\n",
      "Squirrel #7 was close to where nuts were dropping from trees!\n",
      "Tour group in southeast corner! Or, birdwatchers?\n",
      "Guy was imitating a bird call so well! No squirrels in the area though.\n",
      "~~~\n",
      "I never noticed the sculpture of a hunting wild cat before so I’m glad I was assigned this area! Behind it is densely wooded. Near it I came across a rotted log with some pretty cool round white mushrooms – somewhat marshmallow-esque. I also found a spot where a lot of people apparently come to take a shit. There was much poop-streaked toilet paper here. Squirrels spotted back here were indifferent to it!\n",
      "~~~\n",
      "This hectare was loud — full of kids! But the squirrels seemed mostly unconcerned. \n",
      "\n",
      "And, Squirrel #5 came right towards me — I think if I hadn't backed up a bit, it would have come right to me feet. It sat up on its hind legs and looked right at me.\n",
      "~~~\n",
      "Blue jays making a huge racket just west of my hectare. Surely they must be warning of a hawk. Thought for sure I wouldn’t see him squirrels with their alarms but soon as I started found Squirrels #1 and #2 chasing each other up and down trunk of oak tree. Squirrel #1 stopped, and Squirrel #2 continued up and out of sight. Squirrel #1 either stopped to watch me or the blue jays behind me alerted him. A couple of short quaas and then sudden stillness. I moved before it did.\n",
      "~~~\n",
      "The squirrel stood like he was park kangaroo..poised to punch. I was still while he approached. He was the Mike Tyson of hectare 15-I.\n",
      "~~~\n",
      "- the 5th squirrel is finding places to hide its food. It's burying its nut and looks at human for a while to make sure its food is safe.\n",
      "~~~\n",
      "Squirrel number one ran from tree to tree and around the playground (empty at the time).\n",
      "\n",
      "Loud hectare! Drainage sounds, birds, cars, people.\n",
      "\n",
      "Birthday balloon caught in tree.\n",
      "\n",
      "No kids until 9:17 a.m. on the playground.\n",
      "\n",
      "Two Russell terriers meeting each other.\n",
      "\n",
      "Strollers!\n",
      "\n",
      "Hotdog stand being pulled down the street, setting up for the day.\n",
      "\n",
      "Not many sightings on the sidewalk.\n",
      "~~~\n",
      "This path is calm, but the roads around it have a lot of carriages horses and strollers and bicycles. The squirrels don’t seem to be paying any attention to that — they’re just chasing each other around!\n",
      "~~~\n",
      "Squirrel #2 was difficult to record — I spotted it on the ground, then marked its location. When I looked back for fur color, it was already up a tree 10 feet away. When I looked back again, it had climbed across the upper branches and was descending a different tree, 15 more feet away.\n",
      "~~~\n",
      "One adult grey squirrel found a whole piece of toast. Some babies walked toward him; unclear if they wanted the squirrel or the toast. \n",
      "\n",
      "I saw the most beautiful Bluejay. \n",
      "\n",
      "a woman stopped me + thanked me for doing the \"squirrel count.\"\n",
      "~~~\n",
      "Lots of dogs in the meadow might have kept the squirrels hiding on that side of the hectare.\n",
      "~~~\n",
      "This area was more fun, and had more squirrels -- especially off-path where there weren't many people / dogs. \n",
      "\n",
      "Saw a lot of mushrooms too!\n",
      "~~~\n",
      "* Squirrels #8 and #9 were fighting for a good five minutes.\n",
      "\n",
      "* Couple picnicking in meadow.\n",
      "~~~\n",
      "Many of the squirrels were not afraid of us. In fact, when they realized we were not going to give them a treat, they \"scoffed\" at us. Typical panhandlers!! :)\n",
      "~~~\n",
      "The two juvenile squirrels, #1 and #2, were sticking together – staying within 10 feet or 15 feet of each other. Every once in a while they would run at each other and hop around.\n",
      "\n",
      "16-E is the squirrel party, for real. It’s also where youths go to smoke the devil's lettuce, so, pretty hopping spot.\n",
      "~~~\n",
      "Took a while to cover because lots of squirrel activity. Mostly in wooded area and not on paths. Dead raccoon in woods. Squirrels #4 and #6 could be the same squirrel.\n",
      "~~~\n",
      "Spotted two squirrels foraging in close proximity, but one split when it saw me. Later spotted the same two chasing each other.\n",
      "\n",
      "Intense cyclist on East Drive shouting \"Look out!\" disrupts the running.\n",
      "\n",
      "Group of tourists on bikes unsure where to go.\n",
      "~~~\n",
      "Squirrels #2 and #3 in same tree.\n",
      "Squirrel #5 ran across the street.\n",
      "~~~\n",
      "Squirrel #1 observed foraging.\n",
      "\n",
      "Also observed: large groups on bicycles; Citibike struggle is real. \n",
      "\n",
      "Kids playing organize soccer (coach dad with a whistle – liberal use of whistle). \n",
      "\n",
      "Several couples who is sorely wished I wasn’t stalking around the rocks and cedars.\n",
      "~~~\n",
      "DOGS \n",
      "People (large group) on grass \n",
      "Children on rocks\n",
      "Squirrel #3 approached a man doing Tai Chi. \n",
      "The man put his hand down and began to walk. \n",
      "The squirrel followed him step by step across the arch. Then the man gave him a treat.\n",
      "~~~\n",
      "Fancy European girls in their early 20s having a legit tea party in a meadow to celebrate one's bachelorette. \n",
      "\n",
      "Homeless person sleeping on a bench. People eating really good-smelling burritos. \n",
      "\n",
      "Squirrel #2 was spotted just as I was feeling exasperated having not seen many — looked very majestic sitting there in a tree on a pedestal formed by a lopped-off branch, eating a nut.\n",
      "~~~\n",
      "8:51 a.m. — I'm in house finch territory.\n",
      "\n",
      "8:53 a.m. — I stepped on a gingko berry. Everything smells of vomit.\n",
      "\n",
      "8:53 a.m. — Dogs chase after ball. \n",
      "\n",
      "8:55 a.m. — I climb on a rock and look out for squirrels. I see no squirrels. \n",
      "\n",
      "8:58 a.m. — The road through Central Park is loud with automobiles. \n",
      "\n",
      "9:00 a.m. — Success, a foraging squirrel! \n",
      "\n",
      "9:03 a.m. — A hidden passage leads to the through-road.\n",
      "\n",
      "9:05 a.m. — The wind has picked up.\n",
      "\n",
      "9:06 a.m. — A condom wrapper. No, a lube wrapper — lube comes in wrappers?\n",
      "\n",
      "9:07 a.m. — A pigen follows me — ally or enemy? \n",
      "\n",
      "9:10 a.m. — Gray bird with mohawk and orange belly — small. \n",
      "\n",
      "9:11 a.m. — A twig breaks below my steps — my cover is blown. \n",
      "\n",
      "9:12 a.m. — The treetops only hold squirrel secrets. \n",
      "\n",
      "9:13 a.m. — Acorns assail me from above (no joke) — but no squirrels in sight.\n",
      "~~~\n",
      "The woman whose (coincidentally also black) dog was angering the black squirrel told me Stuytown only has black squirrels!\n",
      "~~~\n",
      "The third squirrel I saw was high in an oak tree; he was jumping around, knocking or throwing down acorns.\n",
      "~~~\n",
      "It was a quiet morning in Hectare 17-D. There were plenty of dogs off leashes, but minimal to no interaction between dogs and squirrels.\n",
      "~~~\n",
      "Scampering with branch on fenced shore of Turtle Pond.\n",
      "~~~\n",
      "The path was very calm and devoid of human activity, likely due to the closure of the sidewalk for construction on to Belvedere Castle.\n",
      "\n",
      "Also, I believe the two squirrels and I spotted were brothers but I have no data to back this claim up.\n",
      "~~~\n",
      "The squirrels must be itchy today; I saw them scratching.\n",
      "~~~\n",
      "(1) just hanging out, digging around. (2) ran when they saw me — leaped directly over my head from an elm into a holly tree (seriously) (3) + (4) spotted near (2), but not “with” — these guys ran up and down a trunk to the delight of passerby — all beneath the lower branches of the holly tree / bush thing\n",
      "~~~\n",
      "Possible squirrel nest sighting. Lush vegetation obscures the road, but not the sound of traffic. A baby cries. Paw prints — canine, not squirrel. Tree branches jump in the distance — a squirrel? No. Exhaust from a museum vent. A jackhammer pounds in the distance. No squirrels — What has man done? NOTE: It was very loud and packed with humans and dogs in this area.\n",
      "~~~\n",
      "- Right off the bat, there's a dog off leash sniffing/foraging in the open green space over the fence (is it weird I've become super protective of the squirrels?)\n",
      "- Not a fan of people scaring off the squirrels - this is their home! You are a guest, sit!\n",
      "~~~\n",
      "Squirrels #3 and #4 hid until I walked away and came back to play. Squirrels #5 and #6 could care less I was there. Closed lawn — hopped fence.\n",
      "~~~\n",
      "Ducks and geese on Turtle Pond, turtle on rock getting sun. Both squirrels left area and went north while foraging.\n",
      "\n",
      "Squirrels #3 and #4 were together at first. Both near the base of a tree. Squirrel #4 went up the tree for a few minutes, then came down rejoin Squirrel #3.\n",
      "\n",
      "All four squirrels were in fenced area so no humans or dogs; only one dog off leash after 9 a.m.\n",
      "~~~\n",
      "Very few squirrels since noise. The squirrel that’s very nice was Squirrel #2. He was curious.\n",
      "~~~\n",
      "- Cellist playing in the Greywacke Arch-way. I hate to say it, but they leave a lot to be desired.\n",
      "\n",
      "- Squirrel #3 had an enormous \"flight distance.\" I was 25 meters from it, and it scurried up an oak.\n",
      "~~~\n",
      "All squirrels in this hectare were nice and polite. I had a staring contest with squirrel no. 3 and I won.\n",
      "~~~\n",
      "Squirrels are known art lovers so I expected to find several mulling about the Met. I was not disappointed. \n",
      "\n",
      "A French family approached me, wanting to know what I was doing. They immediately wanted to assist, and were critical to spotting Squirrel No. 3.\n",
      "~~~\n",
      "One squirrel (#1) was burying acorns and after using its hands to bury it, kept using its body to jump down / compact the soil further. Didn’t move on until it was satisfied. Also looked both ways before crossing the sidewalk. A good squirrel. Some women are setting up the fanciest picnic I’ve ever seen — pillows to sit on, glass bowls w/ candy & food, a cake stand, a whole table. 70’s style victorian dress. Looks like fun. Birds here are super fat.\n",
      "~~~\n",
      "- Guy on a bench jamming on his electric guitar so I'll be grooving to that this whole hectare.\n",
      "\n",
      "- I love how the little cheep cheep birdie feet sound on the crunchy leaves when they hop along the brush.\n",
      "\n",
      "- Thank you, Squirrel Census! I'm sitting on a roc\n",
      "~~~\n",
      "- Really varied seeing squirrels on the ground vs. in trees\n",
      "- Fair amount of dogs off leash in the open green spaces\n",
      "- A toddler was intently watching a busker play music.\n",
      "- A dog was nomming on a stick twice his size and it was glorious. \n",
      "- Walking back\n",
      "~~~\n",
      "Helicopter / car horns / sirens / buses\n",
      "Very close to 79th St. Transverse. \n",
      "People exercising.\n",
      "Dog baring — thought it was a squirrel.\n",
      "\n",
      "Saw just two squirrels that both appeared small and young — they were eating, running, indifferent to me, though aware of my presence and went elsewhere when I approached a bit.\n",
      "~~~\n",
      "2 helicopters 1 loud airplane passed overhead sirens X2 acorns — many *zero squirrels sighted* I waited until 9am so that dogs would be back “on leash” — though some were still off leash for a few more minutes. For most of the observation period the area was bustling with humans walking (with and w/out dogs), jogging, biking, and rollerblading — before work or on the way to work. Several park vehicles were out (landscapers). I first walked the perimeter, then walked around inside. I heard what I thought was a squirrel in a tree and walked toward it, but it was a bird. —> As I was making notes (9:36 am +/-) sitting just outside my designated area/hectare, 1 single juvenile squirrel — gray with cinnamon highlights came toward me (I was sitting on a bench by Delacorte theater) A family of 6 people speaking French came up and were very fascinated with the squirrel and tried to give her/him an acorn… but s/he already had one…then took off behind me.\n",
      "~~~\n",
      "First three squirrels seen were so busy eating and chasing.\n",
      "~~~\n",
      "7 young men played football under large oak and weeping ____, having fun & voices their frustrations through groans. \n",
      "\n",
      "I encountered one squirrel from afar and later came upon another one (or was it the same one) close by -- maybe 20 ft away -- eating an acorn. It was calm. When it finished eating, it looked at me for 30 sec, then came down the tree and continued on its way.\n",
      "~~~\n",
      "Squirrel seen at 4:42 PM just behind Field #1. He’d stop a moment, do a tail twitch, then continue. Did this two times, then fled when he or she saw me.\n",
      "\n",
      "Acorns are bouncing all around me. I see a very large squirrel nest high in an oak tree.\n",
      "\n",
      "Squirrel seen at 4:54 PM. Tail twitching, he scaled a four-foot wire fence.\n",
      "\n",
      "Heard kukking, couldn’t see squirrel.\n",
      "~~~\n",
      "Squirrel #1 was on a tree watching a nearby couple pass. I started to take a photo and the squirrel looked at me as soon as the shutter clicked. We both kind of stared at each other for a few seconds and I started to take more photos, he kept cocking his head until eventually making his way down the tree and slowly coming towards me. I kneeled down + we  stared at each other again until a dog ran over and scared it off. It ran back up the tree\n",
      "~~~\n",
      "They said there wouldn’t be squirrels here. They were wrong. Area felt damp and cool — secluded. Quiet. Because the area was lined with a museum wall along with a wall of trees and vegetation, the squirrels seemed to be protected from humans and dogs.\n",
      "~~~\n",
      "- Man and woman look as if to be meditating at the top of Summit Rock. - Squirrel number 2 jumped while being vertical, climbing up a tree, to another tree. Not from branch to branch, from trunk of tree, to another trunk of the tree. It was incredible, be\n",
      "~~~\n",
      "Both squirrels were on the rock ledge overlooking Central Park West Rd.\n",
      "\n",
      "There were a lot of birds — sparrows, pigeons, Cardinals due to birdseed scattered on the ground.\n",
      "~~~\n",
      "Our second hectare seemed to have few squirrels -- until we ventured off the road into the woods. I don't know why it surprised me -- it was quiet and seemed empty -- and then they slowly emerged. They seemed less territorial and chased each other less. It was a peaceful walk and we noticed more than we usually fo, which was lovely, making us want to take more walks.\n",
      "~~~\n",
      "Squirrels here have it in for the birds, mostly a bevy of robins in the berry trees and on the ground.\n",
      "\n",
      "Hot spot for serious birdwatchers. They're all wearing green and have telescopic lenses.\n",
      "\n",
      "Kid is trying to teach his mom how to throw a ball properly.\n",
      "~~~\n",
      "! Summit Rock is where my friend has her yearly birthday picnic (14+ years now). I've watched squirrels build drays and pointed them out to kids in attendance. \"Weird squirrel guy\" = me.\n",
      "\n",
      "- Caught great high-rise drama between two guys trying to cross a gap. :)\n",
      "~~~\n",
      "Sighting a few hawks flying nearby assigned hectare. Once at the assigned hectare, I spotted several squirrels. All of them were running and ran towards me. One guy was interested at what I did & asked a lot of questions. I saw a dog chased one squirrel up to a tree and a couple who gave squirrels some nuts.\n",
      "~~~\n",
      "Our first hectare was quiet and breezy, with birds everywhere. After our first two sightings, some acorns fell down and as we looked up we saw one so high up – we would have entirely missed it peacefully eating while crumbs fell from 30 feet up. Then our eyes adjusted, and they were everywhere. They seemed to chase each other territorially — but not much verbal communication. They were eating more than I thought. I thought he would be foraging and collecting more. We learned a lot.\n",
      "~~~\n",
      "I met a couple coming to feed peanuts to the squirrels. They come every day. They have been observing a pregnant squirrel for a month + feeding her \"extra\" peanuts. They could ID her because it \"looked like she was wearing brown gloves\" (she has brown front paws). The juvenile squirrels do not know that this couple brings food. The couple said that the young squirrels \"learn\" to eat peanuts.\n",
      "~~~\n",
      "The Great Lawn was closed, but the one squirrel I saw was munching away right by the baseball diamond.\n",
      "\n",
      "On the path, which was lined with benches, an old lady was sitting next to her dog, both on a park bench. \n",
      "\n",
      "[Illustration of dog] Caption: \"If only I could get on to that lawn.\"\n",
      "~~~\n",
      "The walking path on the east side of the Great Lawn was very busy and a lot of dogs were off leash. We saw two squirrels – both under nut-producing trees in the Great Lawn. Dogs would come to the fence surrounding the Lawn to watch them forage. They were far enough away to be unbothered by the voyeuristic dogs!\n",
      "\n",
      "The Race for the Cure March was also going on on 5th Avenue and producing a lot of ambient background noise/chanting. Probably too far away to spook the squirrels, though.\n",
      "~~~\n",
      "I know they're not conducive to squirrel sighting, but I love how many dogs are off leash, walking around like they're the best party host, greeting everyone like the stars that they are.\n",
      "\n",
      "8:59 a.m.: I was chosen by one to give it a pet!\n",
      "\n",
      "What looks like a Breast Cancer Awareness March is coming through — lots of chanting and cheering! (The cheers I heard were actual cheerleaders.)\n",
      "\n",
      "Squirrels #2 and #3 were near a nest! (Wasn't sure which made the kuks so marked both.)\n",
      "~~~\n",
      "General area has quite a few people (not packed), but it’s quiet with mostly ambient sound. Lots of people lounging on the blankets.\n",
      "\n",
      "One section of grass around 40 sparrows foraging together, almost like grass. A lot of Rob also spotted. Lots of intermittent helicopter noise. \n",
      "\n",
      "Two walking paths divide the hectare, and most squirrels were foraging in the strip of land between them.\n",
      "~~~\n",
      "#1 - half-tailed\n",
      "~~~\n",
      "2&3 - playing, chasing, not biting, jumping on back, stopped on small tree & groomed themselves, one appeared to mount the other. #7 stayed in top of tree - jumped from one tree to another. Had an acorn in mouth.\n",
      "~~~\n",
      "There is a nest on one tree where 2 spotted 3 juvenile squirrels running & chasing each other. One started to make sound “Auaas” while stomping on the branch of the tree. A couple passed by and tried to play with one of the squirrels. On the other side, I spotted one dead pigeon.\n",
      "~~~\n",
      "Squirrel #3, maybe #6 from Hectare 21-A.\n",
      "~~~\n",
      "Turns out squirrels eat mushrooms! And they are picky about which ones to eat. Squirrel #5 ate a mushroom -- but only the biggest one out of about 6 on the field. \n",
      "\n",
      "This area had lots of squirrel activity & ppl doing all kinds of things -- strolling, exercising, walking dogs.\n",
      "~~~\n",
      "Many people commuting to work but is quiet and away from traffic. Lots of trees and other types of birds. No squirrel attacks here, but one was lively, scaling a fence then running through foot traffic to a tree nearby.\n",
      "~~~\n",
      "9:28 a.m. — The empty softball fields look like a pristine battlefield — red flags abound and blow in the wind. Do the squirrels see them as signs of peace or war? \n",
      "\n",
      "9:30 a.m. — A fence surrounds much of the area — no dogs allowed. \n",
      "\n",
      "9:31 a.m. — This mighty oak must hold squirrels — but alas ...\n",
      "\n",
      "9:33 a.m. — Trees with red berries. \n",
      "\n",
      "9:37 a.m. — Squirrel-HO! One-two-three squirrels! Two chase each other up a tree, the other ignores and forages. In an area at pines — on the edge of hectare — out of the softball fields. \n",
      "\n",
      "9:42 a.m. — Acorns litter the visitor's bench. \n",
      "\n",
      "9:45 a.m. — A group of youths appear in matching jumpsuits to do jumping jacks.\n",
      "\n",
      "Addendum — 9:49 a.m. — A squirrel, but well out of my hectare. You win this time.\n",
      "~~~\n",
      "The great lawn is closed.. No movement/2 squirrels. No dogs – very few birds.\n",
      "\n",
      "One sighting just on boundary of squirrel in tree. Second sighting just behind home plate of squirrel eating.\n",
      "~~~\n",
      "Lawn is closed, so walking around it.\n",
      "\n",
      "People walking by with balloons for a party, including and Avengers balloon and a Peppa Pig balloon\n",
      "\n",
      "Gray squirrels outside boundary (one north, three south, least southern squirrels not labeled on map)\n",
      "\n",
      "Lots of nuts.\n",
      "~~~\n",
      "squirrel #4 seems to enjoy classical music.\n",
      "~~~\n",
      "I saw many squirrels here because of lots of trees and grass.\n",
      "~~~\n",
      "There was a group of elementary school kids playing kickball. This hectare also seems to be a popular off-leash area for small dogs. I found a dead squirrel in a fenced-in area.\n",
      "~~~\n",
      "Squirrel 2 attempted to scale the green construction wall before returning to the black fence. Squirrels 3-7 are definitely fans of trees —> are all hiding in the holes of trees, came out all at once, then they chased each other down the tree before returning to the inside of the tree - all facing away from the runners.\n",
      "~~~\n",
      "* Squirrel #4 had a huge piece of bread and seemed very protective of it. \n",
      "*Hectare was really busy. Lots of people on bikes, ringing their bells, and kids running and screaming around.\n",
      "~~~\n",
      "Only saw sSquirrels #7 and #8 after a dog barked. They ran from brush up two different trees, and flagged tails.\n",
      "~~~\n",
      "The squirrels were very curious about us paying attention to them, and Squirrel #1 and #2 walked toward us, probably to beg for food, seeing as they were young.\n",
      "~~~\n",
      "It was quiet at the beginning but towards the end, I spotted three squirrels spreading in one area. I noticed no sighting where the area is near Central Park West.\n",
      "~~~\n",
      "Squirrel #2 up and down tree with leaves.\n",
      "Squirrel #1 continued to eat and hide nuts.\n",
      "~~~\n",
      "Saw a good example of tail flags (it would seem I look like a predator). Also watched a squirrel tear a mushroom to pieces -- as it ate, it cocked its head back and to the side.\n",
      "~~~\n",
      "Squirrel #1 took off into Hectare D.\n",
      "\n",
      "Squirrel #5 on swings.\n",
      "~~~\n",
      "The groundskeepers call squirrel #2 Anthony. They like him. Named after coworker.\n",
      "~~~\n",
      "I couldn’t see a single squirrel! They were very ornery though. Lots of kuks and quaas when I started walking the hectare. For a while I was the only person in the area, and for the half hour I observed there was minimal dog activity.\n",
      "~~~\n",
      "Quiet and busy areas.\n",
      "Busy areas — kids playing/few squirrels.\n",
      "Adults playing ball.\n",
      "Squirrels mostly in bushy, non-busy areas.\n",
      "Content, foraging — healthy-looking squirrels.\n",
      "~~~\n",
      "#NAME?\n",
      "~~~\n",
      "Red flags on field observed from path, sign says: “Great Lawn: closed for the season to rest“\n",
      "\n",
      "Hearing kuks, I think, no sightings. \n",
      "Four squirrel nest sightings. \n",
      "Nice passing sighters “in the field”\n",
      "~~~\n",
      "Lots of rats by the bridge and Reservoir — SAD.\n",
      "\n",
      "Two squirrels in 21-G.\n",
      "\n",
      "A very exciting flag football game of kiddos was going on, as well. Potentially scared squirrel friends away, though.\n",
      "~~~\n",
      "Area is loud and busy due to proximity to pedestrian paths near Met and traffic. Lot of pedestrians below bridge #24. Quite a few children yelling. Lots of flowering shrubs — parts of the area smell strongly like melon/honeydew. Two rats spotted near trashcans at South Gatehouse. Area is generally VERY noisy with lots of joggers and families skirting Reservoir. Not much grass — mostly sidewalks and dirt. Not many squirrels. #s 2 and 3 were in brambly area with ground covering and small, low trees.\n",
      "~~~\n",
      "There was a fancy poodle with bows galore. (x 2)\n",
      "\n",
      "Two Central Park Conservancy workers were cleaning up trash.\n",
      "\n",
      "No squirrels here :( too bad.\n",
      "~~~\n",
      "Squirrels #1 and #2 were chasing each other up a tree.\n",
      "~~~\n",
      "Squirrels #2 and #3 chasing each other up and down tree. \n",
      "\n",
      "Lovely brand-new renovated paths and lawns.\n",
      "~~~\n",
      "A lot of people walking and biking along the paths here.\n",
      "\n",
      "A ballerina (in her tutu and ballet shoes and all) was being photographed doing ballet poses by Bridge #27.\n",
      "\n",
      "Squirrels seen in wooded areas that are mostly fenced off, near the paths.\n",
      "~~~\n",
      "Very loud! The road was busy and the walkway by the lake full of runners.\n",
      "\n",
      "Still, just when I gave up hope, a rogue squirrel spotted me on his way up a tree. We stared at one another for a few moments and then moved on, though not in my heart.\n",
      "~~~\n",
      "This hectare is mostly a police precinct, high fences, and a busy street. If I was a squirrel, I wouldn’t live here either. The only squirrel I saw was eating trash by a picnic table.\n",
      "~~~\n",
      "[lots of notes surrounding the map]\n",
      "\n",
      "Quadrant has varied territory: reservoir + path, \"wooded\" area + bridle path, transverse, precinct + park area behind it. I expected the squirrels to be in the wooded area (there were a few squirrel-like nests there), but  all the squirrels I saw were just southeast of the precinct. 3 of 4 were foraging there, in a more grassy, park-like area w/ trees but little undergrowth. People were a) walking b) jogging c) dog walking. It was busiest near the reservoir and got quieter as I went south \n",
      "\n",
      "Saw off leash dog chase squirrel outside of quadrant while walking away\n",
      "~~~\n",
      "A tiny sliver of lawn that squirrels use for short-term foraging before dogs scare them into the bushes. No noticeable tree activity.\n",
      "~~~\n",
      "lots of people walking and juggling \n",
      "\n",
      "I had been walking along the path looking up into the trees, not seeing much. \n",
      "suddenly, a flash of movement! \n",
      "a squirrel ran across a high branch and seamlessly jumped across to a branch of a neighboring tree. maybe it was late to the monthly council meeting.\n",
      "~~~\n",
      "I looked up, and the squirrel was frozen on the side of the tree – tail towards the sky, head towards the ground! It kind of gave me a lot of wary side-eye before it turned to climb the tree.\n",
      "~~~\n",
      "Spoke to a woman who said she has observed fewer squirrels since the park was renovated.\n",
      "~~~\n",
      "Thank goodness I saw a squirrel at the very end. Pretty high dog activity even after off-leash hours ended. Lots of runners.\n",
      "~~~\n",
      "A lot of runners and birds. One man looking at vegetation and birds, I think.\n",
      "\n",
      "The two squirrels were foraging and climbing. They didn’t seem bothered by me and my talking to them. They looked up at me and gave me some lovely little eye contact.\n",
      "~~~\n",
      "[marked on map: \"woman saw 2 on path earlier\" and \"loud truck\"]\n",
      "\n",
      "3 squirrels were interacting together on a tree chasing 1 for a nut & seemed 2 know each other. 2 males, 1 female, bonded \n",
      "approached me and were very curious \n",
      "all the squirrels I saw had nuts or were chasing for nuts, all squirrels looked healthy / were at the bottom of or in tall trees \n",
      "people knew what i was doing\n",
      "~~~\n",
      "Nest building — at least 30 feet up a tree.\n",
      "~~~\n",
      "We started our squirrel counting in great anticipation — we headed towards location 26A off 90th, and there we saw six squirrels. They were very much the same. Most of them were kind to us and acted like they like humans. When we headed towards 90th St., we found a baby squirrel injured with what looked like broken back legs. We brought him back to Gothic base, Bridge #28.\n",
      "~~~\n",
      "Safari Park was closed and fenced off due to construction. But I got in! :-)\n",
      "\n",
      "Managed to scale fence and found two hiding in a very safe area! \n",
      "\n",
      "It was very apropos that this last hectare was abutting my very first hectare. I felt I’d come full circle (sappy chords).\n",
      "\n",
      "OMG! My favorite spot under a tree looking up. Nothing. But I saw a white burst of color, I followed it south and it had a squirrel oddly patronizing me at the end :-)\n",
      "~~~\n",
      "Observed just one little dude in this area — tons of foot traffic, dogs, a group of very young kids, walking two by two, in formal blue uniforms. A good spot for Central Park Bingo. Khakis/ties/Bluetooth guys, tourists wielding selfie sticks precariously close to the Reservoir, someone running full sprint while Facetiming, and I mean, really a tremendous variety of dogs. Our Squirrel #1 appeared to notice a small greyhound nearby. But dog paid squirrel no mind at all — a very chill city dog, indeed.\n",
      "~~~\n",
      "We saw a squirrel! He/she ran down the tree, over the lawn, up a fence, and over the fence to another tree. Also, a dog jumped a fence. He was a big, white dog. There was a man on the phone whose eyeglasses matched his sweatshirt.\n",
      "~~~\n",
      "Nest here inside of hectare. Squirrels #1 and #2 in two different nests, neighbors. Heard squirrel babies.\n",
      "\n",
      "Lots of people out running.\n",
      "~~~\n",
      "Very leafy traffic area: walkers, runners, bikes, tourists, etc.\n",
      "\n",
      "One squirrel (#3) jumped down from 15 feet straight to the ground to pounce on a nut (?) — most aggressive foraging move I have see so far. \n",
      "\n",
      "Squirrel #3 also repeatedly returned to same tree branch to eat after foraging, sat in crook of branch and trunk.\n",
      "~~~\n",
      "All of Safari Playground is under construction. Squirrels #1 and #2 were playing together.\n",
      "~~~\n",
      "I believe the weather conditions are affecting me on spotting some squirrels. Also Safari Playground is under construction, therefore I wasn’t able to get to the center of my hectare. I tried as much as I could to look inside the construction, but I didn’t see any squirrels. I found Squirrel #1 by the sidewalk. I saw other squirrel nest but no more squirrels.\n",
      "~~~\n",
      "Tons of foot traffic and dogs off leash (but, many truly adorable dogs sighted). Squirrels tend to use the trees as highways. Lots of fresh horse manure. \n",
      "\n",
      "Squirrels eating Beech nuts.\n",
      "~~~\n",
      "#NAME?\n",
      "~~~\n",
      "Like the crying child in the pink polkadot bike helmet, the squirrels have no interest in going to the playground. (The child eventually gave in.) For the squirrels, things were much more interesting around the trees — but close enough to the street that they had the chance to rummage through food litter.\n",
      "\n",
      "* An old couple nearby adorably argued. \"Yes, you wrote me a poem.\" (He didn't believe her.)\n",
      "~~~\n",
      "There was an area with trees and brush that had litter but it’s where I saw the one squirrel.\n",
      "~~~\n",
      "Squirrel nest in big birch near north boundary, no squirrel seen.\n",
      "\n",
      "Robins all over a berry-producing tree near West Drive.\n",
      "\n",
      "Tree buffer between Bridle and West Drive only active squirrel.\n",
      "~~~\n",
      "Two squirrels — one high up in tree, one running up tree.\n",
      "\n",
      "Lots of nannies and kids.\n",
      "\n",
      "School class doing relay races — too loud and raucous for squirrels to want to come here.\n",
      "~~~\n",
      "#NAME?\n",
      "~~~\n",
      "This was bonkers. Squirrels chasing squirrels! Related looking squirrels! I bet it was a squirrel soap opera. A note that there were hardly any dogs, which was v. unusual\n",
      "~~~\n",
      "- Squirrel #1 was very skittish -- nervously foraging as I approached, until an inquisitive dog hopped up to the fence and scared it up a tree. \n",
      "- Surprisingly few squirrels, but quite a few chipmunks, and ground-foraging birds.\n",
      "~~~\n",
      "Runners on the cinder sound like squirrels kukking. Just a little bit. Just enough to notice. Those runners need to pick their feet up.\n",
      "\n",
      "A lot of birds. Lots of trees with berries. A birch tree, too.\n",
      "\n",
      "I was starting to think we had zero squirrels. Fellow counter Caterina was counting the hectare next to me. I said, \"I haven't seen any.\" She pointed and said, \"There is one right behind you!\" Sure enough! I said, \"You saved me.\" The squirrel ran into the trees and bushes.\n",
      "~~~\n",
      "1. Dog ran for squirrel 3\n",
      "2. Squirrel 6 was eating a mushroom\n",
      "~~~\n",
      "Tons of joggers this morning, so only squirrels I've observed have been in this wooded corner of the hectare. Two pairs of squirrels chasing each other up and down two large 30 foot trees here.\n",
      "\n",
      "Squirrels #3 and #4 spotted again near the end of my time foraging at the top of their tree.\n",
      "~~~\n",
      "Kids showed up right as I sallied and they started practicing soccer. Lots of birds foraging. Several oak trees. Squirrel #1 began tail twitching on the side of a tree after fleeing from me. It had an acorn in its mouth.\n",
      "~~~\n",
      "Dogs playing fetch around the area.\n",
      "\n",
      "Squirrels found outside of hectare, but close by.\n",
      "~~~\n",
      "Squirrels #1-3 were seen on neighboring oak trees. Squirrel #1 was just making its way down a tree while squirrels #2 and #3 were chasing one another up a tree and making short \"kuk\" noises to one another.\n",
      "\n",
      "Crossing the bike path, saw two 20-something guys maintain a wheelie position for 25 meters. The bike thoroughfare is pretty much a constant stream of bicyclists, joggers, gold carts.\n",
      "\n",
      "At the very end of the count in this hectare, I spotted a pair of falcons swirling around one another mid-air, seemingly in a mating dance and squealing/chirping.\n",
      "~~~\n",
      "Squirrels #1-3 were seen on neighboring oak trees. Squirrel #1 was just making its way down a tree while squirrels #2 and #3 were chasing one another up a tree and making short kuk noises to one another.\n",
      "\n",
      "Crossing the bike path — saw two 20-something guys maintain a \"wheelie\" position for 25 meters. The bike thoroughfare is pretty much a constant stream of bicyclists, joggers, golf carts. \n",
      "\n",
      "At the very end of the count in this hectare, I spotted a pair of falcons swirling around one another in mid-air, seemingly in a mating dance and squealing/chirping.\n",
      "~~~\n",
      "Two people were feeding Squirrels #8 and #9 on the grass.\n",
      "~~~\n",
      "I think this area serves as an unofficial dog park. There were lots of off-leash dogs and, perhaps because of that, less squirrel activity.\n",
      "~~~\n",
      "A dog chased the black #2 squirrel into the hectare.\n",
      "~~~\n",
      "Black squirrel seen in next quadrant (29-D).\n",
      "\n",
      "I love my button.\n",
      "\n",
      "My feet got wet. :(\n",
      "~~~\n",
      "Grey one chasing black one all over the place — black one seems “bold” — gray one having none of it! Doing the tree trunk “garland” twirl — chasing — One has the sense they do this regularly — This lawn area is a great spot — Lot of shrub cover — trees + rocks — squirrel playground, for sure.\n",
      "~~~\n",
      "11 seagulls\n",
      "103 runners\n",
      "67 dogs\n",
      "17 wannbe runners\n",
      "0 squirrels\n",
      "0 amphibian squirrels (by accident, by design)\n",
      "squirrel nest\n",
      "~~~\n",
      "Squirrels separated from paths by geography and foliage. Despite quietude, strangely few squirrels and those seen were pretty shy.\n",
      "~~~\n",
      "I have forgotten how to dress for 50° weather. The leaves are changing. The off-leash dog had some really impressive leaps over fencing – she was slaloming over them back-and-forth! Saw some partly eaten fruit. No swimming squirrels. The narrow path by the Reservoir is like playing Frogger with all the runners. Where do squirrels go when it's cold and rainy?\n",
      "~~~\n",
      "There is a man with an easel painting the rocks in the lower left of the hectare.\n",
      "\n",
      "Another squirrel appeared on the border of 30-A/B about five minutes after I finished my count and then started chasing a third squirrel around a tree trunk.\n",
      "~~~\n",
      "My two hectares were right next to each other, so I was really surprised how many more squirrels were observed here.\n",
      "~~~\n",
      "Despite the business in proximity to the street, there are so many clusters of squirrel life. I tried to look in the trees but they went so high I lost sight. There’s a creepy bush where I heard rustling, and I peeked in but didn’t see the source. Was as likely a raccoon or rat as a squirrel.\n",
      "~~~\n",
      "Thought someone was saying, \"Squirrel,\" but it was a tennis score: \"Four all.\"\n",
      "\n",
      "Squirrels don't enjoy tennis.\n",
      "~~~\n",
      "There’s a lot of off-leash large dogs. This may be discouraging for squirrels in this area.\n",
      "~~~\n",
      "Squirrels, it seems, do not care for tennis\n",
      "\n",
      "Even among the nutty & fruity trees outside the courts, I saw no squirrel activity. I thought perhaps they, like the human spectators, sat still in the trees watching the matches play out, but even at 5 o'clock alarm, when games ended & began , I saw nothing. \n",
      "\n",
      "I did see two adult cinnamon/gray squirrels eating in the grass in 31-D as I made my way around\n",
      "~~~\n",
      "A man attempted to enlist his beagle alongside me in the search but the beagle quickly lost interest. Squirrels 2 + 3 were playing with each other, climbing up + down the trees.\n",
      "~~~\n",
      "Kind of hate creeping around the playground with my camera out :(\n",
      "\n",
      "Wouldn’t expect too many on the “playground island“ – very heavy traffic surrounds\n",
      "\n",
      "Though the one I spotted was next to the playground.\n",
      "~~~\n",
      "Big/huge nest high up in tree. Maybe 25 to 30 feet above ground. \n",
      "\n",
      "They were climbing above the nest and seemed to be playing.\n",
      "\n",
      "Really, really loud by playground. Lots of games going on.\n",
      "~~~\n",
      "For all the woodland charms of this area, there were far fewer squirrels than expected. Abundant acres went ignored. It was surrounded by the 97th St. Transverse and tennis courts/worker using hedge trimmer, which probably didn’t help. Sole squirrel was spotted with acorn in mouth, so timid that when s/he spotted me s/he froze, tried to back away, and nearly lost grip of the tree because s/he was trying to climb down while watching me.\n",
      "~~~\n",
      "So many doggos!\n",
      "\n",
      "I walk through this section about four times a week a little later in the day and see many! This is the first \"cold\" morning. I think they are sleeping in. They are usually in open areas but at this time many dogwalkers. Argh! So many dogs!\n",
      "\n",
      "One of my trips through this section this summer, I found a dead squiz at the base of a tree. Two others were standing \"over\" him for a while — I buried him (X on map).\n",
      "~~~\n",
      "There were many nests in the trees, but few appeared.\n",
      "~~~\n",
      "Loud sounds from adjacent tennis courts\n",
      "\n",
      "lots of birds calling\n",
      "\n",
      "big group of dogs here\n",
      "\n",
      "lots of birds in bushes\n",
      "\n",
      "no squirrels out in open\n",
      "maybe because many dogs around and off leash even after 9 a.m.\n",
      "~~~\n",
      "Lots of off-leash dogs\n",
      "~~~\n",
      "Squirrel spotted after two dogs alerted me to its presence on a tree. \n",
      "\n",
      "Squirrel froze to avoid further attention.\n",
      "~~~\n",
      "Dirt path is fenced off now.\n",
      "\n",
      "Really busy – many people getting off work? Also a dog run nearby; noisy on the transverse side.\n",
      "\n",
      "Squirrels #3 and #4 were tag teaming in a tree — three up top, four lower to ground.\n",
      "~~~\n",
      "1 - Extremely scampery. \n",
      "      name: yohan\n",
      "2 - No tail! Seems sad! \n",
      "      name: shlomo\n",
      "3 - name: hazel \n",
      "4/5 - These squirrels are friends. \n",
      "      names: Rosencrantz and Louis\n",
      "~~~\n",
      "Chasing birds and chattering\n",
      "~~~\n",
      "- Was stopped by 2 men from  China asking for directions to Strawberry Fields\n",
      "\n",
      "- About 3 different dog walkers let their pets charge @ squirrels\n",
      "\n",
      "- Noticed a squirrel pulling new leaves into a tree hole while a couple biking on the west drive rested again\n",
      "~~~\n",
      "Area had great mix of tall trees — lots of drays in beginnings of construction. But I did not actively see squirrels bringing nesting material today. All were concentrated on food, I guess.\n",
      "~~~\n",
      "Breast Cancer Walk with lots of people. Woman yelling, \"Charlie!\" trying to find her white Lab. \n",
      "\n",
      "Squirrels #2 and #3 together.\n",
      "\n",
      "Many squirrels in a bushy tree area here.\n",
      "\n",
      "Woman holding dachshund up to the water fountain to drink. :) Man massaging his Lab with a roller massage tool on the dog's belly. :) Another man with another dog taking a photo of that from far away. Now they are talking to each other.\n",
      "~~~\n",
      "#6 was very curious when we approached. He ate a peanut and a mushroom. Lots of tail twitching. \n",
      "\n",
      "Whenever we approached the squirrels, they would circle around us as opposed to approach us head on.\n",
      "~~~\n",
      "I saw nine squirrels on the ground near the tennis wall. They all looked small and young. They all searched or ate chestnut on the ground among birds. The smallest one did not scared at all. It stood on hind legs and watched me.\n",
      "~~~\n",
      "#NAME?\n",
      "~~~\n",
      "Heard bluejays squawking \n",
      "People keep talking to me \n",
      "Nuts dropping -- are the squirrels telling \n",
      "me something? (Get lost!)\n",
      "Squirrel in tree after nuts. \n",
      "Big old leaf nest in tree -- no activity. \n",
      "Found a ball! Saw lichens \n",
      "#3 was really tugging at something buried --\n",
      "Wasn't able to unearth it. \n",
      "#3 Eating then washing tail!\n",
      "Mushrooms!\n",
      "Saw a young black squirrel! \n",
      "\"Are you counting squirrels?\" One woman asked excitedly. \n",
      "Met a \"Brit\" walking his dog.\n",
      "~~~\n",
      "#1 spotted on plane then climbed tree w/ white food in mouth -- did not want to be my friend :) :( \n",
      "Large mushrooms in area -- may have been what was in squirrel's mouth\n",
      "#2 dug small hole + patted in down w/ a couple of leaves -- Then went back up the tree from where s/he came \n",
      "\n",
      "Met woman walking dog (Golden) wanted to know what I was doing -- she complained about the Central Park Conservatory -- that no one does anything but drive around in their  carts. Ah. NYC -- a city of complainers. \n",
      "She was my good luck charm as I saw (w/ her help) squirrels #4-7! --> #14 -- I heard a THUD! Squirrel fell from huge tree 50 feet up. Seemed unfazed. -- scurried up tree after 30 seconds -- Back on the horse! :)\n",
      "~~~\n",
      "Squirrels #1 and #2 initially observed separately foraging — climbing, running. A bit later, seen chasing one another across expanse of grass above transverse.\n",
      "\n",
      "Squirrels #3 and #4 foraging, separate.\n",
      "~~~\n",
      "Lots of squirrels running back and forth, possibly just to confuse me.\n",
      "~~~\n",
      "Lots of dogs off leashes.\n",
      "\n",
      "Very pretty guy (squirrel). Saw him yesterday.\n",
      "\n",
      "Beautiful oak (?)\n",
      "~~~\n",
      "Numbers #1 and #2 gathered near the base of tree — foraging and digging, jumping from spot to spot. Squirrel #3 initially up tree, then joined #1 and #2. Approximately 6 to 8 small birds also foraging in same ground area.\n",
      "\n",
      "Squirrels #1 and #3 chased one another around tree base, up-and-down trunk, and on ground.\n",
      "\n",
      "Squirrels #1, #2, and #3 eating, standing on hind legs. These squirrels observed me walking nearby and proved indifferent when I moved closer.\n",
      "~~~\n",
      "I’ve never seen a squirrel resting, taking it easy. They are all action, all the time. Not that it’s always work they are doing. They play a lot, run back and forth just for the glee of it. Most of the time, life is about food: finding it, hiding it, eating it.\n",
      "\n",
      "Lots of small birds — brown. Small birds, robins. Big trees.\n",
      "~~~\n",
      "Squirrel #1 burying/digging nuts under a beech tree.\n",
      "Squirrel #2 ran up oak tree with acorn, gave me a tail twitch.\n",
      "~~~\n",
      "After 10 minutes without a single sighting, I heard a rustle above me and felt something fall on my head – a branch, maybe? Thanks a lot Squirrel #1. :( \n",
      "\n",
      "Squirrel #3 ran away from me but then came back (within a respectful distance) and stared at me while eating acorns. Seemed very pleased with himself or herself.\n",
      "~~~\n",
      "Dogs off leash: just one.\n",
      "Small number of people out, some walking dogs.\n",
      "\n",
      "Squirrels #2 and #3 were climbing together.\n",
      "\n",
      "East Meadow fenced off, but still had clear view of grass and saw no squirrels on it.\n",
      "\n",
      "Squirrels #5 and #6 were climbing and foraging together.\n",
      "~~~\n",
      "3 little dogs off leash created a little havoc at first. Once that died down a bunch of squirrels approached me (almost right up to me) they were foraging next to ball fields (& lots of people runners / bikers & dogs) & ignored all the activity. They're so cute up close! <3\n",
      "~~~\n",
      "If this was the toddler soccer player census, I would’ve been in the perfect spot.\n",
      "\n",
      "Just kidding – found a little crew of squirrels away from the tiny soccer players. Really cute goal celebration (and some not-so-cute soccer parents).\n",
      "\n",
      "No squirrel friends on the area of the field of this hectare, but I spotted a few on the field and 34-C.\n",
      "~~~\n",
      "Squirrels #1 and #2 high-speed chase between beneath branches of two trees and the ground — small adults (?) similar color and markings. Oberved five nests distributed across five trees in close proximity. Other noise: weed whacker alond edge of path, close to trees. Squirrels continued to run between branches above.\n",
      "~~~\n",
      "A man spins a whirring contraption like a top controlled by a string with two wooden rods on the end, with the man uses to manipulate the top in yo-yo like tricks. It’s noisy and mesmerizing. It’s black squirrel country over here. I feel like I may have found a family. Squirrels 6+9 could be the same. 6 ran into a tree hold & was very vocal. 9 looked like it could be a mother who was nursing.\n",
      "~~~\n",
      "Squirrels in this area seemed more skittish.\n",
      "~~~\n",
      "Group of five teens throwing and catching baseballs (right side of path).\n",
      "\n",
      "There are so many squirrels here. They all hung out along the fence, running back and forth. I couldn’t keep track.\n",
      "\n",
      "I saw a woodpecker for the first time.\n",
      "\n",
      "Met these two guys looking for mushrooms.\n",
      "~~~\n",
      "I got so excited to see them all come out of the tree at once. Squirrels #5, #7 through #11 were in the same area of three trees, and I loved watching them all interact.\n",
      "~~~\n",
      "Quite a lot of this hectare was also red flagged fields. Treeless & flat.  But in the smallest cluster of trees were such bird & squirrel diversity! Eventually 6 chased 5 around until 5 fled & 6 got bored.\n",
      "~~~\n",
      "Not many squirrels, but two bluejays landed near me — and one was carrying a peanut in its beak!\n",
      "~~~\n",
      "9:10 a.m.: Yipping dogs! A dog walker's dogs are barking so loudly at a single owner's only dog. Went on for five minutes.\n",
      "\n",
      "9:22 a.m.: Saw the cutest family of squirrels hiding in a tree! They would peek out, run around the hole in the tree, and then go back inside.\n",
      "~~~\n",
      "Just witnessed (and video’d) Mama & child squirrel play-wrestling…pretty adorable… school kids —>\n",
      "~~~\n",
      "(1) + (2) leisurely chase btw trees and ground -- against backdrop of playground noise emanating from playground nearby. \n",
      "(3) foraging along open ground until v. large dog bounded up (unleashed) the owner sat down on a nearby rock and began clipping coupons from a grocery store circular. The dog did not give chase once squirrel ran to a nearby tree.\n",
      "~~~\n",
      "One of the squirrels was jumping around, + looked almost as if it was chasing the sparrows for fun\n",
      "~~~\n",
      "Several dogs off leash on path. Squirrel #2 was in tree 30 feet from nest. Lots of nests in trees near #2 spot. Around six. Squirrel #1 on ground within fenced in area (baseball field).\n",
      "~~~\n",
      "This hectare is almost entirely open field. Frisbees and footballs were being thrown, soccer balls were being kicked. A pick-up game of soccer soon materialized, and shirts came off, which was fun in almost all instances. But there was tree in the NW corner of the hectare and other large trees near it. That's where all three squirrels were found. I can't say they were indifferent. They went about their business, but they seemed very aware of me. They didn't run unless I approached them.\n",
      "~~~\n",
      "First time seeing black squirrels.\n",
      "~~~\n",
      "There are people playing soccer on the field. I find the squirrel sitting on a tree above me. It looks calm watching people. After a while, I find it’s dressing itself on the tree. I lost sight when it climbed up the tree.\n",
      "~~~\n",
      "There are many communities using the land here, the squirrel among them. \n",
      "\n",
      "A group of tough white boys bicycled by me, dropped their bikes on the ground, and sat on a rock listening to Eminem. A Central American family picnicked on a rock with large coolers of fragrant food. Their children were in superhero costumes.\n",
      "~~~\n",
      "Kids playing! Climbing trees.\n",
      "\n",
      "Robins, woodpeckers\n",
      "\n",
      "Dogs, some still off leash\n",
      "\n",
      "Dog had Squirrel #1 treed.\n",
      "~~~\n",
      "- a bird\n",
      "\n",
      "* There is a squirrel nest in the tree. \n",
      "\n",
      "- It looks like Squirrel #3 runs across from the playground back to its nest on the big tree.\n",
      "~~~\n",
      "The resident squirrel feeder arrived + threw an unidentified substance (?) at squirrels #2 + #3. \n",
      "\n",
      "Squirrel #3 made a little sneeze (like an exhale, but with a puff). \n",
      "\n",
      "Woman ran past with her dog + yelled, \"Are you counting squirrels? Awesome!!!\"\n",
      "\n",
      "I had the best conversation w/ a mom + her son about the project. Son: \"Why are you counting squirrels?\" Mom: \"Why NOT?\"\n",
      "~~~\n",
      "When my alarm went off, Squirrel #8 got intrigued and came down from his tree to investigate. It was interesting to see the squirrels hiding out so close to the road.\n",
      "~~~\n",
      "Two different dogs chased squirrels. and one dog was not allowed to chase squirrels (he and owner just waited several yards away) One squirrel was fed by a nice grandpa and chased by the grandson\n",
      "~~~\n",
      "A dog chased #1 up an oak, and it kicked, quaad, and tail signaled (flags and twitches) within 2 minutes it was back on the ground, but it would stop + flag or twitches its tail every few seconds. The others and it all ran to trees when some leashed dogs came near.\n",
      "~~~\n",
      "These squirrels are destroying this tree! \n",
      "I forgot to name these squirrels.\n",
      "~~~\n",
      "What a great time to be in the park! Migrating birds are everywhere. It’s hard not to get distracted by them.\n",
      "\n",
      "I heard Squirrel #1 in a cluster of trees, as a mob of blue jays was gathering. Perhaps they were preparing to chase away an animal.\n",
      "~~~\n",
      "The majority of the area, the baseball fields, was red flagged, but since it was empty and flat it made for better viewing. Squirrel #1 was spotted by a tourist mom of a family who shouted, “Ben, chase the squirrel!“ The son dutifully ran after the squirrel, who hightailed it. The son quickly lost interest but the squirrel hit behind a well-placed short offshoot of a tree. S/he kept peeping out till s/he felt safe, at which point s/he started nibbling on acorns. We had a moment.\n",
      "~~~\n",
      "That oval was completely unexpected. \n",
      "\n",
      "Few to no most trees, basswood, maple, pine, cherry \n",
      "\n",
      "Maybe squirrels aren't here b/c they're freaked out by unexpected ovals\n",
      "~~~\n",
      "10 a.m.: Rain stopped! \n",
      "\n",
      "There's a lot of small fruit trees (cherry-like, small red clusters) and lower/shorter trees for ground cover. \n",
      "\n",
      "Surprising how few people there are, but there's not as many squirrels. Must be the noise from cars along the road.\n",
      "~~~\n",
      "Football game being played nearby didn't bother Squirrel #1 :)\n",
      "\n",
      "Squirrels #5 through #8 in the enclosed field.\n",
      "\n",
      "- Drone was awesome!!!\n",
      "~~~\n",
      "Had a staring contest w/ squirrel #1. \n",
      "\n",
      "A man asked me, \"Do you know why there are so many black squirrels?\" I shrugged. \n",
      "\n",
      "Squirrels #2 + #3 chased each other! \n",
      "\n",
      "#2 eventually approached me on its hind legs + puffed out his/her chest.\n",
      "~~~\n",
      "Group of three squirrels foraging and eating and occasionally chasing each other around.\n",
      "\n",
      "When I walked by them, they seemed more alert, but generally did not run away. In fact, one squirrel with chase another one, which had to get closer to me to get away from the squirrel. This happened twice.\n",
      "~~~\n",
      "Squirrel #2 kept chasing a chipmunk away. Three French and Two German tourists zeroed in on this. At one point while digging, squirrel #2 came across something that made him jump up and run a few feet away. Somebody enjoyed some marijuana. Far more chipmunks than squirrels visible. Very dense woodlands with dense undergrowth probably hid more. A fair number of people, but they were quiet and stayed on the paths.\n",
      "~~~\n",
      "Squirrel trying its hardest to pull the acorns off the tip of the branch without falling was a comical sight. Makes you wander what is so good about that acorn that makes it better than all the easier grabs around it.\n",
      "~~~\n",
      "The little guy came running over when I made clicking sounds. It came over about 3 ft away & got on its hind legs & put his paws together & looked like it was moving its paws like it was begging. \n",
      "\n",
      "[also noted on front page: Dog chasing two squirrels up tree]\n",
      "~~~\n",
      "Very quiet. I think a man with a dog thought I might give him a ticket or something because he moved to a more secluded spot to play fetch with his dog off leash after 9am. A juvenile hopped over to me, stood up on its back legs and cocked its head as if to say “?” I got a quick picture of it before it decided I was a SERIOUS THREAT and bolted. Possible nest!\n",
      "~~~\n",
      "Squirrel 2 was found because of how loud it was eating.\n",
      "~~~\n",
      "(1) small hawk attempted to grab squirrel from ground near base of tree\n",
      "-Remained on ground making kuks & quaas for 30 seconds --> ran up tree -- stopped on branch for several minutes - unmoving \n",
      "\n",
      "(2) foraging between trees in fenced in area\n",
      "~~~\n",
      "Squirrel #1 foraged and found an acorn, went up oak tree. Because this area is hilly with relatively expensive views of the hectare, this is an accurate tally even though I officially observe only one furry friend.\n",
      "~~~\n",
      "Observed 1-2 squirrel nests in trees at 102nd and btwn 102-103. Large number feeding just inside the park, including many juveniles (incl. several very small ones). It's a quieter spot w/ few dogs, maybe a blue jay nest, so lots of activity. \n",
      "\n",
      "I walked past one family and I swear as I went by, the father muttered to the mother \"squirrel census.\"\n",
      "\n",
      "One squirrel was munching on an entire sandwich. Not clear whether it was found or stolen.\n",
      "~~~\n",
      "It was super quiet, and then around 9:10, I heard all of these kuk-kuk-kuk sounds from the trees.\n",
      "~~~\n",
      "Squirrel #4 was eating, and as I approached she left her food and started climbing. She seemed scared. Tons of little brown birds around. Squirrels #1 and #3 started chasing each other and playing. They climbed two trees together super fast and also made lots of kuks and quaas.\n",
      "~~~\n",
      "When I approached, Squirrel #1 ran up the fence, then ran up a tree. I sat down on a lovely boulder, and Squirrel #1 came back down, then vanished into the underbrush.\n",
      "~~~\n",
      "One lone squirrel with his back towards the humans munches without a fear or a care.\n",
      "~~~\n",
      "(1) foraging \n",
      "(2) foraging + ran from me + climbed tree and waited, watching, did not retreat further than 10-15 feet. \n",
      "Observed against back drop of dozens of screaming (like, really screeching) children running around nearby field. \n",
      "\n",
      "Human encounter: cutting through opening in trees. run across a guy, mid-20's, alone w/ bicycle, asked what I'm doing, I explain, he gets real quiet. Then says, \"That just bugged me out, like, in a good way\" - I wish him a good day, walk on, then I hear him calling me back --> \n",
      "I walk back and he shows me the edge of a pipe and says, \"I'm not smoking weed or I would have offered you some -- I just didn't want you to think I didn't want to kick it with you.\" I reassure him that it's all good, no offense taken, we fist bump. I walk back toward the pool.\n",
      "~~~\n",
      "MAJOR squirrel party over here! It was such a sight. \n",
      "\n",
      "Squirrel #12 was sadly being chased by a dog named \"Ziggy\"\n",
      "\n",
      "Also accidentally walked in on a private/very hip garden party -- is that allowed in CP?\n",
      "\n",
      "Was such a lovely + lively squirrel sighting spot!\n",
      "~~~\n",
      "Man yells at dog, dog barks at man, squirrel quaas at both.\n",
      "\n",
      "Lots of dogs and people loose!\n",
      "\n",
      "Squirrels heard: many.\n",
      "Squirrels seen: few.\n",
      "~~~\n",
      "Lots of squirrels were foraging in the heavily wooded area with the birds.\n",
      "~~~\n",
      "A fair number of people on and around Great Hill. One group was having a picnic. A few kids on bikes. A few dogs. Squirrels #1 through #4 observed all at one time.\n",
      "~~~\n",
      "While following the squirrel, a small warble flew up to me and began scolding me. It flew from perch to perch around me, scolding me the whole while. The squirrel slipped off during the diversion.\n",
      "\n",
      "Squirrels #2, #3, and #4 chased each other; #2 especially kept the others from getting too close.\n",
      "~~~\n",
      "Squirrels #2 and #3 were both foraging in the same tree, hence the double-X. Squirrel #4 was intently chasing a chipmunk, often in circles, until a group of teenagers wandered into the woods and scared off much of the wildlife. Also, a young Russian couple walked through to pose for photos on the rock feature.\n",
      "~~~\n",
      "Lots of joggers, bikers, cars, and construction in this area. Only squirrel spotted was in a wooded area.\n",
      "~~~\n",
      "There was a wedding party in the gardens taking pictures! Squirrel #1 ran across the path with an acorn in its mouth. It seemed to notice me, but did not react except to move more slowly. Then a man came up behind me talking loudly into his phone. #1 dropped its acorn and ran into the bushes. I stayed 5 minutes, but it didn't come back. \n",
      "#2 ran into a tree when chased by a dog, and there were at least 4 others. I suspect #2 is the one that ran from the tree up the rock first (see vid), called the second one down from the tree #6\n",
      "~~~\n",
      "#NAME?\n",
      "~~~\n",
      "Most squirrels spotted seem to be searching for food or eating near trees. Spotted several feeding outside this zone on the walk to it.\n",
      "~~~\n",
      "Squirrels #3 and #4 might be the same as #1 and #2. Two human children in the Children’s Glade. \n",
      "\n",
      "Not much squirrel action near the road. \n",
      "\n",
      "Found a cool rock ledge overlooking the avenue.\n",
      "~~~\n",
      "It’s so noisy! A cement mixer and moving truck are mixed in with the traffic. Lawn mowing is in the next quadrant, along with a group of screaming kids on the lawn. At the end, a group of chatty school kids walked by. The squirrels went about their business, chasing each other and foraging. One squirrel approached me, as if to ask whether I had food to satisfy on this windy, cool day.\n",
      "~~~\n",
      "There was a lot more squirrel activity here - away from the crowd of children (that is now 100+ screaming kids). When approaching certain areas, I could hear quaas, from the trees (even though I couldn’t see those squirrels. But I’d hear quaas from the trees when I was approaching or I saw people with dogs approaching. There were many birds as well. (sorry, hands were cold)\n",
      "~~~\n",
      "* Man feeding almonds to #9 --> he got uncomfortable when I asked why he's feeding almonds and not acorns (we were right by an acorn tree) and left\n",
      "* So many chipmunks near the meadow! \n",
      "\n",
      "* Transcendental yoga on top of Great Hill\n",
      "~~~\n",
      "Not a lot of squirrels, but there were a ton of cute dogs playing together — probably around 30.\n",
      "~~~\n",
      "Squirrels came out right after my sampling time ended. Out-squirreled again!\n",
      "~~~\n",
      "As much as I enjoyed the commuter squirrel duty, being immersed in the middle of the park allowed for a much more “lively” squirrel count. Here I witnessed squirrel after squirrel or just doing squirrel things and it was enlightning, to say the least! What I found most intriguing with this hectare was the ability for the squirrels to peacefully feed, forage, chase, and run with the tight paths and the streams running in and out. The dogs were fewer, as were the people. The comic relief came when the leaf blower got turned on and the two I was observing scattered.\n",
      "~~~\n",
      "Squirrel #8 stayed around for 10 minutes. She was foraging most of the time.\n",
      "~~~\n",
      "It’s hard to climb with a clipboard. I looped around to the A.H. Green Bench to get my bearings, hiking and climbing east. I topped a ridge and proceeded down to what looked like a deer trail. There I encountered my first squirrel and a gaggle of school girls who ran screeching when they heard me approaching.\n",
      "~~~\n",
      "It took me about 20 minutes to start seeing squirrels. So I started asking people if they'd seen any squirrels and nobody had. Just as I was about to give up, two squirrels started running around on the lawn. As I started to head back, I found one eating and one diving into the bushes. Four squirrels in about four minutes. But that's all.\n",
      "~~~\n",
      "I saw a squirrel en route to location [marked] 1 on West Drive. I told him “Happy Squirrel Appreciation Week!”\n",
      "~~~\n",
      "Squirrel #4 must not have heard me until it got down from the tree. But I got a great video of the climb down, I think.\n",
      "\n",
      "Also, on my way out, saw a guy practicing nunchaku. Quietly!\n",
      "~~~\n",
      "Even though I only saw 4 squirrels (as close into the park and far from the street) I enjoyed scouting for \"commuter squirrels\" attempting to transcend societal spaces delegated to them. Unfortunately I was unable to witness the dreary early morning commute, but I was able to catch a glimpse of a baby up in a tree!\n",
      "~~~\n",
      "Squirrel #5 was very bold!\n",
      "~~~\n",
      "Squirrel-on-squirrel fighting between 1&2, and then 3&4.\n",
      "~~~\n",
      "I forgot a note from Oct. 19, 2018 / 23-H / PM\n",
      "--> The one squirrel observed was missing most of its tail. It only had a 2-inch stub, still as fluffy as usual. \n",
      "\n",
      "For today, one path in 40-D seems to be where all the squirrels hang out. They were all quite skittish, very quick to climb up or run away when they notice a person nearby\n",
      "~~~\n",
      "Squirrel #2 climbed tree and went into knot and climbed down. Then crossed the drive, barely missing the bikers and off into the woods. Squirrel #3 eating nut sitting in tree – dinner!\n",
      "~~~\n",
      "Difficult spotting.\n",
      "They were up in the trees.\n",
      "~~~\n",
      "\"Have a good day, Boo Boo.\" \"You too, Baby.\"\n",
      "\n",
      "In low shrubbery. So quiet!\n",
      "~~~\n",
      "Squirrels #1 and #2 chill foraging activity\n",
      "~~~\n",
      "I was so excited to see a black squirrel, and followed him jumping from tree to tree. Suddenly he turned around and stared at me, as if asking, \"Why are you following me?\"\n",
      "~~~\n",
      "41-B is a quiet, forested area. There was few passerby — one guy maybe was doing drugs, and a few hikers. One couple were walking her dog. There were a few chipmunks on the ground. Generally, very isolated. I saw a black squirrel run up a tree in a gray squirrel chased it, up 25 to 30 feet. Very large chipmunk population, it turns out!\n",
      "~~~\n",
      "There were no observable squirrels by the kid's playground. Noise and lawnmowers may account for this, but more likely the absence of oaks, almonds, and sizable trees. In the off trail area, squirrels were plentiful – and not altogether friendly.\n",
      "~~~\n",
      "Lots of construction noise. One squirrel followed me around for a bit (Squirrel # 2). Sirens and ambulances passed several times.\n",
      "~~~\n",
      "A squirrel had something in his mouth, maybe an acorn, and started digging a spot in the ground, buried it, and covered it back up with dirt.\n",
      "~~~\n",
      "Rock climber \n",
      "\n",
      "sirens\n",
      "\n",
      "Hauled butt up tree after scoring his nut while other squirrel stood upright and watched, perhaps w/ acorns. \n",
      "\n",
      "Argument over dogs: \"It's your responsibility, not ours!\"\n",
      "~~~\n",
      "When I saw the first squirrel, I said, \"Oh my god!\" It was so still.\n",
      "~~~\n",
      "Cyclists, runners on road\n",
      "\n",
      "Pretty calm inside forest area\n",
      "\n",
      "Squirrel were very indifferent.\n",
      "~~~\n",
      "A few nut-producing trees, but no signs of squirrels. (Or nests.) One just beyond my hectare! \n",
      "\n",
      "A man paced back and forth singing to himself.\n",
      "\n",
      "Mallards nested (?) on the island.\n",
      "~~~\n",
      "Incredibly varied terrain — sidewalk, subway entrance, busy traffic circle, and in the park, playground, dense woods, bridge, rock outcropping, paths.\n",
      "\n",
      "A teenager doing wheelies on Cathedral Parkway, boy with superhero face paint carrying animal-balloon sword took his mother's hand as he descended subway steps. Kids skateboarding by the statue of Frederick Douglass in the middle of the circle.\n",
      "\n",
      "I saw a man stop his bike on West Drive and pull out his phone to take a picture of something and followed his view and there was the squirrel, gamboling along on the grass by some exposed rock. S/he alternated quickly — poke around on the ground, look up to assess danger, walk a few steps, poke around, look up, walk. S/he had a beautiful coat — gray with thick cinammon highlights — and a proud tail that did a flowing slinky-like motion with every change of position. After about 20 seconds, s/he darted off into a thicket heading down the embankment to where the screams of children echoed from the swings.\n",
      "~~~\n",
      "Squirrel #1 foraging — buried something before circling area.\n",
      "~~~\n",
      "Central Park North busy with traffic — loud busses.\n",
      "\n",
      "Playground quiet — two families.\n",
      "~~~\n",
      "Squirrel #3 was very hungry -- he was foraging a lot. - He didn't care about people or bikes/children. \n",
      "\n",
      "A young homeless man approached me. He was very polite, introduced himself and explained he was discharged from a Juvenile homeless shelter. He was very timid -- respectful, and when I handed him the only dollar I had, his eyes lit up. It made me feel grateful that we were counting squirrels.\n",
      "~~~\n",
      "A pack of bikers was hanging around for a while/lots of cars on the street/people at benches. Very sad at lack of squirrel friends.\n",
      "\n",
      "A pack of bikers was hanging around for a while/lots of cars on the street/people at benches. Very sad at lack of squirrel friends.\n",
      "~~~\n",
      "I verified this part of the map in June! Stewart and I rendezvoused at the triangle just outside the hectare.\n",
      "\n",
      "First squirrel sighting was just outside hectare.\n",
      "\n",
      "Construction going on across 110th Street, just outside hectare. Noise affects hectare, and of course 110th is included, but otherwise calm hectare.\n",
      "\n",
      "Litter more toward edge of park: plastic cup, receipt, gum wrappers, can tabs, cigarette butts, bags, bottles — mostly signs of humans having been there. Lots around benches on sidewalk. But! There was a CPC employee blowing it away. \n",
      "\n",
      "No squirrels on sidewalk.\n",
      "\n",
      "Got asked for money or food, not by a squirrel.\n",
      "~~~\n",
      "One or two squirrels of the same\n",
      "~~~\n",
      "Litter: Some but lots on 110th Street in park.\n",
      "\n",
      "Squirrel #1 had nut in mouth, dug many times before finding place to leave it.\n",
      "~~~\n",
      "Man in Falcons cap raising a fit, upset with woman. \n",
      "\n",
      "Kids playing.\n",
      "\n",
      "Saw Squirrel #4 pat the ground. Got excited.\n",
      "~~~\n",
      "grey body, red head — exquisite. These two appeared to be engaging in a flirtatious yet combative ritual, ending up out of sight high up in a tree.\n",
      "~~~\n",
      "Very quiet for squirrel activity but glad I managed to spot two squirrels in the fenced area.\n",
      "~~~\n",
      "I saw squirrel #1 chase squirrel #2 away from a tree. They did 3 spiral loops around a tree.\n",
      "~~~\n"
     ]
    }
   ],
   "source": [
    "for i in squirrel_stories[squirrel_stories['Story Topic: Squirrel Experience or Squirrel Story']==True]['Note Squirrel & Park Stories']:\n",
    "    print(i)\n",
    "    print('~~~')"
   ]
  },
  {
   "cell_type": "code",
   "execution_count": 19,
   "id": "0e439c51",
   "metadata": {
    "scrolled": true
   },
   "outputs": [
    {
     "name": "stdout",
     "output_type": "stream",
     "text": [
      "A couple walked by to feed squirrel 7. Squirrel 6 would find a round object on the ground, like a nut, and tumbled/rolled around with it.\n",
      "~~~\n",
      "This section is off the beaten path for the squirrels. However, tourist seem to love and feed them. Squirrels are real hams posing for the camera and are not shy about accepting treats (AKA nuts). It seems I hit the squirrel jackpot. I'm sure there are more! These are the creatures that graced my path. Really enjoyable. Hope to do it again. \n",
      "5 in total!\n",
      "~~~\n",
      "(1) ate then ran away when golf cart traveled on pathway \n",
      "(6) tail white tip\n",
      "Hallett Nature Sanctuary \n",
      "Bird Sanctuary opens 10am\n",
      "(11,12,13) chased each other \n",
      "#1-6 9:12AM to 9:36AM\n",
      "#7-13 10AM to 10:06AM\n",
      "~~~\n",
      "The area I was monitoring was mostly open field, bordered by a few London planetrees. There were no squirrels to be seen, and I speculated this might be because the trees do not provide sustenance for the squirrels. Suddenly, I saw one. It was thrashing around like a maniac, but it was kind of far away — visibility was poor. As I made a stealthy approach, the squirrel suddenly broke into two shapes and flew away! It was a couple of starlings in a death match or — it dawned on me — consummating an affair of the heart. No squirrels were seen, but I did begin the composition of my starling romance novel.\n",
      "~~~\n",
      "Super loud drummers near Beethoven! \n",
      "\n",
      "Older woman talked to me as I was recording squirrel #1 -- said she always carries peanuts in her pocket so she can stop by + feed her squirrel friend \"Chiquita\" every day! She called its name + it stood up straight + ran over to her, got its nut, + ran away. She said she knows it's illegal to feed them but does it anyway. :)\n",
      "~~~\n",
      "(1) Walking tour group\n",
      "(2) Cyclist who had a whistle in her mouth and blew it when people were in her way\n",
      "(3) Squirrel 5 was like an acrobat, hanging onto a branch by its legs upside down. \n",
      "It would pull leaves off, eat them, then toss whatever it couldn't eat onto the ground \n",
      "(4) Squirrel 5 and 4 chased each other through trees\n",
      "~~~\n",
      "Very heavy foot traffic. Squirrels maybe don't like John Lennon tunes?\n",
      "~~~\n",
      "Small birds climbing trees in the area \n",
      "Observed a squirrel in greenery on the ground  looking like he was burying something buy he was flailing his arms our - when he noticed us watching he quickly ran to a nearby tree and stopped what he was doing\n",
      "~~~\n",
      "(1) Cloudy left eye \n",
      "most were foraging and eating \n",
      "(16) climbed on structure\n",
      "~~~\n",
      "As we entered the hectare, we were met by Sheryl (the squirrel). Sheryl was handing out with her brother, Harold. The two of them (#2 and 3 on the map) foraged together and found many delicious nuts. Eventually, feeling full, Sheryl let out a kuk and she and Harold scurried off back to their cozy squirrel home.\n",
      "~~~\n",
      "3: scratched ear like dog?\n",
      "acorn may or may not have been deliberately dropped on one census taker's head\n",
      "~~~\n",
      "The green space is pretty empty but the sidewalks/roads have a few people with dogs. The squirrels seem to be chasing each other through the shade. Sunny patches of dried leaves, seemingly not noticing people and dogs. And when they do, they freeze where they are. \n",
      "\n",
      "One squirrel kept rubbing its face after digging. If was a human would spread lotion on her face. Then continued to bite its back like a grooming cat.\n",
      "~~~\n",
      "Juvenile squirrel in a small hollow nest about a foot up in a tree. Hole was just big enough for squirrel's head. He was curious but afraid -- He could twist inside the hollow & would pull inside & then dart his head out to view me in 360 directions. Adult squirrel watched closely, clinging to a branch higher in the tree.\n",
      "~~~\n",
      "#NAME?\n",
      "~~~\n",
      "ROBINS HAVING BATH\n",
      "BLUE JAYS \n",
      "WOOD PECKER \n",
      "ONE SQUIRREL TILTED HEAD STRANGELY \n",
      "WHILE CHEWING\n",
      "~~~\n",
      "So many squirrels! \n",
      "In a small area \n",
      "surrounded by foot paths \n",
      "& a loud playing field \n",
      "One fat one hung upside down on the bottom of a tree for 20 mins\n",
      "~~~\n",
      "Father and daughter playing softball \n",
      "She's pretty good! \n",
      "\n",
      "Squirrel #2 was very engaging. \n",
      "He climbed up onto a tree and came about [unknown word] to me (maybe 2 feet away) and he [unknown word] upside down on the tree and sort of lunged at me with his torso (not aggressive) (more playful) very cute!\n",
      "~~~\n",
      "Squirrel #9 looked suspiciously at me while using its hind legs to pat the ground protectively!\n",
      "~~~\n",
      "A squirrel tucked its tail over its shoulder. I didn't know they could do that.\n",
      "~~~\n",
      "Squirrel #2 was climbing with a twig in his mouth. It was obvious he was up to something important. The trees here weren't very numerous or condensed.\n",
      "~~~\n",
      "Squirrel #2 kept chasing a chipmunk away. Three French and Two German tourists zeroed in on this. At one point while digging, squirrel #2 came across something that made him jump up and run a few feet away. Somebody enjoyed some marijuana. Far more chipmunks than squirrels visible. Very dense woodlands with dense undergrowth probably hid more. A fair number of people, but they were quiet and stayed on the paths.\n",
      "~~~\n",
      "Observed 1-2 squirrel nests in trees at 102nd and btwn 102-103. Large number feeding just inside the park, including many juveniles (incl. several very small ones). It's a quieter spot w/ few dogs, maybe a blue jay nest, so lots of activity. \n",
      "\n",
      "I walked past one family and I swear as I went by, the father muttered to the mother \"squirrel census.\"\n",
      "\n",
      "One squirrel was munching on an entire sandwich. Not clear whether it was found or stolen.\n",
      "~~~\n",
      "I didn't see a lot of communication -- or perhaps I'm not great at identifying it. The chipmunks and birds are vocal, but the squirrels calmly go about their business. \n",
      "\n",
      "As I write these notes, I look up from my clipboard to see a squirrel looking me in the eye. He steps forward, puts a front paw to his chest, \"Who, me?\"\n",
      "\n",
      "Yes. You.\n",
      "~~~\n",
      "Squirrels don't like weddings.\n",
      "~~~\n"
     ]
    }
   ],
   "source": [
    "for i in squirrel_stories[squirrel_stories['Story Topic: Squirrels Acting Odd']==True]['Note Squirrel & Park Stories']:\n",
    "    print(i)\n",
    "    print('~~~')"
   ]
  },
  {
   "cell_type": "code",
   "execution_count": null,
   "id": "e384d665",
   "metadata": {},
   "outputs": [],
   "source": []
  },
  {
   "cell_type": "code",
   "execution_count": null,
   "id": "e33d8619",
   "metadata": {},
   "outputs": [],
   "source": []
  },
  {
   "cell_type": "code",
   "execution_count": null,
   "id": "e786ac67",
   "metadata": {},
   "outputs": [],
   "source": []
  }
 ],
 "metadata": {
  "kernelspec": {
   "display_name": "data_scores",
   "language": "python",
   "name": "data_scores"
  },
  "language_info": {
   "codemirror_mode": {
    "name": "ipython",
    "version": 3
   },
   "file_extension": ".py",
   "mimetype": "text/x-python",
   "name": "python",
   "nbconvert_exporter": "python",
   "pygments_lexer": "ipython3",
   "version": "3.10.2"
  }
 },
 "nbformat": 4,
 "nbformat_minor": 5
}
