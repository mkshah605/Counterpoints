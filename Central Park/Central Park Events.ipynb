{
 "cells": [
  {
   "cell_type": "code",
   "execution_count": null,
   "id": "39f0e755",
   "metadata": {},
   "outputs": [],
   "source": [
    "# Use conda enironment called data_scores\n",
    "\n",
    "# conda create -n data_scores -c conda-forge rasterio jupyter geojson pandas numpy \n",
    "# conda activate data_scores\n",
    "# python -m ipykernel install --user --name=data_scores"
   ]
  },
  {
   "cell_type": "code",
   "execution_count": null,
   "id": "eed52aba",
   "metadata": {},
   "outputs": [],
   "source": [
    "import pandas as pd\n",
    "import numpy as np\n",
    "import plotly.express as px"
   ]
  },
  {
   "cell_type": "code",
   "execution_count": null,
   "id": "bb65e563",
   "metadata": {},
   "outputs": [],
   "source": []
  }
 ],
 "metadata": {
  "kernelspec": {
   "display_name": "data_scores",
   "language": "python",
   "name": "data_scores"
  },
  "language_info": {
   "codemirror_mode": {
    "name": "ipython",
    "version": 3
   },
   "file_extension": ".py",
   "mimetype": "text/x-python",
   "name": "python",
   "nbconvert_exporter": "python",
   "pygments_lexer": "ipython3",
   "version": "3.10.2"
  }
 },
 "nbformat": 4,
 "nbformat_minor": 5
}
