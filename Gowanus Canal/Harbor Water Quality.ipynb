{
 "cells": [
  {
   "cell_type": "code",
   "execution_count": 1,
   "id": "c911289b",
   "metadata": {},
   "outputs": [],
   "source": [
    "# Use conda enironment called data_scores\n",
    "\n",
    "# conda create -n data_scores -c conda-forge rasterio jupyter geojson pandas numpy \n",
    "# conda activate data_scores\n",
    "# python -m ipykernel install --user --name=data_scores"
   ]
  },
  {
   "cell_type": "code",
   "execution_count": 423,
   "id": "29540ffb",
   "metadata": {},
   "outputs": [],
   "source": [
    "import pandas as pd\n",
    "import numpy as np\n",
    "import plotly.express as px\n",
    "import plotly.graph_objects as go"
   ]
  },
  {
   "cell_type": "code",
   "execution_count": 554,
   "id": "7890e098",
   "metadata": {
    "scrolled": true
   },
   "outputs": [
    {
     "name": "stderr",
     "output_type": "stream",
     "text": [
      "/var/folders/2z/1nrgnypj77l8fzt2ybvcrf580000gp/T/ipykernel_46331/949047326.py:1: DtypeWarning:\n",
      "\n",
      "Columns (5,6,10,11,12,13,20,21,26,27,36,38,39,40,46,51,53,55,59,60,61,64,65,76,82,83,88,94,95,97,98) have mixed types. Specify dtype option on import or set low_memory=False.\n",
      "\n"
     ]
    }
   ],
   "source": [
    "harbor_data = pd.read_csv(r'/Users/mansi/Downloads/Harbor_Water_Quality.csv')"
   ]
  },
  {
   "cell_type": "code",
   "execution_count": 555,
   "id": "2cbb7fc4",
   "metadata": {
    "scrolled": true
   },
   "outputs": [
    {
     "data": {
      "text/html": [
       "<div>\n",
       "<style scoped>\n",
       "    .dataframe tbody tr th:only-of-type {\n",
       "        vertical-align: middle;\n",
       "    }\n",
       "\n",
       "    .dataframe tbody tr th {\n",
       "        vertical-align: top;\n",
       "    }\n",
       "\n",
       "    .dataframe thead th {\n",
       "        text-align: right;\n",
       "    }\n",
       "</style>\n",
       "<table border=\"1\" class=\"dataframe\">\n",
       "  <thead>\n",
       "    <tr style=\"text-align: right;\">\n",
       "      <th></th>\n",
       "      <th>Sampling Location</th>\n",
       "      <th>Duplicate Sample</th>\n",
       "      <th>Sample Date</th>\n",
       "      <th>Sample Time</th>\n",
       "      <th>Weather Condition (Dry or Wet)</th>\n",
       "      <th>Top Sample Temperature (ºC)</th>\n",
       "      <th>Bottom Sample Temperature (ºC)</th>\n",
       "      <th>Site Actual Depth (ft)</th>\n",
       "      <th>Top Sample Depth(ft)</th>\n",
       "      <th>Bottom Sample Depth (ft)</th>\n",
       "      <th>...</th>\n",
       "      <th>Oakwood BOD Top Sample (mg/L)</th>\n",
       "      <th>Oakwood BOD Bottom Sample(mg/L)</th>\n",
       "      <th>Oakwood  Total Suspended Solid Top Sample  (mg/L)</th>\n",
       "      <th>Oakwood Total Suspended Solid Bottom Sample (mg/L)</th>\n",
       "      <th>Top Turbidity( Nephelometric Turbidity Units)</th>\n",
       "      <th>Bottom Turbidity YSI (Nephelometric Turbidity Units)</th>\n",
       "      <th>Sampling Comment</th>\n",
       "      <th>Long</th>\n",
       "      <th>Lat</th>\n",
       "      <th>Type</th>\n",
       "    </tr>\n",
       "  </thead>\n",
       "  <tbody>\n",
       "    <tr>\n",
       "      <th>0</th>\n",
       "      <td>BR5</td>\n",
       "      <td>NaN</td>\n",
       "      <td>08/17/2015</td>\n",
       "      <td>1:07 PM</td>\n",
       "      <td>Dry</td>\n",
       "      <td>24.68</td>\n",
       "      <td>NaN</td>\n",
       "      <td>13.00</td>\n",
       "      <td>3.0</td>\n",
       "      <td>NaN</td>\n",
       "      <td>...</td>\n",
       "      <td>NaN</td>\n",
       "      <td>NaN</td>\n",
       "      <td>NaN</td>\n",
       "      <td>NaN</td>\n",
       "      <td>NaN</td>\n",
       "      <td>NaN</td>\n",
       "      <td>NaN</td>\n",
       "      <td>-73.871333</td>\n",
       "      <td>40.813667</td>\n",
       "      <td>Permanent</td>\n",
       "    </tr>\n",
       "    <tr>\n",
       "      <th>1</th>\n",
       "      <td>K2</td>\n",
       "      <td>NaN</td>\n",
       "      <td>07/06/1965</td>\n",
       "      <td>9:50 AM</td>\n",
       "      <td>NaN</td>\n",
       "      <td>22.8</td>\n",
       "      <td>22.2</td>\n",
       "      <td>21.00</td>\n",
       "      <td>NaN</td>\n",
       "      <td>NaN</td>\n",
       "      <td>...</td>\n",
       "      <td>NaN</td>\n",
       "      <td>NaN</td>\n",
       "      <td>NaN</td>\n",
       "      <td>NaN</td>\n",
       "      <td>NaN</td>\n",
       "      <td>NaN</td>\n",
       "      <td>NaN</td>\n",
       "      <td>-74.153</td>\n",
       "      <td>40.641167</td>\n",
       "      <td>Permanent</td>\n",
       "    </tr>\n",
       "    <tr>\n",
       "      <th>2</th>\n",
       "      <td>N8</td>\n",
       "      <td>NaN</td>\n",
       "      <td>07/16/1909</td>\n",
       "      <td>4:10 PM</td>\n",
       "      <td>NaN</td>\n",
       "      <td>20</td>\n",
       "      <td>NaN</td>\n",
       "      <td>NaN</td>\n",
       "      <td>1.0</td>\n",
       "      <td>NaN</td>\n",
       "      <td>...</td>\n",
       "      <td>NaN</td>\n",
       "      <td>NaN</td>\n",
       "      <td>NaN</td>\n",
       "      <td>NaN</td>\n",
       "      <td>NaN</td>\n",
       "      <td>NaN</td>\n",
       "      <td>NaN</td>\n",
       "      <td>-74.0455</td>\n",
       "      <td>40.606167</td>\n",
       "      <td>Permanent</td>\n",
       "    </tr>\n",
       "    <tr>\n",
       "      <th>3</th>\n",
       "      <td>N9</td>\n",
       "      <td>NaN</td>\n",
       "      <td>07/27/1972</td>\n",
       "      <td>9:22 AM</td>\n",
       "      <td>NaN</td>\n",
       "      <td>17.2</td>\n",
       "      <td>16.1</td>\n",
       "      <td>NaN</td>\n",
       "      <td>NaN</td>\n",
       "      <td>NaN</td>\n",
       "      <td>...</td>\n",
       "      <td>0.6</td>\n",
       "      <td>0.6</td>\n",
       "      <td>NaN</td>\n",
       "      <td>NaN</td>\n",
       "      <td>NaN</td>\n",
       "      <td>NaN</td>\n",
       "      <td>NaN</td>\n",
       "      <td>-73.983333</td>\n",
       "      <td>40.568333</td>\n",
       "      <td>Permanent</td>\n",
       "    </tr>\n",
       "    <tr>\n",
       "      <th>4</th>\n",
       "      <td>NC0</td>\n",
       "      <td>NaN</td>\n",
       "      <td>02/26/2014</td>\n",
       "      <td>10:45 AM</td>\n",
       "      <td>Dry</td>\n",
       "      <td>2.51</td>\n",
       "      <td>2.46</td>\n",
       "      <td>15.00</td>\n",
       "      <td>3.0</td>\n",
       "      <td>12.0</td>\n",
       "      <td>...</td>\n",
       "      <td>NaN</td>\n",
       "      <td>NaN</td>\n",
       "      <td>NaN</td>\n",
       "      <td>NaN</td>\n",
       "      <td>NaN</td>\n",
       "      <td>NaN</td>\n",
       "      <td>Light snow</td>\n",
       "      <td>-73.931556</td>\n",
       "      <td>40.714961</td>\n",
       "      <td>Permanent</td>\n",
       "    </tr>\n",
       "    <tr>\n",
       "      <th>...</th>\n",
       "      <td>...</td>\n",
       "      <td>...</td>\n",
       "      <td>...</td>\n",
       "      <td>...</td>\n",
       "      <td>...</td>\n",
       "      <td>...</td>\n",
       "      <td>...</td>\n",
       "      <td>...</td>\n",
       "      <td>...</td>\n",
       "      <td>...</td>\n",
       "      <td>...</td>\n",
       "      <td>...</td>\n",
       "      <td>...</td>\n",
       "      <td>...</td>\n",
       "      <td>...</td>\n",
       "      <td>...</td>\n",
       "      <td>...</td>\n",
       "      <td>...</td>\n",
       "      <td>...</td>\n",
       "      <td>...</td>\n",
       "      <td>...</td>\n",
       "    </tr>\n",
       "    <tr>\n",
       "      <th>93702</th>\n",
       "      <td>NC3</td>\n",
       "      <td>D</td>\n",
       "      <td>08/13/2020</td>\n",
       "      <td>12:07 PM</td>\n",
       "      <td>NaN</td>\n",
       "      <td>NaN</td>\n",
       "      <td>NaN</td>\n",
       "      <td>NaN</td>\n",
       "      <td>NaN</td>\n",
       "      <td>NaN</td>\n",
       "      <td>...</td>\n",
       "      <td>NaN</td>\n",
       "      <td>NaN</td>\n",
       "      <td>NaN</td>\n",
       "      <td>NaN</td>\n",
       "      <td>NaN</td>\n",
       "      <td>NaN</td>\n",
       "      <td>NaN</td>\n",
       "      <td>-73.94617</td>\n",
       "      <td>40.73717,,,,,,,,,,,,,,,,,,,,,,,,,</td>\n",
       "      <td>Permanent</td>\n",
       "    </tr>\n",
       "    <tr>\n",
       "      <th>93703</th>\n",
       "      <td>N6</td>\n",
       "      <td>NaN</td>\n",
       "      <td>09/02/2020</td>\n",
       "      <td>2:49 PM</td>\n",
       "      <td>Wet</td>\n",
       "      <td>23.35</td>\n",
       "      <td>21.99</td>\n",
       "      <td>50.00</td>\n",
       "      <td>3.0</td>\n",
       "      <td>46.0</td>\n",
       "      <td>...</td>\n",
       "      <td>NaN</td>\n",
       "      <td>NaN</td>\n",
       "      <td>NaN</td>\n",
       "      <td>NaN</td>\n",
       "      <td>NaN</td>\n",
       "      <td>NaN</td>\n",
       "      <td>NaN</td>\n",
       "      <td>-74.05133</td>\n",
       "      <td>40.66467,,,,,,,,,,,,,,,,,,,,,,,,,</td>\n",
       "      <td>Permanent</td>\n",
       "    </tr>\n",
       "    <tr>\n",
       "      <th>93704</th>\n",
       "      <td>J2</td>\n",
       "      <td>NaN</td>\n",
       "      <td>08/09/2021</td>\n",
       "      <td>3:11 PM</td>\n",
       "      <td>W</td>\n",
       "      <td>NaN</td>\n",
       "      <td>NaN</td>\n",
       "      <td>41.00</td>\n",
       "      <td>NaN</td>\n",
       "      <td>NaN</td>\n",
       "      <td>...</td>\n",
       "      <td>NaN</td>\n",
       "      <td>NaN</td>\n",
       "      <td>NaN</td>\n",
       "      <td>NaN</td>\n",
       "      <td>NaN</td>\n",
       "      <td>NaN</td>\n",
       "      <td>NaN</td>\n",
       "      <td>-73.88583</td>\n",
       "      <td>40.60805,</td>\n",
       "      <td>Provisional</td>\n",
       "    </tr>\n",
       "    <tr>\n",
       "      <th>93705</th>\n",
       "      <td>GC6</td>\n",
       "      <td>NaN</td>\n",
       "      <td>08/19/2020</td>\n",
       "      <td>10:09 AM</td>\n",
       "      <td>Wet</td>\n",
       "      <td>NaN</td>\n",
       "      <td>NaN</td>\n",
       "      <td>15.82</td>\n",
       "      <td>NaN</td>\n",
       "      <td>NaN</td>\n",
       "      <td>...</td>\n",
       "      <td>NaN</td>\n",
       "      <td>NaN</td>\n",
       "      <td>NaN</td>\n",
       "      <td>NaN</td>\n",
       "      <td>1.46</td>\n",
       "      <td>1.59</td>\n",
       "      <td>NaN</td>\n",
       "      <td>-73.99639</td>\n",
       "      <td>40.67417,,,,,,,,,,,,,,,,,,,,,,,,,</td>\n",
       "      <td>Permanent</td>\n",
       "    </tr>\n",
       "    <tr>\n",
       "      <th>93706</th>\n",
       "      <td>JA1</td>\n",
       "      <td>NaN</td>\n",
       "      <td>02/11/2021</td>\n",
       "      <td>10:28 AM</td>\n",
       "      <td>W</td>\n",
       "      <td>NaN</td>\n",
       "      <td>NaN</td>\n",
       "      <td>24.00</td>\n",
       "      <td>NaN</td>\n",
       "      <td>NaN</td>\n",
       "      <td>...</td>\n",
       "      <td>NaN</td>\n",
       "      <td>NaN</td>\n",
       "      <td>NaN</td>\n",
       "      <td>NaN</td>\n",
       "      <td>1.8</td>\n",
       "      <td>NaN</td>\n",
       "      <td>NaN</td>\n",
       "      <td>-73.813</td>\n",
       "      <td>40.643,</td>\n",
       "      <td>Provisional</td>\n",
       "    </tr>\n",
       "  </tbody>\n",
       "</table>\n",
       "<p>93707 rows × 100 columns</p>\n",
       "</div>"
      ],
      "text/plain": [
       "      Sampling Location Duplicate Sample Sample Date Sample Time  \\\n",
       "0                   BR5              NaN  08/17/2015     1:07 PM   \n",
       "1                    K2              NaN  07/06/1965     9:50 AM   \n",
       "2                    N8              NaN  07/16/1909     4:10 PM   \n",
       "3                    N9              NaN  07/27/1972     9:22 AM   \n",
       "4                   NC0              NaN  02/26/2014    10:45 AM   \n",
       "...                 ...              ...         ...         ...   \n",
       "93702               NC3                D  08/13/2020    12:07 PM   \n",
       "93703                N6              NaN  09/02/2020     2:49 PM   \n",
       "93704                J2              NaN  08/09/2021     3:11 PM   \n",
       "93705               GC6              NaN  08/19/2020    10:09 AM   \n",
       "93706               JA1              NaN  02/11/2021    10:28 AM   \n",
       "\n",
       "      Weather Condition (Dry or Wet) Top Sample Temperature (ºC)  \\\n",
       "0                                Dry                       24.68   \n",
       "1                                NaN                        22.8   \n",
       "2                                NaN                          20   \n",
       "3                                NaN                        17.2   \n",
       "4                                Dry                        2.51   \n",
       "...                              ...                         ...   \n",
       "93702                            NaN                         NaN   \n",
       "93703                            Wet                       23.35   \n",
       "93704                              W                         NaN   \n",
       "93705                            Wet                         NaN   \n",
       "93706                              W                         NaN   \n",
       "\n",
       "      Bottom Sample Temperature (ºC)  Site Actual Depth (ft)  \\\n",
       "0                                NaN                   13.00   \n",
       "1                               22.2                   21.00   \n",
       "2                                NaN                     NaN   \n",
       "3                               16.1                     NaN   \n",
       "4                               2.46                   15.00   \n",
       "...                              ...                     ...   \n",
       "93702                            NaN                     NaN   \n",
       "93703                          21.99                   50.00   \n",
       "93704                            NaN                   41.00   \n",
       "93705                            NaN                   15.82   \n",
       "93706                            NaN                   24.00   \n",
       "\n",
       "       Top Sample Depth(ft)  Bottom Sample Depth (ft)  ...  \\\n",
       "0                       3.0                       NaN  ...   \n",
       "1                       NaN                       NaN  ...   \n",
       "2                       1.0                       NaN  ...   \n",
       "3                       NaN                       NaN  ...   \n",
       "4                       3.0                      12.0  ...   \n",
       "...                     ...                       ...  ...   \n",
       "93702                   NaN                       NaN  ...   \n",
       "93703                   3.0                      46.0  ...   \n",
       "93704                   NaN                       NaN  ...   \n",
       "93705                   NaN                       NaN  ...   \n",
       "93706                   NaN                       NaN  ...   \n",
       "\n",
       "      Oakwood BOD Top Sample (mg/L)  Oakwood BOD Bottom Sample(mg/L)  \\\n",
       "0                                NaN                             NaN   \n",
       "1                                NaN                             NaN   \n",
       "2                                NaN                             NaN   \n",
       "3                                0.6                             0.6   \n",
       "4                                NaN                             NaN   \n",
       "...                              ...                             ...   \n",
       "93702                            NaN                             NaN   \n",
       "93703                            NaN                             NaN   \n",
       "93704                            NaN                             NaN   \n",
       "93705                            NaN                             NaN   \n",
       "93706                            NaN                             NaN   \n",
       "\n",
       "      Oakwood  Total Suspended Solid Top Sample  (mg/L)  \\\n",
       "0                                                   NaN   \n",
       "1                                                   NaN   \n",
       "2                                                   NaN   \n",
       "3                                                   NaN   \n",
       "4                                                   NaN   \n",
       "...                                                 ...   \n",
       "93702                                               NaN   \n",
       "93703                                               NaN   \n",
       "93704                                               NaN   \n",
       "93705                                               NaN   \n",
       "93706                                               NaN   \n",
       "\n",
       "      Oakwood Total Suspended Solid Bottom Sample (mg/L)  \\\n",
       "0                                                    NaN   \n",
       "1                                                    NaN   \n",
       "2                                                    NaN   \n",
       "3                                                    NaN   \n",
       "4                                                    NaN   \n",
       "...                                                  ...   \n",
       "93702                                                NaN   \n",
       "93703                                                NaN   \n",
       "93704                                                NaN   \n",
       "93705                                                NaN   \n",
       "93706                                                NaN   \n",
       "\n",
       "       Top Turbidity( Nephelometric Turbidity Units)  \\\n",
       "0                                                NaN   \n",
       "1                                                NaN   \n",
       "2                                                NaN   \n",
       "3                                                NaN   \n",
       "4                                                NaN   \n",
       "...                                              ...   \n",
       "93702                                            NaN   \n",
       "93703                                            NaN   \n",
       "93704                                            NaN   \n",
       "93705                                           1.46   \n",
       "93706                                            1.8   \n",
       "\n",
       "       Bottom Turbidity YSI (Nephelometric Turbidity Units)  Sampling Comment  \\\n",
       "0                                                    NaN                  NaN   \n",
       "1                                                    NaN                  NaN   \n",
       "2                                                    NaN                  NaN   \n",
       "3                                                    NaN                  NaN   \n",
       "4                                                    NaN           Light snow   \n",
       "...                                                  ...                  ...   \n",
       "93702                                                NaN                  NaN   \n",
       "93703                                                NaN                  NaN   \n",
       "93704                                                NaN                  NaN   \n",
       "93705                                               1.59                  NaN   \n",
       "93706                                                NaN                  NaN   \n",
       "\n",
       "            Long                                Lat         Type  \n",
       "0     -73.871333                          40.813667    Permanent  \n",
       "1        -74.153                          40.641167    Permanent  \n",
       "2       -74.0455                          40.606167    Permanent  \n",
       "3     -73.983333                          40.568333    Permanent  \n",
       "4     -73.931556                          40.714961    Permanent  \n",
       "...          ...                                ...          ...  \n",
       "93702  -73.94617  40.73717,,,,,,,,,,,,,,,,,,,,,,,,,    Permanent  \n",
       "93703  -74.05133  40.66467,,,,,,,,,,,,,,,,,,,,,,,,,    Permanent  \n",
       "93704  -73.88583                          40.60805,  Provisional  \n",
       "93705  -73.99639  40.67417,,,,,,,,,,,,,,,,,,,,,,,,,    Permanent  \n",
       "93706    -73.813                            40.643,  Provisional  \n",
       "\n",
       "[93707 rows x 100 columns]"
      ]
     },
     "execution_count": 555,
     "metadata": {},
     "output_type": "execute_result"
    }
   ],
   "source": [
    "harbor_data"
   ]
  },
  {
   "cell_type": "code",
   "execution_count": 556,
   "id": "c6a8b1b5",
   "metadata": {},
   "outputs": [
    {
     "data": {
      "text/plain": [
       "['Light snow',\n",
       " 'No Turbidity probe.',\n",
       " 'dark green water',\n",
       " 'No turbidity sensor',\n",
       " 'Brown Water.',\n",
       " 'Brownish water.',\n",
       " 'No Turbidity probe.',\n",
       " 'Dark Green Water',\n",
       " 'TOP only due too shalow',\n",
       " 'No pH probe.',\n",
       " 'bottom samples taken with kemmerer max depth 50ft (rope 60 ft)',\n",
       " 'No turbidity sensor',\n",
       " 'Fecal Top sample is questionable',\n",
       " 'PH probe not working properly.',\n",
       " 'Rough waters.',\n",
       " 'Fecal Top sample is questionable',\n",
       " 'PH readings were removed from the data.Probe was recalibrated.',\n",
       " 'Palm size to 1/2 size jellyfish groups spotted on site.',\n",
       " 'PH probe not working properly.',\n",
       " 'Fecal Top sample is questionable',\n",
       " 'Very low water.',\n",
       " 'Windy and choppy.',\n",
       " 'Dark Green Water',\n",
       " 'Very low water',\n",
       " 'No Turbidity probe.',\n",
       " 'Blackish tint to water.',\n",
       " \"Sample taken South of Buoy 10. See captain's log for actual Lat and Long.\",\n",
       " 'no reliable numbers for enterococcus',\n",
       " 'No pH probe.',\n",
       " 'some brownish water on outfall area and also clorine residue was positive when samples were dropped into microlab',\n",
       " 'Very Rough.',\n",
       " 'Dropped Winkler DO + FC only 3 crew members.',\n",
       " 'Water is milky green',\n",
       " 'Green Water.',\n",
       " 'Very muddy samples; very low tide.',\n",
       " 'Dark brown water.',\n",
       " 'Light rain.',\n",
       " 'no access',\n",
       " 'Brownish water',\n",
       " 'no sechi too dark',\n",
       " 'No Turbidity probe.',\n",
       " 'no secchi readings disk detached from rope',\n",
       " 'Fecal Top sample is questionable',\n",
       " 'No pH probe.',\n",
       " 'top samples only with kemmerer',\n",
       " 'BR,AC - LOW TIDAL PHASE',\n",
       " 'dark green water',\n",
       " 'kemmerer used to sample',\n",
       " 'N4 & N3B(TSS)-Unusually high suspended matter content observed. Sample was visually ipected and verified.',\n",
       " 'A lot of floatables.',\n",
       " 'Green water; small algae slick.',\n",
       " 'No turbidity sensor. Chlorophyll a - samples were analyzed outside the holding time. Instead of 11/14/16 analysis was performed on 11/16/16. Data are questionable.',\n",
       " 'No Secchi due to poor light.',\n",
       " 'water has brown algae bloom (YR)',\n",
       " 'high water, heavy rain after 11:10 am',\n",
       " 'Special Note : The entire run was duplicated for bacteria analysis.',\n",
       " 'Greenish water.',\n",
       " 'The rest of the Jamaica trip was cancelled due to rough waters.',\n",
       " 'Blackish tint to water.',\n",
       " 'Fecal Top sample is questionable',\n",
       " 'Fecal Top sample is questionable',\n",
       " 'Windy / Choppy.',\n",
       " 'rain',\n",
       " 'No samples for Nuts or Bacteria, exceeded holding time.',\n",
       " 'Choppy.',\n",
       " 'Green water',\n",
       " 'current speed estimated due to high wind',\n",
       " 'A low result was observed. QC control meet.',\n",
       " 'Lab Accident, sample got spilled over, unable to confirm it with re-run\\x1a.',\n",
       " 'cotruction was blocking the creek at the Belt parkway bridge (MK)',\n",
       " 'Water color, Milky green .Oily sheen.',\n",
       " 'Aeration on',\n",
       " 'YSI-EXO2',\n",
       " 'Fecal Top sample is questionable',\n",
       " 'Very rough waters',\n",
       " 'No pH probe.',\n",
       " 'Emergency Respoe. N.J. Bypass.',\n",
       " 'No bottom due to malfunction of overhead winch.',\n",
       " 'Fecal Top sample is questionable',\n",
       " 'No turbidity sensor',\n",
       " \"No Chl 'a' sensor.\",\n",
       " 'Brown Water',\n",
       " 'Windy.',\n",
       " 'Very High Water Level, a lot of debris near sample collection station.',\n",
       " 'Lots of floatable, brown globs,leaves, algae,etc.',\n",
       " 'A lot of debris  and floatables around the stasion.',\n",
       " 'No turbidity sensor. Chlorophyll a - samples were analyzed outside the holding time. Instead of 11/14/16 analysis was performed on 11/16/16. Data are questionable.',\n",
       " 'Fecal Top sample is questionable',\n",
       " 'Green Water.',\n",
       " 'No Turbidity probe.',\n",
       " 'No bottom due to malfunction of overhead winch.',\n",
       " 'Tug moving in front of Osprey',\n",
       " 'Bottom - TSS level was above the historically expected range Sample was visually inspected and verified.',\n",
       " 'Lab: SiO2 analysis was repeated to confirm the result. The average was reported.',\n",
       " 'Greenish water. Bottom readings at ~ 5ft. Handheld CTD set malfunction at first site (GC3). Came backt to office got a different one.',\n",
       " 'No Turbidity probe.',\n",
       " 'Brown water.',\n",
       " 'No bottom due to malfunction of overhead winch.',\n",
       " 'Aeration off; reddish brown water;  low DO readings.',\n",
       " 'floatables noticed and brown water',\n",
       " 'top samples only with kemmerer',\n",
       " 'Sea cable caused the short out; it was fixed with a splice.',\n",
       " 'Brown Water',\n",
       " 'Brown water',\n",
       " 'No Turbidity probe.',\n",
       " 'Dark Green Water',\n",
       " \"pH probe malfunction. No Chl 'a' sensor.\",\n",
       " 'Fecal Top sample is questionable',\n",
       " 'Murky Green Water and oily sheen.',\n",
       " 'A lot of fish at the mouth of the outfall, small and big.',\n",
       " 'No bottom due to malfunction of overhead winch.',\n",
       " 'Brown water. High CHL and DO values; TAKEN SEVERAL TIMES. Chlorophyll-a- high result was observed.  All QC controls were met.',\n",
       " 'Access blocked',\n",
       " 'Fecal Top sample is questionable',\n",
       " 'blocked by cotruction',\n",
       " 'stinks',\n",
       " 'Brownish water.',\n",
       " \"No Chl 'a' sensor.\",\n",
       " 'Dark Green Water',\n",
       " 'Greenish water.',\n",
       " 'Very low DO.',\n",
       " 'top samples only with kemmerer',\n",
       " 'No turbidity sensor',\n",
       " 'Dark brown water. Aeration on.  Ammonia result > TKN result - both analysis were repeated and confirmed. As a result  both results are questionable.',\n",
       " 'Fecal Top sample is questionable',\n",
       " 'No pH probe.  Depth was not recorded.',\n",
       " 'Aeration on',\n",
       " 'DO value is really high the concentration of Na2S2O3  should be tested.',\n",
       " 'a lot of sdiments in the water',\n",
       " 'No turbidity sensor. Many floatables noticed; plenty of plastic bottles',\n",
       " 'Light rain.',\n",
       " 'Very low D.O.',\n",
       " 'access blocked bycotruction barge',\n",
       " 'PH readings were removed from the data.Probe was recalibrated.',\n",
       " 'Dropped Winkler DO + FC only 3 crew members.',\n",
       " 'bottom samples taken with kemmerer max depth 50ft (rope 60 ft)',\n",
       " 'Water looks cloudy and smells like sulfur.Plenty of floatables.',\n",
       " 'At BR3, PH is too high even after multiple readings.',\n",
       " 'Dark Green Water',\n",
       " 'Low tide. Water murky and green.',\n",
       " 'Total P and  Ortho-P data are questionable',\n",
       " 'Brownish water.',\n",
       " 'brown water',\n",
       " 'Greenish brown water',\n",
       " 'Chlorophyll a - samples were analyzed outside the holding time. Instead of 11/15/16 analysis was performed on 11/16/16. Data are questionable.',\n",
       " 'top samples only with kemmerer',\n",
       " 'Brown Water.',\n",
       " 'Boom blocking site.Sample taken south of station about 150 feet.',\n",
       " 'Fecal Top sample is questionable',\n",
       " 'Tuck boat and barge pass before sampling. Water disturbed.',\n",
       " 'Fecal Top sample is questionable',\n",
       " 'A lot of ice.',\n",
       " 'No pH probe.',\n",
       " 'dark green water',\n",
       " 'bottom samples taken with kemmerer max depth 50ft (rope 60 ft)',\n",
       " 'High water',\n",
       " 'No Turbidity probe.',\n",
       " 'dark green water',\n",
       " 'Very shallow. PH probe not working properly.',\n",
       " 'No turbidity sensor',\n",
       " 'Brown Water.',\n",
       " 'Fecal Top sample is questionable',\n",
       " 'Oily sheen,brown clumps,leaves,algae.',\n",
       " 'Dark Green Water',\n",
       " 'no secchi - poor light',\n",
       " 'Brown Water',\n",
       " 'Fecal Top sample is questionable',\n",
       " 'Reddish brown water',\n",
       " 'All readings were taken using EXO instrument. No bottom due to malfunction of overhead winch.',\n",
       " 'No Turbidity probe.',\n",
       " 'No pH probe',\n",
       " 'Green water.',\n",
       " 'Water color, Milky green .',\n",
       " 'Top Samples only. Deck unit for Rosette is not working.',\n",
       " 'Milky Green Water.',\n",
       " 'Surface of creek is covered with a muddy film.',\n",
       " 'No Turbidity probe.',\n",
       " 'reddish tint to water',\n",
       " \"Bottom readings at 5ft; no bottom bottles' samples for lab. Brownish water.\",\n",
       " 'Fecal Top sample is questionable',\n",
       " 'Brown water; many dead fish.',\n",
       " 'Samples was drop off from Triathlon(Jesse); time was estimated.',\n",
       " \"O-P result > T-P result - TP analysis was repeated and confirmed but the OP sample couldn't be confirmed. As the result the OP result is questionable.\",\n",
       " 'Fecal Top sample is questionable',\n",
       " 'No pH probe.',\n",
       " 'Aeration system OFF. Brown water. No bottom due to malfunction of overhead winch.',\n",
       " 'No bottom due to malfunction of overhead winch.',\n",
       " 'Choppy waters',\n",
       " 'Fecal Top sample is questionable',\n",
       " 'No bottom due to malfunction of overhead winch.',\n",
       " 'No turbidity sensor',\n",
       " 'Throttle malfunction on Osprey; trip cancelled after NR-1.',\n",
       " 'Brown water.',\n",
       " 'No bottom due to malfunction of overhead winch.',\n",
       " 'Fecal Top sample is questionable',\n",
       " 'Fecal Top sample is questionable',\n",
       " 'No Turbidity probe.',\n",
       " 'No Turbidity probe.',\n",
       " 'current speed estimated due to high wind',\n",
       " 'No bottom due to malfunction of overhead winch.',\n",
       " 'No Turbidity probe.',\n",
       " 'Brown water.',\n",
       " 'Brown water.  high Chlorophyll-a result was observed. All QC control meet.',\n",
       " 'Dark Green Water',\n",
       " 'dark green water',\n",
       " 'All readings were taken using EXO instrument. No bottom due to malfunction of overhead winch.',\n",
       " 'Windy. Disturbed water.',\n",
       " 'Low DO bottom, reading was confirmed.',\n",
       " 'Rough',\n",
       " 'Dark Green Water',\n",
       " 'D.O.T. power washing Bridge, above and below.',\n",
       " 'Steady rain',\n",
       " 'Very choppy.',\n",
       " \"O-P result > T-P result - TP analysis was repeated and confirmed but the OP sample couldn't be confirmed. As the result the OP result is questionable.\",\n",
       " 'Salinity and Turbidity very low, tried couple of times. No pH probe.',\n",
       " 'SP,HC - HIGH TIDAL PHASE',\n",
       " 'Fecal Top sample is questionable',\n",
       " 'PH probe not working properly.',\n",
       " 'Water level is almost to the street. A lot of garbage and leafs.',\n",
       " 'Floatables and oil sheen.',\n",
       " 'Fecal Top sample is questionable',\n",
       " 'Fecal Top  and Bottom samples are questionable',\n",
       " 'No Turbidity probe.',\n",
       " 'SBE 25 back up CTD used. SBE D.O. 430286 used (YR)',\n",
       " 'SBE 25 back up CTD used. SBE D.O. 430286 used (YR)',\n",
       " 'No turbidity sensor',\n",
       " 'No Turbidity probe.',\n",
       " 'steady rain',\n",
       " 'Chlorophyll a - samples were analyzed outside the holding time. Instead of 11/15/16 analysis was performed on 11/16/16. Data are questionable.',\n",
       " 'Chlorophyll a - samples were analyzed outside the holding time. Instead of 11/15/16 analysis was performed on 11/16/16. Data are questionable.',\n",
       " 'Dark Green Water',\n",
       " 'all readings were taken at surface 3 ft and Actual depth readings taken from  Cap log sheet; survey was done using Donna Miller boat',\n",
       " 'Dark Greenish / Brown Water',\n",
       " 'Cotruction site 100 yrds South of station. Oil spots around station.',\n",
       " 'Turbidity numbers too low. Not reliable.',\n",
       " 'No bottom due to malfunction of overhead winch.',\n",
       " 'Brown Water.',\n",
       " \"No Chl 'a' sensor.\",\n",
       " 'Brown Water.',\n",
       " 'Rough waters.',\n",
       " 'Fecal Top sample is questionable',\n",
       " 'Brown water',\n",
       " 'Brown Water.',\n",
       " \"O-P result > T-P result - TP analysis was repeated and confirmed but the OP sample couldn't be confirmed. As the result the OP result is questionable.\",\n",
       " 'Fecal Top sample is questionable',\n",
       " \"Problem with the handset. Couldn't connect to the EXXO.\",\n",
       " 'Dark Greenish / Brown Water',\n",
       " 'Heavy rain today.',\n",
       " 'Green water.',\n",
       " \"O-P result > T-P result - TP analysis was repeated and confirmed but the OP sample couldn't be confirmed. As the result the OP result is questionable.\",\n",
       " 'No bottom due to malfunction of overhead winch.',\n",
       " 'Brown Water',\n",
       " 'Green water. Sample were taken about 50 ft. before bridge; very shallow.',\n",
       " 'Brown Water - Choppy.',\n",
       " 'Extremely calm conditio for the run.',\n",
       " 'Aeration System off. Low DO.',\n",
       " 'Brown water',\n",
       " 'Water level extremely low.',\n",
       " 'Fecal Top sample is questionable',\n",
       " 'bottom samples taken with kemmerer max depth 50ft (rope 60 ft)',\n",
       " 'water level was very low. Very narrow stream was running out to Lnbay.very muddy water , very high NTU',\n",
       " 'Fecal Top sample is questionable',\n",
       " 'Oil spots around station.',\n",
       " 'Layer of oil was noticed.',\n",
       " 'reading at 3 ft. not bottom readings.steady rain',\n",
       " 'Brown water',\n",
       " 'A lot of ice around the station.Turbidity noticeable very high.',\n",
       " 'Dark greenish water',\n",
       " \"Chl 'A' were taken several times always negative values.\",\n",
       " 'very shallow',\n",
       " 'Brownish  Water.',\n",
       " 'No turbidity sensor',\n",
       " 'Layer of oil around station. North of station, study work is done on a barge. A lot of foam at the head.',\n",
       " 'Fecal Top sample is questionable',\n",
       " 'SIO2 top sample is questionable',\n",
       " 'sample collected on the other side of the bridge, due other agency acitvity; one pump was running under bridge (NY)',\n",
       " 'No Turbidity probe.',\n",
       " 'Dark Green Water',\n",
       " 'No bottom sample.top taken at 3ft from surface.',\n",
       " 'heavy seas high winds weather conditio to worsen remainder of day activity was cancelled',\n",
       " 'SIO2 top sample is questionable',\n",
       " 'No bottom due to malfunction of overhead winch.',\n",
       " 'Dark green water',\n",
       " 'Extreme low Tide. Sample taken North of station,North of Bridge.',\n",
       " 'brown water',\n",
       " 'A lot of dirt on the side of the creek ( brown skunk ) oily sheen in the middle of the creek and around station.',\n",
       " 'Samples collected by the Triathlon people.',\n",
       " 'Dark Green Water',\n",
       " \"No Chl 'a' sensor.\",\n",
       " \"Trip cancelled after NC-3.Dup sample collected at R.H. dock labelled '' RH '' for analyses.\",\n",
       " 'Windy / Choppy.',\n",
       " 'No Turbidity sensor',\n",
       " 'Fecal Top sample is questionable',\n",
       " 'No Turbidity probe.',\n",
       " 'water level very high',\n",
       " \"O-P result > T-P result - TP analysis was repeated and confirmed but the OP sample couldn't be confirmed. As the result the OP result is questionable.\",\n",
       " 'Dark Green Water',\n",
       " 'No bottom due to malfunction of overhead winch.',\n",
       " 'Fecal Top sample is questionable',\n",
       " 'No bottom due to malfunction of overhead winch.',\n",
       " 'The MEI Agar was compromised.Samples can not be reliable.',\n",
       " 'SBE 25 back up CTD used. SBE D.O. 430286 used (YR)',\n",
       " 'Windy and choppy.',\n",
       " 'Extremely shallow, muddy water.',\n",
       " 'Chlorophyll a - samples were analyzed outside the holding time. Instead of 11/15/16 analysis was performed on 11/16/16. Data are questionable.',\n",
       " 'Dark Green Water',\n",
       " 'heavy seas high winds weather conditio to worsen remainder of day activity was cancelled',\n",
       " 'Fecal Top sample is questionable',\n",
       " 'pH higher than 8 were taken several times and confirmed',\n",
       " 'bottom samples taken with kemmerer max depth 50ft (rope 60 ft)',\n",
       " 'top samples only with kemmerer',\n",
       " 'Fecal Top sample is questionable',\n",
       " 'water was brownish; a bluefish was observed',\n",
       " 'Water color, Milky green .',\n",
       " 'Samples collected by the Triathlon people.',\n",
       " 'Brown Water.',\n",
       " 'Windy, Choppy.',\n",
       " 'PH probe not working properly.',\n",
       " 'high tide, white water no aeration pump',\n",
       " 'CIC2 BOTTOM DO 9.04',\n",
       " 'Brown Water.',\n",
       " 'Brown Water.',\n",
       " 'Dark Greenish / Brown Water',\n",
       " 'Brownish water.',\n",
       " 'No Turbidity probe.',\n",
       " 'drizzle',\n",
       " 'Green water.',\n",
       " 'floatables',\n",
       " \"No Chl 'a' sensor.\",\n",
       " 'Brown Water.',\n",
       " 'Fecal Top sample is questionable',\n",
       " 'bottom samples taken with kemmerer max depth 50ft (rope 60 ft)',\n",
       " 'oil spill clean up; blasting between K3 and K2',\n",
       " 'lot of macroalgae in bay near J14, J16 and F1',\n",
       " 'The MEI Agar was compromised.Samples can not be reliable.',\n",
       " 'No Turbidity probe.',\n",
       " 'Brown water',\n",
       " 'Dark Green Water',\n",
       " 'Fecal Top sample is questionable',\n",
       " 'SIO2 top sample is questionable',\n",
       " 'No Secchi too dark',\n",
       " 'Special sampling. Bacteria and exxo readings.',\n",
       " 'Brown Water',\n",
       " 'dark green water',\n",
       " 'A layer of oil sheen covers the station and all around.',\n",
       " 'Dark Green Water',\n",
       " 'Dropped Winkler DO + FC only 3 crew members.',\n",
       " 'No turbidity sensor',\n",
       " 'Dark Green Water',\n",
       " 'access blocked bycotruction barge',\n",
       " 'Dark green water',\n",
       " 'Brown Water.',\n",
       " 'No bottom due to malfunction of overhead winch.',\n",
       " 'Fecal Top sample is questionable',\n",
       " 'Muddy water- no sample was collected',\n",
       " 'K3-B-TSS level was above the historically expected range Sample was visually ipected and verified.',\n",
       " 'top samples only with kemmerer',\n",
       " 'N4 & N3B(TSS)-Unusually high suspended matter content observed. Sample was visually ipected and verified.',\n",
       " 'No DO sensor or Chlorophyll sensor',\n",
       " 'No bottom due to malfunction of overhead winch.',\n",
       " 'Dark green water',\n",
       " 'SIO2 top sample is questionable',\n",
       " 'SBE 25 back up CTD used. SBE D.O. 430286 used (YR)',\n",
       " 'light rain',\n",
       " 'No Turbidity sensor',\n",
       " 'bottom samples taken with kemmerer max depth 50ft (rope 60 ft)',\n",
       " 'Change to a new Secchi Disk at the end of the trip.',\n",
       " 'Ortho-P result is questionable',\n",
       " 'Brown Water',\n",
       " 'Windy and Choppy.',\n",
       " 'Dark  Brown Water',\n",
       " 'Green water',\n",
       " 'Brownish water.',\n",
       " 'No pH probe.  Oil/grease and dirt on surface.',\n",
       " \"No DO readings due to EXO malfunction. No Chl 'a' sensor.\",\n",
       " 'Very shallow. No pH probe. high TSS result observed. Sample was analyzed in duplicate. All QC control meet.',\n",
       " 'Brown Water.',\n",
       " 'Brownish water',\n",
       " 'Reddish Brown Water.',\n",
       " 'No bottom due to malfunction of overhead winch.',\n",
       " 'Heavy rain at site while collecting samples. Heavy flow rate from GC3 to GC6 lots floatable , water dark color mix with visible dirt, sand, and leaves.',\n",
       " 'rain',\n",
       " 'YSI EXO2 used for first time',\n",
       " 'Green water',\n",
       " 'High Turbidity due to visssible floatables (organic).',\n",
       " 'Very muddy sample; very low tide.',\n",
       " 'No Turbidity probe.',\n",
       " 'Ortho-P result is questionable',\n",
       " 'brown water',\n",
       " 'Rough sea conditio, cancelled.',\n",
       " \"O-P result > T-P result - TP analysis was repeated and confirmed but the OP sample couldn't be confirmed. As the result the OP result is questionable.\",\n",
       " 'Aeration pump system opperational, iide the channel, between  NC-1 and NC-0.',\n",
       " 'iced up',\n",
       " 'Ice at the banks of the Creek.',\n",
       " 'a lot of little fish.were seen.',\n",
       " 'High chlorophyll, brown water',\n",
       " 'Chlorophyll-a- high result was observed. All QC controls were met. No bottom due to malfunction of overhead winch.',\n",
       " 'One dead Fish.',\n",
       " 'Chlorophyll a - samples were analyzed outside the holding time. Instead of 11/16/16 analysis was performed on 11/18/16. Data are questionable.',\n",
       " 'rough and strong current',\n",
       " 'Brown water',\n",
       " 'Ice at the station.',\n",
       " 'rough and windy surface.  current speeds estimated due to high wind',\n",
       " 'Windy',\n",
       " 'Fecal Top sample is questionable',\n",
       " 'Greenish water.',\n",
       " 'Brownish Green Water.',\n",
       " 'Dark Green Water',\n",
       " 'No turbidity sensor',\n",
       " 'All readings were taken using EXO instrument. No bottom due to malfunction of overhead winch.',\n",
       " 'No bottom due to malfunction of overhead winch.',\n",
       " 'Green water.',\n",
       " 'Total P and  Ortho-P data are questionable',\n",
       " 'Chlorophyll - Questionable data, error during extraction.',\n",
       " 'Brownish water',\n",
       " 'No Turbidity sensor',\n",
       " 'Brown Water.',\n",
       " 'Fecal Top sample is questionable',\n",
       " 'Milky whiteish/green color.',\n",
       " 'Dropped Winkler DO + FC only 3 crew members.',\n",
       " 'Fecal Top sample is questionable',\n",
       " 'Milky green water',\n",
       " 'No pH probe.',\n",
       " 'No turbidity sensor. Hundreds of fish spotted on site; picture in share-project-photo-Hutchinson river 9-27-2016.',\n",
       " 'Fecal Top  and Bottom samples are questionable',\n",
       " 'light rain',\n",
       " 'Fecal Top sample is questionable',\n",
       " 'aeration pump was off',\n",
       " 'Windy,Choppy.',\n",
       " 'bottom samples taken with kemmerer max depth 50ft (rope 60 ft)',\n",
       " 'bottom samples taken with kemmerer max depth 50ft (rope 60 ft)',\n",
       " 'No pH probe.',\n",
       " '4 or 5 dead fish observed, water surface dirty (flotables)',\n",
       " 'Brown Water',\n",
       " 'Sampling operatio terminated due to Spytun Duyvil railroad bridge unable to open',\n",
       " 'rough and windy',\n",
       " 'no secchi poor light',\n",
       " '(OP) preservative non-conformance-samples were found to be acidified therefore, analysis was not performed.',\n",
       " \"O-P result > T-P result - TP analysis was repeated and confirmed but the OP sample couldn't be confirmed. As the result the OP result is questionable.\",\n",
       " 'Chlorophyll-a- high result was observed.  All QC controls were met.',\n",
       " 'No Turbidity probe.',\n",
       " 'high Chlorophyll-a result was observed. All QC control meet.',\n",
       " 'Fecal Top sample is questionable',\n",
       " 'choppy water, sea cable shorted out ; used kemmerer for top sample',\n",
       " 'Sample and readings were taken before the bridge due to shallow water. DOC -  no sample was received because COC the vial was broken in the field. No bottom due to malfunction of overhead winch.',\n",
       " 'Redish Brown Water.',\n",
       " 'Light Rain',\n",
       " 'No Turbidity probe.',\n",
       " 'road closed due to cotruction work on the bridge.',\n",
       " 'top samples only with kemmerer',\n",
       " 'No Turbidity probe.',\n",
       " 'Rough sea',\n",
       " 'Plenty of floatables.',\n",
       " 'Fecal Top sample is questionable',\n",
       " 'bottom samples taken with kemmerer max depth 50ft (rope 60 ft)',\n",
       " \"No Chl 'a' sensor.\",\n",
       " 'No Turbidity probe.',\n",
       " 'No Turbidity probe.',\n",
       " 'A big school of blue fish was swimming around the station',\n",
       " 'No turbidity sensor',\n",
       " 'Samples collected by Triathlon',\n",
       " 'Fecal Top sample is questionable',\n",
       " 'PH probe not working properly.',\n",
       " 'Extremely low water.Two filters for Orthophosphate.',\n",
       " 'Brown Water.',\n",
       " 'Fecal Top sample is questionable',\n",
       " 'No turbidity sensor',\n",
       " 'Aeration on',\n",
       " '(TP & TKN) preservative non-conformance-sample was found to be not acidifed therefore, result was not reported.',\n",
       " 'Fecal Top sample is questionable',\n",
       " 'No Turbidity probe.',\n",
       " 'Fecal Top sample is questionable',\n",
       " 'No Turbidity probe.',\n",
       " 'Fecal Top sample is questionable',\n",
       " 'Algae bloom at CIC2.',\n",
       " 'Muddy sample.',\n",
       " 'Brown water.',\n",
       " 'Extremely calm conditio for the run.',\n",
       " 'Dark Green Water',\n",
       " 'rain light',\n",
       " 'Very low water level. High Turbidity. Three filters were used for the Ortho-P filtration.',\n",
       " 'No Turbidity probe.',\n",
       " 'Fecal Top  and Bottom samples are questionable',\n",
       " 'floatables',\n",
       " \"Chl 'A' were taken several times always negative values.\",\n",
       " \"O-P result > T-P result - TP analysis was repeated and confirmed but the OP sample couldn't be confirmed. As a result the OP result is questionable.\",\n",
       " 'Flushing tunnel on.',\n",
       " 'Aeration system on between NC0-NC1; Brownish water.',\n",
       " 'No bottom due to malfunction of overhead winch.',\n",
       " 'Flushing tunnel on.',\n",
       " 'light rain',\n",
       " 'Windy and choppy.',\n",
       " 'No Turbidity sensor',\n",
       " 'Dark Greenish / Brown Water',\n",
       " 'dark green water',\n",
       " 'No bottom due to malfunction of overhead winch.',\n",
       " 'Turbidity numbers too low. Not reliable.',\n",
       " 'Windy and Choppy.',\n",
       " 'Emergency Respoe. N.J. Bypass.',\n",
       " 'No bottom due to malfunction of overhead winch.',\n",
       " 'Windy',\n",
       " 'DO twice the same result, water look fine',\n",
       " 'choppy water',\n",
       " 'No samples for Nuts or Bacteria, exceeded holding time.',\n",
       " 'Large schools of fish spotted on site.',\n",
       " 'Brownish water',\n",
       " 'Dark green water',\n",
       " 'A lot of floatables.',\n",
       " 'container barge passed before sample',\n",
       " 'Sampled after tug boat passed. Chlorophyll a - samples were analyzed outside the holding time. Instead of 11/14/16 analysis was performed on 11/16/16. Data are questionable.',\n",
       " 'Greenish Water',\n",
       " 'about 7 -8 fish schools observed, possible blue fish.',\n",
       " 'No Turbidity probe.',\n",
       " 'Dark greenish water.',\n",
       " 'Windy - Choppy.',\n",
       " 'Aeration system at the NC statio.System is on.: Inc#21 had no power on 5/28/14 at 8am.',\n",
       " 'No Turbidity probe.',\n",
       " \"No Chl 'a' sensor.\",\n",
       " 'No bottom due to malfunction of overhead winch.',\n",
       " 'Fecal Top sample is questionable',\n",
       " 'No bottom due to malfunction of overhead winch.',\n",
       " \"O-P result > T-P result - TP analysis was repeated and confirmed but the OP sample couldn't be confirmed. As the result the OP result is questionable.\",\n",
       " 'top samples only with kemmerer',\n",
       " 'red water',\n",
       " 'Brownish water.',\n",
       " 'Green water',\n",
       " 'Aeration system on',\n",
       " 'No turbidity sensor',\n",
       " 'Negative values were read at the station for turbidity and were removed.',\n",
       " 'Used Exo #1',\n",
       " 'Brown Water.',\n",
       " \"O-P result > T-P result - TP analysis was repeated and confirmed but the OP sample couldn't be confirmed. As the result the OP result is questionable.\",\n",
       " 'Green Water.',\n",
       " 'Brown Water.',\n",
       " \"O-P result > T-P result - TP analysis was repeated and confirmed but the OP sample couldn't be confirmed. As the result the OP result is questionable.\",\n",
       " 'Special sampling. Bacteria and exxo readings.',\n",
       " 'Dark Green Water',\n",
       " 'Brown Water.',\n",
       " 'No turbidity sensor',\n",
       " 'No turbidity sensor.',\n",
       " 'Reading taken as actual depth due to low tide',\n",
       " 'blasting between K3 and K2',\n",
       " 'A lot of schools of fish.',\n",
       " 'No bottom due to malfunction of overhead winch.',\n",
       " 'Chlorophyll a - samples were analyzed outside the holding time. Instead of 11/15/16 analysis was performed on 11/16/16. Data are questionable.',\n",
       " 'Green water',\n",
       " 'top samples only with kemmerer',\n",
       " 'No turbidity sensor; depth readings recorded for Current Speed (removed).',\n",
       " 'Choppy Water',\n",
       " 'Fecal Top  and Bottom samples are questionable',\n",
       " 'Choppy',\n",
       " 'top samples only with kemmerer',\n",
       " 'Brown water',\n",
       " 'top samples only with kemmerer',\n",
       " 'No Turbidity probe.',\n",
       " 'Brown Water.',\n",
       " 'Fecal Top sample is questionable',\n",
       " 'Aeration system off, pungent smell',\n",
       " 'No Turbidity probe.',\n",
       " 'Green Water',\n",
       " 'No Turbidity probe.',\n",
       " 'Green water; small algae slick.',\n",
       " 'pH probe is not working properly.',\n",
       " 'Dark  Brown Water',\n",
       " 'Brownish Green Water.',\n",
       " 'Windy and Choppy.',\n",
       " 'Ortho-P result is questionable',\n",
       " 'No Turbidity sensor',\n",
       " 'Fecal Top sample is questionable',\n",
       " 'Turbidity numbers too low. Not reliable.',\n",
       " 'Green Water',\n",
       " \"No Chl 'a' sensor.\",\n",
       " 'Aeration system operational between NC0 and NC1.',\n",
       " 'Dark Green Water',\n",
       " 'Fecal Top sample is questionable',\n",
       " 'Areation system operational between NC0 & NC1',\n",
       " 'Brown Water',\n",
       " 'Fecal Top sample is questionable',\n",
       " 'No turbidity sensor',\n",
       " 'Fecal Top  and Bottom samples are questionable',\n",
       " 'Chlorophyll a - samples were analyzed outside the holding time. Instead of 11/14/16 analysis was performed on 11/16/16. Data are questionable.',\n",
       " 'Green Water.',\n",
       " 'Brown Water.',\n",
       " 'Chlorophyll a - samples were analyzed outside the holding time. Instead of 11/16/16 analysis was performed on 11/18/16. Data are questionable.',\n",
       " 'bottom samples taken with kemmerer max depth 50ft (rope 60 ft)',\n",
       " 'Fecal Top sample is questionable',\n",
       " 'Green Water',\n",
       " 'No bottom sampling staring today.',\n",
       " 'Windy and Choppy.',\n",
       " 'Windy and choppy.',\n",
       " 'Green water',\n",
       " 'bottom samples taken with kemmerer max depth 50ft (rope 60 ft)',\n",
       " 'Brown Water.',\n",
       " 'top samples only with kemmerer',\n",
       " 'No bottom due to malfunction of overhead winch.',\n",
       " 'Fecal Top sample is questionable',\n",
       " 'Flotables and ph <7.0',\n",
       " 'Secchi pulled under boat with current, measurement is estimated',\n",
       " 'Fecal Top  and Bottom samples are questionable',\n",
       " 'PH readings were removed from the data.Probe was recalibrated.',\n",
       " 'Green Water',\n",
       " 'No sample taken .Cancelled.',\n",
       " 'LOW AT SP1',\n",
       " 'Some dead fish around station. Chlorophyll a - samples were analyzed outside the holding time. Instead of 11/16/16 analysis was performed on 11/18/16. Data are questionable.',\n",
       " 'green water, sulfur smells. DO <3mg/L, pH (top and bottom) < 7units',\n",
       " 'pH probe is not working properly.',\n",
       " 'Split samples with Hazen & Sawyer.',\n",
       " 'Fecal Top sample is questionable',\n",
       " 'Turbidity numbers too low. Not reliable.',\n",
       " 'Fecal Top sample is questionable',\n",
       " 'Chlorophyll a - samples were analyzed outside the holding time. Instead of 11/15/16 analysis was performed on 11/16/16. Data are questionable.',\n",
       " 'No bottom due to malfunction of overhead winch.',\n",
       " 'Fecal Top sample is questionable',\n",
       " 'Brown Water.',\n",
       " 'No turbidity sensor.',\n",
       " 'Choppy',\n",
       " 'bottom samples taken with kemmerer max depth 50ft (rope 60 ft)',\n",
       " 'No turbidity sensor',\n",
       " 'No turbidity sensor',\n",
       " 'Green water',\n",
       " 'Fecal Top sample is questionable',\n",
       " 'Flushing tunnel on.',\n",
       " 'Green Water',\n",
       " 'Aeration system On iide the Creek.',\n",
       " 'Brown Water.',\n",
       " 'Fecal Top sample is questionable',\n",
       " 'Reading taken as actual depth due to low tide. A green layer was noticed, most likely is seeds or pollen.',\n",
       " 'Very brown water.',\n",
       " 'heavy rain',\n",
       " 'Fecal Top sample is questionable',\n",
       " 'Fecal Top sample is questionable',\n",
       " 'Dark Green Water.',\n",
       " 'A lot of debris around the station and a dead fish.',\n",
       " 'rough sea',\n",
       " 'Dark Greenish / Brown Water',\n",
       " 'Salinity probe malfunction; unrealistic numbers.',\n",
       " 'Green water; TB2 DO not recorded.',\n",
       " 'No turbidity sensor',\n",
       " 'rising bubbles, stinks',\n",
       " 'SIO2 top sample is questionable',\n",
       " 'No Turbidity probe.',\n",
       " 'a lot of floatables, the current going out of bay',\n",
       " 'rough water',\n",
       " 'No secchi- too dark.',\n",
       " 'No Turbidity probe.',\n",
       " 'steady rain',\n",
       " 'Brown water',\n",
       " 'Raw sewage at the surface around station.',\n",
       " \"O-P result > T-P result - TP analysis was repeated and confirmed but the OP sample couldn't be confirmed. As the result the OP result is questionable.\",\n",
       " 'Readings were taken at 2.5 ft depth.',\n",
       " 'dredging',\n",
       " 'No bottom due to malfunction of overhead winch.',\n",
       " 'No bottom due to malfunction of overhead winch.',\n",
       " 'Some foam was observed.',\n",
       " 'bottom samples taken with kemmerer max depth 50ft (rope 60 ft)',\n",
       " 'No bottom due to malfunction of overhead winch.',\n",
       " 'Choppy',\n",
       " 'Dark  Brown Water Body',\n",
       " 'Shallow water; no bottom sample.',\n",
       " 'Windy and Choppy.',\n",
       " 'Fecal Top sample is questionable',\n",
       " 'No bottom due to malfunction of overhead winch.',\n",
       " 'Total P and  Ortho-P data are questionable',\n",
       " 'Dark green water',\n",
       " 'Dropped Winkler DO + FC only 3 crew members.',\n",
       " 'Fecal Top sample is questionable',\n",
       " 'Dark Green Water',\n",
       " 'bottom samples taken with kemmerer max depth 50ft (rope 60 ft)',\n",
       " 'Fecal Top sample is questionable',\n",
       " \"Chl 'a' sensor malfunction after SP1. No readings for the rest of the stations.\",\n",
       " 'shallow water',\n",
       " 'Windy and choppy.',\n",
       " 'sample taken by the edge of channel',\n",
       " 'Dark brownish water.',\n",
       " 'No turbidity sensor',\n",
       " 'Ortho-P result is questionable',\n",
       " 'Low DO',\n",
       " 'Fecal Top sample is questionable',\n",
       " 'Emergency Respoe. N.J. Bypass.',\n",
       " 'Scattered dead fish.',\n",
       " 'No turbidity sensor. Large schools of fish spotted on site, picture in share-Project-photo-Westchester.',\n",
       " 'Fecal Top sample is questionable',\n",
       " 'bottom samples taken with kemmerer max depth 50ft (rope 60 ft)',\n",
       " 'No bottom due to malfunction of overhead winch.',\n",
       " 'Dark green water',\n",
       " 'SIO2 top sample is questionable',\n",
       " 'Negative values were read at the station for turbidity and were removed.',\n",
       " 'Samples was drop off from Triathlon(Jesse); time was estimated.',\n",
       " 'Chlorophyll a - samples were analyzed outside the holding time. Instead of 11/15/16 analysis was performed on 11/16/16. Data are questionable.',\n",
       " 'Turbidity numbers too low. Not reliable.',\n",
       " 'Milky green water; 1 dead fish at BB2.',\n",
       " 'No bottom due to malfunction of overhead winch.',\n",
       " 'Brown Water.',\n",
       " 'Chlorophyll a - samples were analyzed outside the holding time. Instead of 11/15/16 analysis was performed on 11/16/16. Data are questionable.',\n",
       " 'TOP only due too shalow',\n",
       " 'DO very unstable even with calm water',\n",
       " 'Fecal Top sample is questionable',\n",
       " 'Deck unit not working;top samples taken by bucket.',\n",
       " 'No bottom due to malfunction of overhead winch.',\n",
       " 'No secchi. Too dark.',\n",
       " 'very high tide',\n",
       " 'No bottom due to malfunction of overhead winch.',\n",
       " 'Fecal Top sample is questionable',\n",
       " '2 Carriers passed.',\n",
       " 'No turbidity sensor.',\n",
       " 'Brownish water.',\n",
       " 'high water',\n",
       " 'Windy / Rough.',\n",
       " 'Brown Water.',\n",
       " \"O-P result > T-P result - TP analysis was repeated and confirmed but the OP sample couldn't be confirmed. As a result the OP result is questionable.\",\n",
       " 'Foam from the station all the way into the head of the channel.',\n",
       " 'PH probe not working properly.',\n",
       " 'No turbidity sensor',\n",
       " 'Chlorophyll a - samples were analyzed outside the holding time. Instead of 11/14/16 analysis was performed on 11/16/16. Data are questionable.',\n",
       " 'YSI EXO2 used for first time',\n",
       " 'Not accessible.',\n",
       " 'Reddish brown water; aeration off. Chlorophyll a - samples were analyzed outside the holding time. Instead of 11/14/16 analysis was performed on 11/16/16. Data are questionable.',\n",
       " 'No pH probe.  Oil/grease and dirt on surface.',\n",
       " 'Fecal Top sample is questionable',\n",
       " 'sea cable shorted out ; used kemmerer for top sample',\n",
       " \"O-P result > T-P result - TP analysis was repeated and confirmed but the OP sample couldn't be confirmed. As the result the OP result is questionable.\",\n",
       " 'Chopp - Windy.',\n",
       " 'Dark green water',\n",
       " 'Too shallow and windy.',\n",
       " 'Green water.',\n",
       " 'No bottom.',\n",
       " 'Windy and choppy.',\n",
       " 'Chlorophyll a - samples were analyzed outside the holding time. Instead of 11/16/16 analysis was performed on 11/18/16. Data are questionable.',\n",
       " 'Milkish Green Water.',\n",
       " 'Green water',\n",
       " 'No turbidity sensor',\n",
       " 'Chlorophyll - Questionable data, error during extraction.',\n",
       " 'rough water',\n",
       " 'Brown water',\n",
       " 'Triathlon site top sample.',\n",
       " 'crane barge blocking the southern channel of Jamaica Bay (MK)',\n",
       " 'No bottom due to malfunction of overhead winch.',\n",
       " \"No Chl 'a' sensor.\",\n",
       " 'Dark Green Water',\n",
       " 'No Data, Exxo malfunctioned perhaps due to cold weather.',\n",
       " 'Brown Water.',\n",
       " 'heavy seas high winds weather conditio to worsen remainder of day activity was cancelled',\n",
       " 'Brown water',\n",
       " 'Extremely calm conditio for the run.',\n",
       " 'Light green water.',\n",
       " 'Fecal Top sample is questionable',\n",
       " 'Extremely calm condition for the run.',\n",
       " 'Fecal Top  and Bottom samples are questionable',\n",
       " 'No bottom due to malfunction of overhead winch.',\n",
       " 'Choppy Water',\n",
       " 'No bottom due to malfunction of overhead winch.',\n",
       " 'Fecal Top sample is questionable',\n",
       " 'No Turbidity probe.',\n",
       " 'Dark Green Water',\n",
       " 'Dark green water.',\n",
       " 'Aeration on',\n",
       " 'No turbidity sensor',\n",
       " 'Fecal Top sample is questionable',\n",
       " 'Fecal Top sample is questionable',\n",
       " 'No turbidity sensor',\n",
       " 'Brown water',\n",
       " 'Chlorophyll a - samples were analyzed outside the holding time. Instead of 11/14/16 analysis was performed on 11/16/16. Data are questionable.',\n",
       " 'Could not get all the way to WC2 (ice).Took sample about 150 m from the actual site. No Turbidity probe.',\n",
       " 'Dark Green Water',\n",
       " \"Control Subculture Reading  ''0''. Incubator Malfunction (temperature fluctuation).\",\n",
       " 'bottom samples taken with kemmerer max depth 50ft (rope 60 ft)',\n",
       " 'No Turbidity probe.',\n",
       " 'Windy - Choppy.',\n",
       " '(OP) preservative non-conformance-sample was found to be acidifed therefore, analysis was not performed.',\n",
       " 'Dark Green Water',\n",
       " 'Brownish Green Water.',\n",
       " \"O-P result > T-P result - TP analysis was repeated and confirmed but the OP sample couldn't be confirmed. As the result the OP result is questionable.\",\n",
       " 'dark green water',\n",
       " 'Windy and choppy.',\n",
       " 'Dark Green Water',\n",
       " 'No Turbidity probe.',\n",
       " 'Green Water.',\n",
       " 'Brown water',\n",
       " 'Dark Green Water',\n",
       " 'Dark Brown water.',\n",
       " 'Water  started to move into the Creek from the Bay.',\n",
       " 'Ortho-P result is questionable',\n",
       " 'Deck unit not working;top samples taken by bucket.',\n",
       " 'Fecal Top sample is questionable',\n",
       " 'Top  sample only at 3.0 ft. Bridge closed; cotruction.',\n",
       " 'Fecal Top sample is questionable',\n",
       " 'Brown Water.',\n",
       " 'Fecal Top  and Bottom samples are questionable',\n",
       " 'Brown water',\n",
       " 'Green Water. Chlorophyll-a-high result was observed. QC control meet.',\n",
       " 'No Turbidity probe.',\n",
       " 'Chlorophyll a - samples were analyzed outside the holding time. Instead of 11/15/16 analysis was performed on 11/16/16. Data are questionable.',\n",
       " 'Windy water surface',\n",
       " 'Extremely calm conditio for the run.',\n",
       " 'Bottom readings were taken at 5.3 ft. depth; two feet from the bottom.',\n",
       " \"Problem with the handset. Couldn't connect to the EXXO.\",\n",
       " 'Fecal Top sample is questionable',\n",
       " 'SBE 25 back up CTD used. SBE D.O. 430286 used (YR)',\n",
       " 'Brown water',\n",
       " 'Many small dead fish were observed between WC1&WC2',\n",
       " 'Fecal Top sample is questionable',\n",
       " 'No bottom due to malfunction of overhead winch.',\n",
       " 'Greenish Water',\n",
       " 'No pH probe.  Greenish water.',\n",
       " \"No Chl 'a' sensor.\",\n",
       " 'Greenish Water',\n",
       " 'Dark Greenish / Brown Water',\n",
       " 'Chlorophyll a - samples were analyzed outside the holding time. Instead of 11/15/16 analysis was performed on 11/16/16. Data are questionable.',\n",
       " 'Brownish water.',\n",
       " 'heavy seas high winds weather conditio to worsen remainder of day activity was cancelled',\n",
       " 'blocked',\n",
       " 'No turbidity sensor',\n",
       " 'Steady rain',\n",
       " 'Choppy',\n",
       " 'Deep green water. Chlorophyll-a- high result was observed.  All QC controls were met.',\n",
       " 'Foam at the head of the channel.',\n",
       " 'No turbidity sensor',\n",
       " 'Dark green water',\n",
       " 'Fecal Top sample is questionable',\n",
       " 'Fecal Top sample is questionable',\n",
       " 'green water, sulfur smells. DO <3mg/L, pH (top and bottom) < 7units',\n",
       " 'Water very shallow and muddy, no samples. Readings were taken by EXXO1, Many 12inc blue fish.',\n",
       " 'Samples collected by Triathlon',\n",
       " 'Aeration system On iide the Creek.',\n",
       " 'survey done with Antony Miller boat no GPS on board, samples taken as close as posible from sites',\n",
       " 'Chlorophyll-a- high result was observed.  All QC controls met.',\n",
       " 'Dark green water',\n",
       " 'No bottom due to malfunction of overhead winch.',\n",
       " 'No turbidity sensor',\n",
       " 'Disturbed sample retrieved.',\n",
       " 'PH probe not working properly.',\n",
       " 'top samples only with kemmerer',\n",
       " \"O-P result > T-P result - TP analysis was repeated and confirmed but the OP sample couldn't be confirmed. As a result the OP result is questionable.\",\n",
       " 'brown water something blooming (YR)',\n",
       " 'brown water',\n",
       " 'Floatables and oil sheen.',\n",
       " 'Brown water in Hendrix Creek.',\n",
       " 'Reading taken as actual depth due to low tide',\n",
       " 'No Turbidity probe.',\n",
       " 'No pH probe',\n",
       " 'Green water; small algae slick.',\n",
       " 'Sea cable caused the short out; it was fixed with a splice.',\n",
       " 'Fecal Top sample is questionable',\n",
       " 'PH probe not working properly.',\n",
       " 'Brownish Green Water.',\n",
       " 'A lot of floatables.',\n",
       " 'All readings were taken using EXO instrument. Chlorophyll-a- high result was observed.  All QC controls were met. No bottom due to malfunction of overhead winch.',\n",
       " 'Brownish water.',\n",
       " 'No Turbidity probe.',\n",
       " 'dark green water',\n",
       " 'Fecal Top sample is questionable',\n",
       " 'No Turbidity sensor',\n",
       " 'No Turbidity probe.',\n",
       " 'Dark Green Water',\n",
       " 'Brown Water.',\n",
       " 'No DO sensor or Chlorophyll sensor',\n",
       " 'No Turbidity probe.',\n",
       " 'green water',\n",
       " 'Brown water.',\n",
       " 'Secchi True',\n",
       " 'Brown Water.',\n",
       " 'bottom samples taken with kemmerer max depth 50ft (rope 60 ft)',\n",
       " 'Many small dead fish were observed between WC1&WC2',\n",
       " 'Fecal Top sample is questionable',\n",
       " 'Brownish water.',\n",
       " 'Samle was taken just North of the overpass. Actual site was too shallow.',\n",
       " 'Rest of trip was cancelled due to severe thunderstorm warnings.',\n",
       " \"O-P result > T-P result - TP analysis was repeated and confirmed but the OP sample couldn't be confirmed. As a result the OP result is questionable.\",\n",
       " 'No turbidity sensor. Chlorophyll a - samples were analyzed outside the holding time. Instead of 11/14/16 analysis was performed on 11/16/16. Data are questionable.',\n",
       " 'Dark Greenish / Brown Water',\n",
       " 'water is brown',\n",
       " 'Extremely calm conditio for the run.',\n",
       " 'Chlorophyll a - samples were analyzed outside the holding time. Instead of 11/15/16 analysis was performed on 11/16/16. Data are questionable.',\n",
       " 'No bottom due to malfunction of overhead winch.',\n",
       " 'Windy & rough',\n",
       " 'Chlorophyll a - samples were analyzed outside the holding time. Instead of 11/15/16 analysis was performed on 11/16/16. Data are questionable.',\n",
       " 'Dark greenish water.',\n",
       " 'Brown Water',\n",
       " 'Emergency Respoe. N.J. Bypass.',\n",
       " 'No pH probe.',\n",
       " 'Chlorophyll a - samples were analyzed outside the holding time. Instead of 11/14/16 analysis was performed on 11/16/16. Data are questionable.',\n",
       " 'kemmerer used to sample',\n",
       " 'light rain',\n",
       " 'A lot of floatables (leafs,garbage,debris ) all over.',\n",
       " 'A group of dolphins was spotted',\n",
       " 'Choppy.',\n",
       " 'Very low tide.',\n",
       " \"No Chl 'a' sensor.\",\n",
       " 'Fecal Top sample is questionable',\n",
       " 'No PH probe. Depth seor is not working. Depth was taken manually.',\n",
       " 'Lots of floatables.',\n",
       " 'No turbidity sensor. Fish were jumping in site area.',\n",
       " 'No turbidity sensor.',\n",
       " 'Brownish water.',\n",
       " 'Fecal Top sample is questionable',\n",
       " 'No turbidity sensor',\n",
       " 'DOC Data is Questionable',\n",
       " 'Reddish Brown Water',\n",
       " 'No bottom due to malfunction of overhead winch.',\n",
       " 'No Turbidity probe.',\n",
       " 'Brown Water.',\n",
       " 'Fecal Top sample is questionable',\n",
       " 'very shallow only 0.5 ft depth',\n",
       " 'Redish Brown Water.',\n",
       " 'Water looks cloudy and smells like sulfur.Plenty of floatables.',\n",
       " 'Reddish brown  water.   Chlorophyll-a- high result was observed.  All QC controls were met.',\n",
       " 'Greenish Brown Water.',\n",
       " 'Dark Green Water',\n",
       " 'No turbidity sensor.',\n",
       " 'top only cotruction on bridge could not access to mid stream',\n",
       " 'Brown Water.Red Patches.',\n",
       " 'Very Rough.',\n",
       " 'Brown water',\n",
       " 'Fecal Top sample is questionable',\n",
       " 'Aeration system operational between NC0 and NC1.',\n",
       " 'Green Water',\n",
       " 'Brown Water.Red Patches.',\n",
       " 'Tug moving in front of Osprey',\n",
       " 'DO reading does not look realistic for this station. 1/29/16 checked the probes and were ok.  (OP) preservative non-conformance-samples were found to be acidified therefore, analysis was not performed.',\n",
       " 'All readings were taken using EXO instrument. Chlorophyll-a- high result was observed.  All QC controls were met. No bottom due to malfunction of overhead winch.',\n",
       " 'Black layer.',\n",
       " 'Aeration system on. Brown water',\n",
       " 'Brownish water.',\n",
       " 'Dark Green Water',\n",
       " 'Fecal Top sample is questionable',\n",
       " 'Brown Water.',\n",
       " 'Choppy',\n",
       " 'dark green water',\n",
       " 'No Turbidity probe.',\n",
       " 'DO: low values.',\n",
       " 'survey done with Antony Miller boat no GPS on board, samples taken as close as posible from sites',\n",
       " 'Green water',\n",
       " 'no secchi, too dark (BB)',\n",
       " 'No bottom due to malfunction of overhead winch.',\n",
       " 'Water looks cloudy and smells like sulfur.Plenty of floatables.',\n",
       " 'Milky Green Water',\n",
       " \"O-P result > T-P result - TP analysis was repeated and confirmed but the OP sample couldn't be confirmed. As a result the OP result is questionable.\",\n",
       " 'Green Water.',\n",
       " 'Brown Water',\n",
       " 'Very low salinity.',\n",
       " 'PH readings were removed from the data.Probe was recalibrated.',\n",
       " \"No Chl 'a' sensor.\",\n",
       " 'No bottom due to malfunction of overhead winch.',\n",
       " 'Sea cable caused the short out; it was fixed with a splice.',\n",
       " 'Windy, Choppy.',\n",
       " 'Fecal Top sample is questionable',\n",
       " 'brown water',\n",
       " 'Green Water',\n",
       " 'Rough water.',\n",
       " 'SBE 25 back up CTD used. SBE D.O. 430286 used (YR)',\n",
       " 'No Turbidity sensor',\n",
       " 'No turbidity sensor; depth readings recorded for Current Speed (removed).',\n",
       " 'Windy water surface',\n",
       " 'not access. Divers in the water.',\n",
       " 'Brown Water',\n",
       " 'dark green water',\n",
       " 'Redish Brown Water',\n",
       " 'too rough and windy; site cancelled',\n",
       " 'Fecal Top sample is questionable',\n",
       " 'No turbidity sensor',\n",
       " 'A lot of ice north of the boom.',\n",
       " 'cloudy water & white',\n",
       " 'Layer of oil on the surface.Special sampling. Bacteria and exxo readings.',\n",
       " 'No bottom due to malfunction of overhead winch.',\n",
       " 'Light Rain',\n",
       " 'Chopp - Windy.',\n",
       " 'dark green water',\n",
       " 'Aeration system off',\n",
       " 'Light snow',\n",
       " 'No turbidity sensor',\n",
       " 'no access ; locked by park department due Sandy storm',\n",
       " 'Windy and choppy.',\n",
       " 'Split samples with Hazen & Sawyer.',\n",
       " 'heavy seas high winds weather conditio to worsen remainder of day activity was cancelled',\n",
       " 'SBE 25 back up CTD used. SBE D.O. 430286 used (YR)',\n",
       " 'Actual depths were taken using the cameron rope.',\n",
       " 'No Turbidity sensor',\n",
       " 'Green Water',\n",
       " 'No bottom due to malfunction of overhead winch.',\n",
       " 'Brown Water.',\n",
       " 'Water level is extremely low and muddy.',\n",
       " 'Big school of fish',\n",
       " 'survey done with Antony Miller boat no GPS on board, samples taken as close as posible from sites',\n",
       " 'A lot of schools of fish.',\n",
       " 'Green Water.',\n",
       " 'No turbidity sensor',\n",
       " 'Green water',\n",
       " 'Fecal Top sample is questionable',\n",
       " 'DOC result was above the historical data. Repeat analysis confirmed the result. All QC control meet.',\n",
       " 'No turbidity sensor',\n",
       " 'A lot of fish were noticed.',\n",
       " 'Total P and  Ortho-P data are questionable',\n",
       " 'Bottom readings were taken at 5 ft. Channel head photo on file (Mss server-Projects-photo- Gowanus foam).',\n",
       " 'Tug Boat and Barge blocking sample site.Extremely low water level. Sampling cancelled.',\n",
       " 'Fecal Top sample is questionable',\n",
       " 'dark green water',\n",
       " 'Fecal Top sample is questionable',\n",
       " 'Readings were taken at two (2) feet.Bottom is verymuddy.',\n",
       " 'Fecal Top sample is questionable',\n",
       " 'a big fence was put in the place the sampling station needed to move 100 yards south from old station',\n",
       " ...]"
      ]
     },
     "execution_count": 556,
     "metadata": {},
     "output_type": "execute_result"
    }
   ],
   "source": [
    "list(harbor_data[\"Sampling Comment\"].dropna())"
   ]
  },
  {
   "cell_type": "markdown",
   "id": "9f998a54",
   "metadata": {},
   "source": [
    "According to the samplig stations map, the following stations are in the canal or its tributaries: G2, GC3, GC4, GC5, GC6"
   ]
  },
  {
   "cell_type": "code",
   "execution_count": 557,
   "id": "99c81701",
   "metadata": {},
   "outputs": [],
   "source": [
    "sampling_loc_list = ['G2', 'GC3', 'GC4', 'GC5', 'GC6']"
   ]
  },
  {
   "cell_type": "code",
   "execution_count": 558,
   "id": "e7926f81",
   "metadata": {
    "scrolled": true
   },
   "outputs": [],
   "source": [
    "harbor_data = harbor_data[harbor_data['Sampling Location'].str.contains('|'.join(sampling_loc_list), na=False)]"
   ]
  },
  {
   "cell_type": "code",
   "execution_count": 559,
   "id": "67611548",
   "metadata": {},
   "outputs": [
    {
     "name": "stderr",
     "output_type": "stream",
     "text": [
      "/var/folders/2z/1nrgnypj77l8fzt2ybvcrf580000gp/T/ipykernel_46331/1074921596.py:2: SettingWithCopyWarning:\n",
      "\n",
      "\n",
      "A value is trying to be set on a copy of a slice from a DataFrame.\n",
      "Try using .loc[row_indexer,col_indexer] = value instead\n",
      "\n",
      "See the caveats in the documentation: https://pandas.pydata.org/pandas-docs/stable/user_guide/indexing.html#returning-a-view-versus-a-copy\n",
      "\n"
     ]
    }
   ],
   "source": [
    "# Convert date column into datetime, and drop all rows where date is before 2018 or after 2022\n",
    "harbor_data['Date'] =  pd.to_datetime(harbor_data['Sample Date'])\n"
   ]
  },
  {
   "cell_type": "code",
   "execution_count": 560,
   "id": "ace22ffd",
   "metadata": {
    "scrolled": true
   },
   "outputs": [
    {
     "data": {
      "text/html": [
       "<div>\n",
       "<style scoped>\n",
       "    .dataframe tbody tr th:only-of-type {\n",
       "        vertical-align: middle;\n",
       "    }\n",
       "\n",
       "    .dataframe tbody tr th {\n",
       "        vertical-align: top;\n",
       "    }\n",
       "\n",
       "    .dataframe thead th {\n",
       "        text-align: right;\n",
       "    }\n",
       "</style>\n",
       "<table border=\"1\" class=\"dataframe\">\n",
       "  <thead>\n",
       "    <tr style=\"text-align: right;\">\n",
       "      <th></th>\n",
       "      <th>Sampling Location</th>\n",
       "      <th>Duplicate Sample</th>\n",
       "      <th>Sample Date</th>\n",
       "      <th>Sample Time</th>\n",
       "      <th>Weather Condition (Dry or Wet)</th>\n",
       "      <th>Top Sample Temperature (ºC)</th>\n",
       "      <th>Bottom Sample Temperature (ºC)</th>\n",
       "      <th>Site Actual Depth (ft)</th>\n",
       "      <th>Top Sample Depth(ft)</th>\n",
       "      <th>Bottom Sample Depth (ft)</th>\n",
       "      <th>...</th>\n",
       "      <th>Oakwood BOD Bottom Sample(mg/L)</th>\n",
       "      <th>Oakwood  Total Suspended Solid Top Sample  (mg/L)</th>\n",
       "      <th>Oakwood Total Suspended Solid Bottom Sample (mg/L)</th>\n",
       "      <th>Top Turbidity( Nephelometric Turbidity Units)</th>\n",
       "      <th>Bottom Turbidity YSI (Nephelometric Turbidity Units)</th>\n",
       "      <th>Sampling Comment</th>\n",
       "      <th>Long</th>\n",
       "      <th>Lat</th>\n",
       "      <th>Type</th>\n",
       "      <th>Date</th>\n",
       "    </tr>\n",
       "  </thead>\n",
       "  <tbody>\n",
       "    <tr>\n",
       "      <th>12</th>\n",
       "      <td>GC4</td>\n",
       "      <td>D</td>\n",
       "      <td>12/10/2013</td>\n",
       "      <td>NaN</td>\n",
       "      <td>Wet</td>\n",
       "      <td>NaN</td>\n",
       "      <td>NaN</td>\n",
       "      <td>NaN</td>\n",
       "      <td>NaN</td>\n",
       "      <td>NaN</td>\n",
       "      <td>...</td>\n",
       "      <td>NaN</td>\n",
       "      <td>NaN</td>\n",
       "      <td>NaN</td>\n",
       "      <td>NaN</td>\n",
       "      <td>NaN</td>\n",
       "      <td>NaN</td>\n",
       "      <td>-73.989073</td>\n",
       "      <td>40.678034</td>\n",
       "      <td>Permanent</td>\n",
       "      <td>2013-12-10</td>\n",
       "    </tr>\n",
       "    <tr>\n",
       "      <th>75</th>\n",
       "      <td>G2</td>\n",
       "      <td>NaN</td>\n",
       "      <td>07/28/2010</td>\n",
       "      <td>1:30 PM</td>\n",
       "      <td>Dry</td>\n",
       "      <td>24.75</td>\n",
       "      <td>22.35</td>\n",
       "      <td>28.00</td>\n",
       "      <td>3.0</td>\n",
       "      <td>27.0</td>\n",
       "      <td>...</td>\n",
       "      <td>NaN</td>\n",
       "      <td>NaN</td>\n",
       "      <td>NaN</td>\n",
       "      <td>NaN</td>\n",
       "      <td>NaN</td>\n",
       "      <td>NaN</td>\n",
       "      <td>-74.003333</td>\n",
       "      <td>40.666667</td>\n",
       "      <td>Permanent</td>\n",
       "      <td>2010-07-28</td>\n",
       "    </tr>\n",
       "    <tr>\n",
       "      <th>149</th>\n",
       "      <td>GC5</td>\n",
       "      <td>NaN</td>\n",
       "      <td>01/19/2016</td>\n",
       "      <td>9:43 AM</td>\n",
       "      <td>Dry</td>\n",
       "      <td>NaN</td>\n",
       "      <td>NaN</td>\n",
       "      <td>5.30</td>\n",
       "      <td>NaN</td>\n",
       "      <td>NaN</td>\n",
       "      <td>...</td>\n",
       "      <td>NaN</td>\n",
       "      <td>NaN</td>\n",
       "      <td>NaN</td>\n",
       "      <td>16.71</td>\n",
       "      <td>NaN</td>\n",
       "      <td>No pH probe.</td>\n",
       "      <td>-73.990053</td>\n",
       "      <td>40.676141</td>\n",
       "      <td>Permanent</td>\n",
       "      <td>2016-01-19</td>\n",
       "    </tr>\n",
       "    <tr>\n",
       "      <th>243</th>\n",
       "      <td>GC4</td>\n",
       "      <td>NaN</td>\n",
       "      <td>03/24/2016</td>\n",
       "      <td>10:00 AM</td>\n",
       "      <td>Dry</td>\n",
       "      <td>NaN</td>\n",
       "      <td>NaN</td>\n",
       "      <td>11.00</td>\n",
       "      <td>NaN</td>\n",
       "      <td>NaN</td>\n",
       "      <td>...</td>\n",
       "      <td>NaN</td>\n",
       "      <td>NaN</td>\n",
       "      <td>NaN</td>\n",
       "      <td>14.45</td>\n",
       "      <td>13.53</td>\n",
       "      <td>NaN</td>\n",
       "      <td>-73.989073</td>\n",
       "      <td>40.678034</td>\n",
       "      <td>Permanent</td>\n",
       "      <td>2016-03-24</td>\n",
       "    </tr>\n",
       "    <tr>\n",
       "      <th>257</th>\n",
       "      <td>GC4</td>\n",
       "      <td>NaN</td>\n",
       "      <td>08/20/2009</td>\n",
       "      <td>9:46 AM</td>\n",
       "      <td>Dry</td>\n",
       "      <td>NaN</td>\n",
       "      <td>NaN</td>\n",
       "      <td>14.50</td>\n",
       "      <td>NaN</td>\n",
       "      <td>NaN</td>\n",
       "      <td>...</td>\n",
       "      <td>NaN</td>\n",
       "      <td>NaN</td>\n",
       "      <td>NaN</td>\n",
       "      <td>4.6</td>\n",
       "      <td>8.5</td>\n",
       "      <td>NaN</td>\n",
       "      <td>-73.989073</td>\n",
       "      <td>40.678034</td>\n",
       "      <td>Permanent</td>\n",
       "      <td>2009-08-20</td>\n",
       "    </tr>\n",
       "    <tr>\n",
       "      <th>...</th>\n",
       "      <td>...</td>\n",
       "      <td>...</td>\n",
       "      <td>...</td>\n",
       "      <td>...</td>\n",
       "      <td>...</td>\n",
       "      <td>...</td>\n",
       "      <td>...</td>\n",
       "      <td>...</td>\n",
       "      <td>...</td>\n",
       "      <td>...</td>\n",
       "      <td>...</td>\n",
       "      <td>...</td>\n",
       "      <td>...</td>\n",
       "      <td>...</td>\n",
       "      <td>...</td>\n",
       "      <td>...</td>\n",
       "      <td>...</td>\n",
       "      <td>...</td>\n",
       "      <td>...</td>\n",
       "      <td>...</td>\n",
       "      <td>...</td>\n",
       "    </tr>\n",
       "    <tr>\n",
       "      <th>93652</th>\n",
       "      <td>GC3</td>\n",
       "      <td>NaN</td>\n",
       "      <td>04/21/2021</td>\n",
       "      <td>9:03 AM</td>\n",
       "      <td>D</td>\n",
       "      <td>NaN</td>\n",
       "      <td>NaN</td>\n",
       "      <td>7.43</td>\n",
       "      <td>NaN</td>\n",
       "      <td>NaN</td>\n",
       "      <td>...</td>\n",
       "      <td>NaN</td>\n",
       "      <td>NaN</td>\n",
       "      <td>NaN</td>\n",
       "      <td>4.88</td>\n",
       "      <td>NaN</td>\n",
       "      <td>NaN</td>\n",
       "      <td>-73.98824</td>\n",
       "      <td>40.67943,</td>\n",
       "      <td>Provisional</td>\n",
       "      <td>2021-04-21</td>\n",
       "    </tr>\n",
       "    <tr>\n",
       "      <th>93664</th>\n",
       "      <td>GC5</td>\n",
       "      <td>NaN</td>\n",
       "      <td>04/21/2021</td>\n",
       "      <td>9:27 AM</td>\n",
       "      <td>D</td>\n",
       "      <td>NaN</td>\n",
       "      <td>NaN</td>\n",
       "      <td>8.74</td>\n",
       "      <td>NaN</td>\n",
       "      <td>NaN</td>\n",
       "      <td>...</td>\n",
       "      <td>NaN</td>\n",
       "      <td>NaN</td>\n",
       "      <td>NaN</td>\n",
       "      <td>4.4</td>\n",
       "      <td>NaN</td>\n",
       "      <td>Negative Chl'A' number</td>\n",
       "      <td>-73.99005</td>\n",
       "      <td>40.67614,</td>\n",
       "      <td>Provisional</td>\n",
       "      <td>2021-04-21</td>\n",
       "    </tr>\n",
       "    <tr>\n",
       "      <th>93691</th>\n",
       "      <td>GC5</td>\n",
       "      <td>NaN</td>\n",
       "      <td>09/30/2020</td>\n",
       "      <td>9:49 AM</td>\n",
       "      <td>Wet</td>\n",
       "      <td>NaN</td>\n",
       "      <td>NaN</td>\n",
       "      <td>10.60</td>\n",
       "      <td>NaN</td>\n",
       "      <td>NaN</td>\n",
       "      <td>...</td>\n",
       "      <td>NaN</td>\n",
       "      <td>NaN</td>\n",
       "      <td>NaN</td>\n",
       "      <td>2.28</td>\n",
       "      <td>1.67</td>\n",
       "      <td>NaN</td>\n",
       "      <td>-73.99005</td>\n",
       "      <td>40.67614,,,,,,,,,,,,,,,,,,,,,,,,,</td>\n",
       "      <td>Permanent</td>\n",
       "      <td>2020-09-30</td>\n",
       "    </tr>\n",
       "    <tr>\n",
       "      <th>93700</th>\n",
       "      <td>GC5</td>\n",
       "      <td>D</td>\n",
       "      <td>04/21/2021</td>\n",
       "      <td>9:27 AM</td>\n",
       "      <td>D</td>\n",
       "      <td>NaN</td>\n",
       "      <td>NaN</td>\n",
       "      <td>NaN</td>\n",
       "      <td>NaN</td>\n",
       "      <td>NaN</td>\n",
       "      <td>...</td>\n",
       "      <td>NaN</td>\n",
       "      <td>NaN</td>\n",
       "      <td>NaN</td>\n",
       "      <td>NaN</td>\n",
       "      <td>NaN</td>\n",
       "      <td>NaN</td>\n",
       "      <td>-73.99005</td>\n",
       "      <td>40.67614,</td>\n",
       "      <td>Provisional</td>\n",
       "      <td>2021-04-21</td>\n",
       "    </tr>\n",
       "    <tr>\n",
       "      <th>93705</th>\n",
       "      <td>GC6</td>\n",
       "      <td>NaN</td>\n",
       "      <td>08/19/2020</td>\n",
       "      <td>10:09 AM</td>\n",
       "      <td>Wet</td>\n",
       "      <td>NaN</td>\n",
       "      <td>NaN</td>\n",
       "      <td>15.82</td>\n",
       "      <td>NaN</td>\n",
       "      <td>NaN</td>\n",
       "      <td>...</td>\n",
       "      <td>NaN</td>\n",
       "      <td>NaN</td>\n",
       "      <td>NaN</td>\n",
       "      <td>1.46</td>\n",
       "      <td>1.59</td>\n",
       "      <td>NaN</td>\n",
       "      <td>-73.99639</td>\n",
       "      <td>40.67417,,,,,,,,,,,,,,,,,,,,,,,,,</td>\n",
       "      <td>Permanent</td>\n",
       "      <td>2020-08-19</td>\n",
       "    </tr>\n",
       "  </tbody>\n",
       "</table>\n",
       "<p>2731 rows × 101 columns</p>\n",
       "</div>"
      ],
      "text/plain": [
       "      Sampling Location Duplicate Sample Sample Date Sample Time  \\\n",
       "12                  GC4                D  12/10/2013         NaN   \n",
       "75                   G2              NaN  07/28/2010     1:30 PM   \n",
       "149                 GC5              NaN  01/19/2016     9:43 AM   \n",
       "243                 GC4              NaN  03/24/2016    10:00 AM   \n",
       "257                 GC4              NaN  08/20/2009     9:46 AM   \n",
       "...                 ...              ...         ...         ...   \n",
       "93652               GC3              NaN  04/21/2021     9:03 AM   \n",
       "93664               GC5              NaN  04/21/2021     9:27 AM   \n",
       "93691               GC5              NaN  09/30/2020     9:49 AM   \n",
       "93700               GC5                D  04/21/2021     9:27 AM   \n",
       "93705               GC6              NaN  08/19/2020    10:09 AM   \n",
       "\n",
       "      Weather Condition (Dry or Wet) Top Sample Temperature (ºC)  \\\n",
       "12                               Wet                         NaN   \n",
       "75                               Dry                       24.75   \n",
       "149                              Dry                         NaN   \n",
       "243                              Dry                         NaN   \n",
       "257                              Dry                         NaN   \n",
       "...                              ...                         ...   \n",
       "93652                              D                         NaN   \n",
       "93664                              D                         NaN   \n",
       "93691                            Wet                         NaN   \n",
       "93700                              D                         NaN   \n",
       "93705                            Wet                         NaN   \n",
       "\n",
       "      Bottom Sample Temperature (ºC)  Site Actual Depth (ft)  \\\n",
       "12                               NaN                     NaN   \n",
       "75                             22.35                   28.00   \n",
       "149                              NaN                    5.30   \n",
       "243                              NaN                   11.00   \n",
       "257                              NaN                   14.50   \n",
       "...                              ...                     ...   \n",
       "93652                            NaN                    7.43   \n",
       "93664                            NaN                    8.74   \n",
       "93691                            NaN                   10.60   \n",
       "93700                            NaN                     NaN   \n",
       "93705                            NaN                   15.82   \n",
       "\n",
       "       Top Sample Depth(ft)  Bottom Sample Depth (ft)  ...  \\\n",
       "12                      NaN                       NaN  ...   \n",
       "75                      3.0                      27.0  ...   \n",
       "149                     NaN                       NaN  ...   \n",
       "243                     NaN                       NaN  ...   \n",
       "257                     NaN                       NaN  ...   \n",
       "...                     ...                       ...  ...   \n",
       "93652                   NaN                       NaN  ...   \n",
       "93664                   NaN                       NaN  ...   \n",
       "93691                   NaN                       NaN  ...   \n",
       "93700                   NaN                       NaN  ...   \n",
       "93705                   NaN                       NaN  ...   \n",
       "\n",
       "      Oakwood BOD Bottom Sample(mg/L)  \\\n",
       "12                                NaN   \n",
       "75                                NaN   \n",
       "149                               NaN   \n",
       "243                               NaN   \n",
       "257                               NaN   \n",
       "...                               ...   \n",
       "93652                             NaN   \n",
       "93664                             NaN   \n",
       "93691                             NaN   \n",
       "93700                             NaN   \n",
       "93705                             NaN   \n",
       "\n",
       "      Oakwood  Total Suspended Solid Top Sample  (mg/L)  \\\n",
       "12                                                  NaN   \n",
       "75                                                  NaN   \n",
       "149                                                 NaN   \n",
       "243                                                 NaN   \n",
       "257                                                 NaN   \n",
       "...                                                 ...   \n",
       "93652                                               NaN   \n",
       "93664                                               NaN   \n",
       "93691                                               NaN   \n",
       "93700                                               NaN   \n",
       "93705                                               NaN   \n",
       "\n",
       "      Oakwood Total Suspended Solid Bottom Sample (mg/L)  \\\n",
       "12                                                   NaN   \n",
       "75                                                   NaN   \n",
       "149                                                  NaN   \n",
       "243                                                  NaN   \n",
       "257                                                  NaN   \n",
       "...                                                  ...   \n",
       "93652                                                NaN   \n",
       "93664                                                NaN   \n",
       "93691                                                NaN   \n",
       "93700                                                NaN   \n",
       "93705                                                NaN   \n",
       "\n",
       "      Top Turbidity( Nephelometric Turbidity Units)  \\\n",
       "12                                              NaN   \n",
       "75                                              NaN   \n",
       "149                                           16.71   \n",
       "243                                           14.45   \n",
       "257                                             4.6   \n",
       "...                                             ...   \n",
       "93652                                          4.88   \n",
       "93664                                           4.4   \n",
       "93691                                          2.28   \n",
       "93700                                           NaN   \n",
       "93705                                          1.46   \n",
       "\n",
       "       Bottom Turbidity YSI (Nephelometric Turbidity Units)  \\\n",
       "12                                                   NaN      \n",
       "75                                                   NaN      \n",
       "149                                                  NaN      \n",
       "243                                                13.53      \n",
       "257                                                  8.5      \n",
       "...                                                  ...      \n",
       "93652                                                NaN      \n",
       "93664                                                NaN      \n",
       "93691                                               1.67      \n",
       "93700                                                NaN      \n",
       "93705                                               1.59      \n",
       "\n",
       "             Sampling Comment       Long                                Lat  \\\n",
       "12                        NaN -73.989073                          40.678034   \n",
       "75                        NaN -74.003333                          40.666667   \n",
       "149              No pH probe. -73.990053                          40.676141   \n",
       "243                       NaN -73.989073                          40.678034   \n",
       "257                       NaN -73.989073                          40.678034   \n",
       "...                       ...        ...                                ...   \n",
       "93652                     NaN  -73.98824                          40.67943,   \n",
       "93664  Negative Chl'A' number  -73.99005                          40.67614,   \n",
       "93691                     NaN  -73.99005  40.67614,,,,,,,,,,,,,,,,,,,,,,,,,   \n",
       "93700                     NaN  -73.99005                          40.67614,   \n",
       "93705                     NaN  -73.99639  40.67417,,,,,,,,,,,,,,,,,,,,,,,,,   \n",
       "\n",
       "              Type       Date  \n",
       "12       Permanent 2013-12-10  \n",
       "75       Permanent 2010-07-28  \n",
       "149      Permanent 2016-01-19  \n",
       "243      Permanent 2016-03-24  \n",
       "257      Permanent 2009-08-20  \n",
       "...            ...        ...  \n",
       "93652  Provisional 2021-04-21  \n",
       "93664  Provisional 2021-04-21  \n",
       "93691    Permanent 2020-09-30  \n",
       "93700  Provisional 2021-04-21  \n",
       "93705    Permanent 2020-08-19  \n",
       "\n",
       "[2731 rows x 101 columns]"
      ]
     },
     "execution_count": 560,
     "metadata": {},
     "output_type": "execute_result"
    }
   ],
   "source": [
    "harbor_data"
   ]
  },
  {
   "cell_type": "code",
   "execution_count": 561,
   "id": "cffde936",
   "metadata": {
    "scrolled": true
   },
   "outputs": [
    {
     "data": {
      "text/plain": [
       "['Sampling Location',\n",
       " 'Duplicate Sample',\n",
       " 'Sample Date',\n",
       " 'Sample Time',\n",
       " 'Weather Condition (Dry or Wet)',\n",
       " 'Top Sample Temperature (ºC)',\n",
       " 'Bottom Sample Temperature (ºC)',\n",
       " 'Site Actual Depth (ft)',\n",
       " 'Top Sample Depth(ft)',\n",
       " 'Bottom Sample Depth (ft)',\n",
       " 'Top Salinity  (psu)',\n",
       " 'Bottom Salinity  (psu)',\n",
       " 'Top Conductivity (S/m)',\n",
       " 'Bottom Conductivity (S/m)',\n",
       " 'CTD (conductivity, temperature, depth profiler) Top Dissolved Oxygen (mg/L)',\n",
       " 'CTD (conductivity, temperature, depth profiler) Bottom Dissolved Oxygen (mg/L)',\n",
       " 'Percentage O2 Saturation Top Sample',\n",
       " 'Percentage O2 Saturation Bottom sample',\n",
       " 'Light Trans (% transparency) Top Sample',\n",
       " 'Light Trans (% transparency) Bottom Sample',\n",
       " 'Top Sigma-T (kg/m3)',\n",
       " 'Bottom Sigma-T (kg/m3)',\n",
       " 'Top Fluorometer (mg/m3)',\n",
       " 'Bottom Fluorometer mg/m3',\n",
       " 'CTD (conductivity, temperature, depth profiler) PH Top Sample',\n",
       " 'CTD (conductivity, temperature, depth profiler) PH Bottom Sample',\n",
       " 'Top Sample Photosysthetically Active Radiation Reference (400-700nm light (uE/S)',\n",
       " 'Top Sample Par (uE/S m2)',\n",
       " 'Bottom Sample Par uE/S (uE/S m2)',\n",
       " 'Oxidation Reduction Potential (mV) Top Sample',\n",
       " 'Oxidation Reduction Potential (mV) Bottom Sample',\n",
       " 'Current Speed (knot)',\n",
       " 'Current Direction (Current Direction)',\n",
       " 'Wind Speed (mph)',\n",
       " 'Wind Direction (Wind Direction)',\n",
       " 'Sea State ',\n",
       " 'Winkler Method Top Dissolved Oxygen (mg/L)',\n",
       " 'Winkler Method Bottom Dissolved Oxygen (mg/L)',\n",
       " 'Secchi Depth (ft)',\n",
       " 'Top PH',\n",
       " 'Bottom PH',\n",
       " 'Top Total Coliform Cells/100 mL',\n",
       " 'Top Bottom Coliform Cells/100 mL',\n",
       " 'Fecal Coliform Top Sample Less Than or Greater Than Result',\n",
       " 'Fecal Coliform Bottom Sample Less Than or Greater Than Result',\n",
       " 'Top Fecal Coliform Bacteria (Cells/100mL)',\n",
       " 'Bottom Fecal Coliform Bacteria (Cells/100mL)',\n",
       " 'Enterococcus Top Sample Less Than or Greater Than Result',\n",
       " 'Enterococcus Bottom Sample Less Than or Greater Than Result',\n",
       " 'Top Enterococci Bacteria (Cells/100mL)',\n",
       " 'Bottom Enterococci Bacteria (Cells/100mL)',\n",
       " 'Top Nitrate/Nitrite (mg/L)',\n",
       " 'Bottom Nitrate/Nitrite (mg/L)',\n",
       " 'Top Ammonium (mg/L)',\n",
       " 'Bottom Ammonium (mg/L)',\n",
       " 'Top Ortho-Phosphorus (mg/L)',\n",
       " 'Bottom Ortho-Phosphorus (mg/L)',\n",
       " 'Top Total Kjeldhal Nitrogen (mg/L)',\n",
       " 'Bottom Total Kjeldhal Nitrogen (mg/L)',\n",
       " 'Top Silica (mg/L)',\n",
       " 'Bottom Silica (mg/L)',\n",
       " 'Total Phosphorus(mg/L)',\n",
       " 'Bottom Total Phosphorus (mg/L)',\n",
       " 'Top Total Suspended Solid (mg/L)',\n",
       " 'Bottom Total Suspended Solid (mg/L)',\n",
       " \"Top Active Chlorophyll 'A' (µg/L)\",\n",
       " \"Bottom Active Chlorophyll 'A' (µg/L)\",\n",
       " 'Chlorophyll Top Sample Field (u/L (YSI)',\n",
       " 'Chlorophyll Bottom Sample Field (u/L (YSI)',\n",
       " 'TOP Total Organic Carbon (mg/L)',\n",
       " 'Top Dissolved Organic Carbon (mg/L)',\n",
       " 'Bottom Dissolved Organic Carbon (mg/L)',\n",
       " 'Top Dissolved Organic Carbon YSI (mg/L)',\n",
       " 'Bottom Dissolved Organic Carbon YSI (mg/L)',\n",
       " 'Top Sample Depth  YSI (ft)',\n",
       " 'Bottom Depth  YSI (ft)',\n",
       " 'Top Sample Salinity YSI (psu)',\n",
       " 'Bottom Sample Salinity YSI (psu)',\n",
       " 'Top Sample Temperature  YSI (ºC)',\n",
       " 'Bottom Sample Temperature YSI (ºC)',\n",
       " 'Top Bacteria # per C.C. 1909',\n",
       " 'Bottom Bacteria # per C.C. 1909',\n",
       " 'Top Beam Attenuation Coefficient',\n",
       " 'Bottom Beam Attenuation Coefficient',\n",
       " 'Top Five-Day Biochemical Oxygen Demand(mg/L)',\n",
       " 'Bottom Five-Day Biochemical Oxygen Demand(mg/L)',\n",
       " 'Top PCB Plate Count (Thous/mL) ',\n",
       " 'Bottom PCB plate Count (Thous/mL) ',\n",
       " 'Top Coliform (Log No/mL)',\n",
       " 'Bottom Coliform (Log No/mL)',\n",
       " 'Oakwood BOD Top Sample (mg/L) ',\n",
       " 'Oakwood BOD Bottom Sample(mg/L)',\n",
       " 'Oakwood  Total Suspended Solid Top Sample  (mg/L)',\n",
       " 'Oakwood Total Suspended Solid Bottom Sample (mg/L)',\n",
       " 'Top Turbidity( Nephelometric Turbidity Units)',\n",
       " 'Bottom Turbidity YSI (Nephelometric Turbidity Units)',\n",
       " 'Sampling Comment',\n",
       " 'Long',\n",
       " 'Lat',\n",
       " 'Type',\n",
       " 'Date']"
      ]
     },
     "execution_count": 561,
     "metadata": {},
     "output_type": "execute_result"
    }
   ],
   "source": [
    "list(harbor_data.columns)"
   ]
  },
  {
   "cell_type": "code",
   "execution_count": 562,
   "id": "d582c68d",
   "metadata": {},
   "outputs": [
    {
     "name": "stderr",
     "output_type": "stream",
     "text": [
      "/var/folders/2z/1nrgnypj77l8fzt2ybvcrf580000gp/T/ipykernel_46331/17336649.py:1: SettingWithCopyWarning:\n",
      "\n",
      "\n",
      "A value is trying to be set on a copy of a slice from a DataFrame\n",
      "\n",
      "See the caveats in the documentation: https://pandas.pydata.org/pandas-docs/stable/user_guide/indexing.html#returning-a-view-versus-a-copy\n",
      "\n"
     ]
    }
   ],
   "source": [
    "harbor_data.rename(columns={'Top Dissolved Organic Carbon (mg/L)': 'Dissolved Organic Carbon', 'Top Nitrate/Nitrite (mg/L)': 'Nitrate/Nitrite', 'Top Ammonium (mg/L)':'Ammonium', 'Total Phosphorus(mg/L)':'Phosphorus', 'Top Silica (mg/L)':'Silica', \"Top PH\":\"pH\"}, inplace=True)"
   ]
  },
  {
   "cell_type": "code",
   "execution_count": 563,
   "id": "5f084144",
   "metadata": {},
   "outputs": [],
   "source": [
    "keep_columns_nutrients = ['Sampling Location', 'Date', 'Weather Condition (Dry or Wet)', 'Dissolved Organic Carbon', 'Nitrate/Nitrite', 'Ammonium', 'Phosphorus', 'Silica', 'Sampling Comment']\n",
    "\n",
    "keep_columns_pH = ['Sampling Location', 'Date', 'Weather Condition (Dry or Wet)', 'pH', 'Sampling Comment']\n"
   ]
  },
  {
   "cell_type": "markdown",
   "id": "360f694a",
   "metadata": {},
   "source": [
    "### Nutrients Analysis"
   ]
  },
  {
   "cell_type": "code",
   "execution_count": 564,
   "id": "a05fb66a",
   "metadata": {},
   "outputs": [],
   "source": [
    "harbor_data_filtered = harbor_data.loc[(harbor_data['Date'] >= '2018-01-01')\n",
    "                     & (harbor_data['Date'] < '2021-08-01')]"
   ]
  },
  {
   "cell_type": "code",
   "execution_count": 565,
   "id": "67d0c8c6",
   "metadata": {
    "scrolled": true
   },
   "outputs": [],
   "source": [
    "harbor_data_filtered = harbor_data_filtered[keep_columns_nutrients]"
   ]
  },
  {
   "cell_type": "code",
   "execution_count": 566,
   "id": "3d064b9c",
   "metadata": {
    "scrolled": true
   },
   "outputs": [
    {
     "data": {
      "text/html": [
       "<div>\n",
       "<style scoped>\n",
       "    .dataframe tbody tr th:only-of-type {\n",
       "        vertical-align: middle;\n",
       "    }\n",
       "\n",
       "    .dataframe tbody tr th {\n",
       "        vertical-align: top;\n",
       "    }\n",
       "\n",
       "    .dataframe thead th {\n",
       "        text-align: right;\n",
       "    }\n",
       "</style>\n",
       "<table border=\"1\" class=\"dataframe\">\n",
       "  <thead>\n",
       "    <tr style=\"text-align: right;\">\n",
       "      <th></th>\n",
       "      <th>Sampling Location</th>\n",
       "      <th>Date</th>\n",
       "      <th>Weather Condition (Dry or Wet)</th>\n",
       "      <th>Dissolved Organic Carbon</th>\n",
       "      <th>Nitrate/Nitrite</th>\n",
       "      <th>Ammonium</th>\n",
       "      <th>Phosphorus</th>\n",
       "      <th>Silica</th>\n",
       "      <th>Sampling Comment</th>\n",
       "    </tr>\n",
       "  </thead>\n",
       "  <tbody>\n",
       "    <tr>\n",
       "      <th>78183</th>\n",
       "      <td>GC3</td>\n",
       "      <td>2019-10-09</td>\n",
       "      <td>D</td>\n",
       "      <td>2.65</td>\n",
       "      <td>0.185</td>\n",
       "      <td>0.818</td>\n",
       "      <td>0.335</td>\n",
       "      <td>3.749</td>\n",
       "      <td>NaN</td>\n",
       "    </tr>\n",
       "    <tr>\n",
       "      <th>78226</th>\n",
       "      <td>GC4</td>\n",
       "      <td>2019-05-22</td>\n",
       "      <td>D</td>\n",
       "      <td>2.67</td>\n",
       "      <td>0.33</td>\n",
       "      <td>0.384</td>\n",
       "      <td>0.115</td>\n",
       "      <td>2.18</td>\n",
       "      <td>NaN</td>\n",
       "    </tr>\n",
       "    <tr>\n",
       "      <th>79208</th>\n",
       "      <td>GC6</td>\n",
       "      <td>2019-06-19</td>\n",
       "      <td>NaN</td>\n",
       "      <td>NaN</td>\n",
       "      <td>NaN</td>\n",
       "      <td>NaN</td>\n",
       "      <td>NaN</td>\n",
       "      <td>NaN</td>\n",
       "      <td>Cancelled No access</td>\n",
       "    </tr>\n",
       "    <tr>\n",
       "      <th>79541</th>\n",
       "      <td>GC3</td>\n",
       "      <td>2019-03-13</td>\n",
       "      <td>D</td>\n",
       "      <td>2.36</td>\n",
       "      <td>0.264</td>\n",
       "      <td>0.471</td>\n",
       "      <td>0.102</td>\n",
       "      <td>1.371</td>\n",
       "      <td>NaN</td>\n",
       "    </tr>\n",
       "    <tr>\n",
       "      <th>79712</th>\n",
       "      <td>GC4</td>\n",
       "      <td>2019-07-17</td>\n",
       "      <td>D</td>\n",
       "      <td>2.26</td>\n",
       "      <td>0.243</td>\n",
       "      <td>0.312</td>\n",
       "      <td>0.114</td>\n",
       "      <td>1.434</td>\n",
       "      <td>NaN</td>\n",
       "    </tr>\n",
       "    <tr>\n",
       "      <th>...</th>\n",
       "      <td>...</td>\n",
       "      <td>...</td>\n",
       "      <td>...</td>\n",
       "      <td>...</td>\n",
       "      <td>...</td>\n",
       "      <td>...</td>\n",
       "      <td>...</td>\n",
       "      <td>...</td>\n",
       "      <td>...</td>\n",
       "    </tr>\n",
       "    <tr>\n",
       "      <th>93652</th>\n",
       "      <td>GC3</td>\n",
       "      <td>2021-04-21</td>\n",
       "      <td>D</td>\n",
       "      <td>2.36</td>\n",
       "      <td>0.341</td>\n",
       "      <td>0.307</td>\n",
       "      <td>0.096</td>\n",
       "      <td>1.97</td>\n",
       "      <td>NaN</td>\n",
       "    </tr>\n",
       "    <tr>\n",
       "      <th>93664</th>\n",
       "      <td>GC5</td>\n",
       "      <td>2021-04-21</td>\n",
       "      <td>D</td>\n",
       "      <td>2.50</td>\n",
       "      <td>0.366</td>\n",
       "      <td>0.324</td>\n",
       "      <td>0.088</td>\n",
       "      <td>2.26</td>\n",
       "      <td>Negative Chl'A' number</td>\n",
       "    </tr>\n",
       "    <tr>\n",
       "      <th>93691</th>\n",
       "      <td>GC5</td>\n",
       "      <td>2020-09-30</td>\n",
       "      <td>Wet</td>\n",
       "      <td>3.34</td>\n",
       "      <td>0.397</td>\n",
       "      <td>0.426</td>\n",
       "      <td>0.229</td>\n",
       "      <td>1.656</td>\n",
       "      <td>NaN</td>\n",
       "    </tr>\n",
       "    <tr>\n",
       "      <th>93700</th>\n",
       "      <td>GC5</td>\n",
       "      <td>2021-04-21</td>\n",
       "      <td>D</td>\n",
       "      <td>2.38</td>\n",
       "      <td>0.353</td>\n",
       "      <td>0.317</td>\n",
       "      <td>0.078</td>\n",
       "      <td>2.26</td>\n",
       "      <td>NaN</td>\n",
       "    </tr>\n",
       "    <tr>\n",
       "      <th>93705</th>\n",
       "      <td>GC6</td>\n",
       "      <td>2020-08-19</td>\n",
       "      <td>Wet</td>\n",
       "      <td>2.33</td>\n",
       "      <td>0.287</td>\n",
       "      <td>0.364</td>\n",
       "      <td>0.16</td>\n",
       "      <td>1.88</td>\n",
       "      <td>NaN</td>\n",
       "    </tr>\n",
       "  </tbody>\n",
       "</table>\n",
       "<p>406 rows × 9 columns</p>\n",
       "</div>"
      ],
      "text/plain": [
       "      Sampling Location       Date Weather Condition (Dry or Wet)  \\\n",
       "78183               GC3 2019-10-09                              D   \n",
       "78226               GC4 2019-05-22                              D   \n",
       "79208               GC6 2019-06-19                            NaN   \n",
       "79541               GC3 2019-03-13                              D   \n",
       "79712               GC4 2019-07-17                              D   \n",
       "...                 ...        ...                            ...   \n",
       "93652               GC3 2021-04-21                              D   \n",
       "93664               GC5 2021-04-21                              D   \n",
       "93691               GC5 2020-09-30                            Wet   \n",
       "93700               GC5 2021-04-21                              D   \n",
       "93705               GC6 2020-08-19                            Wet   \n",
       "\n",
       "       Dissolved Organic Carbon Nitrate/Nitrite Ammonium Phosphorus Silica  \\\n",
       "78183                      2.65           0.185    0.818      0.335  3.749   \n",
       "78226                      2.67            0.33    0.384      0.115   2.18   \n",
       "79208                       NaN             NaN      NaN        NaN    NaN   \n",
       "79541                      2.36           0.264    0.471      0.102  1.371   \n",
       "79712                      2.26           0.243    0.312      0.114  1.434   \n",
       "...                         ...             ...      ...        ...    ...   \n",
       "93652                      2.36           0.341    0.307      0.096   1.97   \n",
       "93664                      2.50           0.366    0.324      0.088   2.26   \n",
       "93691                      3.34           0.397    0.426      0.229  1.656   \n",
       "93700                      2.38           0.353    0.317      0.078   2.26   \n",
       "93705                      2.33           0.287    0.364       0.16   1.88   \n",
       "\n",
       "             Sampling Comment  \n",
       "78183                     NaN  \n",
       "78226                     NaN  \n",
       "79208     Cancelled No access  \n",
       "79541                     NaN  \n",
       "79712                     NaN  \n",
       "...                       ...  \n",
       "93652                     NaN  \n",
       "93664  Negative Chl'A' number  \n",
       "93691                     NaN  \n",
       "93700                     NaN  \n",
       "93705                     NaN  \n",
       "\n",
       "[406 rows x 9 columns]"
      ]
     },
     "execution_count": 566,
     "metadata": {},
     "output_type": "execute_result"
    }
   ],
   "source": [
    "harbor_data_filtered"
   ]
  },
  {
   "cell_type": "code",
   "execution_count": null,
   "id": "724913b1",
   "metadata": {},
   "outputs": [],
   "source": []
  },
  {
   "cell_type": "code",
   "execution_count": 567,
   "id": "70378228",
   "metadata": {
    "scrolled": true
   },
   "outputs": [
    {
     "name": "stdout",
     "output_type": "stream",
     "text": [
      "  Sampling Location       Date Weather Condition (Dry or Wet)  \\\n",
      "0               GC3 2019-10-09                              D   \n",
      "1               GC4 2019-05-22                              D   \n",
      "2               GC6 2019-06-19                            NaN   \n",
      "3               GC3 2019-03-13                              D   \n",
      "4               GC4 2019-07-17                              D   \n",
      "\n",
      "      Sampling Comment               Measurement Value (mg/L)  \n",
      "0                  NaN  Dissolved Organic Carbon         2.65  \n",
      "1                  NaN  Dissolved Organic Carbon         2.67  \n",
      "2  Cancelled No access  Dissolved Organic Carbon          NaN  \n",
      "3                  NaN  Dissolved Organic Carbon         2.36  \n",
      "4                  NaN  Dissolved Organic Carbon         2.26  \n"
     ]
    }
   ],
   "source": [
    "# Convert Data from wide to long\n",
    "harbor_data_long_nutrients = harbor_data_filtered.melt(id_vars=['Sampling Location', 'Date', 'Weather Condition (Dry or Wet)', 'Sampling Comment'], var_name='Measurement', value_name='Value (mg/L)')\n",
    "print(harbor_data_long_nutrients.head())"
   ]
  },
  {
   "cell_type": "code",
   "execution_count": 568,
   "id": "6868d2ee",
   "metadata": {},
   "outputs": [
    {
     "name": "stdout",
     "output_type": "stream",
     "text": [
      "     Sampling Location       Date Weather Condition (Dry or Wet)  \\\n",
      "892                GC3 2018-01-11                              D   \n",
      "938                GC5 2018-01-11                              D   \n",
      "982                GC6 2018-01-11                              D   \n",
      "1016               GC6 2018-01-11                              D   \n",
      "80                 GC3 2018-01-11                              D   \n",
      "\n",
      "                          Sampling Comment               Measurement  \\\n",
      "892   Foam from flushing tunnel. Oil sheen                  Ammonium   \n",
      "938                              Oil sheen                  Ammonium   \n",
      "982                                    NaN                  Ammonium   \n",
      "1016                             Oil sheen                  Ammonium   \n",
      "80    Foam from flushing tunnel. Oil sheen  Dissolved Organic Carbon   \n",
      "\n",
      "     Value (mg/L)  \n",
      "892         0.345  \n",
      "938          0.34  \n",
      "982         0.415  \n",
      "1016         0.36  \n",
      "80            2.5  \n"
     ]
    }
   ],
   "source": [
    "harbor_data_long_nutrients.sort_values(by=[\"Date\",\"Measurement\"], ascending=True, inplace=True)\n",
    "print(harbor_data_long_nutrients.head())"
   ]
  },
  {
   "cell_type": "code",
   "execution_count": 569,
   "id": "aef90b30",
   "metadata": {
    "scrolled": false
   },
   "outputs": [
    {
     "data": {
      "text/plain": [
       "<bound method IndexOpsMixin.value_counts of 892     GC3\n",
       "938     GC5\n",
       "982     GC6\n",
       "1016    GC6\n",
       "80      GC3\n",
       "       ... \n",
       "1611    GC3\n",
       "1893    GC5\n",
       "1936     G2\n",
       "1997    GC6\n",
       "2017    GC3\n",
       "Name: Sampling Location, Length: 2030, dtype: object>"
      ]
     },
     "execution_count": 569,
     "metadata": {},
     "output_type": "execute_result"
    }
   ],
   "source": [
    "harbor_data_long_nutrients[\"Sampling Location\"].value_counts"
   ]
  },
  {
   "cell_type": "code",
   "execution_count": 575,
   "id": "2918812b",
   "metadata": {},
   "outputs": [],
   "source": [
    "G2 = harbor_data_long_nutrients[harbor_data_long_nutrients[\"Sampling Location\"]==\"G2\"]\n",
    "GC6 = harbor_data_long_nutrients[harbor_data_long_nutrients[\"Sampling Location\"]==\"GC6\"]\n",
    "GC5 = harbor_data_long_nutrients[harbor_data_long_nutrients[\"Sampling Location\"]==\"GC5\"]"
   ]
  },
  {
   "cell_type": "code",
   "execution_count": 571,
   "id": "47da67ba",
   "metadata": {
    "scrolled": false
   },
   "outputs": [
    {
     "data": {
      "text/html": [
       "<div>\n",
       "<style scoped>\n",
       "    .dataframe tbody tr th:only-of-type {\n",
       "        vertical-align: middle;\n",
       "    }\n",
       "\n",
       "    .dataframe tbody tr th {\n",
       "        vertical-align: top;\n",
       "    }\n",
       "\n",
       "    .dataframe thead th {\n",
       "        text-align: right;\n",
       "    }\n",
       "</style>\n",
       "<table border=\"1\" class=\"dataframe\">\n",
       "  <thead>\n",
       "    <tr style=\"text-align: right;\">\n",
       "      <th></th>\n",
       "      <th>Sampling Location</th>\n",
       "      <th>Date</th>\n",
       "      <th>Weather Condition (Dry or Wet)</th>\n",
       "      <th>Sampling Comment</th>\n",
       "      <th>Measurement</th>\n",
       "      <th>Value (mg/L)</th>\n",
       "    </tr>\n",
       "  </thead>\n",
       "  <tbody>\n",
       "    <tr>\n",
       "      <th>1011</th>\n",
       "      <td>G2</td>\n",
       "      <td>2018-06-19</td>\n",
       "      <td>D</td>\n",
       "      <td>NaN</td>\n",
       "      <td>Ammonium</td>\n",
       "      <td>0.352</td>\n",
       "    </tr>\n",
       "    <tr>\n",
       "      <th>199</th>\n",
       "      <td>G2</td>\n",
       "      <td>2018-06-19</td>\n",
       "      <td>D</td>\n",
       "      <td>NaN</td>\n",
       "      <td>Dissolved Organic Carbon</td>\n",
       "      <td>7.05</td>\n",
       "    </tr>\n",
       "    <tr>\n",
       "      <th>605</th>\n",
       "      <td>G2</td>\n",
       "      <td>2018-06-19</td>\n",
       "      <td>D</td>\n",
       "      <td>NaN</td>\n",
       "      <td>Nitrate/Nitrite</td>\n",
       "      <td>0.266</td>\n",
       "    </tr>\n",
       "    <tr>\n",
       "      <th>1417</th>\n",
       "      <td>G2</td>\n",
       "      <td>2018-06-19</td>\n",
       "      <td>D</td>\n",
       "      <td>NaN</td>\n",
       "      <td>Phosphorus</td>\n",
       "      <td>0.1448</td>\n",
       "    </tr>\n",
       "    <tr>\n",
       "      <th>1823</th>\n",
       "      <td>G2</td>\n",
       "      <td>2018-06-19</td>\n",
       "      <td>D</td>\n",
       "      <td>NaN</td>\n",
       "      <td>Silica</td>\n",
       "      <td>1.281</td>\n",
       "    </tr>\n",
       "  </tbody>\n",
       "</table>\n",
       "</div>"
      ],
      "text/plain": [
       "     Sampling Location       Date Weather Condition (Dry or Wet)  \\\n",
       "1011                G2 2018-06-19                              D   \n",
       "199                 G2 2018-06-19                              D   \n",
       "605                 G2 2018-06-19                              D   \n",
       "1417                G2 2018-06-19                              D   \n",
       "1823                G2 2018-06-19                              D   \n",
       "\n",
       "     Sampling Comment               Measurement Value (mg/L)  \n",
       "1011              NaN                  Ammonium        0.352  \n",
       "199               NaN  Dissolved Organic Carbon         7.05  \n",
       "605               NaN           Nitrate/Nitrite        0.266  \n",
       "1417              NaN                Phosphorus       0.1448  \n",
       "1823              NaN                    Silica        1.281  "
      ]
     },
     "execution_count": 571,
     "metadata": {},
     "output_type": "execute_result"
    }
   ],
   "source": [
    "# Doesn't look like there's a good explanation for such a high Dissolved Organic Carbon level. Removing outlier.\n",
    "G2[G2[\"Date\"] == \"2018-06-19\"]"
   ]
  },
  {
   "cell_type": "code",
   "execution_count": 572,
   "id": "559c6017",
   "metadata": {
    "scrolled": true
   },
   "outputs": [],
   "source": [
    "G2 = G2[G2[\"Value (mg/L)\"] != 7.05]"
   ]
  },
  {
   "cell_type": "code",
   "execution_count": 573,
   "id": "0cbf8c63",
   "metadata": {},
   "outputs": [
    {
     "data": {
      "application/vnd.plotly.v1+json": {
       "config": {
        "plotlyServerURL": "https://plot.ly"
       },
       "data": [
        {
         "hovertemplate": "Measurement=Dissolved Organic Carbon<br>Date=%{x}<br>Value (mg/L)=%{y}<extra></extra>",
         "legendgroup": "Dissolved Organic Carbon",
         "line": {
          "color": "#636efa",
          "dash": "solid"
         },
         "marker": {
          "symbol": "circle"
         },
         "mode": "lines",
         "name": "Dissolved Organic Carbon",
         "orientation": "v",
         "showlegend": true,
         "type": "scatter",
         "x": [
          "2018-01-18T00:00:00",
          "2018-04-10T00:00:00",
          "2018-05-01T00:00:00",
          "2018-05-08T00:00:00",
          "2018-05-22T00:00:00",
          "2018-05-30T00:00:00",
          "2018-06-05T00:00:00",
          "2018-06-12T00:00:00",
          "2018-06-26T00:00:00",
          "2018-07-11T00:00:00",
          "2018-07-24T00:00:00",
          "2018-08-01T00:00:00",
          "2018-08-07T00:00:00",
          "2018-09-11T00:00:00",
          "2018-09-18T00:00:00",
          "2018-09-26T00:00:00",
          "2018-10-02T00:00:00",
          "2018-10-11T00:00:00",
          "2018-10-16T00:00:00",
          "2019-07-09T00:00:00",
          "2019-08-07T00:00:00",
          "2019-08-13T00:00:00",
          "2019-08-13T00:00:00",
          "2019-08-20T00:00:00",
          "2019-09-03T00:00:00",
          "2019-09-11T00:00:00",
          "2019-09-25T00:00:00",
          "2019-10-10T00:00:00",
          "2019-10-10T00:00:00",
          "2019-10-22T00:00:00",
          "2019-10-29T00:00:00",
          "2019-11-13T00:00:00",
          "2019-12-05T00:00:00",
          "2020-01-15T00:00:00",
          "2020-02-05T00:00:00",
          "2020-03-02T00:00:00",
          "2020-06-03T00:00:00",
          "2020-06-17T00:00:00",
          "2020-07-29T00:00:00",
          "2020-08-12T00:00:00",
          "2020-08-17T00:00:00",
          "2020-09-02T00:00:00",
          "2020-09-09T00:00:00",
          "2020-09-21T00:00:00",
          "2020-10-08T00:00:00",
          "2020-10-21T00:00:00",
          "2020-10-26T00:00:00",
          "2020-11-05T00:00:00",
          "2021-07-20T00:00:00",
          "2021-07-28T00:00:00"
         ],
         "xaxis": "x",
         "y": [
          2.6,
          2.59,
          2.8,
          2.48,
          2.63,
          2.25,
          2.66,
          2.38,
          2.6,
          null,
          null,
          null,
          null,
          2.93,
          2.95,
          2.43,
          2.8,
          2.58,
          2.95,
          2.21,
          2.2,
          2.63,
          2.43,
          2.35,
          2.57,
          2.14,
          2.26,
          null,
          2.48,
          2.41,
          2.5,
          2.94,
          3.36,
          2.6,
          2.24,
          3.11,
          2.32,
          2.4,
          2.76,
          2.4,
          2.24,
          2.38,
          2.56,
          2.63,
          2.54,
          2.93,
          2.57,
          2.84,
          null,
          null
         ],
         "yaxis": "y"
        },
        {
         "hovertemplate": "Measurement=Silica<br>Date=%{x}<br>Value (mg/L)=%{y}<extra></extra>",
         "legendgroup": "Silica",
         "line": {
          "color": "#EF553B",
          "dash": "solid"
         },
         "marker": {
          "symbol": "circle"
         },
         "mode": "lines",
         "name": "Silica",
         "orientation": "v",
         "showlegend": true,
         "type": "scatter",
         "x": [
          "2018-01-18T00:00:00",
          "2018-04-10T00:00:00",
          "2018-05-01T00:00:00",
          "2018-05-08T00:00:00",
          "2018-05-22T00:00:00",
          "2018-05-30T00:00:00",
          "2018-06-05T00:00:00",
          "2018-06-12T00:00:00",
          "2018-06-19T00:00:00",
          "2018-06-26T00:00:00",
          "2018-07-11T00:00:00",
          "2018-07-24T00:00:00",
          "2018-08-01T00:00:00",
          "2018-08-07T00:00:00",
          "2018-09-11T00:00:00",
          "2018-09-18T00:00:00",
          "2018-09-26T00:00:00",
          "2018-10-02T00:00:00",
          "2018-10-11T00:00:00",
          "2018-10-16T00:00:00",
          "2019-07-09T00:00:00",
          "2019-08-07T00:00:00",
          "2019-08-13T00:00:00",
          "2019-08-13T00:00:00",
          "2019-08-20T00:00:00",
          "2019-09-03T00:00:00",
          "2019-09-11T00:00:00",
          "2019-09-25T00:00:00",
          "2019-10-10T00:00:00",
          "2019-10-10T00:00:00",
          "2019-10-22T00:00:00",
          "2019-10-29T00:00:00",
          "2019-11-13T00:00:00",
          "2019-12-05T00:00:00",
          "2020-01-15T00:00:00",
          "2020-02-05T00:00:00",
          "2020-03-02T00:00:00",
          "2020-06-03T00:00:00",
          "2020-06-17T00:00:00",
          "2020-07-29T00:00:00",
          "2020-08-12T00:00:00",
          "2020-08-17T00:00:00",
          "2020-09-02T00:00:00",
          "2020-09-09T00:00:00",
          "2020-09-21T00:00:00",
          "2020-10-08T00:00:00",
          "2020-10-21T00:00:00",
          "2020-10-26T00:00:00",
          "2020-11-05T00:00:00",
          "2021-07-20T00:00:00",
          "2021-07-28T00:00:00"
         ],
         "xaxis": "x",
         "y": [
          "1.89",
          2.153,
          "2.073",
          2.314,
          1.701,
          1.422,
          1.75,
          1.266,
          1.281,
          1.333,
          null,
          null,
          null,
          null,
          2.071,
          2.22,
          2.162,
          2.289,
          1.959,
          2.299,
          "1.321",
          1.902,
          2.03,
          2.03,
          1.556,
          "2.002",
          "1.674",
          1.189,
          "1.824",
          1.748,
          "1.794",
          "1.783",
          "2.31",
          3.12,
          2.479,
          1.52,
          1.84,
          0.816,
          1.1,
          0.412,
          1.54,
          1.35,
          1.59,
          1.96,
          1.926,
          1.919,
          1.84,
          2.054,
          1.973,
          null,
          null
         ],
         "yaxis": "y"
        },
        {
         "hovertemplate": "Measurement=Nitrate/Nitrite<br>Date=%{x}<br>Value (mg/L)=%{y}<extra></extra>",
         "legendgroup": "Nitrate/Nitrite",
         "line": {
          "color": "#00cc96",
          "dash": "solid"
         },
         "marker": {
          "symbol": "circle"
         },
         "mode": "lines",
         "name": "Nitrate/Nitrite",
         "orientation": "v",
         "showlegend": true,
         "type": "scatter",
         "x": [
          "2018-01-18T00:00:00",
          "2018-04-10T00:00:00",
          "2018-05-01T00:00:00",
          "2018-05-08T00:00:00",
          "2018-05-22T00:00:00",
          "2018-05-30T00:00:00",
          "2018-06-05T00:00:00",
          "2018-06-12T00:00:00",
          "2018-06-19T00:00:00",
          "2018-06-26T00:00:00",
          "2018-07-11T00:00:00",
          "2018-07-24T00:00:00",
          "2018-08-01T00:00:00",
          "2018-08-07T00:00:00",
          "2018-09-11T00:00:00",
          "2018-09-18T00:00:00",
          "2018-09-26T00:00:00",
          "2018-10-02T00:00:00",
          "2018-10-11T00:00:00",
          "2018-10-16T00:00:00",
          "2019-07-09T00:00:00",
          "2019-08-07T00:00:00",
          "2019-08-13T00:00:00",
          "2019-08-13T00:00:00",
          "2019-08-20T00:00:00",
          "2019-09-03T00:00:00",
          "2019-09-11T00:00:00",
          "2019-09-25T00:00:00",
          "2019-10-10T00:00:00",
          "2019-10-10T00:00:00",
          "2019-10-22T00:00:00",
          "2019-10-29T00:00:00",
          "2019-11-13T00:00:00",
          "2019-12-05T00:00:00",
          "2020-01-15T00:00:00",
          "2020-02-05T00:00:00",
          "2020-03-02T00:00:00",
          "2020-06-03T00:00:00",
          "2020-06-17T00:00:00",
          "2020-07-29T00:00:00",
          "2020-08-12T00:00:00",
          "2020-08-17T00:00:00",
          "2020-09-02T00:00:00",
          "2020-09-09T00:00:00",
          "2020-09-21T00:00:00",
          "2020-10-08T00:00:00",
          "2020-10-21T00:00:00",
          "2020-10-26T00:00:00",
          "2020-11-05T00:00:00",
          "2021-07-20T00:00:00",
          "2021-07-28T00:00:00"
         ],
         "xaxis": "x",
         "y": [
          "0.33",
          0.318,
          "0.32",
          0.316,
          0.321,
          0.295,
          0.347,
          0.272,
          0.266,
          0.254,
          null,
          null,
          null,
          null,
          0.288,
          0.427,
          0.404,
          0.5,
          0.407,
          0.434,
          "0.216",
          0.213,
          0.226,
          0.23,
          0.279,
          "0.293",
          "0.361",
          0.406,
          "0.385",
          0.379,
          "0.412",
          "0.436",
          "0.354",
          0.3,
          0.339,
          0.256,
          0.31,
          0.165,
          0.167,
          0.102,
          0.241,
          0.186,
          0.277,
          0.326,
          0.346,
          0.396,
          0.434,
          0.428,
          0.442,
          null,
          null
         ],
         "yaxis": "y"
        },
        {
         "hovertemplate": "Measurement=Ammonium<br>Date=%{x}<br>Value (mg/L)=%{y}<extra></extra>",
         "legendgroup": "Ammonium",
         "line": {
          "color": "#ab63fa",
          "dash": "solid"
         },
         "marker": {
          "symbol": "circle"
         },
         "mode": "lines",
         "name": "Ammonium",
         "orientation": "v",
         "showlegend": true,
         "type": "scatter",
         "x": [
          "2018-01-18T00:00:00",
          "2018-04-10T00:00:00",
          "2018-05-01T00:00:00",
          "2018-05-08T00:00:00",
          "2018-05-22T00:00:00",
          "2018-05-30T00:00:00",
          "2018-06-05T00:00:00",
          "2018-06-12T00:00:00",
          "2018-06-19T00:00:00",
          "2018-06-26T00:00:00",
          "2018-07-11T00:00:00",
          "2018-07-24T00:00:00",
          "2018-08-01T00:00:00",
          "2018-08-07T00:00:00",
          "2018-09-11T00:00:00",
          "2018-09-18T00:00:00",
          "2018-09-26T00:00:00",
          "2018-10-02T00:00:00",
          "2018-10-11T00:00:00",
          "2018-10-16T00:00:00",
          "2019-07-09T00:00:00",
          "2019-08-07T00:00:00",
          "2019-08-13T00:00:00",
          "2019-08-13T00:00:00",
          "2019-08-20T00:00:00",
          "2019-09-03T00:00:00",
          "2019-09-11T00:00:00",
          "2019-09-25T00:00:00",
          "2019-10-10T00:00:00",
          "2019-10-10T00:00:00",
          "2019-10-22T00:00:00",
          "2019-10-29T00:00:00",
          "2019-11-13T00:00:00",
          "2019-12-05T00:00:00",
          "2020-01-15T00:00:00",
          "2020-02-05T00:00:00",
          "2020-03-02T00:00:00",
          "2020-06-03T00:00:00",
          "2020-06-17T00:00:00",
          "2020-07-29T00:00:00",
          "2020-08-12T00:00:00",
          "2020-08-17T00:00:00",
          "2020-09-02T00:00:00",
          "2020-09-09T00:00:00",
          "2020-09-21T00:00:00",
          "2020-10-08T00:00:00",
          "2020-10-21T00:00:00",
          "2020-10-26T00:00:00",
          "2020-11-05T00:00:00",
          "2021-07-20T00:00:00",
          "2021-07-28T00:00:00"
         ],
         "xaxis": "x",
         "y": [
          "0.478",
          0.251,
          "0.337",
          0.313,
          0.233,
          0.353,
          0.344,
          0.355,
          0.352,
          0.549,
          null,
          null,
          null,
          null,
          0.383,
          0.322,
          0.345,
          0.224,
          0.463,
          0.266,
          "0.379",
          0.277,
          0.382,
          0.332,
          0.212,
          "0.377",
          "0.446",
          0.306,
          "0.526",
          0.399,
          "0.292",
          "0.28",
          "0.29",
          0.239,
          0.348,
          0.195,
          0.284,
          0.225,
          0.214,
          0.077,
          0.293,
          0.328,
          0.244,
          0.254,
          0.443,
          0.316,
          0.531,
          0.356,
          0.315,
          null,
          null
         ],
         "yaxis": "y"
        },
        {
         "hovertemplate": "Measurement=Phosphorus<br>Date=%{x}<br>Value (mg/L)=%{y}<extra></extra>",
         "legendgroup": "Phosphorus",
         "line": {
          "color": "#FFA15A",
          "dash": "solid"
         },
         "marker": {
          "symbol": "circle"
         },
         "mode": "lines",
         "name": "Phosphorus",
         "orientation": "v",
         "showlegend": true,
         "type": "scatter",
         "x": [
          "2018-01-18T00:00:00",
          "2018-04-10T00:00:00",
          "2018-05-01T00:00:00",
          "2018-05-08T00:00:00",
          "2018-05-22T00:00:00",
          "2018-05-30T00:00:00",
          "2018-06-05T00:00:00",
          "2018-06-12T00:00:00",
          "2018-06-19T00:00:00",
          "2018-06-26T00:00:00",
          "2018-07-11T00:00:00",
          "2018-07-24T00:00:00",
          "2018-08-01T00:00:00",
          "2018-08-07T00:00:00",
          "2018-09-11T00:00:00",
          "2018-09-18T00:00:00",
          "2018-09-26T00:00:00",
          "2018-10-02T00:00:00",
          "2018-10-11T00:00:00",
          "2018-10-16T00:00:00",
          "2019-07-09T00:00:00",
          "2019-08-07T00:00:00",
          "2019-08-13T00:00:00",
          "2019-08-13T00:00:00",
          "2019-08-20T00:00:00",
          "2019-09-03T00:00:00",
          "2019-09-11T00:00:00",
          "2019-09-25T00:00:00",
          "2019-10-10T00:00:00",
          "2019-10-10T00:00:00",
          "2019-10-22T00:00:00",
          "2019-10-29T00:00:00",
          "2019-11-13T00:00:00",
          "2019-12-05T00:00:00",
          "2020-01-15T00:00:00",
          "2020-02-05T00:00:00",
          "2020-03-02T00:00:00",
          "2020-06-03T00:00:00",
          "2020-06-17T00:00:00",
          "2020-07-29T00:00:00",
          "2020-08-12T00:00:00",
          "2020-08-17T00:00:00",
          "2020-09-02T00:00:00",
          "2020-09-09T00:00:00",
          "2020-09-21T00:00:00",
          "2020-10-08T00:00:00",
          "2020-10-21T00:00:00",
          "2020-10-26T00:00:00",
          "2020-11-05T00:00:00",
          "2021-07-20T00:00:00",
          "2021-07-28T00:00:00"
         ],
         "xaxis": "x",
         "y": [
          "0.106",
          0.078,
          "0.106",
          0.072,
          0.116,
          0.11,
          0.108,
          0.115,
          0.1448,
          0.211,
          null,
          null,
          null,
          null,
          0.194,
          0.17,
          0.158,
          0.142,
          0.16,
          0.064,
          "0.1",
          0.147,
          0.133,
          0.136,
          0.126,
          "0.12",
          "0.167",
          0.128,
          "0.166",
          0.147,
          "0.123",
          "0.11",
          "0.092",
          0.073,
          0.053,
          0.058,
          0.12,
          0.076,
          0.053,
          0.145,
          0.172,
          0.162,
          0.15,
          0.134,
          0.202,
          0.152,
          0.193,
          0.177,
          0.128,
          null,
          null
         ],
         "yaxis": "y"
        }
       ],
       "layout": {
        "legend": {
         "title": {
          "text": "Measurement"
         },
         "tracegroupgap": 0
        },
        "margin": {
         "t": 60
        },
        "template": {
         "data": {
          "bar": [
           {
            "error_x": {
             "color": "#2a3f5f"
            },
            "error_y": {
             "color": "#2a3f5f"
            },
            "marker": {
             "line": {
              "color": "#E5ECF6",
              "width": 0.5
             },
             "pattern": {
              "fillmode": "overlay",
              "size": 10,
              "solidity": 0.2
             }
            },
            "type": "bar"
           }
          ],
          "barpolar": [
           {
            "marker": {
             "line": {
              "color": "#E5ECF6",
              "width": 0.5
             },
             "pattern": {
              "fillmode": "overlay",
              "size": 10,
              "solidity": 0.2
             }
            },
            "type": "barpolar"
           }
          ],
          "carpet": [
           {
            "aaxis": {
             "endlinecolor": "#2a3f5f",
             "gridcolor": "white",
             "linecolor": "white",
             "minorgridcolor": "white",
             "startlinecolor": "#2a3f5f"
            },
            "baxis": {
             "endlinecolor": "#2a3f5f",
             "gridcolor": "white",
             "linecolor": "white",
             "minorgridcolor": "white",
             "startlinecolor": "#2a3f5f"
            },
            "type": "carpet"
           }
          ],
          "choropleth": [
           {
            "colorbar": {
             "outlinewidth": 0,
             "ticks": ""
            },
            "type": "choropleth"
           }
          ],
          "contour": [
           {
            "colorbar": {
             "outlinewidth": 0,
             "ticks": ""
            },
            "colorscale": [
             [
              0,
              "#0d0887"
             ],
             [
              0.1111111111111111,
              "#46039f"
             ],
             [
              0.2222222222222222,
              "#7201a8"
             ],
             [
              0.3333333333333333,
              "#9c179e"
             ],
             [
              0.4444444444444444,
              "#bd3786"
             ],
             [
              0.5555555555555556,
              "#d8576b"
             ],
             [
              0.6666666666666666,
              "#ed7953"
             ],
             [
              0.7777777777777778,
              "#fb9f3a"
             ],
             [
              0.8888888888888888,
              "#fdca26"
             ],
             [
              1,
              "#f0f921"
             ]
            ],
            "type": "contour"
           }
          ],
          "contourcarpet": [
           {
            "colorbar": {
             "outlinewidth": 0,
             "ticks": ""
            },
            "type": "contourcarpet"
           }
          ],
          "heatmap": [
           {
            "colorbar": {
             "outlinewidth": 0,
             "ticks": ""
            },
            "colorscale": [
             [
              0,
              "#0d0887"
             ],
             [
              0.1111111111111111,
              "#46039f"
             ],
             [
              0.2222222222222222,
              "#7201a8"
             ],
             [
              0.3333333333333333,
              "#9c179e"
             ],
             [
              0.4444444444444444,
              "#bd3786"
             ],
             [
              0.5555555555555556,
              "#d8576b"
             ],
             [
              0.6666666666666666,
              "#ed7953"
             ],
             [
              0.7777777777777778,
              "#fb9f3a"
             ],
             [
              0.8888888888888888,
              "#fdca26"
             ],
             [
              1,
              "#f0f921"
             ]
            ],
            "type": "heatmap"
           }
          ],
          "heatmapgl": [
           {
            "colorbar": {
             "outlinewidth": 0,
             "ticks": ""
            },
            "colorscale": [
             [
              0,
              "#0d0887"
             ],
             [
              0.1111111111111111,
              "#46039f"
             ],
             [
              0.2222222222222222,
              "#7201a8"
             ],
             [
              0.3333333333333333,
              "#9c179e"
             ],
             [
              0.4444444444444444,
              "#bd3786"
             ],
             [
              0.5555555555555556,
              "#d8576b"
             ],
             [
              0.6666666666666666,
              "#ed7953"
             ],
             [
              0.7777777777777778,
              "#fb9f3a"
             ],
             [
              0.8888888888888888,
              "#fdca26"
             ],
             [
              1,
              "#f0f921"
             ]
            ],
            "type": "heatmapgl"
           }
          ],
          "histogram": [
           {
            "marker": {
             "pattern": {
              "fillmode": "overlay",
              "size": 10,
              "solidity": 0.2
             }
            },
            "type": "histogram"
           }
          ],
          "histogram2d": [
           {
            "colorbar": {
             "outlinewidth": 0,
             "ticks": ""
            },
            "colorscale": [
             [
              0,
              "#0d0887"
             ],
             [
              0.1111111111111111,
              "#46039f"
             ],
             [
              0.2222222222222222,
              "#7201a8"
             ],
             [
              0.3333333333333333,
              "#9c179e"
             ],
             [
              0.4444444444444444,
              "#bd3786"
             ],
             [
              0.5555555555555556,
              "#d8576b"
             ],
             [
              0.6666666666666666,
              "#ed7953"
             ],
             [
              0.7777777777777778,
              "#fb9f3a"
             ],
             [
              0.8888888888888888,
              "#fdca26"
             ],
             [
              1,
              "#f0f921"
             ]
            ],
            "type": "histogram2d"
           }
          ],
          "histogram2dcontour": [
           {
            "colorbar": {
             "outlinewidth": 0,
             "ticks": ""
            },
            "colorscale": [
             [
              0,
              "#0d0887"
             ],
             [
              0.1111111111111111,
              "#46039f"
             ],
             [
              0.2222222222222222,
              "#7201a8"
             ],
             [
              0.3333333333333333,
              "#9c179e"
             ],
             [
              0.4444444444444444,
              "#bd3786"
             ],
             [
              0.5555555555555556,
              "#d8576b"
             ],
             [
              0.6666666666666666,
              "#ed7953"
             ],
             [
              0.7777777777777778,
              "#fb9f3a"
             ],
             [
              0.8888888888888888,
              "#fdca26"
             ],
             [
              1,
              "#f0f921"
             ]
            ],
            "type": "histogram2dcontour"
           }
          ],
          "mesh3d": [
           {
            "colorbar": {
             "outlinewidth": 0,
             "ticks": ""
            },
            "type": "mesh3d"
           }
          ],
          "parcoords": [
           {
            "line": {
             "colorbar": {
              "outlinewidth": 0,
              "ticks": ""
             }
            },
            "type": "parcoords"
           }
          ],
          "pie": [
           {
            "automargin": true,
            "type": "pie"
           }
          ],
          "scatter": [
           {
            "marker": {
             "colorbar": {
              "outlinewidth": 0,
              "ticks": ""
             }
            },
            "type": "scatter"
           }
          ],
          "scatter3d": [
           {
            "line": {
             "colorbar": {
              "outlinewidth": 0,
              "ticks": ""
             }
            },
            "marker": {
             "colorbar": {
              "outlinewidth": 0,
              "ticks": ""
             }
            },
            "type": "scatter3d"
           }
          ],
          "scattercarpet": [
           {
            "marker": {
             "colorbar": {
              "outlinewidth": 0,
              "ticks": ""
             }
            },
            "type": "scattercarpet"
           }
          ],
          "scattergeo": [
           {
            "marker": {
             "colorbar": {
              "outlinewidth": 0,
              "ticks": ""
             }
            },
            "type": "scattergeo"
           }
          ],
          "scattergl": [
           {
            "marker": {
             "colorbar": {
              "outlinewidth": 0,
              "ticks": ""
             }
            },
            "type": "scattergl"
           }
          ],
          "scattermapbox": [
           {
            "marker": {
             "colorbar": {
              "outlinewidth": 0,
              "ticks": ""
             }
            },
            "type": "scattermapbox"
           }
          ],
          "scatterpolar": [
           {
            "marker": {
             "colorbar": {
              "outlinewidth": 0,
              "ticks": ""
             }
            },
            "type": "scatterpolar"
           }
          ],
          "scatterpolargl": [
           {
            "marker": {
             "colorbar": {
              "outlinewidth": 0,
              "ticks": ""
             }
            },
            "type": "scatterpolargl"
           }
          ],
          "scatterternary": [
           {
            "marker": {
             "colorbar": {
              "outlinewidth": 0,
              "ticks": ""
             }
            },
            "type": "scatterternary"
           }
          ],
          "surface": [
           {
            "colorbar": {
             "outlinewidth": 0,
             "ticks": ""
            },
            "colorscale": [
             [
              0,
              "#0d0887"
             ],
             [
              0.1111111111111111,
              "#46039f"
             ],
             [
              0.2222222222222222,
              "#7201a8"
             ],
             [
              0.3333333333333333,
              "#9c179e"
             ],
             [
              0.4444444444444444,
              "#bd3786"
             ],
             [
              0.5555555555555556,
              "#d8576b"
             ],
             [
              0.6666666666666666,
              "#ed7953"
             ],
             [
              0.7777777777777778,
              "#fb9f3a"
             ],
             [
              0.8888888888888888,
              "#fdca26"
             ],
             [
              1,
              "#f0f921"
             ]
            ],
            "type": "surface"
           }
          ],
          "table": [
           {
            "cells": {
             "fill": {
              "color": "#EBF0F8"
             },
             "line": {
              "color": "white"
             }
            },
            "header": {
             "fill": {
              "color": "#C8D4E3"
             },
             "line": {
              "color": "white"
             }
            },
            "type": "table"
           }
          ]
         },
         "layout": {
          "annotationdefaults": {
           "arrowcolor": "#2a3f5f",
           "arrowhead": 0,
           "arrowwidth": 1
          },
          "autotypenumbers": "strict",
          "coloraxis": {
           "colorbar": {
            "outlinewidth": 0,
            "ticks": ""
           }
          },
          "colorscale": {
           "diverging": [
            [
             0,
             "#8e0152"
            ],
            [
             0.1,
             "#c51b7d"
            ],
            [
             0.2,
             "#de77ae"
            ],
            [
             0.3,
             "#f1b6da"
            ],
            [
             0.4,
             "#fde0ef"
            ],
            [
             0.5,
             "#f7f7f7"
            ],
            [
             0.6,
             "#e6f5d0"
            ],
            [
             0.7,
             "#b8e186"
            ],
            [
             0.8,
             "#7fbc41"
            ],
            [
             0.9,
             "#4d9221"
            ],
            [
             1,
             "#276419"
            ]
           ],
           "sequential": [
            [
             0,
             "#0d0887"
            ],
            [
             0.1111111111111111,
             "#46039f"
            ],
            [
             0.2222222222222222,
             "#7201a8"
            ],
            [
             0.3333333333333333,
             "#9c179e"
            ],
            [
             0.4444444444444444,
             "#bd3786"
            ],
            [
             0.5555555555555556,
             "#d8576b"
            ],
            [
             0.6666666666666666,
             "#ed7953"
            ],
            [
             0.7777777777777778,
             "#fb9f3a"
            ],
            [
             0.8888888888888888,
             "#fdca26"
            ],
            [
             1,
             "#f0f921"
            ]
           ],
           "sequentialminus": [
            [
             0,
             "#0d0887"
            ],
            [
             0.1111111111111111,
             "#46039f"
            ],
            [
             0.2222222222222222,
             "#7201a8"
            ],
            [
             0.3333333333333333,
             "#9c179e"
            ],
            [
             0.4444444444444444,
             "#bd3786"
            ],
            [
             0.5555555555555556,
             "#d8576b"
            ],
            [
             0.6666666666666666,
             "#ed7953"
            ],
            [
             0.7777777777777778,
             "#fb9f3a"
            ],
            [
             0.8888888888888888,
             "#fdca26"
            ],
            [
             1,
             "#f0f921"
            ]
           ]
          },
          "colorway": [
           "#636efa",
           "#EF553B",
           "#00cc96",
           "#ab63fa",
           "#FFA15A",
           "#19d3f3",
           "#FF6692",
           "#B6E880",
           "#FF97FF",
           "#FECB52"
          ],
          "font": {
           "color": "#2a3f5f"
          },
          "geo": {
           "bgcolor": "white",
           "lakecolor": "white",
           "landcolor": "#E5ECF6",
           "showlakes": true,
           "showland": true,
           "subunitcolor": "white"
          },
          "hoverlabel": {
           "align": "left"
          },
          "hovermode": "closest",
          "mapbox": {
           "style": "light"
          },
          "paper_bgcolor": "white",
          "plot_bgcolor": "#E5ECF6",
          "polar": {
           "angularaxis": {
            "gridcolor": "white",
            "linecolor": "white",
            "ticks": ""
           },
           "bgcolor": "#E5ECF6",
           "radialaxis": {
            "gridcolor": "white",
            "linecolor": "white",
            "ticks": ""
           }
          },
          "scene": {
           "xaxis": {
            "backgroundcolor": "#E5ECF6",
            "gridcolor": "white",
            "gridwidth": 2,
            "linecolor": "white",
            "showbackground": true,
            "ticks": "",
            "zerolinecolor": "white"
           },
           "yaxis": {
            "backgroundcolor": "#E5ECF6",
            "gridcolor": "white",
            "gridwidth": 2,
            "linecolor": "white",
            "showbackground": true,
            "ticks": "",
            "zerolinecolor": "white"
           },
           "zaxis": {
            "backgroundcolor": "#E5ECF6",
            "gridcolor": "white",
            "gridwidth": 2,
            "linecolor": "white",
            "showbackground": true,
            "ticks": "",
            "zerolinecolor": "white"
           }
          },
          "shapedefaults": {
           "line": {
            "color": "#2a3f5f"
           }
          },
          "ternary": {
           "aaxis": {
            "gridcolor": "white",
            "linecolor": "white",
            "ticks": ""
           },
           "baxis": {
            "gridcolor": "white",
            "linecolor": "white",
            "ticks": ""
           },
           "bgcolor": "#E5ECF6",
           "caxis": {
            "gridcolor": "white",
            "linecolor": "white",
            "ticks": ""
           }
          },
          "title": {
           "x": 0.05
          },
          "xaxis": {
           "automargin": true,
           "gridcolor": "white",
           "linecolor": "white",
           "ticks": "",
           "title": {
            "standoff": 15
           },
           "zerolinecolor": "white",
           "zerolinewidth": 2
          },
          "yaxis": {
           "automargin": true,
           "gridcolor": "white",
           "linecolor": "white",
           "ticks": "",
           "title": {
            "standoff": 15
           },
           "zerolinecolor": "white",
           "zerolinewidth": 2
          }
         }
        },
        "title": {
         "text": "Gowanus Canal Water Quality - Nutrients"
        },
        "xaxis": {
         "anchor": "y",
         "domain": [
          0,
          1
         ],
         "dtick": "M3",
         "tickangle": 45,
         "tickformat": "%b %Y",
         "title": {
          "text": "Date"
         }
        },
        "yaxis": {
         "anchor": "x",
         "domain": [
          0,
          1
         ],
         "title": {
          "text": "Value (mg/L)"
         }
        }
       }
      },
      "text/html": [
       "<div>                            <div id=\"9e33cab6-6d60-40c5-ab24-d293d70627cc\" class=\"plotly-graph-div\" style=\"height:525px; width:100%;\"></div>            <script type=\"text/javascript\">                require([\"plotly\"], function(Plotly) {                    window.PLOTLYENV=window.PLOTLYENV || {};                                    if (document.getElementById(\"9e33cab6-6d60-40c5-ab24-d293d70627cc\")) {                    Plotly.newPlot(                        \"9e33cab6-6d60-40c5-ab24-d293d70627cc\",                        [{\"hovertemplate\":\"Measurement=Dissolved Organic Carbon<br>Date=%{x}<br>Value (mg/L)=%{y}<extra></extra>\",\"legendgroup\":\"Dissolved Organic Carbon\",\"line\":{\"color\":\"#636efa\",\"dash\":\"solid\"},\"marker\":{\"symbol\":\"circle\"},\"mode\":\"lines\",\"name\":\"Dissolved Organic Carbon\",\"orientation\":\"v\",\"showlegend\":true,\"x\":[\"2018-01-18T00:00:00\",\"2018-04-10T00:00:00\",\"2018-05-01T00:00:00\",\"2018-05-08T00:00:00\",\"2018-05-22T00:00:00\",\"2018-05-30T00:00:00\",\"2018-06-05T00:00:00\",\"2018-06-12T00:00:00\",\"2018-06-26T00:00:00\",\"2018-07-11T00:00:00\",\"2018-07-24T00:00:00\",\"2018-08-01T00:00:00\",\"2018-08-07T00:00:00\",\"2018-09-11T00:00:00\",\"2018-09-18T00:00:00\",\"2018-09-26T00:00:00\",\"2018-10-02T00:00:00\",\"2018-10-11T00:00:00\",\"2018-10-16T00:00:00\",\"2019-07-09T00:00:00\",\"2019-08-07T00:00:00\",\"2019-08-13T00:00:00\",\"2019-08-13T00:00:00\",\"2019-08-20T00:00:00\",\"2019-09-03T00:00:00\",\"2019-09-11T00:00:00\",\"2019-09-25T00:00:00\",\"2019-10-10T00:00:00\",\"2019-10-10T00:00:00\",\"2019-10-22T00:00:00\",\"2019-10-29T00:00:00\",\"2019-11-13T00:00:00\",\"2019-12-05T00:00:00\",\"2020-01-15T00:00:00\",\"2020-02-05T00:00:00\",\"2020-03-02T00:00:00\",\"2020-06-03T00:00:00\",\"2020-06-17T00:00:00\",\"2020-07-29T00:00:00\",\"2020-08-12T00:00:00\",\"2020-08-17T00:00:00\",\"2020-09-02T00:00:00\",\"2020-09-09T00:00:00\",\"2020-09-21T00:00:00\",\"2020-10-08T00:00:00\",\"2020-10-21T00:00:00\",\"2020-10-26T00:00:00\",\"2020-11-05T00:00:00\",\"2021-07-20T00:00:00\",\"2021-07-28T00:00:00\"],\"xaxis\":\"x\",\"y\":[2.6,2.59,2.8,2.48,2.63,2.25,2.66,2.38,2.6,null,null,null,null,2.93,2.95,2.43,2.8,2.58,2.95,2.21,2.2,2.63,2.43,2.35,2.57,2.14,2.26,null,2.48,2.41,2.5,2.94,3.36,2.6,2.24,3.11,2.32,2.4,2.76,2.4,2.24,2.38,2.56,2.63,2.54,2.93,2.57,2.84,null,null],\"yaxis\":\"y\",\"type\":\"scatter\"},{\"hovertemplate\":\"Measurement=Silica<br>Date=%{x}<br>Value (mg/L)=%{y}<extra></extra>\",\"legendgroup\":\"Silica\",\"line\":{\"color\":\"#EF553B\",\"dash\":\"solid\"},\"marker\":{\"symbol\":\"circle\"},\"mode\":\"lines\",\"name\":\"Silica\",\"orientation\":\"v\",\"showlegend\":true,\"x\":[\"2018-01-18T00:00:00\",\"2018-04-10T00:00:00\",\"2018-05-01T00:00:00\",\"2018-05-08T00:00:00\",\"2018-05-22T00:00:00\",\"2018-05-30T00:00:00\",\"2018-06-05T00:00:00\",\"2018-06-12T00:00:00\",\"2018-06-19T00:00:00\",\"2018-06-26T00:00:00\",\"2018-07-11T00:00:00\",\"2018-07-24T00:00:00\",\"2018-08-01T00:00:00\",\"2018-08-07T00:00:00\",\"2018-09-11T00:00:00\",\"2018-09-18T00:00:00\",\"2018-09-26T00:00:00\",\"2018-10-02T00:00:00\",\"2018-10-11T00:00:00\",\"2018-10-16T00:00:00\",\"2019-07-09T00:00:00\",\"2019-08-07T00:00:00\",\"2019-08-13T00:00:00\",\"2019-08-13T00:00:00\",\"2019-08-20T00:00:00\",\"2019-09-03T00:00:00\",\"2019-09-11T00:00:00\",\"2019-09-25T00:00:00\",\"2019-10-10T00:00:00\",\"2019-10-10T00:00:00\",\"2019-10-22T00:00:00\",\"2019-10-29T00:00:00\",\"2019-11-13T00:00:00\",\"2019-12-05T00:00:00\",\"2020-01-15T00:00:00\",\"2020-02-05T00:00:00\",\"2020-03-02T00:00:00\",\"2020-06-03T00:00:00\",\"2020-06-17T00:00:00\",\"2020-07-29T00:00:00\",\"2020-08-12T00:00:00\",\"2020-08-17T00:00:00\",\"2020-09-02T00:00:00\",\"2020-09-09T00:00:00\",\"2020-09-21T00:00:00\",\"2020-10-08T00:00:00\",\"2020-10-21T00:00:00\",\"2020-10-26T00:00:00\",\"2020-11-05T00:00:00\",\"2021-07-20T00:00:00\",\"2021-07-28T00:00:00\"],\"xaxis\":\"x\",\"y\":[\"1.89\",2.153,\"2.073\",2.314,1.701,1.422,1.75,1.266,1.281,1.333,null,null,null,null,2.071,2.22,2.162,2.289,1.959,2.299,\"1.321\",1.902,2.03,2.03,1.556,\"2.002\",\"1.674\",1.189,\"1.824\",1.748,\"1.794\",\"1.783\",\"2.31\",3.12,2.479,1.52,1.84,0.816,1.1,0.412,1.54,1.35,1.59,1.96,1.926,1.919,1.84,2.054,1.973,null,null],\"yaxis\":\"y\",\"type\":\"scatter\"},{\"hovertemplate\":\"Measurement=Nitrate/Nitrite<br>Date=%{x}<br>Value (mg/L)=%{y}<extra></extra>\",\"legendgroup\":\"Nitrate/Nitrite\",\"line\":{\"color\":\"#00cc96\",\"dash\":\"solid\"},\"marker\":{\"symbol\":\"circle\"},\"mode\":\"lines\",\"name\":\"Nitrate/Nitrite\",\"orientation\":\"v\",\"showlegend\":true,\"x\":[\"2018-01-18T00:00:00\",\"2018-04-10T00:00:00\",\"2018-05-01T00:00:00\",\"2018-05-08T00:00:00\",\"2018-05-22T00:00:00\",\"2018-05-30T00:00:00\",\"2018-06-05T00:00:00\",\"2018-06-12T00:00:00\",\"2018-06-19T00:00:00\",\"2018-06-26T00:00:00\",\"2018-07-11T00:00:00\",\"2018-07-24T00:00:00\",\"2018-08-01T00:00:00\",\"2018-08-07T00:00:00\",\"2018-09-11T00:00:00\",\"2018-09-18T00:00:00\",\"2018-09-26T00:00:00\",\"2018-10-02T00:00:00\",\"2018-10-11T00:00:00\",\"2018-10-16T00:00:00\",\"2019-07-09T00:00:00\",\"2019-08-07T00:00:00\",\"2019-08-13T00:00:00\",\"2019-08-13T00:00:00\",\"2019-08-20T00:00:00\",\"2019-09-03T00:00:00\",\"2019-09-11T00:00:00\",\"2019-09-25T00:00:00\",\"2019-10-10T00:00:00\",\"2019-10-10T00:00:00\",\"2019-10-22T00:00:00\",\"2019-10-29T00:00:00\",\"2019-11-13T00:00:00\",\"2019-12-05T00:00:00\",\"2020-01-15T00:00:00\",\"2020-02-05T00:00:00\",\"2020-03-02T00:00:00\",\"2020-06-03T00:00:00\",\"2020-06-17T00:00:00\",\"2020-07-29T00:00:00\",\"2020-08-12T00:00:00\",\"2020-08-17T00:00:00\",\"2020-09-02T00:00:00\",\"2020-09-09T00:00:00\",\"2020-09-21T00:00:00\",\"2020-10-08T00:00:00\",\"2020-10-21T00:00:00\",\"2020-10-26T00:00:00\",\"2020-11-05T00:00:00\",\"2021-07-20T00:00:00\",\"2021-07-28T00:00:00\"],\"xaxis\":\"x\",\"y\":[\"0.33\",0.318,\"0.32\",0.316,0.321,0.295,0.347,0.272,0.266,0.254,null,null,null,null,0.288,0.427,0.404,0.5,0.407,0.434,\"0.216\",0.213,0.226,0.23,0.279,\"0.293\",\"0.361\",0.406,\"0.385\",0.379,\"0.412\",\"0.436\",\"0.354\",0.3,0.339,0.256,0.31,0.165,0.167,0.102,0.241,0.186,0.277,0.326,0.346,0.396,0.434,0.428,0.442,null,null],\"yaxis\":\"y\",\"type\":\"scatter\"},{\"hovertemplate\":\"Measurement=Ammonium<br>Date=%{x}<br>Value (mg/L)=%{y}<extra></extra>\",\"legendgroup\":\"Ammonium\",\"line\":{\"color\":\"#ab63fa\",\"dash\":\"solid\"},\"marker\":{\"symbol\":\"circle\"},\"mode\":\"lines\",\"name\":\"Ammonium\",\"orientation\":\"v\",\"showlegend\":true,\"x\":[\"2018-01-18T00:00:00\",\"2018-04-10T00:00:00\",\"2018-05-01T00:00:00\",\"2018-05-08T00:00:00\",\"2018-05-22T00:00:00\",\"2018-05-30T00:00:00\",\"2018-06-05T00:00:00\",\"2018-06-12T00:00:00\",\"2018-06-19T00:00:00\",\"2018-06-26T00:00:00\",\"2018-07-11T00:00:00\",\"2018-07-24T00:00:00\",\"2018-08-01T00:00:00\",\"2018-08-07T00:00:00\",\"2018-09-11T00:00:00\",\"2018-09-18T00:00:00\",\"2018-09-26T00:00:00\",\"2018-10-02T00:00:00\",\"2018-10-11T00:00:00\",\"2018-10-16T00:00:00\",\"2019-07-09T00:00:00\",\"2019-08-07T00:00:00\",\"2019-08-13T00:00:00\",\"2019-08-13T00:00:00\",\"2019-08-20T00:00:00\",\"2019-09-03T00:00:00\",\"2019-09-11T00:00:00\",\"2019-09-25T00:00:00\",\"2019-10-10T00:00:00\",\"2019-10-10T00:00:00\",\"2019-10-22T00:00:00\",\"2019-10-29T00:00:00\",\"2019-11-13T00:00:00\",\"2019-12-05T00:00:00\",\"2020-01-15T00:00:00\",\"2020-02-05T00:00:00\",\"2020-03-02T00:00:00\",\"2020-06-03T00:00:00\",\"2020-06-17T00:00:00\",\"2020-07-29T00:00:00\",\"2020-08-12T00:00:00\",\"2020-08-17T00:00:00\",\"2020-09-02T00:00:00\",\"2020-09-09T00:00:00\",\"2020-09-21T00:00:00\",\"2020-10-08T00:00:00\",\"2020-10-21T00:00:00\",\"2020-10-26T00:00:00\",\"2020-11-05T00:00:00\",\"2021-07-20T00:00:00\",\"2021-07-28T00:00:00\"],\"xaxis\":\"x\",\"y\":[\"0.478\",0.251,\"0.337\",0.313,0.233,0.353,0.344,0.355,0.352,0.549,null,null,null,null,0.383,0.322,0.345,0.224,0.463,0.266,\"0.379\",0.277,0.382,0.332,0.212,\"0.377\",\"0.446\",0.306,\"0.526\",0.399,\"0.292\",\"0.28\",\"0.29\",0.239,0.348,0.195,0.284,0.225,0.214,0.077,0.293,0.328,0.244,0.254,0.443,0.316,0.531,0.356,0.315,null,null],\"yaxis\":\"y\",\"type\":\"scatter\"},{\"hovertemplate\":\"Measurement=Phosphorus<br>Date=%{x}<br>Value (mg/L)=%{y}<extra></extra>\",\"legendgroup\":\"Phosphorus\",\"line\":{\"color\":\"#FFA15A\",\"dash\":\"solid\"},\"marker\":{\"symbol\":\"circle\"},\"mode\":\"lines\",\"name\":\"Phosphorus\",\"orientation\":\"v\",\"showlegend\":true,\"x\":[\"2018-01-18T00:00:00\",\"2018-04-10T00:00:00\",\"2018-05-01T00:00:00\",\"2018-05-08T00:00:00\",\"2018-05-22T00:00:00\",\"2018-05-30T00:00:00\",\"2018-06-05T00:00:00\",\"2018-06-12T00:00:00\",\"2018-06-19T00:00:00\",\"2018-06-26T00:00:00\",\"2018-07-11T00:00:00\",\"2018-07-24T00:00:00\",\"2018-08-01T00:00:00\",\"2018-08-07T00:00:00\",\"2018-09-11T00:00:00\",\"2018-09-18T00:00:00\",\"2018-09-26T00:00:00\",\"2018-10-02T00:00:00\",\"2018-10-11T00:00:00\",\"2018-10-16T00:00:00\",\"2019-07-09T00:00:00\",\"2019-08-07T00:00:00\",\"2019-08-13T00:00:00\",\"2019-08-13T00:00:00\",\"2019-08-20T00:00:00\",\"2019-09-03T00:00:00\",\"2019-09-11T00:00:00\",\"2019-09-25T00:00:00\",\"2019-10-10T00:00:00\",\"2019-10-10T00:00:00\",\"2019-10-22T00:00:00\",\"2019-10-29T00:00:00\",\"2019-11-13T00:00:00\",\"2019-12-05T00:00:00\",\"2020-01-15T00:00:00\",\"2020-02-05T00:00:00\",\"2020-03-02T00:00:00\",\"2020-06-03T00:00:00\",\"2020-06-17T00:00:00\",\"2020-07-29T00:00:00\",\"2020-08-12T00:00:00\",\"2020-08-17T00:00:00\",\"2020-09-02T00:00:00\",\"2020-09-09T00:00:00\",\"2020-09-21T00:00:00\",\"2020-10-08T00:00:00\",\"2020-10-21T00:00:00\",\"2020-10-26T00:00:00\",\"2020-11-05T00:00:00\",\"2021-07-20T00:00:00\",\"2021-07-28T00:00:00\"],\"xaxis\":\"x\",\"y\":[\"0.106\",0.078,\"0.106\",0.072,0.116,0.11,0.108,0.115,0.1448,0.211,null,null,null,null,0.194,0.17,0.158,0.142,0.16,0.064,\"0.1\",0.147,0.133,0.136,0.126,\"0.12\",\"0.167\",0.128,\"0.166\",0.147,\"0.123\",\"0.11\",\"0.092\",0.073,0.053,0.058,0.12,0.076,0.053,0.145,0.172,0.162,0.15,0.134,0.202,0.152,0.193,0.177,0.128,null,null],\"yaxis\":\"y\",\"type\":\"scatter\"}],                        {\"template\":{\"data\":{\"bar\":[{\"error_x\":{\"color\":\"#2a3f5f\"},\"error_y\":{\"color\":\"#2a3f5f\"},\"marker\":{\"line\":{\"color\":\"#E5ECF6\",\"width\":0.5},\"pattern\":{\"fillmode\":\"overlay\",\"size\":10,\"solidity\":0.2}},\"type\":\"bar\"}],\"barpolar\":[{\"marker\":{\"line\":{\"color\":\"#E5ECF6\",\"width\":0.5},\"pattern\":{\"fillmode\":\"overlay\",\"size\":10,\"solidity\":0.2}},\"type\":\"barpolar\"}],\"carpet\":[{\"aaxis\":{\"endlinecolor\":\"#2a3f5f\",\"gridcolor\":\"white\",\"linecolor\":\"white\",\"minorgridcolor\":\"white\",\"startlinecolor\":\"#2a3f5f\"},\"baxis\":{\"endlinecolor\":\"#2a3f5f\",\"gridcolor\":\"white\",\"linecolor\":\"white\",\"minorgridcolor\":\"white\",\"startlinecolor\":\"#2a3f5f\"},\"type\":\"carpet\"}],\"choropleth\":[{\"colorbar\":{\"outlinewidth\":0,\"ticks\":\"\"},\"type\":\"choropleth\"}],\"contour\":[{\"colorbar\":{\"outlinewidth\":0,\"ticks\":\"\"},\"colorscale\":[[0.0,\"#0d0887\"],[0.1111111111111111,\"#46039f\"],[0.2222222222222222,\"#7201a8\"],[0.3333333333333333,\"#9c179e\"],[0.4444444444444444,\"#bd3786\"],[0.5555555555555556,\"#d8576b\"],[0.6666666666666666,\"#ed7953\"],[0.7777777777777778,\"#fb9f3a\"],[0.8888888888888888,\"#fdca26\"],[1.0,\"#f0f921\"]],\"type\":\"contour\"}],\"contourcarpet\":[{\"colorbar\":{\"outlinewidth\":0,\"ticks\":\"\"},\"type\":\"contourcarpet\"}],\"heatmap\":[{\"colorbar\":{\"outlinewidth\":0,\"ticks\":\"\"},\"colorscale\":[[0.0,\"#0d0887\"],[0.1111111111111111,\"#46039f\"],[0.2222222222222222,\"#7201a8\"],[0.3333333333333333,\"#9c179e\"],[0.4444444444444444,\"#bd3786\"],[0.5555555555555556,\"#d8576b\"],[0.6666666666666666,\"#ed7953\"],[0.7777777777777778,\"#fb9f3a\"],[0.8888888888888888,\"#fdca26\"],[1.0,\"#f0f921\"]],\"type\":\"heatmap\"}],\"heatmapgl\":[{\"colorbar\":{\"outlinewidth\":0,\"ticks\":\"\"},\"colorscale\":[[0.0,\"#0d0887\"],[0.1111111111111111,\"#46039f\"],[0.2222222222222222,\"#7201a8\"],[0.3333333333333333,\"#9c179e\"],[0.4444444444444444,\"#bd3786\"],[0.5555555555555556,\"#d8576b\"],[0.6666666666666666,\"#ed7953\"],[0.7777777777777778,\"#fb9f3a\"],[0.8888888888888888,\"#fdca26\"],[1.0,\"#f0f921\"]],\"type\":\"heatmapgl\"}],\"histogram\":[{\"marker\":{\"pattern\":{\"fillmode\":\"overlay\",\"size\":10,\"solidity\":0.2}},\"type\":\"histogram\"}],\"histogram2d\":[{\"colorbar\":{\"outlinewidth\":0,\"ticks\":\"\"},\"colorscale\":[[0.0,\"#0d0887\"],[0.1111111111111111,\"#46039f\"],[0.2222222222222222,\"#7201a8\"],[0.3333333333333333,\"#9c179e\"],[0.4444444444444444,\"#bd3786\"],[0.5555555555555556,\"#d8576b\"],[0.6666666666666666,\"#ed7953\"],[0.7777777777777778,\"#fb9f3a\"],[0.8888888888888888,\"#fdca26\"],[1.0,\"#f0f921\"]],\"type\":\"histogram2d\"}],\"histogram2dcontour\":[{\"colorbar\":{\"outlinewidth\":0,\"ticks\":\"\"},\"colorscale\":[[0.0,\"#0d0887\"],[0.1111111111111111,\"#46039f\"],[0.2222222222222222,\"#7201a8\"],[0.3333333333333333,\"#9c179e\"],[0.4444444444444444,\"#bd3786\"],[0.5555555555555556,\"#d8576b\"],[0.6666666666666666,\"#ed7953\"],[0.7777777777777778,\"#fb9f3a\"],[0.8888888888888888,\"#fdca26\"],[1.0,\"#f0f921\"]],\"type\":\"histogram2dcontour\"}],\"mesh3d\":[{\"colorbar\":{\"outlinewidth\":0,\"ticks\":\"\"},\"type\":\"mesh3d\"}],\"parcoords\":[{\"line\":{\"colorbar\":{\"outlinewidth\":0,\"ticks\":\"\"}},\"type\":\"parcoords\"}],\"pie\":[{\"automargin\":true,\"type\":\"pie\"}],\"scatter\":[{\"marker\":{\"colorbar\":{\"outlinewidth\":0,\"ticks\":\"\"}},\"type\":\"scatter\"}],\"scatter3d\":[{\"line\":{\"colorbar\":{\"outlinewidth\":0,\"ticks\":\"\"}},\"marker\":{\"colorbar\":{\"outlinewidth\":0,\"ticks\":\"\"}},\"type\":\"scatter3d\"}],\"scattercarpet\":[{\"marker\":{\"colorbar\":{\"outlinewidth\":0,\"ticks\":\"\"}},\"type\":\"scattercarpet\"}],\"scattergeo\":[{\"marker\":{\"colorbar\":{\"outlinewidth\":0,\"ticks\":\"\"}},\"type\":\"scattergeo\"}],\"scattergl\":[{\"marker\":{\"colorbar\":{\"outlinewidth\":0,\"ticks\":\"\"}},\"type\":\"scattergl\"}],\"scattermapbox\":[{\"marker\":{\"colorbar\":{\"outlinewidth\":0,\"ticks\":\"\"}},\"type\":\"scattermapbox\"}],\"scatterpolar\":[{\"marker\":{\"colorbar\":{\"outlinewidth\":0,\"ticks\":\"\"}},\"type\":\"scatterpolar\"}],\"scatterpolargl\":[{\"marker\":{\"colorbar\":{\"outlinewidth\":0,\"ticks\":\"\"}},\"type\":\"scatterpolargl\"}],\"scatterternary\":[{\"marker\":{\"colorbar\":{\"outlinewidth\":0,\"ticks\":\"\"}},\"type\":\"scatterternary\"}],\"surface\":[{\"colorbar\":{\"outlinewidth\":0,\"ticks\":\"\"},\"colorscale\":[[0.0,\"#0d0887\"],[0.1111111111111111,\"#46039f\"],[0.2222222222222222,\"#7201a8\"],[0.3333333333333333,\"#9c179e\"],[0.4444444444444444,\"#bd3786\"],[0.5555555555555556,\"#d8576b\"],[0.6666666666666666,\"#ed7953\"],[0.7777777777777778,\"#fb9f3a\"],[0.8888888888888888,\"#fdca26\"],[1.0,\"#f0f921\"]],\"type\":\"surface\"}],\"table\":[{\"cells\":{\"fill\":{\"color\":\"#EBF0F8\"},\"line\":{\"color\":\"white\"}},\"header\":{\"fill\":{\"color\":\"#C8D4E3\"},\"line\":{\"color\":\"white\"}},\"type\":\"table\"}]},\"layout\":{\"annotationdefaults\":{\"arrowcolor\":\"#2a3f5f\",\"arrowhead\":0,\"arrowwidth\":1},\"autotypenumbers\":\"strict\",\"coloraxis\":{\"colorbar\":{\"outlinewidth\":0,\"ticks\":\"\"}},\"colorscale\":{\"diverging\":[[0,\"#8e0152\"],[0.1,\"#c51b7d\"],[0.2,\"#de77ae\"],[0.3,\"#f1b6da\"],[0.4,\"#fde0ef\"],[0.5,\"#f7f7f7\"],[0.6,\"#e6f5d0\"],[0.7,\"#b8e186\"],[0.8,\"#7fbc41\"],[0.9,\"#4d9221\"],[1,\"#276419\"]],\"sequential\":[[0.0,\"#0d0887\"],[0.1111111111111111,\"#46039f\"],[0.2222222222222222,\"#7201a8\"],[0.3333333333333333,\"#9c179e\"],[0.4444444444444444,\"#bd3786\"],[0.5555555555555556,\"#d8576b\"],[0.6666666666666666,\"#ed7953\"],[0.7777777777777778,\"#fb9f3a\"],[0.8888888888888888,\"#fdca26\"],[1.0,\"#f0f921\"]],\"sequentialminus\":[[0.0,\"#0d0887\"],[0.1111111111111111,\"#46039f\"],[0.2222222222222222,\"#7201a8\"],[0.3333333333333333,\"#9c179e\"],[0.4444444444444444,\"#bd3786\"],[0.5555555555555556,\"#d8576b\"],[0.6666666666666666,\"#ed7953\"],[0.7777777777777778,\"#fb9f3a\"],[0.8888888888888888,\"#fdca26\"],[1.0,\"#f0f921\"]]},\"colorway\":[\"#636efa\",\"#EF553B\",\"#00cc96\",\"#ab63fa\",\"#FFA15A\",\"#19d3f3\",\"#FF6692\",\"#B6E880\",\"#FF97FF\",\"#FECB52\"],\"font\":{\"color\":\"#2a3f5f\"},\"geo\":{\"bgcolor\":\"white\",\"lakecolor\":\"white\",\"landcolor\":\"#E5ECF6\",\"showlakes\":true,\"showland\":true,\"subunitcolor\":\"white\"},\"hoverlabel\":{\"align\":\"left\"},\"hovermode\":\"closest\",\"mapbox\":{\"style\":\"light\"},\"paper_bgcolor\":\"white\",\"plot_bgcolor\":\"#E5ECF6\",\"polar\":{\"angularaxis\":{\"gridcolor\":\"white\",\"linecolor\":\"white\",\"ticks\":\"\"},\"bgcolor\":\"#E5ECF6\",\"radialaxis\":{\"gridcolor\":\"white\",\"linecolor\":\"white\",\"ticks\":\"\"}},\"scene\":{\"xaxis\":{\"backgroundcolor\":\"#E5ECF6\",\"gridcolor\":\"white\",\"gridwidth\":2,\"linecolor\":\"white\",\"showbackground\":true,\"ticks\":\"\",\"zerolinecolor\":\"white\"},\"yaxis\":{\"backgroundcolor\":\"#E5ECF6\",\"gridcolor\":\"white\",\"gridwidth\":2,\"linecolor\":\"white\",\"showbackground\":true,\"ticks\":\"\",\"zerolinecolor\":\"white\"},\"zaxis\":{\"backgroundcolor\":\"#E5ECF6\",\"gridcolor\":\"white\",\"gridwidth\":2,\"linecolor\":\"white\",\"showbackground\":true,\"ticks\":\"\",\"zerolinecolor\":\"white\"}},\"shapedefaults\":{\"line\":{\"color\":\"#2a3f5f\"}},\"ternary\":{\"aaxis\":{\"gridcolor\":\"white\",\"linecolor\":\"white\",\"ticks\":\"\"},\"baxis\":{\"gridcolor\":\"white\",\"linecolor\":\"white\",\"ticks\":\"\"},\"bgcolor\":\"#E5ECF6\",\"caxis\":{\"gridcolor\":\"white\",\"linecolor\":\"white\",\"ticks\":\"\"}},\"title\":{\"x\":0.05},\"xaxis\":{\"automargin\":true,\"gridcolor\":\"white\",\"linecolor\":\"white\",\"ticks\":\"\",\"title\":{\"standoff\":15},\"zerolinecolor\":\"white\",\"zerolinewidth\":2},\"yaxis\":{\"automargin\":true,\"gridcolor\":\"white\",\"linecolor\":\"white\",\"ticks\":\"\",\"title\":{\"standoff\":15},\"zerolinecolor\":\"white\",\"zerolinewidth\":2}}},\"xaxis\":{\"anchor\":\"y\",\"domain\":[0.0,1.0],\"title\":{\"text\":\"Date\"},\"tickformat\":\"%b %Y\",\"tickangle\":45,\"dtick\":\"M3\"},\"yaxis\":{\"anchor\":\"x\",\"domain\":[0.0,1.0],\"title\":{\"text\":\"Value (mg/L)\"}},\"legend\":{\"title\":{\"text\":\"Measurement\"},\"tracegroupgap\":0},\"margin\":{\"t\":60},\"title\":{\"text\":\"Gowanus Canal Water Quality - Nutrients\"}},                        {\"responsive\": true}                    ).then(function(){\n",
       "                            \n",
       "var gd = document.getElementById('9e33cab6-6d60-40c5-ab24-d293d70627cc');\n",
       "var x = new MutationObserver(function (mutations, observer) {{\n",
       "        var display = window.getComputedStyle(gd).display;\n",
       "        if (!display || display === 'none') {{\n",
       "            console.log([gd, 'removed!']);\n",
       "            Plotly.purge(gd);\n",
       "            observer.disconnect();\n",
       "        }}\n",
       "}});\n",
       "\n",
       "// Listen for the removal of the full notebook cells\n",
       "var notebookContainer = gd.closest('#notebook-container');\n",
       "if (notebookContainer) {{\n",
       "    x.observe(notebookContainer, {childList: true});\n",
       "}}\n",
       "\n",
       "// Listen for the clearing of the current output cell\n",
       "var outputEl = gd.closest('.output');\n",
       "if (outputEl) {{\n",
       "    x.observe(outputEl, {childList: true});\n",
       "}}\n",
       "\n",
       "                        })                };                });            </script>        </div>"
      ]
     },
     "metadata": {},
     "output_type": "display_data"
    }
   ],
   "source": [
    "fig = px.line(G2, x=\"Date\", y=\"Value (mg/L)\", color= \"Measurement\", category_orders={\"Measurement\": [\"Dissolved Organic Carbon\", \"Silica\", \"Nitrate/Nitrite\", \"Ammonium\", \"Phosphorus\"],})\n",
    "\n",
    "fig.update_layout(title = 'Gowanus Canal Water Quality - Nutrients', xaxis=dict(tickformat=\"%b %Y\", tickangle=45))\n",
    "fig.update_xaxes(dtick=\"M3\")"
   ]
  },
  {
   "cell_type": "code",
   "execution_count": 576,
   "id": "46144814",
   "metadata": {
    "scrolled": false
   },
   "outputs": [
    {
     "data": {
      "application/vnd.plotly.v1+json": {
       "config": {
        "plotlyServerURL": "https://plot.ly"
       },
       "data": [
        {
         "hovertemplate": "Measurement=Dissolved Organic Carbon<br>Date=%{x}<br>Value (mg/L)=%{y}<extra></extra>",
         "legendgroup": "Dissolved Organic Carbon",
         "line": {
          "color": "#636efa",
          "dash": "solid"
         },
         "marker": {
          "symbol": "circle"
         },
         "mode": "lines",
         "name": "Dissolved Organic Carbon",
         "orientation": "v",
         "showlegend": true,
         "type": "scatter",
         "x": [
          "2018-01-11T00:00:00",
          "2018-01-11T00:00:00",
          "2018-02-13T00:00:00",
          "2018-03-07T00:00:00",
          "2018-04-04T00:00:00",
          "2018-04-30T00:00:00",
          "2018-05-07T00:00:00",
          "2018-05-16T00:00:00",
          "2018-05-24T00:00:00",
          "2018-05-29T00:00:00",
          "2018-06-04T00:00:00",
          "2018-06-12T00:00:00",
          "2018-06-18T00:00:00",
          "2018-06-25T00:00:00",
          "2018-07-17T00:00:00",
          "2018-08-06T00:00:00",
          "2018-08-15T00:00:00",
          "2018-08-20T00:00:00",
          "2018-08-30T00:00:00",
          "2018-09-17T00:00:00",
          "2018-09-24T00:00:00",
          "2018-10-01T00:00:00",
          "2018-10-15T00:00:00",
          "2018-10-22T00:00:00",
          "2018-11-28T00:00:00",
          "2018-12-12T00:00:00",
          "2019-01-15T00:00:00",
          "2019-02-06T00:00:00",
          "2019-03-13T00:00:00",
          "2019-04-16T00:00:00",
          "2019-05-08T00:00:00",
          "2019-05-22T00:00:00",
          "2019-06-05T00:00:00",
          "2019-06-19T00:00:00",
          "2019-08-08T00:00:00",
          "2019-11-14T00:00:00",
          "2019-12-11T00:00:00",
          "2019-12-11T00:00:00",
          "2020-01-13T00:00:00",
          "2020-02-10T00:00:00",
          "2020-03-24T00:00:00",
          "2020-06-09T00:00:00",
          "2020-06-24T00:00:00",
          "2020-07-08T00:00:00",
          "2020-07-22T00:00:00",
          "2020-08-05T00:00:00",
          "2020-08-12T00:00:00",
          "2020-08-19T00:00:00",
          "2020-08-26T00:00:00",
          "2020-09-02T00:00:00",
          "2020-09-14T00:00:00",
          "2020-09-23T00:00:00",
          "2020-09-30T00:00:00",
          "2020-10-08T00:00:00",
          "2020-10-21T00:00:00",
          "2020-10-28T00:00:00",
          "2020-11-19T00:00:00",
          "2020-12-14T00:00:00",
          "2021-01-13T00:00:00",
          "2021-02-16T00:00:00",
          "2021-03-18T00:00:00",
          "2021-04-21T00:00:00",
          "2021-05-18T00:00:00",
          "2021-06-03T00:00:00",
          "2021-07-14T00:00:00",
          "2021-07-14T00:00:00",
          "2021-07-28T00:00:00"
         ],
         "xaxis": "x",
         "y": [
          2.94,
          3.23,
          3.07,
          2.43,
          2.7,
          2.66,
          2.83,
          2.86,
          2.69,
          2.22,
          2.27,
          2.5,
          2.81,
          2.93,
          null,
          null,
          2.78,
          2.65,
          2.53,
          2.66,
          2.56,
          3.09,
          2.93,
          3.18,
          3.42,
          2.94,
          2.31,
          2.39,
          2.4,
          2.57,
          2.48,
          null,
          null,
          null,
          null,
          3.11,
          3.23,
          3.1,
          2.34,
          2.33,
          2.4,
          2.44,
          2.58,
          2.31,
          2.49,
          2.58,
          2.44,
          2.33,
          2.73,
          2.41,
          2.62,
          2.59,
          4,
          2.53,
          2.27,
          2.39,
          2.26,
          2.16,
          2.16,
          2.64,
          2.01,
          2.37,
          2.24,
          2.48,
          null,
          null,
          null
         ],
         "yaxis": "y"
        },
        {
         "hovertemplate": "Measurement=Silica<br>Date=%{x}<br>Value (mg/L)=%{y}<extra></extra>",
         "legendgroup": "Silica",
         "line": {
          "color": "#EF553B",
          "dash": "solid"
         },
         "marker": {
          "symbol": "circle"
         },
         "mode": "lines",
         "name": "Silica",
         "orientation": "v",
         "showlegend": true,
         "type": "scatter",
         "x": [
          "2018-01-11T00:00:00",
          "2018-01-11T00:00:00",
          "2018-02-13T00:00:00",
          "2018-03-07T00:00:00",
          "2018-04-04T00:00:00",
          "2018-04-30T00:00:00",
          "2018-05-07T00:00:00",
          "2018-05-16T00:00:00",
          "2018-05-24T00:00:00",
          "2018-05-29T00:00:00",
          "2018-06-04T00:00:00",
          "2018-06-12T00:00:00",
          "2018-06-18T00:00:00",
          "2018-06-25T00:00:00",
          "2018-07-17T00:00:00",
          "2018-08-06T00:00:00",
          "2018-08-15T00:00:00",
          "2018-08-20T00:00:00",
          "2018-08-30T00:00:00",
          "2018-09-17T00:00:00",
          "2018-09-24T00:00:00",
          "2018-10-01T00:00:00",
          "2018-10-15T00:00:00",
          "2018-10-22T00:00:00",
          "2018-11-28T00:00:00",
          "2018-12-12T00:00:00",
          "2019-01-15T00:00:00",
          "2019-02-06T00:00:00",
          "2019-03-13T00:00:00",
          "2019-04-16T00:00:00",
          "2019-05-08T00:00:00",
          "2019-05-22T00:00:00",
          "2019-06-05T00:00:00",
          "2019-06-19T00:00:00",
          "2019-08-08T00:00:00",
          "2019-11-14T00:00:00",
          "2019-12-11T00:00:00",
          "2019-12-11T00:00:00",
          "2020-01-13T00:00:00",
          "2020-02-10T00:00:00",
          "2020-03-24T00:00:00",
          "2020-06-09T00:00:00",
          "2020-06-24T00:00:00",
          "2020-07-08T00:00:00",
          "2020-07-22T00:00:00",
          "2020-08-05T00:00:00",
          "2020-08-12T00:00:00",
          "2020-08-19T00:00:00",
          "2020-08-26T00:00:00",
          "2020-09-02T00:00:00",
          "2020-09-14T00:00:00",
          "2020-09-23T00:00:00",
          "2020-09-30T00:00:00",
          "2020-10-08T00:00:00",
          "2020-10-21T00:00:00",
          "2020-10-28T00:00:00",
          "2020-11-19T00:00:00",
          "2020-12-14T00:00:00",
          "2021-01-13T00:00:00",
          "2021-02-16T00:00:00",
          "2021-03-18T00:00:00",
          "2021-04-21T00:00:00",
          "2021-05-18T00:00:00",
          "2021-06-03T00:00:00",
          "2021-07-14T00:00:00",
          "2021-07-14T00:00:00",
          "2021-07-28T00:00:00"
         ],
         "xaxis": "x",
         "y": [
          1.42,
          1.415,
          1.926,
          2.31,
          1.758,
          2.081,
          "2.266",
          1.422,
          1.853,
          1.52,
          1.4,
          1.306,
          1.469,
          1.289,
          null,
          null,
          2.24,
          2.076,
          1.936,
          2.52,
          2.563,
          2.462,
          2.484,
          2.38,
          "3.851",
          3.075,
          "2.6",
          1.731,
          1.511,
          "2.396",
          "2.119",
          null,
          null,
          null,
          null,
          2.46,
          "2.5",
          2.45,
          3.077,
          2.18,
          1.76,
          1.22,
          1.03,
          2.59,
          1.39,
          1.92,
          1.65,
          1.88,
          1.859,
          2.1,
          1.82,
          2.068,
          1.726,
          2.14,
          3.51,
          2.136,
          2.363,
          1.777,
          2.06,
          0.668,
          1.591,
          2.21,
          1.68,
          1.4,
          null,
          null,
          null
         ],
         "yaxis": "y"
        },
        {
         "hovertemplate": "Measurement=Nitrate/Nitrite<br>Date=%{x}<br>Value (mg/L)=%{y}<extra></extra>",
         "legendgroup": "Nitrate/Nitrite",
         "line": {
          "color": "#00cc96",
          "dash": "solid"
         },
         "marker": {
          "symbol": "circle"
         },
         "mode": "lines",
         "name": "Nitrate/Nitrite",
         "orientation": "v",
         "showlegend": true,
         "type": "scatter",
         "x": [
          "2018-01-11T00:00:00",
          "2018-01-11T00:00:00",
          "2018-02-13T00:00:00",
          "2018-03-07T00:00:00",
          "2018-04-04T00:00:00",
          "2018-04-30T00:00:00",
          "2018-05-07T00:00:00",
          "2018-05-16T00:00:00",
          "2018-05-24T00:00:00",
          "2018-05-29T00:00:00",
          "2018-06-04T00:00:00",
          "2018-06-12T00:00:00",
          "2018-06-18T00:00:00",
          "2018-06-25T00:00:00",
          "2018-07-17T00:00:00",
          "2018-08-06T00:00:00",
          "2018-08-15T00:00:00",
          "2018-08-20T00:00:00",
          "2018-08-30T00:00:00",
          "2018-09-17T00:00:00",
          "2018-09-24T00:00:00",
          "2018-10-01T00:00:00",
          "2018-10-15T00:00:00",
          "2018-10-22T00:00:00",
          "2018-11-28T00:00:00",
          "2018-12-12T00:00:00",
          "2019-01-15T00:00:00",
          "2019-02-06T00:00:00",
          "2019-03-13T00:00:00",
          "2019-04-16T00:00:00",
          "2019-05-08T00:00:00",
          "2019-05-22T00:00:00",
          "2019-06-05T00:00:00",
          "2019-06-19T00:00:00",
          "2019-08-08T00:00:00",
          "2019-11-14T00:00:00",
          "2019-12-11T00:00:00",
          "2019-12-11T00:00:00",
          "2020-01-13T00:00:00",
          "2020-02-10T00:00:00",
          "2020-03-24T00:00:00",
          "2020-06-09T00:00:00",
          "2020-06-24T00:00:00",
          "2020-07-08T00:00:00",
          "2020-07-22T00:00:00",
          "2020-08-05T00:00:00",
          "2020-08-12T00:00:00",
          "2020-08-19T00:00:00",
          "2020-08-26T00:00:00",
          "2020-09-02T00:00:00",
          "2020-09-14T00:00:00",
          "2020-09-23T00:00:00",
          "2020-09-30T00:00:00",
          "2020-10-08T00:00:00",
          "2020-10-21T00:00:00",
          "2020-10-28T00:00:00",
          "2020-11-19T00:00:00",
          "2020-12-14T00:00:00",
          "2021-01-13T00:00:00",
          "2021-02-16T00:00:00",
          "2021-03-18T00:00:00",
          "2021-04-21T00:00:00",
          "2021-05-18T00:00:00",
          "2021-06-03T00:00:00",
          "2021-07-14T00:00:00",
          "2021-07-14T00:00:00",
          "2021-07-28T00:00:00"
         ],
         "xaxis": "x",
         "y": [
          0.286,
          0.294,
          0.322,
          0.31,
          0.327,
          0.351,
          "0.307",
          0.281,
          0.375,
          0.326,
          0.313,
          0.282,
          0.303,
          0.276,
          null,
          null,
          0.307,
          0.315,
          0.257,
          0.495,
          0.483,
          0.524,
          0.44,
          0.414,
          "0.421",
          0.362,
          "0.331",
          0.3,
          0.271,
          "0.367",
          "0.281",
          null,
          null,
          null,
          null,
          0.302,
          "0.323",
          0.322,
          0.357,
          0.375,
          0.284,
          0.207,
          0.181,
          0.216,
          0.272,
          0.272,
          0.263,
          0.287,
          0.338,
          0.328,
          0.321,
          0.384,
          0.403,
          0.442,
          0.45,
          0.468,
          0.532,
          0.422,
          0.377,
          0.235,
          0.296,
          0.38,
          0.315,
          0.289,
          null,
          null,
          null
         ],
         "yaxis": "y"
        },
        {
         "hovertemplate": "Measurement=Ammonium<br>Date=%{x}<br>Value (mg/L)=%{y}<extra></extra>",
         "legendgroup": "Ammonium",
         "line": {
          "color": "#ab63fa",
          "dash": "solid"
         },
         "marker": {
          "symbol": "circle"
         },
         "mode": "lines",
         "name": "Ammonium",
         "orientation": "v",
         "showlegend": true,
         "type": "scatter",
         "x": [
          "2018-01-11T00:00:00",
          "2018-01-11T00:00:00",
          "2018-02-13T00:00:00",
          "2018-03-07T00:00:00",
          "2018-04-04T00:00:00",
          "2018-04-30T00:00:00",
          "2018-05-07T00:00:00",
          "2018-05-16T00:00:00",
          "2018-05-24T00:00:00",
          "2018-05-29T00:00:00",
          "2018-06-04T00:00:00",
          "2018-06-12T00:00:00",
          "2018-06-18T00:00:00",
          "2018-06-25T00:00:00",
          "2018-07-17T00:00:00",
          "2018-08-06T00:00:00",
          "2018-08-15T00:00:00",
          "2018-08-20T00:00:00",
          "2018-08-30T00:00:00",
          "2018-09-17T00:00:00",
          "2018-09-24T00:00:00",
          "2018-10-01T00:00:00",
          "2018-10-15T00:00:00",
          "2018-10-22T00:00:00",
          "2018-11-28T00:00:00",
          "2018-12-12T00:00:00",
          "2019-01-15T00:00:00",
          "2019-02-06T00:00:00",
          "2019-03-13T00:00:00",
          "2019-04-16T00:00:00",
          "2019-05-08T00:00:00",
          "2019-05-22T00:00:00",
          "2019-06-05T00:00:00",
          "2019-06-19T00:00:00",
          "2019-08-08T00:00:00",
          "2019-11-14T00:00:00",
          "2019-12-11T00:00:00",
          "2019-12-11T00:00:00",
          "2020-01-13T00:00:00",
          "2020-02-10T00:00:00",
          "2020-03-24T00:00:00",
          "2020-06-09T00:00:00",
          "2020-06-24T00:00:00",
          "2020-07-08T00:00:00",
          "2020-07-22T00:00:00",
          "2020-08-05T00:00:00",
          "2020-08-12T00:00:00",
          "2020-08-19T00:00:00",
          "2020-08-26T00:00:00",
          "2020-09-02T00:00:00",
          "2020-09-14T00:00:00",
          "2020-09-23T00:00:00",
          "2020-09-30T00:00:00",
          "2020-10-08T00:00:00",
          "2020-10-21T00:00:00",
          "2020-10-28T00:00:00",
          "2020-11-19T00:00:00",
          "2020-12-14T00:00:00",
          "2021-01-13T00:00:00",
          "2021-02-16T00:00:00",
          "2021-03-18T00:00:00",
          "2021-04-21T00:00:00",
          "2021-05-18T00:00:00",
          "2021-06-03T00:00:00",
          "2021-07-14T00:00:00",
          "2021-07-14T00:00:00",
          "2021-07-28T00:00:00"
         ],
         "xaxis": "x",
         "y": [
          0.415,
          0.36,
          0.378,
          0.25,
          0.313,
          0.379,
          "0.34",
          0.29,
          0.426,
          0.324,
          0.29,
          0.337,
          0.347,
          0.463,
          null,
          null,
          0.396,
          0.38,
          0.384,
          0.325,
          0.326,
          0.323,
          0.311,
          0.211,
          "0.252",
          0.259,
          "0.243",
          0.407,
          0.595,
          "0.418",
          "0.358",
          null,
          null,
          null,
          null,
          0.288,
          "0.443",
          0.433,
          0.334,
          0.357,
          0.253,
          0.281,
          0.312,
          0.341,
          0.331,
          0.309,
          0.312,
          0.364,
          0.408,
          0.287,
          0.279,
          0.307,
          0.41,
          0.351,
          0.343,
          0.344,
          0.373,
          0.347,
          0.26,
          0.402,
          0.339,
          0.859,
          0.31,
          0.325,
          null,
          null,
          null
         ],
         "yaxis": "y"
        },
        {
         "hovertemplate": "Measurement=Phosphorus<br>Date=%{x}<br>Value (mg/L)=%{y}<extra></extra>",
         "legendgroup": "Phosphorus",
         "line": {
          "color": "#FFA15A",
          "dash": "solid"
         },
         "marker": {
          "symbol": "circle"
         },
         "mode": "lines",
         "name": "Phosphorus",
         "orientation": "v",
         "showlegend": true,
         "type": "scatter",
         "x": [
          "2018-01-11T00:00:00",
          "2018-01-11T00:00:00",
          "2018-02-13T00:00:00",
          "2018-03-07T00:00:00",
          "2018-04-04T00:00:00",
          "2018-04-30T00:00:00",
          "2018-05-07T00:00:00",
          "2018-05-16T00:00:00",
          "2018-05-24T00:00:00",
          "2018-05-29T00:00:00",
          "2018-06-04T00:00:00",
          "2018-06-12T00:00:00",
          "2018-06-18T00:00:00",
          "2018-06-25T00:00:00",
          "2018-07-17T00:00:00",
          "2018-08-06T00:00:00",
          "2018-08-15T00:00:00",
          "2018-08-20T00:00:00",
          "2018-08-30T00:00:00",
          "2018-09-17T00:00:00",
          "2018-09-24T00:00:00",
          "2018-10-01T00:00:00",
          "2018-10-15T00:00:00",
          "2018-10-22T00:00:00",
          "2018-11-28T00:00:00",
          "2018-12-12T00:00:00",
          "2019-01-15T00:00:00",
          "2019-02-06T00:00:00",
          "2019-03-13T00:00:00",
          "2019-04-16T00:00:00",
          "2019-05-08T00:00:00",
          "2019-05-22T00:00:00",
          "2019-06-05T00:00:00",
          "2019-06-19T00:00:00",
          "2019-08-08T00:00:00",
          "2019-11-14T00:00:00",
          "2019-12-11T00:00:00",
          "2019-12-11T00:00:00",
          "2020-01-13T00:00:00",
          "2020-02-10T00:00:00",
          "2020-03-24T00:00:00",
          "2020-06-09T00:00:00",
          "2020-06-24T00:00:00",
          "2020-07-08T00:00:00",
          "2020-07-22T00:00:00",
          "2020-08-05T00:00:00",
          "2020-08-12T00:00:00",
          "2020-08-19T00:00:00",
          "2020-08-26T00:00:00",
          "2020-09-02T00:00:00",
          "2020-09-14T00:00:00",
          "2020-09-23T00:00:00",
          "2020-09-30T00:00:00",
          "2020-10-08T00:00:00",
          "2020-10-21T00:00:00",
          "2020-10-28T00:00:00",
          "2020-11-19T00:00:00",
          "2020-12-14T00:00:00",
          "2021-01-13T00:00:00",
          "2021-02-16T00:00:00",
          "2021-03-18T00:00:00",
          "2021-04-21T00:00:00",
          "2021-05-18T00:00:00",
          "2021-06-03T00:00:00",
          "2021-07-14T00:00:00",
          "2021-07-14T00:00:00",
          "2021-07-28T00:00:00"
         ],
         "xaxis": "x",
         "y": [
          0.206,
          0.187,
          0.125,
          0.059,
          0.102,
          0.105,
          "0.098",
          0.14,
          0.132,
          0.109,
          0.108,
          0.157,
          0.143,
          0.204,
          null,
          null,
          0.202,
          0.148,
          0.149,
          0.169,
          0.181,
          0.151,
          0.162,
          0.125,
          "0.154",
          0.068,
          "0.098",
          0.149,
          0.12,
          "0.206",
          "0.086",
          null,
          null,
          null,
          null,
          0.107,
          "0.204",
          0.186,
          0.053,
          0.165,
          0.096,
          0.098,
          0.128,
          0.153,
          0.187,
          0.168,
          0.183,
          0.16,
          0.148,
          0.225,
          0.123,
          0.155,
          0.256,
          0.142,
          0.174,
          0.167,
          0.161,
          0.262,
          0.114,
          0.217,
          0.062,
          0.223,
          0.109,
          0.091,
          null,
          null,
          null
         ],
         "yaxis": "y"
        }
       ],
       "layout": {
        "legend": {
         "title": {
          "text": "Measurement"
         },
         "tracegroupgap": 0
        },
        "margin": {
         "t": 60
        },
        "template": {
         "data": {
          "bar": [
           {
            "error_x": {
             "color": "#2a3f5f"
            },
            "error_y": {
             "color": "#2a3f5f"
            },
            "marker": {
             "line": {
              "color": "#E5ECF6",
              "width": 0.5
             },
             "pattern": {
              "fillmode": "overlay",
              "size": 10,
              "solidity": 0.2
             }
            },
            "type": "bar"
           }
          ],
          "barpolar": [
           {
            "marker": {
             "line": {
              "color": "#E5ECF6",
              "width": 0.5
             },
             "pattern": {
              "fillmode": "overlay",
              "size": 10,
              "solidity": 0.2
             }
            },
            "type": "barpolar"
           }
          ],
          "carpet": [
           {
            "aaxis": {
             "endlinecolor": "#2a3f5f",
             "gridcolor": "white",
             "linecolor": "white",
             "minorgridcolor": "white",
             "startlinecolor": "#2a3f5f"
            },
            "baxis": {
             "endlinecolor": "#2a3f5f",
             "gridcolor": "white",
             "linecolor": "white",
             "minorgridcolor": "white",
             "startlinecolor": "#2a3f5f"
            },
            "type": "carpet"
           }
          ],
          "choropleth": [
           {
            "colorbar": {
             "outlinewidth": 0,
             "ticks": ""
            },
            "type": "choropleth"
           }
          ],
          "contour": [
           {
            "colorbar": {
             "outlinewidth": 0,
             "ticks": ""
            },
            "colorscale": [
             [
              0,
              "#0d0887"
             ],
             [
              0.1111111111111111,
              "#46039f"
             ],
             [
              0.2222222222222222,
              "#7201a8"
             ],
             [
              0.3333333333333333,
              "#9c179e"
             ],
             [
              0.4444444444444444,
              "#bd3786"
             ],
             [
              0.5555555555555556,
              "#d8576b"
             ],
             [
              0.6666666666666666,
              "#ed7953"
             ],
             [
              0.7777777777777778,
              "#fb9f3a"
             ],
             [
              0.8888888888888888,
              "#fdca26"
             ],
             [
              1,
              "#f0f921"
             ]
            ],
            "type": "contour"
           }
          ],
          "contourcarpet": [
           {
            "colorbar": {
             "outlinewidth": 0,
             "ticks": ""
            },
            "type": "contourcarpet"
           }
          ],
          "heatmap": [
           {
            "colorbar": {
             "outlinewidth": 0,
             "ticks": ""
            },
            "colorscale": [
             [
              0,
              "#0d0887"
             ],
             [
              0.1111111111111111,
              "#46039f"
             ],
             [
              0.2222222222222222,
              "#7201a8"
             ],
             [
              0.3333333333333333,
              "#9c179e"
             ],
             [
              0.4444444444444444,
              "#bd3786"
             ],
             [
              0.5555555555555556,
              "#d8576b"
             ],
             [
              0.6666666666666666,
              "#ed7953"
             ],
             [
              0.7777777777777778,
              "#fb9f3a"
             ],
             [
              0.8888888888888888,
              "#fdca26"
             ],
             [
              1,
              "#f0f921"
             ]
            ],
            "type": "heatmap"
           }
          ],
          "heatmapgl": [
           {
            "colorbar": {
             "outlinewidth": 0,
             "ticks": ""
            },
            "colorscale": [
             [
              0,
              "#0d0887"
             ],
             [
              0.1111111111111111,
              "#46039f"
             ],
             [
              0.2222222222222222,
              "#7201a8"
             ],
             [
              0.3333333333333333,
              "#9c179e"
             ],
             [
              0.4444444444444444,
              "#bd3786"
             ],
             [
              0.5555555555555556,
              "#d8576b"
             ],
             [
              0.6666666666666666,
              "#ed7953"
             ],
             [
              0.7777777777777778,
              "#fb9f3a"
             ],
             [
              0.8888888888888888,
              "#fdca26"
             ],
             [
              1,
              "#f0f921"
             ]
            ],
            "type": "heatmapgl"
           }
          ],
          "histogram": [
           {
            "marker": {
             "pattern": {
              "fillmode": "overlay",
              "size": 10,
              "solidity": 0.2
             }
            },
            "type": "histogram"
           }
          ],
          "histogram2d": [
           {
            "colorbar": {
             "outlinewidth": 0,
             "ticks": ""
            },
            "colorscale": [
             [
              0,
              "#0d0887"
             ],
             [
              0.1111111111111111,
              "#46039f"
             ],
             [
              0.2222222222222222,
              "#7201a8"
             ],
             [
              0.3333333333333333,
              "#9c179e"
             ],
             [
              0.4444444444444444,
              "#bd3786"
             ],
             [
              0.5555555555555556,
              "#d8576b"
             ],
             [
              0.6666666666666666,
              "#ed7953"
             ],
             [
              0.7777777777777778,
              "#fb9f3a"
             ],
             [
              0.8888888888888888,
              "#fdca26"
             ],
             [
              1,
              "#f0f921"
             ]
            ],
            "type": "histogram2d"
           }
          ],
          "histogram2dcontour": [
           {
            "colorbar": {
             "outlinewidth": 0,
             "ticks": ""
            },
            "colorscale": [
             [
              0,
              "#0d0887"
             ],
             [
              0.1111111111111111,
              "#46039f"
             ],
             [
              0.2222222222222222,
              "#7201a8"
             ],
             [
              0.3333333333333333,
              "#9c179e"
             ],
             [
              0.4444444444444444,
              "#bd3786"
             ],
             [
              0.5555555555555556,
              "#d8576b"
             ],
             [
              0.6666666666666666,
              "#ed7953"
             ],
             [
              0.7777777777777778,
              "#fb9f3a"
             ],
             [
              0.8888888888888888,
              "#fdca26"
             ],
             [
              1,
              "#f0f921"
             ]
            ],
            "type": "histogram2dcontour"
           }
          ],
          "mesh3d": [
           {
            "colorbar": {
             "outlinewidth": 0,
             "ticks": ""
            },
            "type": "mesh3d"
           }
          ],
          "parcoords": [
           {
            "line": {
             "colorbar": {
              "outlinewidth": 0,
              "ticks": ""
             }
            },
            "type": "parcoords"
           }
          ],
          "pie": [
           {
            "automargin": true,
            "type": "pie"
           }
          ],
          "scatter": [
           {
            "marker": {
             "colorbar": {
              "outlinewidth": 0,
              "ticks": ""
             }
            },
            "type": "scatter"
           }
          ],
          "scatter3d": [
           {
            "line": {
             "colorbar": {
              "outlinewidth": 0,
              "ticks": ""
             }
            },
            "marker": {
             "colorbar": {
              "outlinewidth": 0,
              "ticks": ""
             }
            },
            "type": "scatter3d"
           }
          ],
          "scattercarpet": [
           {
            "marker": {
             "colorbar": {
              "outlinewidth": 0,
              "ticks": ""
             }
            },
            "type": "scattercarpet"
           }
          ],
          "scattergeo": [
           {
            "marker": {
             "colorbar": {
              "outlinewidth": 0,
              "ticks": ""
             }
            },
            "type": "scattergeo"
           }
          ],
          "scattergl": [
           {
            "marker": {
             "colorbar": {
              "outlinewidth": 0,
              "ticks": ""
             }
            },
            "type": "scattergl"
           }
          ],
          "scattermapbox": [
           {
            "marker": {
             "colorbar": {
              "outlinewidth": 0,
              "ticks": ""
             }
            },
            "type": "scattermapbox"
           }
          ],
          "scatterpolar": [
           {
            "marker": {
             "colorbar": {
              "outlinewidth": 0,
              "ticks": ""
             }
            },
            "type": "scatterpolar"
           }
          ],
          "scatterpolargl": [
           {
            "marker": {
             "colorbar": {
              "outlinewidth": 0,
              "ticks": ""
             }
            },
            "type": "scatterpolargl"
           }
          ],
          "scatterternary": [
           {
            "marker": {
             "colorbar": {
              "outlinewidth": 0,
              "ticks": ""
             }
            },
            "type": "scatterternary"
           }
          ],
          "surface": [
           {
            "colorbar": {
             "outlinewidth": 0,
             "ticks": ""
            },
            "colorscale": [
             [
              0,
              "#0d0887"
             ],
             [
              0.1111111111111111,
              "#46039f"
             ],
             [
              0.2222222222222222,
              "#7201a8"
             ],
             [
              0.3333333333333333,
              "#9c179e"
             ],
             [
              0.4444444444444444,
              "#bd3786"
             ],
             [
              0.5555555555555556,
              "#d8576b"
             ],
             [
              0.6666666666666666,
              "#ed7953"
             ],
             [
              0.7777777777777778,
              "#fb9f3a"
             ],
             [
              0.8888888888888888,
              "#fdca26"
             ],
             [
              1,
              "#f0f921"
             ]
            ],
            "type": "surface"
           }
          ],
          "table": [
           {
            "cells": {
             "fill": {
              "color": "#EBF0F8"
             },
             "line": {
              "color": "white"
             }
            },
            "header": {
             "fill": {
              "color": "#C8D4E3"
             },
             "line": {
              "color": "white"
             }
            },
            "type": "table"
           }
          ]
         },
         "layout": {
          "annotationdefaults": {
           "arrowcolor": "#2a3f5f",
           "arrowhead": 0,
           "arrowwidth": 1
          },
          "autotypenumbers": "strict",
          "coloraxis": {
           "colorbar": {
            "outlinewidth": 0,
            "ticks": ""
           }
          },
          "colorscale": {
           "diverging": [
            [
             0,
             "#8e0152"
            ],
            [
             0.1,
             "#c51b7d"
            ],
            [
             0.2,
             "#de77ae"
            ],
            [
             0.3,
             "#f1b6da"
            ],
            [
             0.4,
             "#fde0ef"
            ],
            [
             0.5,
             "#f7f7f7"
            ],
            [
             0.6,
             "#e6f5d0"
            ],
            [
             0.7,
             "#b8e186"
            ],
            [
             0.8,
             "#7fbc41"
            ],
            [
             0.9,
             "#4d9221"
            ],
            [
             1,
             "#276419"
            ]
           ],
           "sequential": [
            [
             0,
             "#0d0887"
            ],
            [
             0.1111111111111111,
             "#46039f"
            ],
            [
             0.2222222222222222,
             "#7201a8"
            ],
            [
             0.3333333333333333,
             "#9c179e"
            ],
            [
             0.4444444444444444,
             "#bd3786"
            ],
            [
             0.5555555555555556,
             "#d8576b"
            ],
            [
             0.6666666666666666,
             "#ed7953"
            ],
            [
             0.7777777777777778,
             "#fb9f3a"
            ],
            [
             0.8888888888888888,
             "#fdca26"
            ],
            [
             1,
             "#f0f921"
            ]
           ],
           "sequentialminus": [
            [
             0,
             "#0d0887"
            ],
            [
             0.1111111111111111,
             "#46039f"
            ],
            [
             0.2222222222222222,
             "#7201a8"
            ],
            [
             0.3333333333333333,
             "#9c179e"
            ],
            [
             0.4444444444444444,
             "#bd3786"
            ],
            [
             0.5555555555555556,
             "#d8576b"
            ],
            [
             0.6666666666666666,
             "#ed7953"
            ],
            [
             0.7777777777777778,
             "#fb9f3a"
            ],
            [
             0.8888888888888888,
             "#fdca26"
            ],
            [
             1,
             "#f0f921"
            ]
           ]
          },
          "colorway": [
           "#636efa",
           "#EF553B",
           "#00cc96",
           "#ab63fa",
           "#FFA15A",
           "#19d3f3",
           "#FF6692",
           "#B6E880",
           "#FF97FF",
           "#FECB52"
          ],
          "font": {
           "color": "#2a3f5f"
          },
          "geo": {
           "bgcolor": "white",
           "lakecolor": "white",
           "landcolor": "#E5ECF6",
           "showlakes": true,
           "showland": true,
           "subunitcolor": "white"
          },
          "hoverlabel": {
           "align": "left"
          },
          "hovermode": "closest",
          "mapbox": {
           "style": "light"
          },
          "paper_bgcolor": "white",
          "plot_bgcolor": "#E5ECF6",
          "polar": {
           "angularaxis": {
            "gridcolor": "white",
            "linecolor": "white",
            "ticks": ""
           },
           "bgcolor": "#E5ECF6",
           "radialaxis": {
            "gridcolor": "white",
            "linecolor": "white",
            "ticks": ""
           }
          },
          "scene": {
           "xaxis": {
            "backgroundcolor": "#E5ECF6",
            "gridcolor": "white",
            "gridwidth": 2,
            "linecolor": "white",
            "showbackground": true,
            "ticks": "",
            "zerolinecolor": "white"
           },
           "yaxis": {
            "backgroundcolor": "#E5ECF6",
            "gridcolor": "white",
            "gridwidth": 2,
            "linecolor": "white",
            "showbackground": true,
            "ticks": "",
            "zerolinecolor": "white"
           },
           "zaxis": {
            "backgroundcolor": "#E5ECF6",
            "gridcolor": "white",
            "gridwidth": 2,
            "linecolor": "white",
            "showbackground": true,
            "ticks": "",
            "zerolinecolor": "white"
           }
          },
          "shapedefaults": {
           "line": {
            "color": "#2a3f5f"
           }
          },
          "ternary": {
           "aaxis": {
            "gridcolor": "white",
            "linecolor": "white",
            "ticks": ""
           },
           "baxis": {
            "gridcolor": "white",
            "linecolor": "white",
            "ticks": ""
           },
           "bgcolor": "#E5ECF6",
           "caxis": {
            "gridcolor": "white",
            "linecolor": "white",
            "ticks": ""
           }
          },
          "title": {
           "x": 0.05
          },
          "xaxis": {
           "automargin": true,
           "gridcolor": "white",
           "linecolor": "white",
           "ticks": "",
           "title": {
            "standoff": 15
           },
           "zerolinecolor": "white",
           "zerolinewidth": 2
          },
          "yaxis": {
           "automargin": true,
           "gridcolor": "white",
           "linecolor": "white",
           "ticks": "",
           "title": {
            "standoff": 15
           },
           "zerolinecolor": "white",
           "zerolinewidth": 2
          }
         }
        },
        "title": {
         "text": "Gowanus Canal Water Quality - Nutrients"
        },
        "xaxis": {
         "anchor": "y",
         "domain": [
          0,
          1
         ],
         "dtick": "M3",
         "tickangle": 45,
         "tickformat": "%b %Y",
         "title": {
          "text": "Date"
         }
        },
        "yaxis": {
         "anchor": "x",
         "domain": [
          0,
          1
         ],
         "title": {
          "text": "Value (mg/L)"
         }
        }
       }
      },
      "text/html": [
       "<div>                            <div id=\"d0b94c24-77c1-4bf0-9e56-6209947dea1b\" class=\"plotly-graph-div\" style=\"height:525px; width:100%;\"></div>            <script type=\"text/javascript\">                require([\"plotly\"], function(Plotly) {                    window.PLOTLYENV=window.PLOTLYENV || {};                                    if (document.getElementById(\"d0b94c24-77c1-4bf0-9e56-6209947dea1b\")) {                    Plotly.newPlot(                        \"d0b94c24-77c1-4bf0-9e56-6209947dea1b\",                        [{\"hovertemplate\":\"Measurement=Dissolved Organic Carbon<br>Date=%{x}<br>Value (mg/L)=%{y}<extra></extra>\",\"legendgroup\":\"Dissolved Organic Carbon\",\"line\":{\"color\":\"#636efa\",\"dash\":\"solid\"},\"marker\":{\"symbol\":\"circle\"},\"mode\":\"lines\",\"name\":\"Dissolved Organic Carbon\",\"orientation\":\"v\",\"showlegend\":true,\"x\":[\"2018-01-11T00:00:00\",\"2018-01-11T00:00:00\",\"2018-02-13T00:00:00\",\"2018-03-07T00:00:00\",\"2018-04-04T00:00:00\",\"2018-04-30T00:00:00\",\"2018-05-07T00:00:00\",\"2018-05-16T00:00:00\",\"2018-05-24T00:00:00\",\"2018-05-29T00:00:00\",\"2018-06-04T00:00:00\",\"2018-06-12T00:00:00\",\"2018-06-18T00:00:00\",\"2018-06-25T00:00:00\",\"2018-07-17T00:00:00\",\"2018-08-06T00:00:00\",\"2018-08-15T00:00:00\",\"2018-08-20T00:00:00\",\"2018-08-30T00:00:00\",\"2018-09-17T00:00:00\",\"2018-09-24T00:00:00\",\"2018-10-01T00:00:00\",\"2018-10-15T00:00:00\",\"2018-10-22T00:00:00\",\"2018-11-28T00:00:00\",\"2018-12-12T00:00:00\",\"2019-01-15T00:00:00\",\"2019-02-06T00:00:00\",\"2019-03-13T00:00:00\",\"2019-04-16T00:00:00\",\"2019-05-08T00:00:00\",\"2019-05-22T00:00:00\",\"2019-06-05T00:00:00\",\"2019-06-19T00:00:00\",\"2019-08-08T00:00:00\",\"2019-11-14T00:00:00\",\"2019-12-11T00:00:00\",\"2019-12-11T00:00:00\",\"2020-01-13T00:00:00\",\"2020-02-10T00:00:00\",\"2020-03-24T00:00:00\",\"2020-06-09T00:00:00\",\"2020-06-24T00:00:00\",\"2020-07-08T00:00:00\",\"2020-07-22T00:00:00\",\"2020-08-05T00:00:00\",\"2020-08-12T00:00:00\",\"2020-08-19T00:00:00\",\"2020-08-26T00:00:00\",\"2020-09-02T00:00:00\",\"2020-09-14T00:00:00\",\"2020-09-23T00:00:00\",\"2020-09-30T00:00:00\",\"2020-10-08T00:00:00\",\"2020-10-21T00:00:00\",\"2020-10-28T00:00:00\",\"2020-11-19T00:00:00\",\"2020-12-14T00:00:00\",\"2021-01-13T00:00:00\",\"2021-02-16T00:00:00\",\"2021-03-18T00:00:00\",\"2021-04-21T00:00:00\",\"2021-05-18T00:00:00\",\"2021-06-03T00:00:00\",\"2021-07-14T00:00:00\",\"2021-07-14T00:00:00\",\"2021-07-28T00:00:00\"],\"xaxis\":\"x\",\"y\":[2.94,3.23,3.07,2.43,2.7,2.66,2.83,2.86,2.69,2.22,2.27,2.5,2.81,2.93,null,null,2.78,2.65,2.53,2.66,2.56,3.09,2.93,3.18,3.42,2.94,2.31,2.39,2.4,2.57,2.48,null,null,null,null,3.11,3.23,3.1,2.34,2.33,2.4,2.44,2.58,2.31,2.49,2.58,2.44,2.33,2.73,2.41,2.62,2.59,4.0,2.53,2.27,2.39,2.26,2.16,2.16,2.64,2.01,2.37,2.24,2.48,null,null,null],\"yaxis\":\"y\",\"type\":\"scatter\"},{\"hovertemplate\":\"Measurement=Silica<br>Date=%{x}<br>Value (mg/L)=%{y}<extra></extra>\",\"legendgroup\":\"Silica\",\"line\":{\"color\":\"#EF553B\",\"dash\":\"solid\"},\"marker\":{\"symbol\":\"circle\"},\"mode\":\"lines\",\"name\":\"Silica\",\"orientation\":\"v\",\"showlegend\":true,\"x\":[\"2018-01-11T00:00:00\",\"2018-01-11T00:00:00\",\"2018-02-13T00:00:00\",\"2018-03-07T00:00:00\",\"2018-04-04T00:00:00\",\"2018-04-30T00:00:00\",\"2018-05-07T00:00:00\",\"2018-05-16T00:00:00\",\"2018-05-24T00:00:00\",\"2018-05-29T00:00:00\",\"2018-06-04T00:00:00\",\"2018-06-12T00:00:00\",\"2018-06-18T00:00:00\",\"2018-06-25T00:00:00\",\"2018-07-17T00:00:00\",\"2018-08-06T00:00:00\",\"2018-08-15T00:00:00\",\"2018-08-20T00:00:00\",\"2018-08-30T00:00:00\",\"2018-09-17T00:00:00\",\"2018-09-24T00:00:00\",\"2018-10-01T00:00:00\",\"2018-10-15T00:00:00\",\"2018-10-22T00:00:00\",\"2018-11-28T00:00:00\",\"2018-12-12T00:00:00\",\"2019-01-15T00:00:00\",\"2019-02-06T00:00:00\",\"2019-03-13T00:00:00\",\"2019-04-16T00:00:00\",\"2019-05-08T00:00:00\",\"2019-05-22T00:00:00\",\"2019-06-05T00:00:00\",\"2019-06-19T00:00:00\",\"2019-08-08T00:00:00\",\"2019-11-14T00:00:00\",\"2019-12-11T00:00:00\",\"2019-12-11T00:00:00\",\"2020-01-13T00:00:00\",\"2020-02-10T00:00:00\",\"2020-03-24T00:00:00\",\"2020-06-09T00:00:00\",\"2020-06-24T00:00:00\",\"2020-07-08T00:00:00\",\"2020-07-22T00:00:00\",\"2020-08-05T00:00:00\",\"2020-08-12T00:00:00\",\"2020-08-19T00:00:00\",\"2020-08-26T00:00:00\",\"2020-09-02T00:00:00\",\"2020-09-14T00:00:00\",\"2020-09-23T00:00:00\",\"2020-09-30T00:00:00\",\"2020-10-08T00:00:00\",\"2020-10-21T00:00:00\",\"2020-10-28T00:00:00\",\"2020-11-19T00:00:00\",\"2020-12-14T00:00:00\",\"2021-01-13T00:00:00\",\"2021-02-16T00:00:00\",\"2021-03-18T00:00:00\",\"2021-04-21T00:00:00\",\"2021-05-18T00:00:00\",\"2021-06-03T00:00:00\",\"2021-07-14T00:00:00\",\"2021-07-14T00:00:00\",\"2021-07-28T00:00:00\"],\"xaxis\":\"x\",\"y\":[1.42,1.415,1.926,2.31,1.758,2.081,\"2.266\",1.422,1.853,1.52,1.4,1.306,1.469,1.289,null,null,2.24,2.076,1.936,2.52,2.563,2.462,2.484,2.38,\"3.851\",3.075,\"2.6\",1.731,1.511,\"2.396\",\"2.119\",null,null,null,null,2.46,\"2.5\",2.45,3.077,2.18,1.76,1.22,1.03,2.59,1.39,1.92,1.65,1.88,1.859,2.1,1.82,2.068,1.726,2.14,3.51,2.136,2.363,1.777,2.06,0.668,1.591,2.21,1.68,1.4,null,null,null],\"yaxis\":\"y\",\"type\":\"scatter\"},{\"hovertemplate\":\"Measurement=Nitrate/Nitrite<br>Date=%{x}<br>Value (mg/L)=%{y}<extra></extra>\",\"legendgroup\":\"Nitrate/Nitrite\",\"line\":{\"color\":\"#00cc96\",\"dash\":\"solid\"},\"marker\":{\"symbol\":\"circle\"},\"mode\":\"lines\",\"name\":\"Nitrate/Nitrite\",\"orientation\":\"v\",\"showlegend\":true,\"x\":[\"2018-01-11T00:00:00\",\"2018-01-11T00:00:00\",\"2018-02-13T00:00:00\",\"2018-03-07T00:00:00\",\"2018-04-04T00:00:00\",\"2018-04-30T00:00:00\",\"2018-05-07T00:00:00\",\"2018-05-16T00:00:00\",\"2018-05-24T00:00:00\",\"2018-05-29T00:00:00\",\"2018-06-04T00:00:00\",\"2018-06-12T00:00:00\",\"2018-06-18T00:00:00\",\"2018-06-25T00:00:00\",\"2018-07-17T00:00:00\",\"2018-08-06T00:00:00\",\"2018-08-15T00:00:00\",\"2018-08-20T00:00:00\",\"2018-08-30T00:00:00\",\"2018-09-17T00:00:00\",\"2018-09-24T00:00:00\",\"2018-10-01T00:00:00\",\"2018-10-15T00:00:00\",\"2018-10-22T00:00:00\",\"2018-11-28T00:00:00\",\"2018-12-12T00:00:00\",\"2019-01-15T00:00:00\",\"2019-02-06T00:00:00\",\"2019-03-13T00:00:00\",\"2019-04-16T00:00:00\",\"2019-05-08T00:00:00\",\"2019-05-22T00:00:00\",\"2019-06-05T00:00:00\",\"2019-06-19T00:00:00\",\"2019-08-08T00:00:00\",\"2019-11-14T00:00:00\",\"2019-12-11T00:00:00\",\"2019-12-11T00:00:00\",\"2020-01-13T00:00:00\",\"2020-02-10T00:00:00\",\"2020-03-24T00:00:00\",\"2020-06-09T00:00:00\",\"2020-06-24T00:00:00\",\"2020-07-08T00:00:00\",\"2020-07-22T00:00:00\",\"2020-08-05T00:00:00\",\"2020-08-12T00:00:00\",\"2020-08-19T00:00:00\",\"2020-08-26T00:00:00\",\"2020-09-02T00:00:00\",\"2020-09-14T00:00:00\",\"2020-09-23T00:00:00\",\"2020-09-30T00:00:00\",\"2020-10-08T00:00:00\",\"2020-10-21T00:00:00\",\"2020-10-28T00:00:00\",\"2020-11-19T00:00:00\",\"2020-12-14T00:00:00\",\"2021-01-13T00:00:00\",\"2021-02-16T00:00:00\",\"2021-03-18T00:00:00\",\"2021-04-21T00:00:00\",\"2021-05-18T00:00:00\",\"2021-06-03T00:00:00\",\"2021-07-14T00:00:00\",\"2021-07-14T00:00:00\",\"2021-07-28T00:00:00\"],\"xaxis\":\"x\",\"y\":[0.286,0.294,0.322,0.31,0.327,0.351,\"0.307\",0.281,0.375,0.326,0.313,0.282,0.303,0.276,null,null,0.307,0.315,0.257,0.495,0.483,0.524,0.44,0.414,\"0.421\",0.362,\"0.331\",0.3,0.271,\"0.367\",\"0.281\",null,null,null,null,0.302,\"0.323\",0.322,0.357,0.375,0.284,0.207,0.181,0.216,0.272,0.272,0.263,0.287,0.338,0.328,0.321,0.384,0.403,0.442,0.45,0.468,0.532,0.422,0.377,0.235,0.296,0.38,0.315,0.289,null,null,null],\"yaxis\":\"y\",\"type\":\"scatter\"},{\"hovertemplate\":\"Measurement=Ammonium<br>Date=%{x}<br>Value (mg/L)=%{y}<extra></extra>\",\"legendgroup\":\"Ammonium\",\"line\":{\"color\":\"#ab63fa\",\"dash\":\"solid\"},\"marker\":{\"symbol\":\"circle\"},\"mode\":\"lines\",\"name\":\"Ammonium\",\"orientation\":\"v\",\"showlegend\":true,\"x\":[\"2018-01-11T00:00:00\",\"2018-01-11T00:00:00\",\"2018-02-13T00:00:00\",\"2018-03-07T00:00:00\",\"2018-04-04T00:00:00\",\"2018-04-30T00:00:00\",\"2018-05-07T00:00:00\",\"2018-05-16T00:00:00\",\"2018-05-24T00:00:00\",\"2018-05-29T00:00:00\",\"2018-06-04T00:00:00\",\"2018-06-12T00:00:00\",\"2018-06-18T00:00:00\",\"2018-06-25T00:00:00\",\"2018-07-17T00:00:00\",\"2018-08-06T00:00:00\",\"2018-08-15T00:00:00\",\"2018-08-20T00:00:00\",\"2018-08-30T00:00:00\",\"2018-09-17T00:00:00\",\"2018-09-24T00:00:00\",\"2018-10-01T00:00:00\",\"2018-10-15T00:00:00\",\"2018-10-22T00:00:00\",\"2018-11-28T00:00:00\",\"2018-12-12T00:00:00\",\"2019-01-15T00:00:00\",\"2019-02-06T00:00:00\",\"2019-03-13T00:00:00\",\"2019-04-16T00:00:00\",\"2019-05-08T00:00:00\",\"2019-05-22T00:00:00\",\"2019-06-05T00:00:00\",\"2019-06-19T00:00:00\",\"2019-08-08T00:00:00\",\"2019-11-14T00:00:00\",\"2019-12-11T00:00:00\",\"2019-12-11T00:00:00\",\"2020-01-13T00:00:00\",\"2020-02-10T00:00:00\",\"2020-03-24T00:00:00\",\"2020-06-09T00:00:00\",\"2020-06-24T00:00:00\",\"2020-07-08T00:00:00\",\"2020-07-22T00:00:00\",\"2020-08-05T00:00:00\",\"2020-08-12T00:00:00\",\"2020-08-19T00:00:00\",\"2020-08-26T00:00:00\",\"2020-09-02T00:00:00\",\"2020-09-14T00:00:00\",\"2020-09-23T00:00:00\",\"2020-09-30T00:00:00\",\"2020-10-08T00:00:00\",\"2020-10-21T00:00:00\",\"2020-10-28T00:00:00\",\"2020-11-19T00:00:00\",\"2020-12-14T00:00:00\",\"2021-01-13T00:00:00\",\"2021-02-16T00:00:00\",\"2021-03-18T00:00:00\",\"2021-04-21T00:00:00\",\"2021-05-18T00:00:00\",\"2021-06-03T00:00:00\",\"2021-07-14T00:00:00\",\"2021-07-14T00:00:00\",\"2021-07-28T00:00:00\"],\"xaxis\":\"x\",\"y\":[0.415,0.36,0.378,0.25,0.313,0.379,\"0.34\",0.29,0.426,0.324,0.29,0.337,0.347,0.463,null,null,0.396,0.38,0.384,0.325,0.326,0.323,0.311,0.211,\"0.252\",0.259,\"0.243\",0.407,0.595,\"0.418\",\"0.358\",null,null,null,null,0.288,\"0.443\",0.433,0.334,0.357,0.253,0.281,0.312,0.341,0.331,0.309,0.312,0.364,0.408,0.287,0.279,0.307,0.41,0.351,0.343,0.344,0.373,0.347,0.26,0.402,0.339,0.859,0.31,0.325,null,null,null],\"yaxis\":\"y\",\"type\":\"scatter\"},{\"hovertemplate\":\"Measurement=Phosphorus<br>Date=%{x}<br>Value (mg/L)=%{y}<extra></extra>\",\"legendgroup\":\"Phosphorus\",\"line\":{\"color\":\"#FFA15A\",\"dash\":\"solid\"},\"marker\":{\"symbol\":\"circle\"},\"mode\":\"lines\",\"name\":\"Phosphorus\",\"orientation\":\"v\",\"showlegend\":true,\"x\":[\"2018-01-11T00:00:00\",\"2018-01-11T00:00:00\",\"2018-02-13T00:00:00\",\"2018-03-07T00:00:00\",\"2018-04-04T00:00:00\",\"2018-04-30T00:00:00\",\"2018-05-07T00:00:00\",\"2018-05-16T00:00:00\",\"2018-05-24T00:00:00\",\"2018-05-29T00:00:00\",\"2018-06-04T00:00:00\",\"2018-06-12T00:00:00\",\"2018-06-18T00:00:00\",\"2018-06-25T00:00:00\",\"2018-07-17T00:00:00\",\"2018-08-06T00:00:00\",\"2018-08-15T00:00:00\",\"2018-08-20T00:00:00\",\"2018-08-30T00:00:00\",\"2018-09-17T00:00:00\",\"2018-09-24T00:00:00\",\"2018-10-01T00:00:00\",\"2018-10-15T00:00:00\",\"2018-10-22T00:00:00\",\"2018-11-28T00:00:00\",\"2018-12-12T00:00:00\",\"2019-01-15T00:00:00\",\"2019-02-06T00:00:00\",\"2019-03-13T00:00:00\",\"2019-04-16T00:00:00\",\"2019-05-08T00:00:00\",\"2019-05-22T00:00:00\",\"2019-06-05T00:00:00\",\"2019-06-19T00:00:00\",\"2019-08-08T00:00:00\",\"2019-11-14T00:00:00\",\"2019-12-11T00:00:00\",\"2019-12-11T00:00:00\",\"2020-01-13T00:00:00\",\"2020-02-10T00:00:00\",\"2020-03-24T00:00:00\",\"2020-06-09T00:00:00\",\"2020-06-24T00:00:00\",\"2020-07-08T00:00:00\",\"2020-07-22T00:00:00\",\"2020-08-05T00:00:00\",\"2020-08-12T00:00:00\",\"2020-08-19T00:00:00\",\"2020-08-26T00:00:00\",\"2020-09-02T00:00:00\",\"2020-09-14T00:00:00\",\"2020-09-23T00:00:00\",\"2020-09-30T00:00:00\",\"2020-10-08T00:00:00\",\"2020-10-21T00:00:00\",\"2020-10-28T00:00:00\",\"2020-11-19T00:00:00\",\"2020-12-14T00:00:00\",\"2021-01-13T00:00:00\",\"2021-02-16T00:00:00\",\"2021-03-18T00:00:00\",\"2021-04-21T00:00:00\",\"2021-05-18T00:00:00\",\"2021-06-03T00:00:00\",\"2021-07-14T00:00:00\",\"2021-07-14T00:00:00\",\"2021-07-28T00:00:00\"],\"xaxis\":\"x\",\"y\":[0.206,0.187,0.125,0.059,0.102,0.105,\"0.098\",0.14,0.132,0.109,0.108,0.157,0.143,0.204,null,null,0.202,0.148,0.149,0.169,0.181,0.151,0.162,0.125,\"0.154\",0.068,\"0.098\",0.149,0.12,\"0.206\",\"0.086\",null,null,null,null,0.107,\"0.204\",0.186,0.053,0.165,0.096,0.098,0.128,0.153,0.187,0.168,0.183,0.16,0.148,0.225,0.123,0.155,0.256,0.142,0.174,0.167,0.161,0.262,0.114,0.217,0.062,0.223,0.109,0.091,null,null,null],\"yaxis\":\"y\",\"type\":\"scatter\"}],                        {\"template\":{\"data\":{\"bar\":[{\"error_x\":{\"color\":\"#2a3f5f\"},\"error_y\":{\"color\":\"#2a3f5f\"},\"marker\":{\"line\":{\"color\":\"#E5ECF6\",\"width\":0.5},\"pattern\":{\"fillmode\":\"overlay\",\"size\":10,\"solidity\":0.2}},\"type\":\"bar\"}],\"barpolar\":[{\"marker\":{\"line\":{\"color\":\"#E5ECF6\",\"width\":0.5},\"pattern\":{\"fillmode\":\"overlay\",\"size\":10,\"solidity\":0.2}},\"type\":\"barpolar\"}],\"carpet\":[{\"aaxis\":{\"endlinecolor\":\"#2a3f5f\",\"gridcolor\":\"white\",\"linecolor\":\"white\",\"minorgridcolor\":\"white\",\"startlinecolor\":\"#2a3f5f\"},\"baxis\":{\"endlinecolor\":\"#2a3f5f\",\"gridcolor\":\"white\",\"linecolor\":\"white\",\"minorgridcolor\":\"white\",\"startlinecolor\":\"#2a3f5f\"},\"type\":\"carpet\"}],\"choropleth\":[{\"colorbar\":{\"outlinewidth\":0,\"ticks\":\"\"},\"type\":\"choropleth\"}],\"contour\":[{\"colorbar\":{\"outlinewidth\":0,\"ticks\":\"\"},\"colorscale\":[[0.0,\"#0d0887\"],[0.1111111111111111,\"#46039f\"],[0.2222222222222222,\"#7201a8\"],[0.3333333333333333,\"#9c179e\"],[0.4444444444444444,\"#bd3786\"],[0.5555555555555556,\"#d8576b\"],[0.6666666666666666,\"#ed7953\"],[0.7777777777777778,\"#fb9f3a\"],[0.8888888888888888,\"#fdca26\"],[1.0,\"#f0f921\"]],\"type\":\"contour\"}],\"contourcarpet\":[{\"colorbar\":{\"outlinewidth\":0,\"ticks\":\"\"},\"type\":\"contourcarpet\"}],\"heatmap\":[{\"colorbar\":{\"outlinewidth\":0,\"ticks\":\"\"},\"colorscale\":[[0.0,\"#0d0887\"],[0.1111111111111111,\"#46039f\"],[0.2222222222222222,\"#7201a8\"],[0.3333333333333333,\"#9c179e\"],[0.4444444444444444,\"#bd3786\"],[0.5555555555555556,\"#d8576b\"],[0.6666666666666666,\"#ed7953\"],[0.7777777777777778,\"#fb9f3a\"],[0.8888888888888888,\"#fdca26\"],[1.0,\"#f0f921\"]],\"type\":\"heatmap\"}],\"heatmapgl\":[{\"colorbar\":{\"outlinewidth\":0,\"ticks\":\"\"},\"colorscale\":[[0.0,\"#0d0887\"],[0.1111111111111111,\"#46039f\"],[0.2222222222222222,\"#7201a8\"],[0.3333333333333333,\"#9c179e\"],[0.4444444444444444,\"#bd3786\"],[0.5555555555555556,\"#d8576b\"],[0.6666666666666666,\"#ed7953\"],[0.7777777777777778,\"#fb9f3a\"],[0.8888888888888888,\"#fdca26\"],[1.0,\"#f0f921\"]],\"type\":\"heatmapgl\"}],\"histogram\":[{\"marker\":{\"pattern\":{\"fillmode\":\"overlay\",\"size\":10,\"solidity\":0.2}},\"type\":\"histogram\"}],\"histogram2d\":[{\"colorbar\":{\"outlinewidth\":0,\"ticks\":\"\"},\"colorscale\":[[0.0,\"#0d0887\"],[0.1111111111111111,\"#46039f\"],[0.2222222222222222,\"#7201a8\"],[0.3333333333333333,\"#9c179e\"],[0.4444444444444444,\"#bd3786\"],[0.5555555555555556,\"#d8576b\"],[0.6666666666666666,\"#ed7953\"],[0.7777777777777778,\"#fb9f3a\"],[0.8888888888888888,\"#fdca26\"],[1.0,\"#f0f921\"]],\"type\":\"histogram2d\"}],\"histogram2dcontour\":[{\"colorbar\":{\"outlinewidth\":0,\"ticks\":\"\"},\"colorscale\":[[0.0,\"#0d0887\"],[0.1111111111111111,\"#46039f\"],[0.2222222222222222,\"#7201a8\"],[0.3333333333333333,\"#9c179e\"],[0.4444444444444444,\"#bd3786\"],[0.5555555555555556,\"#d8576b\"],[0.6666666666666666,\"#ed7953\"],[0.7777777777777778,\"#fb9f3a\"],[0.8888888888888888,\"#fdca26\"],[1.0,\"#f0f921\"]],\"type\":\"histogram2dcontour\"}],\"mesh3d\":[{\"colorbar\":{\"outlinewidth\":0,\"ticks\":\"\"},\"type\":\"mesh3d\"}],\"parcoords\":[{\"line\":{\"colorbar\":{\"outlinewidth\":0,\"ticks\":\"\"}},\"type\":\"parcoords\"}],\"pie\":[{\"automargin\":true,\"type\":\"pie\"}],\"scatter\":[{\"marker\":{\"colorbar\":{\"outlinewidth\":0,\"ticks\":\"\"}},\"type\":\"scatter\"}],\"scatter3d\":[{\"line\":{\"colorbar\":{\"outlinewidth\":0,\"ticks\":\"\"}},\"marker\":{\"colorbar\":{\"outlinewidth\":0,\"ticks\":\"\"}},\"type\":\"scatter3d\"}],\"scattercarpet\":[{\"marker\":{\"colorbar\":{\"outlinewidth\":0,\"ticks\":\"\"}},\"type\":\"scattercarpet\"}],\"scattergeo\":[{\"marker\":{\"colorbar\":{\"outlinewidth\":0,\"ticks\":\"\"}},\"type\":\"scattergeo\"}],\"scattergl\":[{\"marker\":{\"colorbar\":{\"outlinewidth\":0,\"ticks\":\"\"}},\"type\":\"scattergl\"}],\"scattermapbox\":[{\"marker\":{\"colorbar\":{\"outlinewidth\":0,\"ticks\":\"\"}},\"type\":\"scattermapbox\"}],\"scatterpolar\":[{\"marker\":{\"colorbar\":{\"outlinewidth\":0,\"ticks\":\"\"}},\"type\":\"scatterpolar\"}],\"scatterpolargl\":[{\"marker\":{\"colorbar\":{\"outlinewidth\":0,\"ticks\":\"\"}},\"type\":\"scatterpolargl\"}],\"scatterternary\":[{\"marker\":{\"colorbar\":{\"outlinewidth\":0,\"ticks\":\"\"}},\"type\":\"scatterternary\"}],\"surface\":[{\"colorbar\":{\"outlinewidth\":0,\"ticks\":\"\"},\"colorscale\":[[0.0,\"#0d0887\"],[0.1111111111111111,\"#46039f\"],[0.2222222222222222,\"#7201a8\"],[0.3333333333333333,\"#9c179e\"],[0.4444444444444444,\"#bd3786\"],[0.5555555555555556,\"#d8576b\"],[0.6666666666666666,\"#ed7953\"],[0.7777777777777778,\"#fb9f3a\"],[0.8888888888888888,\"#fdca26\"],[1.0,\"#f0f921\"]],\"type\":\"surface\"}],\"table\":[{\"cells\":{\"fill\":{\"color\":\"#EBF0F8\"},\"line\":{\"color\":\"white\"}},\"header\":{\"fill\":{\"color\":\"#C8D4E3\"},\"line\":{\"color\":\"white\"}},\"type\":\"table\"}]},\"layout\":{\"annotationdefaults\":{\"arrowcolor\":\"#2a3f5f\",\"arrowhead\":0,\"arrowwidth\":1},\"autotypenumbers\":\"strict\",\"coloraxis\":{\"colorbar\":{\"outlinewidth\":0,\"ticks\":\"\"}},\"colorscale\":{\"diverging\":[[0,\"#8e0152\"],[0.1,\"#c51b7d\"],[0.2,\"#de77ae\"],[0.3,\"#f1b6da\"],[0.4,\"#fde0ef\"],[0.5,\"#f7f7f7\"],[0.6,\"#e6f5d0\"],[0.7,\"#b8e186\"],[0.8,\"#7fbc41\"],[0.9,\"#4d9221\"],[1,\"#276419\"]],\"sequential\":[[0.0,\"#0d0887\"],[0.1111111111111111,\"#46039f\"],[0.2222222222222222,\"#7201a8\"],[0.3333333333333333,\"#9c179e\"],[0.4444444444444444,\"#bd3786\"],[0.5555555555555556,\"#d8576b\"],[0.6666666666666666,\"#ed7953\"],[0.7777777777777778,\"#fb9f3a\"],[0.8888888888888888,\"#fdca26\"],[1.0,\"#f0f921\"]],\"sequentialminus\":[[0.0,\"#0d0887\"],[0.1111111111111111,\"#46039f\"],[0.2222222222222222,\"#7201a8\"],[0.3333333333333333,\"#9c179e\"],[0.4444444444444444,\"#bd3786\"],[0.5555555555555556,\"#d8576b\"],[0.6666666666666666,\"#ed7953\"],[0.7777777777777778,\"#fb9f3a\"],[0.8888888888888888,\"#fdca26\"],[1.0,\"#f0f921\"]]},\"colorway\":[\"#636efa\",\"#EF553B\",\"#00cc96\",\"#ab63fa\",\"#FFA15A\",\"#19d3f3\",\"#FF6692\",\"#B6E880\",\"#FF97FF\",\"#FECB52\"],\"font\":{\"color\":\"#2a3f5f\"},\"geo\":{\"bgcolor\":\"white\",\"lakecolor\":\"white\",\"landcolor\":\"#E5ECF6\",\"showlakes\":true,\"showland\":true,\"subunitcolor\":\"white\"},\"hoverlabel\":{\"align\":\"left\"},\"hovermode\":\"closest\",\"mapbox\":{\"style\":\"light\"},\"paper_bgcolor\":\"white\",\"plot_bgcolor\":\"#E5ECF6\",\"polar\":{\"angularaxis\":{\"gridcolor\":\"white\",\"linecolor\":\"white\",\"ticks\":\"\"},\"bgcolor\":\"#E5ECF6\",\"radialaxis\":{\"gridcolor\":\"white\",\"linecolor\":\"white\",\"ticks\":\"\"}},\"scene\":{\"xaxis\":{\"backgroundcolor\":\"#E5ECF6\",\"gridcolor\":\"white\",\"gridwidth\":2,\"linecolor\":\"white\",\"showbackground\":true,\"ticks\":\"\",\"zerolinecolor\":\"white\"},\"yaxis\":{\"backgroundcolor\":\"#E5ECF6\",\"gridcolor\":\"white\",\"gridwidth\":2,\"linecolor\":\"white\",\"showbackground\":true,\"ticks\":\"\",\"zerolinecolor\":\"white\"},\"zaxis\":{\"backgroundcolor\":\"#E5ECF6\",\"gridcolor\":\"white\",\"gridwidth\":2,\"linecolor\":\"white\",\"showbackground\":true,\"ticks\":\"\",\"zerolinecolor\":\"white\"}},\"shapedefaults\":{\"line\":{\"color\":\"#2a3f5f\"}},\"ternary\":{\"aaxis\":{\"gridcolor\":\"white\",\"linecolor\":\"white\",\"ticks\":\"\"},\"baxis\":{\"gridcolor\":\"white\",\"linecolor\":\"white\",\"ticks\":\"\"},\"bgcolor\":\"#E5ECF6\",\"caxis\":{\"gridcolor\":\"white\",\"linecolor\":\"white\",\"ticks\":\"\"}},\"title\":{\"x\":0.05},\"xaxis\":{\"automargin\":true,\"gridcolor\":\"white\",\"linecolor\":\"white\",\"ticks\":\"\",\"title\":{\"standoff\":15},\"zerolinecolor\":\"white\",\"zerolinewidth\":2},\"yaxis\":{\"automargin\":true,\"gridcolor\":\"white\",\"linecolor\":\"white\",\"ticks\":\"\",\"title\":{\"standoff\":15},\"zerolinecolor\":\"white\",\"zerolinewidth\":2}}},\"xaxis\":{\"anchor\":\"y\",\"domain\":[0.0,1.0],\"title\":{\"text\":\"Date\"},\"tickformat\":\"%b %Y\",\"tickangle\":45,\"dtick\":\"M3\"},\"yaxis\":{\"anchor\":\"x\",\"domain\":[0.0,1.0],\"title\":{\"text\":\"Value (mg/L)\"}},\"legend\":{\"title\":{\"text\":\"Measurement\"},\"tracegroupgap\":0},\"margin\":{\"t\":60},\"title\":{\"text\":\"Gowanus Canal Water Quality - Nutrients\"}},                        {\"responsive\": true}                    ).then(function(){\n",
       "                            \n",
       "var gd = document.getElementById('d0b94c24-77c1-4bf0-9e56-6209947dea1b');\n",
       "var x = new MutationObserver(function (mutations, observer) {{\n",
       "        var display = window.getComputedStyle(gd).display;\n",
       "        if (!display || display === 'none') {{\n",
       "            console.log([gd, 'removed!']);\n",
       "            Plotly.purge(gd);\n",
       "            observer.disconnect();\n",
       "        }}\n",
       "}});\n",
       "\n",
       "// Listen for the removal of the full notebook cells\n",
       "var notebookContainer = gd.closest('#notebook-container');\n",
       "if (notebookContainer) {{\n",
       "    x.observe(notebookContainer, {childList: true});\n",
       "}}\n",
       "\n",
       "// Listen for the clearing of the current output cell\n",
       "var outputEl = gd.closest('.output');\n",
       "if (outputEl) {{\n",
       "    x.observe(outputEl, {childList: true});\n",
       "}}\n",
       "\n",
       "                        })                };                });            </script>        </div>"
      ]
     },
     "metadata": {},
     "output_type": "display_data"
    }
   ],
   "source": [
    "fig = px.line(GC6, x=\"Date\", y=\"Value (mg/L)\", color= \"Measurement\", category_orders={\"Measurement\": [\"Dissolved Organic Carbon\", \"Silica\", \"Nitrate/Nitrite\", \"Ammonium\", \"Phosphorus\"],})\n",
    "\n",
    "fig.update_layout(title = 'Gowanus Canal Water Quality - Nutrients', xaxis=dict(tickformat=\"%b %Y\", tickangle=45))\n",
    "fig.update_xaxes(dtick=\"M3\")"
   ]
  },
  {
   "cell_type": "code",
   "execution_count": 577,
   "id": "cc1ef5e0",
   "metadata": {},
   "outputs": [
    {
     "data": {
      "application/vnd.plotly.v1+json": {
       "config": {
        "plotlyServerURL": "https://plot.ly"
       },
       "data": [
        {
         "hovertemplate": "Measurement=Dissolved Organic Carbon<br>Date=%{x}<br>Value (mg/L)=%{y}<extra></extra>",
         "legendgroup": "Dissolved Organic Carbon",
         "line": {
          "color": "#636efa",
          "dash": "solid"
         },
         "marker": {
          "symbol": "circle"
         },
         "mode": "lines",
         "name": "Dissolved Organic Carbon",
         "orientation": "v",
         "showlegend": true,
         "type": "scatter",
         "x": [
          "2018-01-11T00:00:00",
          "2018-02-13T00:00:00",
          "2018-03-07T00:00:00",
          "2018-04-04T00:00:00",
          "2018-04-30T00:00:00",
          "2018-05-07T00:00:00",
          "2018-05-16T00:00:00",
          "2018-05-24T00:00:00",
          "2018-05-29T00:00:00",
          "2018-06-04T00:00:00",
          "2018-06-12T00:00:00",
          "2018-06-18T00:00:00",
          "2018-06-25T00:00:00",
          "2018-07-17T00:00:00",
          "2018-08-06T00:00:00",
          "2018-08-15T00:00:00",
          "2018-08-20T00:00:00",
          "2018-08-30T00:00:00",
          "2018-09-17T00:00:00",
          "2018-09-24T00:00:00",
          "2018-10-01T00:00:00",
          "2018-10-15T00:00:00",
          "2018-10-22T00:00:00",
          "2018-11-28T00:00:00",
          "2018-12-12T00:00:00",
          "2019-01-15T00:00:00",
          "2019-02-06T00:00:00",
          "2019-03-13T00:00:00",
          "2019-04-16T00:00:00",
          "2019-05-08T00:00:00",
          "2019-05-22T00:00:00",
          "2019-06-05T00:00:00",
          "2019-06-19T00:00:00",
          "2019-07-10T00:00:00",
          "2019-07-17T00:00:00",
          "2019-07-31T00:00:00",
          "2019-08-08T00:00:00",
          "2019-08-14T00:00:00",
          "2019-08-27T00:00:00",
          "2019-09-11T00:00:00",
          "2019-09-25T00:00:00",
          "2019-10-02T00:00:00",
          "2019-10-09T00:00:00",
          "2019-10-23T00:00:00",
          "2019-11-14T00:00:00",
          "2019-12-11T00:00:00",
          "2020-01-13T00:00:00",
          "2020-02-10T00:00:00",
          "2020-03-24T00:00:00",
          "2020-06-09T00:00:00",
          "2020-06-24T00:00:00",
          "2020-07-08T00:00:00",
          "2020-07-22T00:00:00",
          "2020-08-05T00:00:00",
          "2020-08-12T00:00:00",
          "2020-08-19T00:00:00",
          "2020-08-26T00:00:00",
          "2020-09-02T00:00:00",
          "2020-09-14T00:00:00",
          "2020-09-23T00:00:00",
          "2020-09-30T00:00:00",
          "2020-10-08T00:00:00",
          "2020-10-21T00:00:00",
          "2020-10-28T00:00:00",
          "2020-11-19T00:00:00",
          "2020-12-14T00:00:00",
          "2021-01-13T00:00:00",
          "2021-02-16T00:00:00",
          "2021-03-18T00:00:00",
          "2021-04-21T00:00:00",
          "2021-04-21T00:00:00",
          "2021-05-18T00:00:00",
          "2021-05-18T00:00:00",
          "2021-06-03T00:00:00",
          "2021-07-14T00:00:00",
          "2021-07-28T00:00:00"
         ],
         "xaxis": "x",
         "y": [
          2.6,
          2.85,
          2.4,
          2.67,
          2.77,
          2.73,
          2.79,
          2.57,
          2.3,
          2.03,
          2.41,
          3.2,
          3,
          null,
          null,
          2.47,
          2.76,
          2.28,
          2.66,
          2.48,
          3.08,
          2.73,
          2.97,
          3.25,
          2.59,
          2.3,
          2.43,
          2.27,
          2.63,
          2.38,
          2.57,
          2.28,
          2.31,
          2.26,
          2.21,
          2.16,
          2.14,
          2.31,
          2.09,
          2.23,
          2.27,
          2.34,
          2.45,
          3.92,
          2.99,
          2.8,
          2.37,
          2.33,
          2.38,
          2.79,
          2.74,
          2.29,
          2.43,
          2.43,
          2.47,
          2.28,
          2.34,
          2.33,
          2.49,
          2.72,
          3.34,
          2.53,
          2.31,
          2.29,
          2.38,
          2.17,
          2.27,
          3.09,
          2.16,
          2.5,
          2.38,
          2.19,
          2.23,
          2.51,
          null,
          null
         ],
         "yaxis": "y"
        },
        {
         "hovertemplate": "Measurement=Silica<br>Date=%{x}<br>Value (mg/L)=%{y}<extra></extra>",
         "legendgroup": "Silica",
         "line": {
          "color": "#EF553B",
          "dash": "solid"
         },
         "marker": {
          "symbol": "circle"
         },
         "mode": "lines",
         "name": "Silica",
         "orientation": "v",
         "showlegend": true,
         "type": "scatter",
         "x": [
          "2018-01-11T00:00:00",
          "2018-02-13T00:00:00",
          "2018-03-07T00:00:00",
          "2018-04-04T00:00:00",
          "2018-04-30T00:00:00",
          "2018-05-07T00:00:00",
          "2018-05-16T00:00:00",
          "2018-05-24T00:00:00",
          "2018-05-29T00:00:00",
          "2018-06-04T00:00:00",
          "2018-06-12T00:00:00",
          "2018-06-18T00:00:00",
          "2018-06-25T00:00:00",
          "2018-07-17T00:00:00",
          "2018-08-06T00:00:00",
          "2018-08-15T00:00:00",
          "2018-08-20T00:00:00",
          "2018-08-30T00:00:00",
          "2018-09-17T00:00:00",
          "2018-09-24T00:00:00",
          "2018-10-01T00:00:00",
          "2018-10-15T00:00:00",
          "2018-10-22T00:00:00",
          "2018-11-28T00:00:00",
          "2018-12-12T00:00:00",
          "2019-01-15T00:00:00",
          "2019-02-06T00:00:00",
          "2019-03-13T00:00:00",
          "2019-04-16T00:00:00",
          "2019-05-08T00:00:00",
          "2019-05-22T00:00:00",
          "2019-06-05T00:00:00",
          "2019-06-19T00:00:00",
          "2019-07-10T00:00:00",
          "2019-07-17T00:00:00",
          "2019-07-31T00:00:00",
          "2019-08-08T00:00:00",
          "2019-08-14T00:00:00",
          "2019-08-27T00:00:00",
          "2019-09-11T00:00:00",
          "2019-09-25T00:00:00",
          "2019-10-02T00:00:00",
          "2019-10-09T00:00:00",
          "2019-10-23T00:00:00",
          "2019-11-14T00:00:00",
          "2019-12-11T00:00:00",
          "2020-01-13T00:00:00",
          "2020-02-10T00:00:00",
          "2020-03-24T00:00:00",
          "2020-06-09T00:00:00",
          "2020-06-24T00:00:00",
          "2020-07-08T00:00:00",
          "2020-07-22T00:00:00",
          "2020-08-05T00:00:00",
          "2020-08-12T00:00:00",
          "2020-08-19T00:00:00",
          "2020-08-26T00:00:00",
          "2020-09-02T00:00:00",
          "2020-09-14T00:00:00",
          "2020-09-23T00:00:00",
          "2020-09-30T00:00:00",
          "2020-10-08T00:00:00",
          "2020-10-21T00:00:00",
          "2020-10-28T00:00:00",
          "2020-11-19T00:00:00",
          "2020-12-14T00:00:00",
          "2021-01-13T00:00:00",
          "2021-02-16T00:00:00",
          "2021-03-18T00:00:00",
          "2021-04-21T00:00:00",
          "2021-04-21T00:00:00",
          "2021-05-18T00:00:00",
          "2021-05-18T00:00:00",
          "2021-06-03T00:00:00",
          "2021-07-14T00:00:00",
          "2021-07-28T00:00:00"
         ],
         "xaxis": "x",
         "y": [
          1.364,
          2.057,
          2.141,
          1.389,
          2.088,
          1.919,
          "1.495",
          1.898,
          1.376,
          1.36,
          1.262,
          "1.492",
          1.221,
          null,
          null,
          2.08,
          2.057,
          2.049,
          2.43,
          2.453,
          2.395,
          2.361,
          2.4,
          3.62,
          2.714,
          "2.42",
          1.567,
          "1.384",
          "2.656",
          2.054,
          "2.46",
          "1.602",
          "1.812",
          "1.572",
          1.479,
          "1.501",
          2.04,
          "2.13",
          "1.83",
          1.972,
          "1.642",
          "2.46",
          "3.267",
          "2.864",
          2.63,
          "2.74",
          3.176,
          2.02,
          1.44,
          1.17,
          1.24,
          1.39,
          1.54,
          2.1,
          1.63,
          1.8,
          1.918,
          2.45,
          2.03,
          2.157,
          1.656,
          2.096,
          3.69,
          1.924,
          2.615,
          1.655,
          1.88,
          0.802,
          1.53,
          2.26,
          2.26,
          1.77,
          1.76,
          1.38,
          null,
          null
         ],
         "yaxis": "y"
        },
        {
         "hovertemplate": "Measurement=Nitrate/Nitrite<br>Date=%{x}<br>Value (mg/L)=%{y}<extra></extra>",
         "legendgroup": "Nitrate/Nitrite",
         "line": {
          "color": "#00cc96",
          "dash": "solid"
         },
         "marker": {
          "symbol": "circle"
         },
         "mode": "lines",
         "name": "Nitrate/Nitrite",
         "orientation": "v",
         "showlegend": true,
         "type": "scatter",
         "x": [
          "2018-01-11T00:00:00",
          "2018-02-13T00:00:00",
          "2018-03-07T00:00:00",
          "2018-04-04T00:00:00",
          "2018-04-30T00:00:00",
          "2018-05-07T00:00:00",
          "2018-05-16T00:00:00",
          "2018-05-24T00:00:00",
          "2018-05-29T00:00:00",
          "2018-06-04T00:00:00",
          "2018-06-12T00:00:00",
          "2018-06-18T00:00:00",
          "2018-06-25T00:00:00",
          "2018-07-17T00:00:00",
          "2018-08-06T00:00:00",
          "2018-08-15T00:00:00",
          "2018-08-20T00:00:00",
          "2018-08-30T00:00:00",
          "2018-09-17T00:00:00",
          "2018-09-24T00:00:00",
          "2018-10-01T00:00:00",
          "2018-10-15T00:00:00",
          "2018-10-22T00:00:00",
          "2018-11-28T00:00:00",
          "2018-12-12T00:00:00",
          "2019-01-15T00:00:00",
          "2019-02-06T00:00:00",
          "2019-03-13T00:00:00",
          "2019-04-16T00:00:00",
          "2019-05-08T00:00:00",
          "2019-05-22T00:00:00",
          "2019-06-05T00:00:00",
          "2019-06-19T00:00:00",
          "2019-07-10T00:00:00",
          "2019-07-17T00:00:00",
          "2019-07-31T00:00:00",
          "2019-08-08T00:00:00",
          "2019-08-14T00:00:00",
          "2019-08-27T00:00:00",
          "2019-09-11T00:00:00",
          "2019-09-25T00:00:00",
          "2019-10-02T00:00:00",
          "2019-10-09T00:00:00",
          "2019-10-23T00:00:00",
          "2019-11-14T00:00:00",
          "2019-12-11T00:00:00",
          "2020-01-13T00:00:00",
          "2020-02-10T00:00:00",
          "2020-03-24T00:00:00",
          "2020-06-09T00:00:00",
          "2020-06-24T00:00:00",
          "2020-07-08T00:00:00",
          "2020-07-22T00:00:00",
          "2020-08-05T00:00:00",
          "2020-08-12T00:00:00",
          "2020-08-19T00:00:00",
          "2020-08-26T00:00:00",
          "2020-09-02T00:00:00",
          "2020-09-14T00:00:00",
          "2020-09-23T00:00:00",
          "2020-09-30T00:00:00",
          "2020-10-08T00:00:00",
          "2020-10-21T00:00:00",
          "2020-10-28T00:00:00",
          "2020-11-19T00:00:00",
          "2020-12-14T00:00:00",
          "2021-01-13T00:00:00",
          "2021-02-16T00:00:00",
          "2021-03-18T00:00:00",
          "2021-04-21T00:00:00",
          "2021-04-21T00:00:00",
          "2021-05-18T00:00:00",
          "2021-05-18T00:00:00",
          "2021-06-03T00:00:00",
          "2021-07-14T00:00:00",
          "2021-07-28T00:00:00"
         ],
         "xaxis": "x",
         "y": [
          0.3,
          0.335,
          0.293,
          0.322,
          0.335,
          0.271,
          "0.274",
          0.367,
          0.298,
          0.314,
          0.278,
          "0.319",
          0.265,
          null,
          null,
          0.315,
          0.335,
          0.321,
          0.506,
          0.464,
          0.524,
          0.431,
          0.421,
          0.427,
          0.362,
          "0.316",
          0.281,
          "0.264",
          "0.382",
          0.309,
          "0.313",
          "0.272",
          "0.331",
          "0.27",
          0.246,
          "0.207",
          0.274,
          "0.291",
          "0.263",
          0.373,
          "0.431",
          "0.423",
          "0.283",
          "0.029",
          0.286,
          "0.26",
          0.369,
          0.368,
          0.28,
          0.243,
          0.252,
          0.288,
          0.317,
          0.307,
          0.279,
          0.288,
          0.345,
          0.376,
          0.351,
          0.436,
          0.397,
          0.449,
          0.48,
          0.423,
          0.582,
          0.408,
          0.348,
          0.262,
          0.264,
          0.366,
          0.353,
          0.3,
          0.295,
          0.306,
          null,
          null
         ],
         "yaxis": "y"
        },
        {
         "hovertemplate": "Measurement=Ammonium<br>Date=%{x}<br>Value (mg/L)=%{y}<extra></extra>",
         "legendgroup": "Ammonium",
         "line": {
          "color": "#ab63fa",
          "dash": "solid"
         },
         "marker": {
          "symbol": "circle"
         },
         "mode": "lines",
         "name": "Ammonium",
         "orientation": "v",
         "showlegend": true,
         "type": "scatter",
         "x": [
          "2018-01-11T00:00:00",
          "2018-02-13T00:00:00",
          "2018-03-07T00:00:00",
          "2018-04-04T00:00:00",
          "2018-04-30T00:00:00",
          "2018-05-07T00:00:00",
          "2018-05-16T00:00:00",
          "2018-05-24T00:00:00",
          "2018-05-29T00:00:00",
          "2018-06-04T00:00:00",
          "2018-06-12T00:00:00",
          "2018-06-18T00:00:00",
          "2018-06-25T00:00:00",
          "2018-07-17T00:00:00",
          "2018-08-06T00:00:00",
          "2018-08-15T00:00:00",
          "2018-08-20T00:00:00",
          "2018-08-30T00:00:00",
          "2018-09-17T00:00:00",
          "2018-09-24T00:00:00",
          "2018-10-01T00:00:00",
          "2018-10-15T00:00:00",
          "2018-10-22T00:00:00",
          "2018-11-28T00:00:00",
          "2018-12-12T00:00:00",
          "2019-01-15T00:00:00",
          "2019-02-06T00:00:00",
          "2019-03-13T00:00:00",
          "2019-04-16T00:00:00",
          "2019-05-08T00:00:00",
          "2019-05-22T00:00:00",
          "2019-06-05T00:00:00",
          "2019-06-19T00:00:00",
          "2019-07-10T00:00:00",
          "2019-07-17T00:00:00",
          "2019-07-31T00:00:00",
          "2019-08-08T00:00:00",
          "2019-08-14T00:00:00",
          "2019-08-27T00:00:00",
          "2019-09-11T00:00:00",
          "2019-09-25T00:00:00",
          "2019-10-02T00:00:00",
          "2019-10-09T00:00:00",
          "2019-10-23T00:00:00",
          "2019-11-14T00:00:00",
          "2019-12-11T00:00:00",
          "2020-01-13T00:00:00",
          "2020-02-10T00:00:00",
          "2020-03-24T00:00:00",
          "2020-06-09T00:00:00",
          "2020-06-24T00:00:00",
          "2020-07-08T00:00:00",
          "2020-07-22T00:00:00",
          "2020-08-05T00:00:00",
          "2020-08-12T00:00:00",
          "2020-08-19T00:00:00",
          "2020-08-26T00:00:00",
          "2020-09-02T00:00:00",
          "2020-09-14T00:00:00",
          "2020-09-23T00:00:00",
          "2020-09-30T00:00:00",
          "2020-10-08T00:00:00",
          "2020-10-21T00:00:00",
          "2020-10-28T00:00:00",
          "2020-11-19T00:00:00",
          "2020-12-14T00:00:00",
          "2021-01-13T00:00:00",
          "2021-02-16T00:00:00",
          "2021-03-18T00:00:00",
          "2021-04-21T00:00:00",
          "2021-04-21T00:00:00",
          "2021-05-18T00:00:00",
          "2021-05-18T00:00:00",
          "2021-06-03T00:00:00",
          "2021-07-14T00:00:00",
          "2021-07-28T00:00:00"
         ],
         "xaxis": "x",
         "y": [
          0.34,
          0.262,
          0.315,
          0.352,
          0.345,
          0.314,
          "0.278",
          0.424,
          0.337,
          0.263,
          0.326,
          "0.349",
          0.449,
          null,
          null,
          0.266,
          0.286,
          0.356,
          0.345,
          0.316,
          0.311,
          0.303,
          0.249,
          0.27,
          0.303,
          "0.224",
          0.356,
          "0.42",
          "0.397",
          0.458,
          "0.36",
          "0.425",
          "0.324",
          "0.387",
          0.315,
          "0.344",
          0.338,
          "0.304",
          "0.417",
          0.382,
          "0.339",
          "0.444",
          "0.647",
          "0.78",
          0.391,
          "0.379",
          0.329,
          0.347,
          0.222,
          0.312,
          0.337,
          0.368,
          0.32,
          0.276,
          0.277,
          0.332,
          0.366,
          0.233,
          0.261,
          0.32,
          0.426,
          0.322,
          0.354,
          0.332,
          0.431,
          0.335,
          0.253,
          0.476,
          0.354,
          0.324,
          0.317,
          0.316,
          0.361,
          0.339,
          null,
          null
         ],
         "yaxis": "y"
        },
        {
         "hovertemplate": "Measurement=Phosphorus<br>Date=%{x}<br>Value (mg/L)=%{y}<extra></extra>",
         "legendgroup": "Phosphorus",
         "line": {
          "color": "#FFA15A",
          "dash": "solid"
         },
         "marker": {
          "symbol": "circle"
         },
         "mode": "lines",
         "name": "Phosphorus",
         "orientation": "v",
         "showlegend": true,
         "type": "scatter",
         "x": [
          "2018-01-11T00:00:00",
          "2018-02-13T00:00:00",
          "2018-03-07T00:00:00",
          "2018-04-04T00:00:00",
          "2018-04-30T00:00:00",
          "2018-05-07T00:00:00",
          "2018-05-16T00:00:00",
          "2018-05-24T00:00:00",
          "2018-05-29T00:00:00",
          "2018-06-04T00:00:00",
          "2018-06-12T00:00:00",
          "2018-06-18T00:00:00",
          "2018-06-25T00:00:00",
          "2018-07-17T00:00:00",
          "2018-08-06T00:00:00",
          "2018-08-15T00:00:00",
          "2018-08-20T00:00:00",
          "2018-08-30T00:00:00",
          "2018-09-17T00:00:00",
          "2018-09-24T00:00:00",
          "2018-10-01T00:00:00",
          "2018-10-15T00:00:00",
          "2018-10-22T00:00:00",
          "2018-11-28T00:00:00",
          "2018-12-12T00:00:00",
          "2019-01-15T00:00:00",
          "2019-02-06T00:00:00",
          "2019-03-13T00:00:00",
          "2019-04-16T00:00:00",
          "2019-05-08T00:00:00",
          "2019-05-22T00:00:00",
          "2019-06-05T00:00:00",
          "2019-06-19T00:00:00",
          "2019-07-10T00:00:00",
          "2019-07-17T00:00:00",
          "2019-07-31T00:00:00",
          "2019-08-08T00:00:00",
          "2019-08-14T00:00:00",
          "2019-08-27T00:00:00",
          "2019-09-11T00:00:00",
          "2019-09-25T00:00:00",
          "2019-10-02T00:00:00",
          "2019-10-09T00:00:00",
          "2019-10-23T00:00:00",
          "2019-11-14T00:00:00",
          "2019-12-11T00:00:00",
          "2020-01-13T00:00:00",
          "2020-02-10T00:00:00",
          "2020-03-24T00:00:00",
          "2020-06-09T00:00:00",
          "2020-06-24T00:00:00",
          "2020-07-08T00:00:00",
          "2020-07-22T00:00:00",
          "2020-08-05T00:00:00",
          "2020-08-12T00:00:00",
          "2020-08-19T00:00:00",
          "2020-08-26T00:00:00",
          "2020-09-02T00:00:00",
          "2020-09-14T00:00:00",
          "2020-09-23T00:00:00",
          "2020-09-30T00:00:00",
          "2020-10-08T00:00:00",
          "2020-10-21T00:00:00",
          "2020-10-28T00:00:00",
          "2020-11-19T00:00:00",
          "2020-12-14T00:00:00",
          "2021-01-13T00:00:00",
          "2021-02-16T00:00:00",
          "2021-03-18T00:00:00",
          "2021-04-21T00:00:00",
          "2021-04-21T00:00:00",
          "2021-05-18T00:00:00",
          "2021-05-18T00:00:00",
          "2021-06-03T00:00:00",
          "2021-07-14T00:00:00",
          "2021-07-28T00:00:00"
         ],
         "xaxis": "x",
         "y": [
          0.177,
          0.107,
          0.073,
          0.155,
          0.118,
          0.08,
          "0.149",
          0.137,
          0.113,
          0.105,
          0.132,
          "0.166",
          0.207,
          null,
          null,
          0.209,
          0.15,
          0.184,
          0.174,
          0.169,
          0.157,
          0.168,
          0.13,
          0.16,
          0.095,
          "0.128",
          0.143,
          "0.098",
          "0.177",
          0.122,
          "0.07",
          "0.093",
          "0.161",
          "0.138",
          0.128,
          "0.13",
          0.215,
          "0.142",
          "0.144",
          0.129,
          "0.18",
          "0.145",
          "0.239",
          "0.41",
          0.132,
          "0.162",
          0.053,
          0.128,
          0.137,
          0.148,
          0.154,
          0.149,
          0.189,
          0.191,
          0.172,
          0.156,
          0.137,
          0.262,
          0.124,
          0.178,
          0.229,
          0.149,
          0.244,
          0.173,
          0.198,
          0.321,
          0.104,
          0.192,
          0.095,
          0.088,
          0.078,
          0.067,
          0.122,
          0.087,
          null,
          null
         ],
         "yaxis": "y"
        }
       ],
       "layout": {
        "legend": {
         "title": {
          "text": "Measurement"
         },
         "tracegroupgap": 0
        },
        "margin": {
         "t": 60
        },
        "template": {
         "data": {
          "bar": [
           {
            "error_x": {
             "color": "#2a3f5f"
            },
            "error_y": {
             "color": "#2a3f5f"
            },
            "marker": {
             "line": {
              "color": "#E5ECF6",
              "width": 0.5
             },
             "pattern": {
              "fillmode": "overlay",
              "size": 10,
              "solidity": 0.2
             }
            },
            "type": "bar"
           }
          ],
          "barpolar": [
           {
            "marker": {
             "line": {
              "color": "#E5ECF6",
              "width": 0.5
             },
             "pattern": {
              "fillmode": "overlay",
              "size": 10,
              "solidity": 0.2
             }
            },
            "type": "barpolar"
           }
          ],
          "carpet": [
           {
            "aaxis": {
             "endlinecolor": "#2a3f5f",
             "gridcolor": "white",
             "linecolor": "white",
             "minorgridcolor": "white",
             "startlinecolor": "#2a3f5f"
            },
            "baxis": {
             "endlinecolor": "#2a3f5f",
             "gridcolor": "white",
             "linecolor": "white",
             "minorgridcolor": "white",
             "startlinecolor": "#2a3f5f"
            },
            "type": "carpet"
           }
          ],
          "choropleth": [
           {
            "colorbar": {
             "outlinewidth": 0,
             "ticks": ""
            },
            "type": "choropleth"
           }
          ],
          "contour": [
           {
            "colorbar": {
             "outlinewidth": 0,
             "ticks": ""
            },
            "colorscale": [
             [
              0,
              "#0d0887"
             ],
             [
              0.1111111111111111,
              "#46039f"
             ],
             [
              0.2222222222222222,
              "#7201a8"
             ],
             [
              0.3333333333333333,
              "#9c179e"
             ],
             [
              0.4444444444444444,
              "#bd3786"
             ],
             [
              0.5555555555555556,
              "#d8576b"
             ],
             [
              0.6666666666666666,
              "#ed7953"
             ],
             [
              0.7777777777777778,
              "#fb9f3a"
             ],
             [
              0.8888888888888888,
              "#fdca26"
             ],
             [
              1,
              "#f0f921"
             ]
            ],
            "type": "contour"
           }
          ],
          "contourcarpet": [
           {
            "colorbar": {
             "outlinewidth": 0,
             "ticks": ""
            },
            "type": "contourcarpet"
           }
          ],
          "heatmap": [
           {
            "colorbar": {
             "outlinewidth": 0,
             "ticks": ""
            },
            "colorscale": [
             [
              0,
              "#0d0887"
             ],
             [
              0.1111111111111111,
              "#46039f"
             ],
             [
              0.2222222222222222,
              "#7201a8"
             ],
             [
              0.3333333333333333,
              "#9c179e"
             ],
             [
              0.4444444444444444,
              "#bd3786"
             ],
             [
              0.5555555555555556,
              "#d8576b"
             ],
             [
              0.6666666666666666,
              "#ed7953"
             ],
             [
              0.7777777777777778,
              "#fb9f3a"
             ],
             [
              0.8888888888888888,
              "#fdca26"
             ],
             [
              1,
              "#f0f921"
             ]
            ],
            "type": "heatmap"
           }
          ],
          "heatmapgl": [
           {
            "colorbar": {
             "outlinewidth": 0,
             "ticks": ""
            },
            "colorscale": [
             [
              0,
              "#0d0887"
             ],
             [
              0.1111111111111111,
              "#46039f"
             ],
             [
              0.2222222222222222,
              "#7201a8"
             ],
             [
              0.3333333333333333,
              "#9c179e"
             ],
             [
              0.4444444444444444,
              "#bd3786"
             ],
             [
              0.5555555555555556,
              "#d8576b"
             ],
             [
              0.6666666666666666,
              "#ed7953"
             ],
             [
              0.7777777777777778,
              "#fb9f3a"
             ],
             [
              0.8888888888888888,
              "#fdca26"
             ],
             [
              1,
              "#f0f921"
             ]
            ],
            "type": "heatmapgl"
           }
          ],
          "histogram": [
           {
            "marker": {
             "pattern": {
              "fillmode": "overlay",
              "size": 10,
              "solidity": 0.2
             }
            },
            "type": "histogram"
           }
          ],
          "histogram2d": [
           {
            "colorbar": {
             "outlinewidth": 0,
             "ticks": ""
            },
            "colorscale": [
             [
              0,
              "#0d0887"
             ],
             [
              0.1111111111111111,
              "#46039f"
             ],
             [
              0.2222222222222222,
              "#7201a8"
             ],
             [
              0.3333333333333333,
              "#9c179e"
             ],
             [
              0.4444444444444444,
              "#bd3786"
             ],
             [
              0.5555555555555556,
              "#d8576b"
             ],
             [
              0.6666666666666666,
              "#ed7953"
             ],
             [
              0.7777777777777778,
              "#fb9f3a"
             ],
             [
              0.8888888888888888,
              "#fdca26"
             ],
             [
              1,
              "#f0f921"
             ]
            ],
            "type": "histogram2d"
           }
          ],
          "histogram2dcontour": [
           {
            "colorbar": {
             "outlinewidth": 0,
             "ticks": ""
            },
            "colorscale": [
             [
              0,
              "#0d0887"
             ],
             [
              0.1111111111111111,
              "#46039f"
             ],
             [
              0.2222222222222222,
              "#7201a8"
             ],
             [
              0.3333333333333333,
              "#9c179e"
             ],
             [
              0.4444444444444444,
              "#bd3786"
             ],
             [
              0.5555555555555556,
              "#d8576b"
             ],
             [
              0.6666666666666666,
              "#ed7953"
             ],
             [
              0.7777777777777778,
              "#fb9f3a"
             ],
             [
              0.8888888888888888,
              "#fdca26"
             ],
             [
              1,
              "#f0f921"
             ]
            ],
            "type": "histogram2dcontour"
           }
          ],
          "mesh3d": [
           {
            "colorbar": {
             "outlinewidth": 0,
             "ticks": ""
            },
            "type": "mesh3d"
           }
          ],
          "parcoords": [
           {
            "line": {
             "colorbar": {
              "outlinewidth": 0,
              "ticks": ""
             }
            },
            "type": "parcoords"
           }
          ],
          "pie": [
           {
            "automargin": true,
            "type": "pie"
           }
          ],
          "scatter": [
           {
            "marker": {
             "colorbar": {
              "outlinewidth": 0,
              "ticks": ""
             }
            },
            "type": "scatter"
           }
          ],
          "scatter3d": [
           {
            "line": {
             "colorbar": {
              "outlinewidth": 0,
              "ticks": ""
             }
            },
            "marker": {
             "colorbar": {
              "outlinewidth": 0,
              "ticks": ""
             }
            },
            "type": "scatter3d"
           }
          ],
          "scattercarpet": [
           {
            "marker": {
             "colorbar": {
              "outlinewidth": 0,
              "ticks": ""
             }
            },
            "type": "scattercarpet"
           }
          ],
          "scattergeo": [
           {
            "marker": {
             "colorbar": {
              "outlinewidth": 0,
              "ticks": ""
             }
            },
            "type": "scattergeo"
           }
          ],
          "scattergl": [
           {
            "marker": {
             "colorbar": {
              "outlinewidth": 0,
              "ticks": ""
             }
            },
            "type": "scattergl"
           }
          ],
          "scattermapbox": [
           {
            "marker": {
             "colorbar": {
              "outlinewidth": 0,
              "ticks": ""
             }
            },
            "type": "scattermapbox"
           }
          ],
          "scatterpolar": [
           {
            "marker": {
             "colorbar": {
              "outlinewidth": 0,
              "ticks": ""
             }
            },
            "type": "scatterpolar"
           }
          ],
          "scatterpolargl": [
           {
            "marker": {
             "colorbar": {
              "outlinewidth": 0,
              "ticks": ""
             }
            },
            "type": "scatterpolargl"
           }
          ],
          "scatterternary": [
           {
            "marker": {
             "colorbar": {
              "outlinewidth": 0,
              "ticks": ""
             }
            },
            "type": "scatterternary"
           }
          ],
          "surface": [
           {
            "colorbar": {
             "outlinewidth": 0,
             "ticks": ""
            },
            "colorscale": [
             [
              0,
              "#0d0887"
             ],
             [
              0.1111111111111111,
              "#46039f"
             ],
             [
              0.2222222222222222,
              "#7201a8"
             ],
             [
              0.3333333333333333,
              "#9c179e"
             ],
             [
              0.4444444444444444,
              "#bd3786"
             ],
             [
              0.5555555555555556,
              "#d8576b"
             ],
             [
              0.6666666666666666,
              "#ed7953"
             ],
             [
              0.7777777777777778,
              "#fb9f3a"
             ],
             [
              0.8888888888888888,
              "#fdca26"
             ],
             [
              1,
              "#f0f921"
             ]
            ],
            "type": "surface"
           }
          ],
          "table": [
           {
            "cells": {
             "fill": {
              "color": "#EBF0F8"
             },
             "line": {
              "color": "white"
             }
            },
            "header": {
             "fill": {
              "color": "#C8D4E3"
             },
             "line": {
              "color": "white"
             }
            },
            "type": "table"
           }
          ]
         },
         "layout": {
          "annotationdefaults": {
           "arrowcolor": "#2a3f5f",
           "arrowhead": 0,
           "arrowwidth": 1
          },
          "autotypenumbers": "strict",
          "coloraxis": {
           "colorbar": {
            "outlinewidth": 0,
            "ticks": ""
           }
          },
          "colorscale": {
           "diverging": [
            [
             0,
             "#8e0152"
            ],
            [
             0.1,
             "#c51b7d"
            ],
            [
             0.2,
             "#de77ae"
            ],
            [
             0.3,
             "#f1b6da"
            ],
            [
             0.4,
             "#fde0ef"
            ],
            [
             0.5,
             "#f7f7f7"
            ],
            [
             0.6,
             "#e6f5d0"
            ],
            [
             0.7,
             "#b8e186"
            ],
            [
             0.8,
             "#7fbc41"
            ],
            [
             0.9,
             "#4d9221"
            ],
            [
             1,
             "#276419"
            ]
           ],
           "sequential": [
            [
             0,
             "#0d0887"
            ],
            [
             0.1111111111111111,
             "#46039f"
            ],
            [
             0.2222222222222222,
             "#7201a8"
            ],
            [
             0.3333333333333333,
             "#9c179e"
            ],
            [
             0.4444444444444444,
             "#bd3786"
            ],
            [
             0.5555555555555556,
             "#d8576b"
            ],
            [
             0.6666666666666666,
             "#ed7953"
            ],
            [
             0.7777777777777778,
             "#fb9f3a"
            ],
            [
             0.8888888888888888,
             "#fdca26"
            ],
            [
             1,
             "#f0f921"
            ]
           ],
           "sequentialminus": [
            [
             0,
             "#0d0887"
            ],
            [
             0.1111111111111111,
             "#46039f"
            ],
            [
             0.2222222222222222,
             "#7201a8"
            ],
            [
             0.3333333333333333,
             "#9c179e"
            ],
            [
             0.4444444444444444,
             "#bd3786"
            ],
            [
             0.5555555555555556,
             "#d8576b"
            ],
            [
             0.6666666666666666,
             "#ed7953"
            ],
            [
             0.7777777777777778,
             "#fb9f3a"
            ],
            [
             0.8888888888888888,
             "#fdca26"
            ],
            [
             1,
             "#f0f921"
            ]
           ]
          },
          "colorway": [
           "#636efa",
           "#EF553B",
           "#00cc96",
           "#ab63fa",
           "#FFA15A",
           "#19d3f3",
           "#FF6692",
           "#B6E880",
           "#FF97FF",
           "#FECB52"
          ],
          "font": {
           "color": "#2a3f5f"
          },
          "geo": {
           "bgcolor": "white",
           "lakecolor": "white",
           "landcolor": "#E5ECF6",
           "showlakes": true,
           "showland": true,
           "subunitcolor": "white"
          },
          "hoverlabel": {
           "align": "left"
          },
          "hovermode": "closest",
          "mapbox": {
           "style": "light"
          },
          "paper_bgcolor": "white",
          "plot_bgcolor": "#E5ECF6",
          "polar": {
           "angularaxis": {
            "gridcolor": "white",
            "linecolor": "white",
            "ticks": ""
           },
           "bgcolor": "#E5ECF6",
           "radialaxis": {
            "gridcolor": "white",
            "linecolor": "white",
            "ticks": ""
           }
          },
          "scene": {
           "xaxis": {
            "backgroundcolor": "#E5ECF6",
            "gridcolor": "white",
            "gridwidth": 2,
            "linecolor": "white",
            "showbackground": true,
            "ticks": "",
            "zerolinecolor": "white"
           },
           "yaxis": {
            "backgroundcolor": "#E5ECF6",
            "gridcolor": "white",
            "gridwidth": 2,
            "linecolor": "white",
            "showbackground": true,
            "ticks": "",
            "zerolinecolor": "white"
           },
           "zaxis": {
            "backgroundcolor": "#E5ECF6",
            "gridcolor": "white",
            "gridwidth": 2,
            "linecolor": "white",
            "showbackground": true,
            "ticks": "",
            "zerolinecolor": "white"
           }
          },
          "shapedefaults": {
           "line": {
            "color": "#2a3f5f"
           }
          },
          "ternary": {
           "aaxis": {
            "gridcolor": "white",
            "linecolor": "white",
            "ticks": ""
           },
           "baxis": {
            "gridcolor": "white",
            "linecolor": "white",
            "ticks": ""
           },
           "bgcolor": "#E5ECF6",
           "caxis": {
            "gridcolor": "white",
            "linecolor": "white",
            "ticks": ""
           }
          },
          "title": {
           "x": 0.05
          },
          "xaxis": {
           "automargin": true,
           "gridcolor": "white",
           "linecolor": "white",
           "ticks": "",
           "title": {
            "standoff": 15
           },
           "zerolinecolor": "white",
           "zerolinewidth": 2
          },
          "yaxis": {
           "automargin": true,
           "gridcolor": "white",
           "linecolor": "white",
           "ticks": "",
           "title": {
            "standoff": 15
           },
           "zerolinecolor": "white",
           "zerolinewidth": 2
          }
         }
        },
        "title": {
         "text": "Gowanus Canal Water Quality - Nutrients"
        },
        "xaxis": {
         "anchor": "y",
         "domain": [
          0,
          1
         ],
         "dtick": "M3",
         "tickangle": 45,
         "tickformat": "%b %Y",
         "title": {
          "text": "Date"
         }
        },
        "yaxis": {
         "anchor": "x",
         "domain": [
          0,
          1
         ],
         "title": {
          "text": "Value (mg/L)"
         }
        }
       }
      },
      "text/html": [
       "<div>                            <div id=\"731ad086-7095-4858-afb8-690f9ba138cc\" class=\"plotly-graph-div\" style=\"height:525px; width:100%;\"></div>            <script type=\"text/javascript\">                require([\"plotly\"], function(Plotly) {                    window.PLOTLYENV=window.PLOTLYENV || {};                                    if (document.getElementById(\"731ad086-7095-4858-afb8-690f9ba138cc\")) {                    Plotly.newPlot(                        \"731ad086-7095-4858-afb8-690f9ba138cc\",                        [{\"hovertemplate\":\"Measurement=Dissolved Organic Carbon<br>Date=%{x}<br>Value (mg/L)=%{y}<extra></extra>\",\"legendgroup\":\"Dissolved Organic Carbon\",\"line\":{\"color\":\"#636efa\",\"dash\":\"solid\"},\"marker\":{\"symbol\":\"circle\"},\"mode\":\"lines\",\"name\":\"Dissolved Organic Carbon\",\"orientation\":\"v\",\"showlegend\":true,\"x\":[\"2018-01-11T00:00:00\",\"2018-02-13T00:00:00\",\"2018-03-07T00:00:00\",\"2018-04-04T00:00:00\",\"2018-04-30T00:00:00\",\"2018-05-07T00:00:00\",\"2018-05-16T00:00:00\",\"2018-05-24T00:00:00\",\"2018-05-29T00:00:00\",\"2018-06-04T00:00:00\",\"2018-06-12T00:00:00\",\"2018-06-18T00:00:00\",\"2018-06-25T00:00:00\",\"2018-07-17T00:00:00\",\"2018-08-06T00:00:00\",\"2018-08-15T00:00:00\",\"2018-08-20T00:00:00\",\"2018-08-30T00:00:00\",\"2018-09-17T00:00:00\",\"2018-09-24T00:00:00\",\"2018-10-01T00:00:00\",\"2018-10-15T00:00:00\",\"2018-10-22T00:00:00\",\"2018-11-28T00:00:00\",\"2018-12-12T00:00:00\",\"2019-01-15T00:00:00\",\"2019-02-06T00:00:00\",\"2019-03-13T00:00:00\",\"2019-04-16T00:00:00\",\"2019-05-08T00:00:00\",\"2019-05-22T00:00:00\",\"2019-06-05T00:00:00\",\"2019-06-19T00:00:00\",\"2019-07-10T00:00:00\",\"2019-07-17T00:00:00\",\"2019-07-31T00:00:00\",\"2019-08-08T00:00:00\",\"2019-08-14T00:00:00\",\"2019-08-27T00:00:00\",\"2019-09-11T00:00:00\",\"2019-09-25T00:00:00\",\"2019-10-02T00:00:00\",\"2019-10-09T00:00:00\",\"2019-10-23T00:00:00\",\"2019-11-14T00:00:00\",\"2019-12-11T00:00:00\",\"2020-01-13T00:00:00\",\"2020-02-10T00:00:00\",\"2020-03-24T00:00:00\",\"2020-06-09T00:00:00\",\"2020-06-24T00:00:00\",\"2020-07-08T00:00:00\",\"2020-07-22T00:00:00\",\"2020-08-05T00:00:00\",\"2020-08-12T00:00:00\",\"2020-08-19T00:00:00\",\"2020-08-26T00:00:00\",\"2020-09-02T00:00:00\",\"2020-09-14T00:00:00\",\"2020-09-23T00:00:00\",\"2020-09-30T00:00:00\",\"2020-10-08T00:00:00\",\"2020-10-21T00:00:00\",\"2020-10-28T00:00:00\",\"2020-11-19T00:00:00\",\"2020-12-14T00:00:00\",\"2021-01-13T00:00:00\",\"2021-02-16T00:00:00\",\"2021-03-18T00:00:00\",\"2021-04-21T00:00:00\",\"2021-04-21T00:00:00\",\"2021-05-18T00:00:00\",\"2021-05-18T00:00:00\",\"2021-06-03T00:00:00\",\"2021-07-14T00:00:00\",\"2021-07-28T00:00:00\"],\"xaxis\":\"x\",\"y\":[2.6,2.85,2.4,2.67,2.77,2.73,2.79,2.57,2.3,2.03,2.41,3.2,3.0,null,null,2.47,2.76,2.28,2.66,2.48,3.08,2.73,2.97,3.25,2.59,2.3,2.43,2.27,2.63,2.38,2.57,2.28,2.31,2.26,2.21,2.16,2.14,2.31,2.09,2.23,2.27,2.34,2.45,3.92,2.99,2.8,2.37,2.33,2.38,2.79,2.74,2.29,2.43,2.43,2.47,2.28,2.34,2.33,2.49,2.72,3.34,2.53,2.31,2.29,2.38,2.17,2.27,3.09,2.16,2.5,2.38,2.19,2.23,2.51,null,null],\"yaxis\":\"y\",\"type\":\"scatter\"},{\"hovertemplate\":\"Measurement=Silica<br>Date=%{x}<br>Value (mg/L)=%{y}<extra></extra>\",\"legendgroup\":\"Silica\",\"line\":{\"color\":\"#EF553B\",\"dash\":\"solid\"},\"marker\":{\"symbol\":\"circle\"},\"mode\":\"lines\",\"name\":\"Silica\",\"orientation\":\"v\",\"showlegend\":true,\"x\":[\"2018-01-11T00:00:00\",\"2018-02-13T00:00:00\",\"2018-03-07T00:00:00\",\"2018-04-04T00:00:00\",\"2018-04-30T00:00:00\",\"2018-05-07T00:00:00\",\"2018-05-16T00:00:00\",\"2018-05-24T00:00:00\",\"2018-05-29T00:00:00\",\"2018-06-04T00:00:00\",\"2018-06-12T00:00:00\",\"2018-06-18T00:00:00\",\"2018-06-25T00:00:00\",\"2018-07-17T00:00:00\",\"2018-08-06T00:00:00\",\"2018-08-15T00:00:00\",\"2018-08-20T00:00:00\",\"2018-08-30T00:00:00\",\"2018-09-17T00:00:00\",\"2018-09-24T00:00:00\",\"2018-10-01T00:00:00\",\"2018-10-15T00:00:00\",\"2018-10-22T00:00:00\",\"2018-11-28T00:00:00\",\"2018-12-12T00:00:00\",\"2019-01-15T00:00:00\",\"2019-02-06T00:00:00\",\"2019-03-13T00:00:00\",\"2019-04-16T00:00:00\",\"2019-05-08T00:00:00\",\"2019-05-22T00:00:00\",\"2019-06-05T00:00:00\",\"2019-06-19T00:00:00\",\"2019-07-10T00:00:00\",\"2019-07-17T00:00:00\",\"2019-07-31T00:00:00\",\"2019-08-08T00:00:00\",\"2019-08-14T00:00:00\",\"2019-08-27T00:00:00\",\"2019-09-11T00:00:00\",\"2019-09-25T00:00:00\",\"2019-10-02T00:00:00\",\"2019-10-09T00:00:00\",\"2019-10-23T00:00:00\",\"2019-11-14T00:00:00\",\"2019-12-11T00:00:00\",\"2020-01-13T00:00:00\",\"2020-02-10T00:00:00\",\"2020-03-24T00:00:00\",\"2020-06-09T00:00:00\",\"2020-06-24T00:00:00\",\"2020-07-08T00:00:00\",\"2020-07-22T00:00:00\",\"2020-08-05T00:00:00\",\"2020-08-12T00:00:00\",\"2020-08-19T00:00:00\",\"2020-08-26T00:00:00\",\"2020-09-02T00:00:00\",\"2020-09-14T00:00:00\",\"2020-09-23T00:00:00\",\"2020-09-30T00:00:00\",\"2020-10-08T00:00:00\",\"2020-10-21T00:00:00\",\"2020-10-28T00:00:00\",\"2020-11-19T00:00:00\",\"2020-12-14T00:00:00\",\"2021-01-13T00:00:00\",\"2021-02-16T00:00:00\",\"2021-03-18T00:00:00\",\"2021-04-21T00:00:00\",\"2021-04-21T00:00:00\",\"2021-05-18T00:00:00\",\"2021-05-18T00:00:00\",\"2021-06-03T00:00:00\",\"2021-07-14T00:00:00\",\"2021-07-28T00:00:00\"],\"xaxis\":\"x\",\"y\":[1.364,2.057,2.141,1.389,2.088,1.919,\"1.495\",1.898,1.376,1.36,1.262,\"1.492\",1.221,null,null,2.08,2.057,2.049,2.43,2.453,2.395,2.361,2.4,3.62,2.714,\"2.42\",1.567,\"1.384\",\"2.656\",2.054,\"2.46\",\"1.602\",\"1.812\",\"1.572\",1.479,\"1.501\",2.04,\"2.13\",\"1.83\",1.972,\"1.642\",\"2.46\",\"3.267\",\"2.864\",2.63,\"2.74\",3.176,2.02,1.44,1.17,1.24,1.39,1.54,2.1,1.63,1.8,1.918,2.45,2.03,2.157,1.656,2.096,3.69,1.924,2.615,1.655,1.88,0.802,1.53,2.26,2.26,1.77,1.76,1.38,null,null],\"yaxis\":\"y\",\"type\":\"scatter\"},{\"hovertemplate\":\"Measurement=Nitrate/Nitrite<br>Date=%{x}<br>Value (mg/L)=%{y}<extra></extra>\",\"legendgroup\":\"Nitrate/Nitrite\",\"line\":{\"color\":\"#00cc96\",\"dash\":\"solid\"},\"marker\":{\"symbol\":\"circle\"},\"mode\":\"lines\",\"name\":\"Nitrate/Nitrite\",\"orientation\":\"v\",\"showlegend\":true,\"x\":[\"2018-01-11T00:00:00\",\"2018-02-13T00:00:00\",\"2018-03-07T00:00:00\",\"2018-04-04T00:00:00\",\"2018-04-30T00:00:00\",\"2018-05-07T00:00:00\",\"2018-05-16T00:00:00\",\"2018-05-24T00:00:00\",\"2018-05-29T00:00:00\",\"2018-06-04T00:00:00\",\"2018-06-12T00:00:00\",\"2018-06-18T00:00:00\",\"2018-06-25T00:00:00\",\"2018-07-17T00:00:00\",\"2018-08-06T00:00:00\",\"2018-08-15T00:00:00\",\"2018-08-20T00:00:00\",\"2018-08-30T00:00:00\",\"2018-09-17T00:00:00\",\"2018-09-24T00:00:00\",\"2018-10-01T00:00:00\",\"2018-10-15T00:00:00\",\"2018-10-22T00:00:00\",\"2018-11-28T00:00:00\",\"2018-12-12T00:00:00\",\"2019-01-15T00:00:00\",\"2019-02-06T00:00:00\",\"2019-03-13T00:00:00\",\"2019-04-16T00:00:00\",\"2019-05-08T00:00:00\",\"2019-05-22T00:00:00\",\"2019-06-05T00:00:00\",\"2019-06-19T00:00:00\",\"2019-07-10T00:00:00\",\"2019-07-17T00:00:00\",\"2019-07-31T00:00:00\",\"2019-08-08T00:00:00\",\"2019-08-14T00:00:00\",\"2019-08-27T00:00:00\",\"2019-09-11T00:00:00\",\"2019-09-25T00:00:00\",\"2019-10-02T00:00:00\",\"2019-10-09T00:00:00\",\"2019-10-23T00:00:00\",\"2019-11-14T00:00:00\",\"2019-12-11T00:00:00\",\"2020-01-13T00:00:00\",\"2020-02-10T00:00:00\",\"2020-03-24T00:00:00\",\"2020-06-09T00:00:00\",\"2020-06-24T00:00:00\",\"2020-07-08T00:00:00\",\"2020-07-22T00:00:00\",\"2020-08-05T00:00:00\",\"2020-08-12T00:00:00\",\"2020-08-19T00:00:00\",\"2020-08-26T00:00:00\",\"2020-09-02T00:00:00\",\"2020-09-14T00:00:00\",\"2020-09-23T00:00:00\",\"2020-09-30T00:00:00\",\"2020-10-08T00:00:00\",\"2020-10-21T00:00:00\",\"2020-10-28T00:00:00\",\"2020-11-19T00:00:00\",\"2020-12-14T00:00:00\",\"2021-01-13T00:00:00\",\"2021-02-16T00:00:00\",\"2021-03-18T00:00:00\",\"2021-04-21T00:00:00\",\"2021-04-21T00:00:00\",\"2021-05-18T00:00:00\",\"2021-05-18T00:00:00\",\"2021-06-03T00:00:00\",\"2021-07-14T00:00:00\",\"2021-07-28T00:00:00\"],\"xaxis\":\"x\",\"y\":[0.3,0.335,0.293,0.322,0.335,0.271,\"0.274\",0.367,0.298,0.314,0.278,\"0.319\",0.265,null,null,0.315,0.335,0.321,0.506,0.464,0.524,0.431,0.421,0.427,0.362,\"0.316\",0.281,\"0.264\",\"0.382\",0.309,\"0.313\",\"0.272\",\"0.331\",\"0.27\",0.246,\"0.207\",0.274,\"0.291\",\"0.263\",0.373,\"0.431\",\"0.423\",\"0.283\",\"0.029\",0.286,\"0.26\",0.369,0.368,0.28,0.243,0.252,0.288,0.317,0.307,0.279,0.288,0.345,0.376,0.351,0.436,0.397,0.449,0.48,0.423,0.582,0.408,0.348,0.262,0.264,0.366,0.353,0.3,0.295,0.306,null,null],\"yaxis\":\"y\",\"type\":\"scatter\"},{\"hovertemplate\":\"Measurement=Ammonium<br>Date=%{x}<br>Value (mg/L)=%{y}<extra></extra>\",\"legendgroup\":\"Ammonium\",\"line\":{\"color\":\"#ab63fa\",\"dash\":\"solid\"},\"marker\":{\"symbol\":\"circle\"},\"mode\":\"lines\",\"name\":\"Ammonium\",\"orientation\":\"v\",\"showlegend\":true,\"x\":[\"2018-01-11T00:00:00\",\"2018-02-13T00:00:00\",\"2018-03-07T00:00:00\",\"2018-04-04T00:00:00\",\"2018-04-30T00:00:00\",\"2018-05-07T00:00:00\",\"2018-05-16T00:00:00\",\"2018-05-24T00:00:00\",\"2018-05-29T00:00:00\",\"2018-06-04T00:00:00\",\"2018-06-12T00:00:00\",\"2018-06-18T00:00:00\",\"2018-06-25T00:00:00\",\"2018-07-17T00:00:00\",\"2018-08-06T00:00:00\",\"2018-08-15T00:00:00\",\"2018-08-20T00:00:00\",\"2018-08-30T00:00:00\",\"2018-09-17T00:00:00\",\"2018-09-24T00:00:00\",\"2018-10-01T00:00:00\",\"2018-10-15T00:00:00\",\"2018-10-22T00:00:00\",\"2018-11-28T00:00:00\",\"2018-12-12T00:00:00\",\"2019-01-15T00:00:00\",\"2019-02-06T00:00:00\",\"2019-03-13T00:00:00\",\"2019-04-16T00:00:00\",\"2019-05-08T00:00:00\",\"2019-05-22T00:00:00\",\"2019-06-05T00:00:00\",\"2019-06-19T00:00:00\",\"2019-07-10T00:00:00\",\"2019-07-17T00:00:00\",\"2019-07-31T00:00:00\",\"2019-08-08T00:00:00\",\"2019-08-14T00:00:00\",\"2019-08-27T00:00:00\",\"2019-09-11T00:00:00\",\"2019-09-25T00:00:00\",\"2019-10-02T00:00:00\",\"2019-10-09T00:00:00\",\"2019-10-23T00:00:00\",\"2019-11-14T00:00:00\",\"2019-12-11T00:00:00\",\"2020-01-13T00:00:00\",\"2020-02-10T00:00:00\",\"2020-03-24T00:00:00\",\"2020-06-09T00:00:00\",\"2020-06-24T00:00:00\",\"2020-07-08T00:00:00\",\"2020-07-22T00:00:00\",\"2020-08-05T00:00:00\",\"2020-08-12T00:00:00\",\"2020-08-19T00:00:00\",\"2020-08-26T00:00:00\",\"2020-09-02T00:00:00\",\"2020-09-14T00:00:00\",\"2020-09-23T00:00:00\",\"2020-09-30T00:00:00\",\"2020-10-08T00:00:00\",\"2020-10-21T00:00:00\",\"2020-10-28T00:00:00\",\"2020-11-19T00:00:00\",\"2020-12-14T00:00:00\",\"2021-01-13T00:00:00\",\"2021-02-16T00:00:00\",\"2021-03-18T00:00:00\",\"2021-04-21T00:00:00\",\"2021-04-21T00:00:00\",\"2021-05-18T00:00:00\",\"2021-05-18T00:00:00\",\"2021-06-03T00:00:00\",\"2021-07-14T00:00:00\",\"2021-07-28T00:00:00\"],\"xaxis\":\"x\",\"y\":[0.34,0.262,0.315,0.352,0.345,0.314,\"0.278\",0.424,0.337,0.263,0.326,\"0.349\",0.449,null,null,0.266,0.286,0.356,0.345,0.316,0.311,0.303,0.249,0.27,0.303,\"0.224\",0.356,\"0.42\",\"0.397\",0.458,\"0.36\",\"0.425\",\"0.324\",\"0.387\",0.315,\"0.344\",0.338,\"0.304\",\"0.417\",0.382,\"0.339\",\"0.444\",\"0.647\",\"0.78\",0.391,\"0.379\",0.329,0.347,0.222,0.312,0.337,0.368,0.32,0.276,0.277,0.332,0.366,0.233,0.261,0.32,0.426,0.322,0.354,0.332,0.431,0.335,0.253,0.476,0.354,0.324,0.317,0.316,0.361,0.339,null,null],\"yaxis\":\"y\",\"type\":\"scatter\"},{\"hovertemplate\":\"Measurement=Phosphorus<br>Date=%{x}<br>Value (mg/L)=%{y}<extra></extra>\",\"legendgroup\":\"Phosphorus\",\"line\":{\"color\":\"#FFA15A\",\"dash\":\"solid\"},\"marker\":{\"symbol\":\"circle\"},\"mode\":\"lines\",\"name\":\"Phosphorus\",\"orientation\":\"v\",\"showlegend\":true,\"x\":[\"2018-01-11T00:00:00\",\"2018-02-13T00:00:00\",\"2018-03-07T00:00:00\",\"2018-04-04T00:00:00\",\"2018-04-30T00:00:00\",\"2018-05-07T00:00:00\",\"2018-05-16T00:00:00\",\"2018-05-24T00:00:00\",\"2018-05-29T00:00:00\",\"2018-06-04T00:00:00\",\"2018-06-12T00:00:00\",\"2018-06-18T00:00:00\",\"2018-06-25T00:00:00\",\"2018-07-17T00:00:00\",\"2018-08-06T00:00:00\",\"2018-08-15T00:00:00\",\"2018-08-20T00:00:00\",\"2018-08-30T00:00:00\",\"2018-09-17T00:00:00\",\"2018-09-24T00:00:00\",\"2018-10-01T00:00:00\",\"2018-10-15T00:00:00\",\"2018-10-22T00:00:00\",\"2018-11-28T00:00:00\",\"2018-12-12T00:00:00\",\"2019-01-15T00:00:00\",\"2019-02-06T00:00:00\",\"2019-03-13T00:00:00\",\"2019-04-16T00:00:00\",\"2019-05-08T00:00:00\",\"2019-05-22T00:00:00\",\"2019-06-05T00:00:00\",\"2019-06-19T00:00:00\",\"2019-07-10T00:00:00\",\"2019-07-17T00:00:00\",\"2019-07-31T00:00:00\",\"2019-08-08T00:00:00\",\"2019-08-14T00:00:00\",\"2019-08-27T00:00:00\",\"2019-09-11T00:00:00\",\"2019-09-25T00:00:00\",\"2019-10-02T00:00:00\",\"2019-10-09T00:00:00\",\"2019-10-23T00:00:00\",\"2019-11-14T00:00:00\",\"2019-12-11T00:00:00\",\"2020-01-13T00:00:00\",\"2020-02-10T00:00:00\",\"2020-03-24T00:00:00\",\"2020-06-09T00:00:00\",\"2020-06-24T00:00:00\",\"2020-07-08T00:00:00\",\"2020-07-22T00:00:00\",\"2020-08-05T00:00:00\",\"2020-08-12T00:00:00\",\"2020-08-19T00:00:00\",\"2020-08-26T00:00:00\",\"2020-09-02T00:00:00\",\"2020-09-14T00:00:00\",\"2020-09-23T00:00:00\",\"2020-09-30T00:00:00\",\"2020-10-08T00:00:00\",\"2020-10-21T00:00:00\",\"2020-10-28T00:00:00\",\"2020-11-19T00:00:00\",\"2020-12-14T00:00:00\",\"2021-01-13T00:00:00\",\"2021-02-16T00:00:00\",\"2021-03-18T00:00:00\",\"2021-04-21T00:00:00\",\"2021-04-21T00:00:00\",\"2021-05-18T00:00:00\",\"2021-05-18T00:00:00\",\"2021-06-03T00:00:00\",\"2021-07-14T00:00:00\",\"2021-07-28T00:00:00\"],\"xaxis\":\"x\",\"y\":[0.177,0.107,0.073,0.155,0.118,0.08,\"0.149\",0.137,0.113,0.105,0.132,\"0.166\",0.207,null,null,0.209,0.15,0.184,0.174,0.169,0.157,0.168,0.13,0.16,0.095,\"0.128\",0.143,\"0.098\",\"0.177\",0.122,\"0.07\",\"0.093\",\"0.161\",\"0.138\",0.128,\"0.13\",0.215,\"0.142\",\"0.144\",0.129,\"0.18\",\"0.145\",\"0.239\",\"0.41\",0.132,\"0.162\",0.053,0.128,0.137,0.148,0.154,0.149,0.189,0.191,0.172,0.156,0.137,0.262,0.124,0.178,0.229,0.149,0.244,0.173,0.198,0.321,0.104,0.192,0.095,0.088,0.078,0.067,0.122,0.087,null,null],\"yaxis\":\"y\",\"type\":\"scatter\"}],                        {\"template\":{\"data\":{\"bar\":[{\"error_x\":{\"color\":\"#2a3f5f\"},\"error_y\":{\"color\":\"#2a3f5f\"},\"marker\":{\"line\":{\"color\":\"#E5ECF6\",\"width\":0.5},\"pattern\":{\"fillmode\":\"overlay\",\"size\":10,\"solidity\":0.2}},\"type\":\"bar\"}],\"barpolar\":[{\"marker\":{\"line\":{\"color\":\"#E5ECF6\",\"width\":0.5},\"pattern\":{\"fillmode\":\"overlay\",\"size\":10,\"solidity\":0.2}},\"type\":\"barpolar\"}],\"carpet\":[{\"aaxis\":{\"endlinecolor\":\"#2a3f5f\",\"gridcolor\":\"white\",\"linecolor\":\"white\",\"minorgridcolor\":\"white\",\"startlinecolor\":\"#2a3f5f\"},\"baxis\":{\"endlinecolor\":\"#2a3f5f\",\"gridcolor\":\"white\",\"linecolor\":\"white\",\"minorgridcolor\":\"white\",\"startlinecolor\":\"#2a3f5f\"},\"type\":\"carpet\"}],\"choropleth\":[{\"colorbar\":{\"outlinewidth\":0,\"ticks\":\"\"},\"type\":\"choropleth\"}],\"contour\":[{\"colorbar\":{\"outlinewidth\":0,\"ticks\":\"\"},\"colorscale\":[[0.0,\"#0d0887\"],[0.1111111111111111,\"#46039f\"],[0.2222222222222222,\"#7201a8\"],[0.3333333333333333,\"#9c179e\"],[0.4444444444444444,\"#bd3786\"],[0.5555555555555556,\"#d8576b\"],[0.6666666666666666,\"#ed7953\"],[0.7777777777777778,\"#fb9f3a\"],[0.8888888888888888,\"#fdca26\"],[1.0,\"#f0f921\"]],\"type\":\"contour\"}],\"contourcarpet\":[{\"colorbar\":{\"outlinewidth\":0,\"ticks\":\"\"},\"type\":\"contourcarpet\"}],\"heatmap\":[{\"colorbar\":{\"outlinewidth\":0,\"ticks\":\"\"},\"colorscale\":[[0.0,\"#0d0887\"],[0.1111111111111111,\"#46039f\"],[0.2222222222222222,\"#7201a8\"],[0.3333333333333333,\"#9c179e\"],[0.4444444444444444,\"#bd3786\"],[0.5555555555555556,\"#d8576b\"],[0.6666666666666666,\"#ed7953\"],[0.7777777777777778,\"#fb9f3a\"],[0.8888888888888888,\"#fdca26\"],[1.0,\"#f0f921\"]],\"type\":\"heatmap\"}],\"heatmapgl\":[{\"colorbar\":{\"outlinewidth\":0,\"ticks\":\"\"},\"colorscale\":[[0.0,\"#0d0887\"],[0.1111111111111111,\"#46039f\"],[0.2222222222222222,\"#7201a8\"],[0.3333333333333333,\"#9c179e\"],[0.4444444444444444,\"#bd3786\"],[0.5555555555555556,\"#d8576b\"],[0.6666666666666666,\"#ed7953\"],[0.7777777777777778,\"#fb9f3a\"],[0.8888888888888888,\"#fdca26\"],[1.0,\"#f0f921\"]],\"type\":\"heatmapgl\"}],\"histogram\":[{\"marker\":{\"pattern\":{\"fillmode\":\"overlay\",\"size\":10,\"solidity\":0.2}},\"type\":\"histogram\"}],\"histogram2d\":[{\"colorbar\":{\"outlinewidth\":0,\"ticks\":\"\"},\"colorscale\":[[0.0,\"#0d0887\"],[0.1111111111111111,\"#46039f\"],[0.2222222222222222,\"#7201a8\"],[0.3333333333333333,\"#9c179e\"],[0.4444444444444444,\"#bd3786\"],[0.5555555555555556,\"#d8576b\"],[0.6666666666666666,\"#ed7953\"],[0.7777777777777778,\"#fb9f3a\"],[0.8888888888888888,\"#fdca26\"],[1.0,\"#f0f921\"]],\"type\":\"histogram2d\"}],\"histogram2dcontour\":[{\"colorbar\":{\"outlinewidth\":0,\"ticks\":\"\"},\"colorscale\":[[0.0,\"#0d0887\"],[0.1111111111111111,\"#46039f\"],[0.2222222222222222,\"#7201a8\"],[0.3333333333333333,\"#9c179e\"],[0.4444444444444444,\"#bd3786\"],[0.5555555555555556,\"#d8576b\"],[0.6666666666666666,\"#ed7953\"],[0.7777777777777778,\"#fb9f3a\"],[0.8888888888888888,\"#fdca26\"],[1.0,\"#f0f921\"]],\"type\":\"histogram2dcontour\"}],\"mesh3d\":[{\"colorbar\":{\"outlinewidth\":0,\"ticks\":\"\"},\"type\":\"mesh3d\"}],\"parcoords\":[{\"line\":{\"colorbar\":{\"outlinewidth\":0,\"ticks\":\"\"}},\"type\":\"parcoords\"}],\"pie\":[{\"automargin\":true,\"type\":\"pie\"}],\"scatter\":[{\"marker\":{\"colorbar\":{\"outlinewidth\":0,\"ticks\":\"\"}},\"type\":\"scatter\"}],\"scatter3d\":[{\"line\":{\"colorbar\":{\"outlinewidth\":0,\"ticks\":\"\"}},\"marker\":{\"colorbar\":{\"outlinewidth\":0,\"ticks\":\"\"}},\"type\":\"scatter3d\"}],\"scattercarpet\":[{\"marker\":{\"colorbar\":{\"outlinewidth\":0,\"ticks\":\"\"}},\"type\":\"scattercarpet\"}],\"scattergeo\":[{\"marker\":{\"colorbar\":{\"outlinewidth\":0,\"ticks\":\"\"}},\"type\":\"scattergeo\"}],\"scattergl\":[{\"marker\":{\"colorbar\":{\"outlinewidth\":0,\"ticks\":\"\"}},\"type\":\"scattergl\"}],\"scattermapbox\":[{\"marker\":{\"colorbar\":{\"outlinewidth\":0,\"ticks\":\"\"}},\"type\":\"scattermapbox\"}],\"scatterpolar\":[{\"marker\":{\"colorbar\":{\"outlinewidth\":0,\"ticks\":\"\"}},\"type\":\"scatterpolar\"}],\"scatterpolargl\":[{\"marker\":{\"colorbar\":{\"outlinewidth\":0,\"ticks\":\"\"}},\"type\":\"scatterpolargl\"}],\"scatterternary\":[{\"marker\":{\"colorbar\":{\"outlinewidth\":0,\"ticks\":\"\"}},\"type\":\"scatterternary\"}],\"surface\":[{\"colorbar\":{\"outlinewidth\":0,\"ticks\":\"\"},\"colorscale\":[[0.0,\"#0d0887\"],[0.1111111111111111,\"#46039f\"],[0.2222222222222222,\"#7201a8\"],[0.3333333333333333,\"#9c179e\"],[0.4444444444444444,\"#bd3786\"],[0.5555555555555556,\"#d8576b\"],[0.6666666666666666,\"#ed7953\"],[0.7777777777777778,\"#fb9f3a\"],[0.8888888888888888,\"#fdca26\"],[1.0,\"#f0f921\"]],\"type\":\"surface\"}],\"table\":[{\"cells\":{\"fill\":{\"color\":\"#EBF0F8\"},\"line\":{\"color\":\"white\"}},\"header\":{\"fill\":{\"color\":\"#C8D4E3\"},\"line\":{\"color\":\"white\"}},\"type\":\"table\"}]},\"layout\":{\"annotationdefaults\":{\"arrowcolor\":\"#2a3f5f\",\"arrowhead\":0,\"arrowwidth\":1},\"autotypenumbers\":\"strict\",\"coloraxis\":{\"colorbar\":{\"outlinewidth\":0,\"ticks\":\"\"}},\"colorscale\":{\"diverging\":[[0,\"#8e0152\"],[0.1,\"#c51b7d\"],[0.2,\"#de77ae\"],[0.3,\"#f1b6da\"],[0.4,\"#fde0ef\"],[0.5,\"#f7f7f7\"],[0.6,\"#e6f5d0\"],[0.7,\"#b8e186\"],[0.8,\"#7fbc41\"],[0.9,\"#4d9221\"],[1,\"#276419\"]],\"sequential\":[[0.0,\"#0d0887\"],[0.1111111111111111,\"#46039f\"],[0.2222222222222222,\"#7201a8\"],[0.3333333333333333,\"#9c179e\"],[0.4444444444444444,\"#bd3786\"],[0.5555555555555556,\"#d8576b\"],[0.6666666666666666,\"#ed7953\"],[0.7777777777777778,\"#fb9f3a\"],[0.8888888888888888,\"#fdca26\"],[1.0,\"#f0f921\"]],\"sequentialminus\":[[0.0,\"#0d0887\"],[0.1111111111111111,\"#46039f\"],[0.2222222222222222,\"#7201a8\"],[0.3333333333333333,\"#9c179e\"],[0.4444444444444444,\"#bd3786\"],[0.5555555555555556,\"#d8576b\"],[0.6666666666666666,\"#ed7953\"],[0.7777777777777778,\"#fb9f3a\"],[0.8888888888888888,\"#fdca26\"],[1.0,\"#f0f921\"]]},\"colorway\":[\"#636efa\",\"#EF553B\",\"#00cc96\",\"#ab63fa\",\"#FFA15A\",\"#19d3f3\",\"#FF6692\",\"#B6E880\",\"#FF97FF\",\"#FECB52\"],\"font\":{\"color\":\"#2a3f5f\"},\"geo\":{\"bgcolor\":\"white\",\"lakecolor\":\"white\",\"landcolor\":\"#E5ECF6\",\"showlakes\":true,\"showland\":true,\"subunitcolor\":\"white\"},\"hoverlabel\":{\"align\":\"left\"},\"hovermode\":\"closest\",\"mapbox\":{\"style\":\"light\"},\"paper_bgcolor\":\"white\",\"plot_bgcolor\":\"#E5ECF6\",\"polar\":{\"angularaxis\":{\"gridcolor\":\"white\",\"linecolor\":\"white\",\"ticks\":\"\"},\"bgcolor\":\"#E5ECF6\",\"radialaxis\":{\"gridcolor\":\"white\",\"linecolor\":\"white\",\"ticks\":\"\"}},\"scene\":{\"xaxis\":{\"backgroundcolor\":\"#E5ECF6\",\"gridcolor\":\"white\",\"gridwidth\":2,\"linecolor\":\"white\",\"showbackground\":true,\"ticks\":\"\",\"zerolinecolor\":\"white\"},\"yaxis\":{\"backgroundcolor\":\"#E5ECF6\",\"gridcolor\":\"white\",\"gridwidth\":2,\"linecolor\":\"white\",\"showbackground\":true,\"ticks\":\"\",\"zerolinecolor\":\"white\"},\"zaxis\":{\"backgroundcolor\":\"#E5ECF6\",\"gridcolor\":\"white\",\"gridwidth\":2,\"linecolor\":\"white\",\"showbackground\":true,\"ticks\":\"\",\"zerolinecolor\":\"white\"}},\"shapedefaults\":{\"line\":{\"color\":\"#2a3f5f\"}},\"ternary\":{\"aaxis\":{\"gridcolor\":\"white\",\"linecolor\":\"white\",\"ticks\":\"\"},\"baxis\":{\"gridcolor\":\"white\",\"linecolor\":\"white\",\"ticks\":\"\"},\"bgcolor\":\"#E5ECF6\",\"caxis\":{\"gridcolor\":\"white\",\"linecolor\":\"white\",\"ticks\":\"\"}},\"title\":{\"x\":0.05},\"xaxis\":{\"automargin\":true,\"gridcolor\":\"white\",\"linecolor\":\"white\",\"ticks\":\"\",\"title\":{\"standoff\":15},\"zerolinecolor\":\"white\",\"zerolinewidth\":2},\"yaxis\":{\"automargin\":true,\"gridcolor\":\"white\",\"linecolor\":\"white\",\"ticks\":\"\",\"title\":{\"standoff\":15},\"zerolinecolor\":\"white\",\"zerolinewidth\":2}}},\"xaxis\":{\"anchor\":\"y\",\"domain\":[0.0,1.0],\"title\":{\"text\":\"Date\"},\"tickformat\":\"%b %Y\",\"tickangle\":45,\"dtick\":\"M3\"},\"yaxis\":{\"anchor\":\"x\",\"domain\":[0.0,1.0],\"title\":{\"text\":\"Value (mg/L)\"}},\"legend\":{\"title\":{\"text\":\"Measurement\"},\"tracegroupgap\":0},\"margin\":{\"t\":60},\"title\":{\"text\":\"Gowanus Canal Water Quality - Nutrients\"}},                        {\"responsive\": true}                    ).then(function(){\n",
       "                            \n",
       "var gd = document.getElementById('731ad086-7095-4858-afb8-690f9ba138cc');\n",
       "var x = new MutationObserver(function (mutations, observer) {{\n",
       "        var display = window.getComputedStyle(gd).display;\n",
       "        if (!display || display === 'none') {{\n",
       "            console.log([gd, 'removed!']);\n",
       "            Plotly.purge(gd);\n",
       "            observer.disconnect();\n",
       "        }}\n",
       "}});\n",
       "\n",
       "// Listen for the removal of the full notebook cells\n",
       "var notebookContainer = gd.closest('#notebook-container');\n",
       "if (notebookContainer) {{\n",
       "    x.observe(notebookContainer, {childList: true});\n",
       "}}\n",
       "\n",
       "// Listen for the clearing of the current output cell\n",
       "var outputEl = gd.closest('.output');\n",
       "if (outputEl) {{\n",
       "    x.observe(outputEl, {childList: true});\n",
       "}}\n",
       "\n",
       "                        })                };                });            </script>        </div>"
      ]
     },
     "metadata": {},
     "output_type": "display_data"
    }
   ],
   "source": [
    "fig = px.line(GC5, x=\"Date\", y=\"Value (mg/L)\", color= \"Measurement\", category_orders={\"Measurement\": [\"Dissolved Organic Carbon\", \"Silica\", \"Nitrate/Nitrite\", \"Ammonium\", \"Phosphorus\"],})\n",
    "\n",
    "fig.update_layout(title = 'Gowanus Canal Water Quality - Nutrients', xaxis=dict(tickformat=\"%b %Y\", tickangle=45))\n",
    "fig.update_xaxes(dtick=\"M3\")"
   ]
  },
  {
   "cell_type": "code",
   "execution_count": 522,
   "id": "773e910d",
   "metadata": {},
   "outputs": [],
   "source": [
    "# Fecal Coliform Bacteria\n",
    "# PCB\n",
    "# Ammonium\n",
    "# Organic Carbon\n",
    "# pH"
   ]
  },
  {
   "cell_type": "markdown",
   "id": "2cc427a6",
   "metadata": {},
   "source": [
    "### pH Analysis"
   ]
  },
  {
   "cell_type": "code",
   "execution_count": 503,
   "id": "c1e05989",
   "metadata": {},
   "outputs": [],
   "source": [
    "harbor_data_filtered = harbor_data.loc[(harbor_data['Date'] >= '2018-01-01')\n",
    "                     & (harbor_data['Date'] < '2022-01-01')]"
   ]
  },
  {
   "cell_type": "code",
   "execution_count": 504,
   "id": "27733f10",
   "metadata": {
    "scrolled": true
   },
   "outputs": [],
   "source": [
    "harbor_data_pH = harbor_data_filtered[keep_columns_pH]"
   ]
  },
  {
   "cell_type": "code",
   "execution_count": 505,
   "id": "f0a97309",
   "metadata": {},
   "outputs": [
    {
     "data": {
      "text/html": [
       "<div>\n",
       "<style scoped>\n",
       "    .dataframe tbody tr th:only-of-type {\n",
       "        vertical-align: middle;\n",
       "    }\n",
       "\n",
       "    .dataframe tbody tr th {\n",
       "        vertical-align: top;\n",
       "    }\n",
       "\n",
       "    .dataframe thead th {\n",
       "        text-align: right;\n",
       "    }\n",
       "</style>\n",
       "<table border=\"1\" class=\"dataframe\">\n",
       "  <thead>\n",
       "    <tr style=\"text-align: right;\">\n",
       "      <th></th>\n",
       "      <th>Sampling Location</th>\n",
       "      <th>Date</th>\n",
       "      <th>Weather Condition (Dry or Wet)</th>\n",
       "      <th>pH</th>\n",
       "      <th>Sampling Comment</th>\n",
       "    </tr>\n",
       "  </thead>\n",
       "  <tbody>\n",
       "    <tr>\n",
       "      <th>78183</th>\n",
       "      <td>GC3</td>\n",
       "      <td>2019-10-09</td>\n",
       "      <td>D</td>\n",
       "      <td>7.18</td>\n",
       "      <td>NaN</td>\n",
       "    </tr>\n",
       "    <tr>\n",
       "      <th>78226</th>\n",
       "      <td>GC4</td>\n",
       "      <td>2019-05-22</td>\n",
       "      <td>D</td>\n",
       "      <td>7.49</td>\n",
       "      <td>NaN</td>\n",
       "    </tr>\n",
       "    <tr>\n",
       "      <th>79208</th>\n",
       "      <td>GC6</td>\n",
       "      <td>2019-06-19</td>\n",
       "      <td>NaN</td>\n",
       "      <td>NaN</td>\n",
       "      <td>Cancelled No access</td>\n",
       "    </tr>\n",
       "    <tr>\n",
       "      <th>79541</th>\n",
       "      <td>GC3</td>\n",
       "      <td>2019-03-13</td>\n",
       "      <td>D</td>\n",
       "      <td>7.86</td>\n",
       "      <td>NaN</td>\n",
       "    </tr>\n",
       "    <tr>\n",
       "      <th>79712</th>\n",
       "      <td>GC4</td>\n",
       "      <td>2019-07-17</td>\n",
       "      <td>D</td>\n",
       "      <td>NaN</td>\n",
       "      <td>NaN</td>\n",
       "    </tr>\n",
       "    <tr>\n",
       "      <th>...</th>\n",
       "      <td>...</td>\n",
       "      <td>...</td>\n",
       "      <td>...</td>\n",
       "      <td>...</td>\n",
       "      <td>...</td>\n",
       "    </tr>\n",
       "    <tr>\n",
       "      <th>93652</th>\n",
       "      <td>GC3</td>\n",
       "      <td>2021-04-21</td>\n",
       "      <td>D</td>\n",
       "      <td>7.66</td>\n",
       "      <td>NaN</td>\n",
       "    </tr>\n",
       "    <tr>\n",
       "      <th>93664</th>\n",
       "      <td>GC5</td>\n",
       "      <td>2021-04-21</td>\n",
       "      <td>D</td>\n",
       "      <td>7.62</td>\n",
       "      <td>Negative Chl'A' number</td>\n",
       "    </tr>\n",
       "    <tr>\n",
       "      <th>93691</th>\n",
       "      <td>GC5</td>\n",
       "      <td>2020-09-30</td>\n",
       "      <td>Wet</td>\n",
       "      <td>7.51</td>\n",
       "      <td>NaN</td>\n",
       "    </tr>\n",
       "    <tr>\n",
       "      <th>93700</th>\n",
       "      <td>GC5</td>\n",
       "      <td>2021-04-21</td>\n",
       "      <td>D</td>\n",
       "      <td>NaN</td>\n",
       "      <td>NaN</td>\n",
       "    </tr>\n",
       "    <tr>\n",
       "      <th>93705</th>\n",
       "      <td>GC6</td>\n",
       "      <td>2020-08-19</td>\n",
       "      <td>Wet</td>\n",
       "      <td>7.37</td>\n",
       "      <td>NaN</td>\n",
       "    </tr>\n",
       "  </tbody>\n",
       "</table>\n",
       "<p>415 rows × 5 columns</p>\n",
       "</div>"
      ],
      "text/plain": [
       "      Sampling Location       Date Weather Condition (Dry or Wet)    pH  \\\n",
       "78183               GC3 2019-10-09                              D  7.18   \n",
       "78226               GC4 2019-05-22                              D  7.49   \n",
       "79208               GC6 2019-06-19                            NaN   NaN   \n",
       "79541               GC3 2019-03-13                              D  7.86   \n",
       "79712               GC4 2019-07-17                              D   NaN   \n",
       "...                 ...        ...                            ...   ...   \n",
       "93652               GC3 2021-04-21                              D  7.66   \n",
       "93664               GC5 2021-04-21                              D  7.62   \n",
       "93691               GC5 2020-09-30                            Wet  7.51   \n",
       "93700               GC5 2021-04-21                              D   NaN   \n",
       "93705               GC6 2020-08-19                            Wet  7.37   \n",
       "\n",
       "             Sampling Comment  \n",
       "78183                     NaN  \n",
       "78226                     NaN  \n",
       "79208     Cancelled No access  \n",
       "79541                     NaN  \n",
       "79712                     NaN  \n",
       "...                       ...  \n",
       "93652                     NaN  \n",
       "93664  Negative Chl'A' number  \n",
       "93691                     NaN  \n",
       "93700                     NaN  \n",
       "93705                     NaN  \n",
       "\n",
       "[415 rows x 5 columns]"
      ]
     },
     "execution_count": 505,
     "metadata": {},
     "output_type": "execute_result"
    }
   ],
   "source": [
    "harbor_data_pH"
   ]
  },
  {
   "cell_type": "code",
   "execution_count": 506,
   "id": "92769284",
   "metadata": {},
   "outputs": [],
   "source": [
    "G2_pH = harbor_data_pH[harbor_data_pH[\"Sampling Location\"]==\"G2\"]\n",
    "GC6_pH = harbor_data_pH[harbor_data_pH[\"Sampling Location\"]==\"GC6\"]"
   ]
  },
  {
   "cell_type": "code",
   "execution_count": 507,
   "id": "97d7f1a2",
   "metadata": {},
   "outputs": [
    {
     "data": {
      "text/html": [
       "<div>\n",
       "<style scoped>\n",
       "    .dataframe tbody tr th:only-of-type {\n",
       "        vertical-align: middle;\n",
       "    }\n",
       "\n",
       "    .dataframe tbody tr th {\n",
       "        vertical-align: top;\n",
       "    }\n",
       "\n",
       "    .dataframe thead th {\n",
       "        text-align: right;\n",
       "    }\n",
       "</style>\n",
       "<table border=\"1\" class=\"dataframe\">\n",
       "  <thead>\n",
       "    <tr style=\"text-align: right;\">\n",
       "      <th></th>\n",
       "      <th>Sampling Location</th>\n",
       "      <th>Date</th>\n",
       "      <th>Weather Condition (Dry or Wet)</th>\n",
       "      <th>pH</th>\n",
       "      <th>Sampling Comment</th>\n",
       "    </tr>\n",
       "  </thead>\n",
       "  <tbody>\n",
       "    <tr>\n",
       "      <th>78183</th>\n",
       "      <td>GC3</td>\n",
       "      <td>2019-10-09</td>\n",
       "      <td>D</td>\n",
       "      <td>7.18</td>\n",
       "      <td>NaN</td>\n",
       "    </tr>\n",
       "    <tr>\n",
       "      <th>78226</th>\n",
       "      <td>GC4</td>\n",
       "      <td>2019-05-22</td>\n",
       "      <td>D</td>\n",
       "      <td>7.49</td>\n",
       "      <td>NaN</td>\n",
       "    </tr>\n",
       "    <tr>\n",
       "      <th>79208</th>\n",
       "      <td>GC6</td>\n",
       "      <td>2019-06-19</td>\n",
       "      <td>NaN</td>\n",
       "      <td>NaN</td>\n",
       "      <td>Cancelled No access</td>\n",
       "    </tr>\n",
       "    <tr>\n",
       "      <th>79541</th>\n",
       "      <td>GC3</td>\n",
       "      <td>2019-03-13</td>\n",
       "      <td>D</td>\n",
       "      <td>7.86</td>\n",
       "      <td>NaN</td>\n",
       "    </tr>\n",
       "    <tr>\n",
       "      <th>79712</th>\n",
       "      <td>GC4</td>\n",
       "      <td>2019-07-17</td>\n",
       "      <td>D</td>\n",
       "      <td>NaN</td>\n",
       "      <td>NaN</td>\n",
       "    </tr>\n",
       "    <tr>\n",
       "      <th>...</th>\n",
       "      <td>...</td>\n",
       "      <td>...</td>\n",
       "      <td>...</td>\n",
       "      <td>...</td>\n",
       "      <td>...</td>\n",
       "    </tr>\n",
       "    <tr>\n",
       "      <th>93652</th>\n",
       "      <td>GC3</td>\n",
       "      <td>2021-04-21</td>\n",
       "      <td>D</td>\n",
       "      <td>7.66</td>\n",
       "      <td>NaN</td>\n",
       "    </tr>\n",
       "    <tr>\n",
       "      <th>93664</th>\n",
       "      <td>GC5</td>\n",
       "      <td>2021-04-21</td>\n",
       "      <td>D</td>\n",
       "      <td>7.62</td>\n",
       "      <td>Negative Chl'A' number</td>\n",
       "    </tr>\n",
       "    <tr>\n",
       "      <th>93691</th>\n",
       "      <td>GC5</td>\n",
       "      <td>2020-09-30</td>\n",
       "      <td>Wet</td>\n",
       "      <td>7.51</td>\n",
       "      <td>NaN</td>\n",
       "    </tr>\n",
       "    <tr>\n",
       "      <th>93700</th>\n",
       "      <td>GC5</td>\n",
       "      <td>2021-04-21</td>\n",
       "      <td>D</td>\n",
       "      <td>NaN</td>\n",
       "      <td>NaN</td>\n",
       "    </tr>\n",
       "    <tr>\n",
       "      <th>93705</th>\n",
       "      <td>GC6</td>\n",
       "      <td>2020-08-19</td>\n",
       "      <td>Wet</td>\n",
       "      <td>7.37</td>\n",
       "      <td>NaN</td>\n",
       "    </tr>\n",
       "  </tbody>\n",
       "</table>\n",
       "<p>415 rows × 5 columns</p>\n",
       "</div>"
      ],
      "text/plain": [
       "      Sampling Location       Date Weather Condition (Dry or Wet)    pH  \\\n",
       "78183               GC3 2019-10-09                              D  7.18   \n",
       "78226               GC4 2019-05-22                              D  7.49   \n",
       "79208               GC6 2019-06-19                            NaN   NaN   \n",
       "79541               GC3 2019-03-13                              D  7.86   \n",
       "79712               GC4 2019-07-17                              D   NaN   \n",
       "...                 ...        ...                            ...   ...   \n",
       "93652               GC3 2021-04-21                              D  7.66   \n",
       "93664               GC5 2021-04-21                              D  7.62   \n",
       "93691               GC5 2020-09-30                            Wet  7.51   \n",
       "93700               GC5 2021-04-21                              D   NaN   \n",
       "93705               GC6 2020-08-19                            Wet  7.37   \n",
       "\n",
       "             Sampling Comment  \n",
       "78183                     NaN  \n",
       "78226                     NaN  \n",
       "79208     Cancelled No access  \n",
       "79541                     NaN  \n",
       "79712                     NaN  \n",
       "...                       ...  \n",
       "93652                     NaN  \n",
       "93664  Negative Chl'A' number  \n",
       "93691                     NaN  \n",
       "93700                     NaN  \n",
       "93705                     NaN  \n",
       "\n",
       "[415 rows x 5 columns]"
      ]
     },
     "execution_count": 507,
     "metadata": {},
     "output_type": "execute_result"
    }
   ],
   "source": [
    "harbor_data_pH"
   ]
  },
  {
   "cell_type": "code",
   "execution_count": 508,
   "id": "2f595df9",
   "metadata": {},
   "outputs": [
    {
     "name": "stdout",
     "output_type": "stream",
     "text": [
      "      Sampling Location       Date Weather Condition (Dry or Wet)    pH  \\\n",
      "81762                G2 2018-01-18                              D  7.99   \n",
      "84924                G2 2018-04-10                              D  7.91   \n",
      "81778                G2 2018-05-01                              D  7.66   \n",
      "84588                G2 2018-05-08                              D   7.7   \n",
      "84925                G2 2018-05-22                              D  7.44   \n",
      "\n",
      "                                        Sampling Comment  \n",
      "81762                                                NaN  \n",
      "84924                                                NaN  \n",
      "81778                                                NaN  \n",
      "84588                                                NaN  \n",
      "84925  Light rain.  TSS - During analysis, the worksh...  \n",
      "      Sampling Location       Date Weather Condition (Dry or Wet)    pH  \\\n",
      "84299               GC6 2018-01-11                              D   NaN   \n",
      "85123               GC6 2018-01-11                              D  7.89   \n",
      "85287               GC6 2018-02-13                              W     8   \n",
      "84535               GC6 2018-03-07                              D     8   \n",
      "85167               GC6 2018-04-04                              W  8.07   \n",
      "\n",
      "         Sampling Comment  \n",
      "84299                 NaN  \n",
      "85123           Oil sheen  \n",
      "85287                 NaN  \n",
      "84535                 NaN  \n",
      "85167  Lots of floatables  \n"
     ]
    },
    {
     "name": "stderr",
     "output_type": "stream",
     "text": [
      "/var/folders/2z/1nrgnypj77l8fzt2ybvcrf580000gp/T/ipykernel_46331/3407894924.py:1: SettingWithCopyWarning:\n",
      "\n",
      "\n",
      "A value is trying to be set on a copy of a slice from a DataFrame\n",
      "\n",
      "See the caveats in the documentation: https://pandas.pydata.org/pandas-docs/stable/user_guide/indexing.html#returning-a-view-versus-a-copy\n",
      "\n",
      "/var/folders/2z/1nrgnypj77l8fzt2ybvcrf580000gp/T/ipykernel_46331/3407894924.py:4: SettingWithCopyWarning:\n",
      "\n",
      "\n",
      "A value is trying to be set on a copy of a slice from a DataFrame\n",
      "\n",
      "See the caveats in the documentation: https://pandas.pydata.org/pandas-docs/stable/user_guide/indexing.html#returning-a-view-versus-a-copy\n",
      "\n"
     ]
    }
   ],
   "source": [
    "G2_pH.sort_values(by=[\"Date\"], ascending=True, inplace=True)\n",
    "print(G2_pH.head())\n",
    "\n",
    "GC6_pH.sort_values(by=[\"Date\"], ascending=True, inplace=True)\n",
    "print(GC6_pH.head())"
   ]
  },
  {
   "cell_type": "code",
   "execution_count": 509,
   "id": "ab0e6254",
   "metadata": {},
   "outputs": [
    {
     "data": {
      "application/vnd.plotly.v1+json": {
       "config": {
        "plotlyServerURL": "https://plot.ly"
       },
       "data": [
        {
         "hovertemplate": "Date=%{x}<br>pH=%{y}<extra></extra>",
         "legendgroup": "",
         "line": {
          "color": "#636efa",
          "dash": "solid"
         },
         "marker": {
          "symbol": "circle"
         },
         "mode": "lines",
         "name": "",
         "orientation": "v",
         "showlegend": false,
         "type": "scatter",
         "x": [
          "2018-01-18T00:00:00",
          "2018-04-10T00:00:00",
          "2018-05-01T00:00:00",
          "2018-05-08T00:00:00",
          "2018-05-22T00:00:00",
          "2018-05-30T00:00:00",
          "2018-06-05T00:00:00",
          "2018-06-12T00:00:00",
          "2018-06-19T00:00:00",
          "2018-06-26T00:00:00",
          "2018-07-11T00:00:00",
          "2018-07-24T00:00:00",
          "2018-08-01T00:00:00",
          "2018-08-07T00:00:00",
          "2018-09-11T00:00:00",
          "2018-09-18T00:00:00",
          "2018-09-26T00:00:00",
          "2018-10-02T00:00:00",
          "2018-10-11T00:00:00",
          "2018-10-16T00:00:00",
          "2019-07-09T00:00:00",
          "2019-08-07T00:00:00",
          "2019-08-13T00:00:00",
          "2019-08-13T00:00:00",
          "2019-08-20T00:00:00",
          "2019-09-03T00:00:00",
          "2019-09-11T00:00:00",
          "2019-09-25T00:00:00",
          "2019-10-10T00:00:00",
          "2019-10-10T00:00:00",
          "2019-10-22T00:00:00",
          "2019-10-29T00:00:00",
          "2019-11-13T00:00:00",
          "2019-12-05T00:00:00",
          "2020-01-15T00:00:00",
          "2020-02-05T00:00:00",
          "2020-03-02T00:00:00",
          "2020-06-03T00:00:00",
          "2020-06-17T00:00:00",
          "2020-07-29T00:00:00",
          "2020-08-12T00:00:00",
          "2020-08-17T00:00:00",
          "2020-09-02T00:00:00",
          "2020-09-09T00:00:00",
          "2020-09-21T00:00:00",
          "2020-10-08T00:00:00",
          "2020-10-21T00:00:00",
          "2020-10-26T00:00:00",
          "2020-11-05T00:00:00",
          "2021-07-20T00:00:00",
          "2021-07-28T00:00:00",
          "2021-08-04T00:00:00",
          "2021-08-11T00:00:00"
         ],
         "xaxis": "x",
         "y": [
          7.99,
          "7.91",
          7.66,
          "7.7",
          "7.44",
          "7.44",
          "7.63",
          "7.22",
          "7.28",
          "7.34",
          "7.49",
          "7.38",
          "7.47",
          null,
          "7.55",
          "7.57",
          "7.60",
          "7.67",
          "7.64",
          "7.76",
          7.54,
          "7.46",
          "7.46",
          null,
          "7.70",
          7.49,
          7.71,
          "7.88",
          null,
          "7.74",
          7.78,
          7.75,
          7.95,
          "8.02",
          7.95,
          "8.10",
          8.06,
          7.99,
          7.79,
          8.12,
          7.56,
          "7.58",
          7.54,
          "7.55",
          7.68,
          7.64,
          7.74,
          7.71,
          7.7,
          7.76,
          7.74,
          7.69,
          7.41
         ],
         "yaxis": "y"
        }
       ],
       "layout": {
        "legend": {
         "tracegroupgap": 0
        },
        "margin": {
         "t": 60
        },
        "template": {
         "data": {
          "bar": [
           {
            "error_x": {
             "color": "#2a3f5f"
            },
            "error_y": {
             "color": "#2a3f5f"
            },
            "marker": {
             "line": {
              "color": "#E5ECF6",
              "width": 0.5
             },
             "pattern": {
              "fillmode": "overlay",
              "size": 10,
              "solidity": 0.2
             }
            },
            "type": "bar"
           }
          ],
          "barpolar": [
           {
            "marker": {
             "line": {
              "color": "#E5ECF6",
              "width": 0.5
             },
             "pattern": {
              "fillmode": "overlay",
              "size": 10,
              "solidity": 0.2
             }
            },
            "type": "barpolar"
           }
          ],
          "carpet": [
           {
            "aaxis": {
             "endlinecolor": "#2a3f5f",
             "gridcolor": "white",
             "linecolor": "white",
             "minorgridcolor": "white",
             "startlinecolor": "#2a3f5f"
            },
            "baxis": {
             "endlinecolor": "#2a3f5f",
             "gridcolor": "white",
             "linecolor": "white",
             "minorgridcolor": "white",
             "startlinecolor": "#2a3f5f"
            },
            "type": "carpet"
           }
          ],
          "choropleth": [
           {
            "colorbar": {
             "outlinewidth": 0,
             "ticks": ""
            },
            "type": "choropleth"
           }
          ],
          "contour": [
           {
            "colorbar": {
             "outlinewidth": 0,
             "ticks": ""
            },
            "colorscale": [
             [
              0,
              "#0d0887"
             ],
             [
              0.1111111111111111,
              "#46039f"
             ],
             [
              0.2222222222222222,
              "#7201a8"
             ],
             [
              0.3333333333333333,
              "#9c179e"
             ],
             [
              0.4444444444444444,
              "#bd3786"
             ],
             [
              0.5555555555555556,
              "#d8576b"
             ],
             [
              0.6666666666666666,
              "#ed7953"
             ],
             [
              0.7777777777777778,
              "#fb9f3a"
             ],
             [
              0.8888888888888888,
              "#fdca26"
             ],
             [
              1,
              "#f0f921"
             ]
            ],
            "type": "contour"
           }
          ],
          "contourcarpet": [
           {
            "colorbar": {
             "outlinewidth": 0,
             "ticks": ""
            },
            "type": "contourcarpet"
           }
          ],
          "heatmap": [
           {
            "colorbar": {
             "outlinewidth": 0,
             "ticks": ""
            },
            "colorscale": [
             [
              0,
              "#0d0887"
             ],
             [
              0.1111111111111111,
              "#46039f"
             ],
             [
              0.2222222222222222,
              "#7201a8"
             ],
             [
              0.3333333333333333,
              "#9c179e"
             ],
             [
              0.4444444444444444,
              "#bd3786"
             ],
             [
              0.5555555555555556,
              "#d8576b"
             ],
             [
              0.6666666666666666,
              "#ed7953"
             ],
             [
              0.7777777777777778,
              "#fb9f3a"
             ],
             [
              0.8888888888888888,
              "#fdca26"
             ],
             [
              1,
              "#f0f921"
             ]
            ],
            "type": "heatmap"
           }
          ],
          "heatmapgl": [
           {
            "colorbar": {
             "outlinewidth": 0,
             "ticks": ""
            },
            "colorscale": [
             [
              0,
              "#0d0887"
             ],
             [
              0.1111111111111111,
              "#46039f"
             ],
             [
              0.2222222222222222,
              "#7201a8"
             ],
             [
              0.3333333333333333,
              "#9c179e"
             ],
             [
              0.4444444444444444,
              "#bd3786"
             ],
             [
              0.5555555555555556,
              "#d8576b"
             ],
             [
              0.6666666666666666,
              "#ed7953"
             ],
             [
              0.7777777777777778,
              "#fb9f3a"
             ],
             [
              0.8888888888888888,
              "#fdca26"
             ],
             [
              1,
              "#f0f921"
             ]
            ],
            "type": "heatmapgl"
           }
          ],
          "histogram": [
           {
            "marker": {
             "pattern": {
              "fillmode": "overlay",
              "size": 10,
              "solidity": 0.2
             }
            },
            "type": "histogram"
           }
          ],
          "histogram2d": [
           {
            "colorbar": {
             "outlinewidth": 0,
             "ticks": ""
            },
            "colorscale": [
             [
              0,
              "#0d0887"
             ],
             [
              0.1111111111111111,
              "#46039f"
             ],
             [
              0.2222222222222222,
              "#7201a8"
             ],
             [
              0.3333333333333333,
              "#9c179e"
             ],
             [
              0.4444444444444444,
              "#bd3786"
             ],
             [
              0.5555555555555556,
              "#d8576b"
             ],
             [
              0.6666666666666666,
              "#ed7953"
             ],
             [
              0.7777777777777778,
              "#fb9f3a"
             ],
             [
              0.8888888888888888,
              "#fdca26"
             ],
             [
              1,
              "#f0f921"
             ]
            ],
            "type": "histogram2d"
           }
          ],
          "histogram2dcontour": [
           {
            "colorbar": {
             "outlinewidth": 0,
             "ticks": ""
            },
            "colorscale": [
             [
              0,
              "#0d0887"
             ],
             [
              0.1111111111111111,
              "#46039f"
             ],
             [
              0.2222222222222222,
              "#7201a8"
             ],
             [
              0.3333333333333333,
              "#9c179e"
             ],
             [
              0.4444444444444444,
              "#bd3786"
             ],
             [
              0.5555555555555556,
              "#d8576b"
             ],
             [
              0.6666666666666666,
              "#ed7953"
             ],
             [
              0.7777777777777778,
              "#fb9f3a"
             ],
             [
              0.8888888888888888,
              "#fdca26"
             ],
             [
              1,
              "#f0f921"
             ]
            ],
            "type": "histogram2dcontour"
           }
          ],
          "mesh3d": [
           {
            "colorbar": {
             "outlinewidth": 0,
             "ticks": ""
            },
            "type": "mesh3d"
           }
          ],
          "parcoords": [
           {
            "line": {
             "colorbar": {
              "outlinewidth": 0,
              "ticks": ""
             }
            },
            "type": "parcoords"
           }
          ],
          "pie": [
           {
            "automargin": true,
            "type": "pie"
           }
          ],
          "scatter": [
           {
            "marker": {
             "colorbar": {
              "outlinewidth": 0,
              "ticks": ""
             }
            },
            "type": "scatter"
           }
          ],
          "scatter3d": [
           {
            "line": {
             "colorbar": {
              "outlinewidth": 0,
              "ticks": ""
             }
            },
            "marker": {
             "colorbar": {
              "outlinewidth": 0,
              "ticks": ""
             }
            },
            "type": "scatter3d"
           }
          ],
          "scattercarpet": [
           {
            "marker": {
             "colorbar": {
              "outlinewidth": 0,
              "ticks": ""
             }
            },
            "type": "scattercarpet"
           }
          ],
          "scattergeo": [
           {
            "marker": {
             "colorbar": {
              "outlinewidth": 0,
              "ticks": ""
             }
            },
            "type": "scattergeo"
           }
          ],
          "scattergl": [
           {
            "marker": {
             "colorbar": {
              "outlinewidth": 0,
              "ticks": ""
             }
            },
            "type": "scattergl"
           }
          ],
          "scattermapbox": [
           {
            "marker": {
             "colorbar": {
              "outlinewidth": 0,
              "ticks": ""
             }
            },
            "type": "scattermapbox"
           }
          ],
          "scatterpolar": [
           {
            "marker": {
             "colorbar": {
              "outlinewidth": 0,
              "ticks": ""
             }
            },
            "type": "scatterpolar"
           }
          ],
          "scatterpolargl": [
           {
            "marker": {
             "colorbar": {
              "outlinewidth": 0,
              "ticks": ""
             }
            },
            "type": "scatterpolargl"
           }
          ],
          "scatterternary": [
           {
            "marker": {
             "colorbar": {
              "outlinewidth": 0,
              "ticks": ""
             }
            },
            "type": "scatterternary"
           }
          ],
          "surface": [
           {
            "colorbar": {
             "outlinewidth": 0,
             "ticks": ""
            },
            "colorscale": [
             [
              0,
              "#0d0887"
             ],
             [
              0.1111111111111111,
              "#46039f"
             ],
             [
              0.2222222222222222,
              "#7201a8"
             ],
             [
              0.3333333333333333,
              "#9c179e"
             ],
             [
              0.4444444444444444,
              "#bd3786"
             ],
             [
              0.5555555555555556,
              "#d8576b"
             ],
             [
              0.6666666666666666,
              "#ed7953"
             ],
             [
              0.7777777777777778,
              "#fb9f3a"
             ],
             [
              0.8888888888888888,
              "#fdca26"
             ],
             [
              1,
              "#f0f921"
             ]
            ],
            "type": "surface"
           }
          ],
          "table": [
           {
            "cells": {
             "fill": {
              "color": "#EBF0F8"
             },
             "line": {
              "color": "white"
             }
            },
            "header": {
             "fill": {
              "color": "#C8D4E3"
             },
             "line": {
              "color": "white"
             }
            },
            "type": "table"
           }
          ]
         },
         "layout": {
          "annotationdefaults": {
           "arrowcolor": "#2a3f5f",
           "arrowhead": 0,
           "arrowwidth": 1
          },
          "autotypenumbers": "strict",
          "coloraxis": {
           "colorbar": {
            "outlinewidth": 0,
            "ticks": ""
           }
          },
          "colorscale": {
           "diverging": [
            [
             0,
             "#8e0152"
            ],
            [
             0.1,
             "#c51b7d"
            ],
            [
             0.2,
             "#de77ae"
            ],
            [
             0.3,
             "#f1b6da"
            ],
            [
             0.4,
             "#fde0ef"
            ],
            [
             0.5,
             "#f7f7f7"
            ],
            [
             0.6,
             "#e6f5d0"
            ],
            [
             0.7,
             "#b8e186"
            ],
            [
             0.8,
             "#7fbc41"
            ],
            [
             0.9,
             "#4d9221"
            ],
            [
             1,
             "#276419"
            ]
           ],
           "sequential": [
            [
             0,
             "#0d0887"
            ],
            [
             0.1111111111111111,
             "#46039f"
            ],
            [
             0.2222222222222222,
             "#7201a8"
            ],
            [
             0.3333333333333333,
             "#9c179e"
            ],
            [
             0.4444444444444444,
             "#bd3786"
            ],
            [
             0.5555555555555556,
             "#d8576b"
            ],
            [
             0.6666666666666666,
             "#ed7953"
            ],
            [
             0.7777777777777778,
             "#fb9f3a"
            ],
            [
             0.8888888888888888,
             "#fdca26"
            ],
            [
             1,
             "#f0f921"
            ]
           ],
           "sequentialminus": [
            [
             0,
             "#0d0887"
            ],
            [
             0.1111111111111111,
             "#46039f"
            ],
            [
             0.2222222222222222,
             "#7201a8"
            ],
            [
             0.3333333333333333,
             "#9c179e"
            ],
            [
             0.4444444444444444,
             "#bd3786"
            ],
            [
             0.5555555555555556,
             "#d8576b"
            ],
            [
             0.6666666666666666,
             "#ed7953"
            ],
            [
             0.7777777777777778,
             "#fb9f3a"
            ],
            [
             0.8888888888888888,
             "#fdca26"
            ],
            [
             1,
             "#f0f921"
            ]
           ]
          },
          "colorway": [
           "#636efa",
           "#EF553B",
           "#00cc96",
           "#ab63fa",
           "#FFA15A",
           "#19d3f3",
           "#FF6692",
           "#B6E880",
           "#FF97FF",
           "#FECB52"
          ],
          "font": {
           "color": "#2a3f5f"
          },
          "geo": {
           "bgcolor": "white",
           "lakecolor": "white",
           "landcolor": "#E5ECF6",
           "showlakes": true,
           "showland": true,
           "subunitcolor": "white"
          },
          "hoverlabel": {
           "align": "left"
          },
          "hovermode": "closest",
          "mapbox": {
           "style": "light"
          },
          "paper_bgcolor": "white",
          "plot_bgcolor": "#E5ECF6",
          "polar": {
           "angularaxis": {
            "gridcolor": "white",
            "linecolor": "white",
            "ticks": ""
           },
           "bgcolor": "#E5ECF6",
           "radialaxis": {
            "gridcolor": "white",
            "linecolor": "white",
            "ticks": ""
           }
          },
          "scene": {
           "xaxis": {
            "backgroundcolor": "#E5ECF6",
            "gridcolor": "white",
            "gridwidth": 2,
            "linecolor": "white",
            "showbackground": true,
            "ticks": "",
            "zerolinecolor": "white"
           },
           "yaxis": {
            "backgroundcolor": "#E5ECF6",
            "gridcolor": "white",
            "gridwidth": 2,
            "linecolor": "white",
            "showbackground": true,
            "ticks": "",
            "zerolinecolor": "white"
           },
           "zaxis": {
            "backgroundcolor": "#E5ECF6",
            "gridcolor": "white",
            "gridwidth": 2,
            "linecolor": "white",
            "showbackground": true,
            "ticks": "",
            "zerolinecolor": "white"
           }
          },
          "shapedefaults": {
           "line": {
            "color": "#2a3f5f"
           }
          },
          "ternary": {
           "aaxis": {
            "gridcolor": "white",
            "linecolor": "white",
            "ticks": ""
           },
           "baxis": {
            "gridcolor": "white",
            "linecolor": "white",
            "ticks": ""
           },
           "bgcolor": "#E5ECF6",
           "caxis": {
            "gridcolor": "white",
            "linecolor": "white",
            "ticks": ""
           }
          },
          "title": {
           "x": 0.05
          },
          "xaxis": {
           "automargin": true,
           "gridcolor": "white",
           "linecolor": "white",
           "ticks": "",
           "title": {
            "standoff": 15
           },
           "zerolinecolor": "white",
           "zerolinewidth": 2
          },
          "yaxis": {
           "automargin": true,
           "gridcolor": "white",
           "linecolor": "white",
           "ticks": "",
           "title": {
            "standoff": 15
           },
           "zerolinecolor": "white",
           "zerolinewidth": 2
          }
         }
        },
        "title": {
         "text": "Gowanus Canal Water Quality - pH"
        },
        "xaxis": {
         "anchor": "y",
         "domain": [
          0,
          1
         ],
         "dtick": "M3",
         "tickangle": 45,
         "tickformat": "%b %Y",
         "title": {
          "text": "Date"
         }
        },
        "yaxis": {
         "anchor": "x",
         "domain": [
          0,
          1
         ],
         "title": {
          "text": "pH"
         }
        }
       }
      },
      "text/html": [
       "<div>                            <div id=\"ebfb0509-cc84-434b-bd2d-a4098a3029bb\" class=\"plotly-graph-div\" style=\"height:525px; width:100%;\"></div>            <script type=\"text/javascript\">                require([\"plotly\"], function(Plotly) {                    window.PLOTLYENV=window.PLOTLYENV || {};                                    if (document.getElementById(\"ebfb0509-cc84-434b-bd2d-a4098a3029bb\")) {                    Plotly.newPlot(                        \"ebfb0509-cc84-434b-bd2d-a4098a3029bb\",                        [{\"hovertemplate\":\"Date=%{x}<br>pH=%{y}<extra></extra>\",\"legendgroup\":\"\",\"line\":{\"color\":\"#636efa\",\"dash\":\"solid\"},\"marker\":{\"symbol\":\"circle\"},\"mode\":\"lines\",\"name\":\"\",\"orientation\":\"v\",\"showlegend\":false,\"x\":[\"2018-01-18T00:00:00\",\"2018-04-10T00:00:00\",\"2018-05-01T00:00:00\",\"2018-05-08T00:00:00\",\"2018-05-22T00:00:00\",\"2018-05-30T00:00:00\",\"2018-06-05T00:00:00\",\"2018-06-12T00:00:00\",\"2018-06-19T00:00:00\",\"2018-06-26T00:00:00\",\"2018-07-11T00:00:00\",\"2018-07-24T00:00:00\",\"2018-08-01T00:00:00\",\"2018-08-07T00:00:00\",\"2018-09-11T00:00:00\",\"2018-09-18T00:00:00\",\"2018-09-26T00:00:00\",\"2018-10-02T00:00:00\",\"2018-10-11T00:00:00\",\"2018-10-16T00:00:00\",\"2019-07-09T00:00:00\",\"2019-08-07T00:00:00\",\"2019-08-13T00:00:00\",\"2019-08-13T00:00:00\",\"2019-08-20T00:00:00\",\"2019-09-03T00:00:00\",\"2019-09-11T00:00:00\",\"2019-09-25T00:00:00\",\"2019-10-10T00:00:00\",\"2019-10-10T00:00:00\",\"2019-10-22T00:00:00\",\"2019-10-29T00:00:00\",\"2019-11-13T00:00:00\",\"2019-12-05T00:00:00\",\"2020-01-15T00:00:00\",\"2020-02-05T00:00:00\",\"2020-03-02T00:00:00\",\"2020-06-03T00:00:00\",\"2020-06-17T00:00:00\",\"2020-07-29T00:00:00\",\"2020-08-12T00:00:00\",\"2020-08-17T00:00:00\",\"2020-09-02T00:00:00\",\"2020-09-09T00:00:00\",\"2020-09-21T00:00:00\",\"2020-10-08T00:00:00\",\"2020-10-21T00:00:00\",\"2020-10-26T00:00:00\",\"2020-11-05T00:00:00\",\"2021-07-20T00:00:00\",\"2021-07-28T00:00:00\",\"2021-08-04T00:00:00\",\"2021-08-11T00:00:00\"],\"xaxis\":\"x\",\"y\":[7.99,\"7.91\",7.66,\"7.7\",\"7.44\",\"7.44\",\"7.63\",\"7.22\",\"7.28\",\"7.34\",\"7.49\",\"7.38\",\"7.47\",null,\"7.55\",\"7.57\",\"7.60\",\"7.67\",\"7.64\",\"7.76\",7.54,\"7.46\",\"7.46\",null,\"7.70\",7.49,7.71,\"7.88\",null,\"7.74\",7.78,7.75,7.95,\"8.02\",7.95,\"8.10\",8.06,7.99,7.79,8.12,7.56,\"7.58\",7.54,\"7.55\",7.68,7.64,7.74,7.71,7.7,7.76,7.74,7.69,7.41],\"yaxis\":\"y\",\"type\":\"scatter\"}],                        {\"template\":{\"data\":{\"bar\":[{\"error_x\":{\"color\":\"#2a3f5f\"},\"error_y\":{\"color\":\"#2a3f5f\"},\"marker\":{\"line\":{\"color\":\"#E5ECF6\",\"width\":0.5},\"pattern\":{\"fillmode\":\"overlay\",\"size\":10,\"solidity\":0.2}},\"type\":\"bar\"}],\"barpolar\":[{\"marker\":{\"line\":{\"color\":\"#E5ECF6\",\"width\":0.5},\"pattern\":{\"fillmode\":\"overlay\",\"size\":10,\"solidity\":0.2}},\"type\":\"barpolar\"}],\"carpet\":[{\"aaxis\":{\"endlinecolor\":\"#2a3f5f\",\"gridcolor\":\"white\",\"linecolor\":\"white\",\"minorgridcolor\":\"white\",\"startlinecolor\":\"#2a3f5f\"},\"baxis\":{\"endlinecolor\":\"#2a3f5f\",\"gridcolor\":\"white\",\"linecolor\":\"white\",\"minorgridcolor\":\"white\",\"startlinecolor\":\"#2a3f5f\"},\"type\":\"carpet\"}],\"choropleth\":[{\"colorbar\":{\"outlinewidth\":0,\"ticks\":\"\"},\"type\":\"choropleth\"}],\"contour\":[{\"colorbar\":{\"outlinewidth\":0,\"ticks\":\"\"},\"colorscale\":[[0.0,\"#0d0887\"],[0.1111111111111111,\"#46039f\"],[0.2222222222222222,\"#7201a8\"],[0.3333333333333333,\"#9c179e\"],[0.4444444444444444,\"#bd3786\"],[0.5555555555555556,\"#d8576b\"],[0.6666666666666666,\"#ed7953\"],[0.7777777777777778,\"#fb9f3a\"],[0.8888888888888888,\"#fdca26\"],[1.0,\"#f0f921\"]],\"type\":\"contour\"}],\"contourcarpet\":[{\"colorbar\":{\"outlinewidth\":0,\"ticks\":\"\"},\"type\":\"contourcarpet\"}],\"heatmap\":[{\"colorbar\":{\"outlinewidth\":0,\"ticks\":\"\"},\"colorscale\":[[0.0,\"#0d0887\"],[0.1111111111111111,\"#46039f\"],[0.2222222222222222,\"#7201a8\"],[0.3333333333333333,\"#9c179e\"],[0.4444444444444444,\"#bd3786\"],[0.5555555555555556,\"#d8576b\"],[0.6666666666666666,\"#ed7953\"],[0.7777777777777778,\"#fb9f3a\"],[0.8888888888888888,\"#fdca26\"],[1.0,\"#f0f921\"]],\"type\":\"heatmap\"}],\"heatmapgl\":[{\"colorbar\":{\"outlinewidth\":0,\"ticks\":\"\"},\"colorscale\":[[0.0,\"#0d0887\"],[0.1111111111111111,\"#46039f\"],[0.2222222222222222,\"#7201a8\"],[0.3333333333333333,\"#9c179e\"],[0.4444444444444444,\"#bd3786\"],[0.5555555555555556,\"#d8576b\"],[0.6666666666666666,\"#ed7953\"],[0.7777777777777778,\"#fb9f3a\"],[0.8888888888888888,\"#fdca26\"],[1.0,\"#f0f921\"]],\"type\":\"heatmapgl\"}],\"histogram\":[{\"marker\":{\"pattern\":{\"fillmode\":\"overlay\",\"size\":10,\"solidity\":0.2}},\"type\":\"histogram\"}],\"histogram2d\":[{\"colorbar\":{\"outlinewidth\":0,\"ticks\":\"\"},\"colorscale\":[[0.0,\"#0d0887\"],[0.1111111111111111,\"#46039f\"],[0.2222222222222222,\"#7201a8\"],[0.3333333333333333,\"#9c179e\"],[0.4444444444444444,\"#bd3786\"],[0.5555555555555556,\"#d8576b\"],[0.6666666666666666,\"#ed7953\"],[0.7777777777777778,\"#fb9f3a\"],[0.8888888888888888,\"#fdca26\"],[1.0,\"#f0f921\"]],\"type\":\"histogram2d\"}],\"histogram2dcontour\":[{\"colorbar\":{\"outlinewidth\":0,\"ticks\":\"\"},\"colorscale\":[[0.0,\"#0d0887\"],[0.1111111111111111,\"#46039f\"],[0.2222222222222222,\"#7201a8\"],[0.3333333333333333,\"#9c179e\"],[0.4444444444444444,\"#bd3786\"],[0.5555555555555556,\"#d8576b\"],[0.6666666666666666,\"#ed7953\"],[0.7777777777777778,\"#fb9f3a\"],[0.8888888888888888,\"#fdca26\"],[1.0,\"#f0f921\"]],\"type\":\"histogram2dcontour\"}],\"mesh3d\":[{\"colorbar\":{\"outlinewidth\":0,\"ticks\":\"\"},\"type\":\"mesh3d\"}],\"parcoords\":[{\"line\":{\"colorbar\":{\"outlinewidth\":0,\"ticks\":\"\"}},\"type\":\"parcoords\"}],\"pie\":[{\"automargin\":true,\"type\":\"pie\"}],\"scatter\":[{\"marker\":{\"colorbar\":{\"outlinewidth\":0,\"ticks\":\"\"}},\"type\":\"scatter\"}],\"scatter3d\":[{\"line\":{\"colorbar\":{\"outlinewidth\":0,\"ticks\":\"\"}},\"marker\":{\"colorbar\":{\"outlinewidth\":0,\"ticks\":\"\"}},\"type\":\"scatter3d\"}],\"scattercarpet\":[{\"marker\":{\"colorbar\":{\"outlinewidth\":0,\"ticks\":\"\"}},\"type\":\"scattercarpet\"}],\"scattergeo\":[{\"marker\":{\"colorbar\":{\"outlinewidth\":0,\"ticks\":\"\"}},\"type\":\"scattergeo\"}],\"scattergl\":[{\"marker\":{\"colorbar\":{\"outlinewidth\":0,\"ticks\":\"\"}},\"type\":\"scattergl\"}],\"scattermapbox\":[{\"marker\":{\"colorbar\":{\"outlinewidth\":0,\"ticks\":\"\"}},\"type\":\"scattermapbox\"}],\"scatterpolar\":[{\"marker\":{\"colorbar\":{\"outlinewidth\":0,\"ticks\":\"\"}},\"type\":\"scatterpolar\"}],\"scatterpolargl\":[{\"marker\":{\"colorbar\":{\"outlinewidth\":0,\"ticks\":\"\"}},\"type\":\"scatterpolargl\"}],\"scatterternary\":[{\"marker\":{\"colorbar\":{\"outlinewidth\":0,\"ticks\":\"\"}},\"type\":\"scatterternary\"}],\"surface\":[{\"colorbar\":{\"outlinewidth\":0,\"ticks\":\"\"},\"colorscale\":[[0.0,\"#0d0887\"],[0.1111111111111111,\"#46039f\"],[0.2222222222222222,\"#7201a8\"],[0.3333333333333333,\"#9c179e\"],[0.4444444444444444,\"#bd3786\"],[0.5555555555555556,\"#d8576b\"],[0.6666666666666666,\"#ed7953\"],[0.7777777777777778,\"#fb9f3a\"],[0.8888888888888888,\"#fdca26\"],[1.0,\"#f0f921\"]],\"type\":\"surface\"}],\"table\":[{\"cells\":{\"fill\":{\"color\":\"#EBF0F8\"},\"line\":{\"color\":\"white\"}},\"header\":{\"fill\":{\"color\":\"#C8D4E3\"},\"line\":{\"color\":\"white\"}},\"type\":\"table\"}]},\"layout\":{\"annotationdefaults\":{\"arrowcolor\":\"#2a3f5f\",\"arrowhead\":0,\"arrowwidth\":1},\"autotypenumbers\":\"strict\",\"coloraxis\":{\"colorbar\":{\"outlinewidth\":0,\"ticks\":\"\"}},\"colorscale\":{\"diverging\":[[0,\"#8e0152\"],[0.1,\"#c51b7d\"],[0.2,\"#de77ae\"],[0.3,\"#f1b6da\"],[0.4,\"#fde0ef\"],[0.5,\"#f7f7f7\"],[0.6,\"#e6f5d0\"],[0.7,\"#b8e186\"],[0.8,\"#7fbc41\"],[0.9,\"#4d9221\"],[1,\"#276419\"]],\"sequential\":[[0.0,\"#0d0887\"],[0.1111111111111111,\"#46039f\"],[0.2222222222222222,\"#7201a8\"],[0.3333333333333333,\"#9c179e\"],[0.4444444444444444,\"#bd3786\"],[0.5555555555555556,\"#d8576b\"],[0.6666666666666666,\"#ed7953\"],[0.7777777777777778,\"#fb9f3a\"],[0.8888888888888888,\"#fdca26\"],[1.0,\"#f0f921\"]],\"sequentialminus\":[[0.0,\"#0d0887\"],[0.1111111111111111,\"#46039f\"],[0.2222222222222222,\"#7201a8\"],[0.3333333333333333,\"#9c179e\"],[0.4444444444444444,\"#bd3786\"],[0.5555555555555556,\"#d8576b\"],[0.6666666666666666,\"#ed7953\"],[0.7777777777777778,\"#fb9f3a\"],[0.8888888888888888,\"#fdca26\"],[1.0,\"#f0f921\"]]},\"colorway\":[\"#636efa\",\"#EF553B\",\"#00cc96\",\"#ab63fa\",\"#FFA15A\",\"#19d3f3\",\"#FF6692\",\"#B6E880\",\"#FF97FF\",\"#FECB52\"],\"font\":{\"color\":\"#2a3f5f\"},\"geo\":{\"bgcolor\":\"white\",\"lakecolor\":\"white\",\"landcolor\":\"#E5ECF6\",\"showlakes\":true,\"showland\":true,\"subunitcolor\":\"white\"},\"hoverlabel\":{\"align\":\"left\"},\"hovermode\":\"closest\",\"mapbox\":{\"style\":\"light\"},\"paper_bgcolor\":\"white\",\"plot_bgcolor\":\"#E5ECF6\",\"polar\":{\"angularaxis\":{\"gridcolor\":\"white\",\"linecolor\":\"white\",\"ticks\":\"\"},\"bgcolor\":\"#E5ECF6\",\"radialaxis\":{\"gridcolor\":\"white\",\"linecolor\":\"white\",\"ticks\":\"\"}},\"scene\":{\"xaxis\":{\"backgroundcolor\":\"#E5ECF6\",\"gridcolor\":\"white\",\"gridwidth\":2,\"linecolor\":\"white\",\"showbackground\":true,\"ticks\":\"\",\"zerolinecolor\":\"white\"},\"yaxis\":{\"backgroundcolor\":\"#E5ECF6\",\"gridcolor\":\"white\",\"gridwidth\":2,\"linecolor\":\"white\",\"showbackground\":true,\"ticks\":\"\",\"zerolinecolor\":\"white\"},\"zaxis\":{\"backgroundcolor\":\"#E5ECF6\",\"gridcolor\":\"white\",\"gridwidth\":2,\"linecolor\":\"white\",\"showbackground\":true,\"ticks\":\"\",\"zerolinecolor\":\"white\"}},\"shapedefaults\":{\"line\":{\"color\":\"#2a3f5f\"}},\"ternary\":{\"aaxis\":{\"gridcolor\":\"white\",\"linecolor\":\"white\",\"ticks\":\"\"},\"baxis\":{\"gridcolor\":\"white\",\"linecolor\":\"white\",\"ticks\":\"\"},\"bgcolor\":\"#E5ECF6\",\"caxis\":{\"gridcolor\":\"white\",\"linecolor\":\"white\",\"ticks\":\"\"}},\"title\":{\"x\":0.05},\"xaxis\":{\"automargin\":true,\"gridcolor\":\"white\",\"linecolor\":\"white\",\"ticks\":\"\",\"title\":{\"standoff\":15},\"zerolinecolor\":\"white\",\"zerolinewidth\":2},\"yaxis\":{\"automargin\":true,\"gridcolor\":\"white\",\"linecolor\":\"white\",\"ticks\":\"\",\"title\":{\"standoff\":15},\"zerolinecolor\":\"white\",\"zerolinewidth\":2}}},\"xaxis\":{\"anchor\":\"y\",\"domain\":[0.0,1.0],\"title\":{\"text\":\"Date\"},\"tickformat\":\"%b %Y\",\"tickangle\":45,\"dtick\":\"M3\"},\"yaxis\":{\"anchor\":\"x\",\"domain\":[0.0,1.0],\"title\":{\"text\":\"pH\"}},\"legend\":{\"tracegroupgap\":0},\"margin\":{\"t\":60},\"title\":{\"text\":\"Gowanus Canal Water Quality - pH\"}},                        {\"responsive\": true}                    ).then(function(){\n",
       "                            \n",
       "var gd = document.getElementById('ebfb0509-cc84-434b-bd2d-a4098a3029bb');\n",
       "var x = new MutationObserver(function (mutations, observer) {{\n",
       "        var display = window.getComputedStyle(gd).display;\n",
       "        if (!display || display === 'none') {{\n",
       "            console.log([gd, 'removed!']);\n",
       "            Plotly.purge(gd);\n",
       "            observer.disconnect();\n",
       "        }}\n",
       "}});\n",
       "\n",
       "// Listen for the removal of the full notebook cells\n",
       "var notebookContainer = gd.closest('#notebook-container');\n",
       "if (notebookContainer) {{\n",
       "    x.observe(notebookContainer, {childList: true});\n",
       "}}\n",
       "\n",
       "// Listen for the clearing of the current output cell\n",
       "var outputEl = gd.closest('.output');\n",
       "if (outputEl) {{\n",
       "    x.observe(outputEl, {childList: true});\n",
       "}}\n",
       "\n",
       "                        })                };                });            </script>        </div>"
      ]
     },
     "metadata": {},
     "output_type": "display_data"
    }
   ],
   "source": [
    "fig = px.line(G2_pH, x=\"Date\", y=\"pH\")\n",
    "\n",
    "fig.update_layout(title = 'Gowanus Canal Water Quality - pH', xaxis=dict(tickformat=\"%b %Y\", tickangle=45))\n",
    "fig.update_xaxes(dtick=\"M3\")"
   ]
  },
  {
   "cell_type": "code",
   "execution_count": 510,
   "id": "356babd0",
   "metadata": {},
   "outputs": [
    {
     "data": {
      "application/vnd.plotly.v1+json": {
       "config": {
        "plotlyServerURL": "https://plot.ly"
       },
       "data": [
        {
         "hovertemplate": "Date=%{x}<br>pH=%{y}<extra></extra>",
         "legendgroup": "",
         "line": {
          "color": "#636efa",
          "dash": "solid"
         },
         "marker": {
          "symbol": "circle"
         },
         "mode": "lines",
         "name": "",
         "orientation": "v",
         "showlegend": false,
         "type": "scatter",
         "x": [
          "2018-01-11T00:00:00",
          "2018-01-11T00:00:00",
          "2018-02-13T00:00:00",
          "2018-03-07T00:00:00",
          "2018-04-04T00:00:00",
          "2018-04-30T00:00:00",
          "2018-05-07T00:00:00",
          "2018-05-16T00:00:00",
          "2018-05-24T00:00:00",
          "2018-05-29T00:00:00",
          "2018-06-04T00:00:00",
          "2018-06-12T00:00:00",
          "2018-06-18T00:00:00",
          "2018-06-25T00:00:00",
          "2018-07-17T00:00:00",
          "2018-08-06T00:00:00",
          "2018-08-15T00:00:00",
          "2018-08-20T00:00:00",
          "2018-08-30T00:00:00",
          "2018-09-17T00:00:00",
          "2018-09-24T00:00:00",
          "2018-10-01T00:00:00",
          "2018-10-15T00:00:00",
          "2018-10-22T00:00:00",
          "2018-11-28T00:00:00",
          "2018-12-12T00:00:00",
          "2019-01-15T00:00:00",
          "2019-02-06T00:00:00",
          "2019-03-13T00:00:00",
          "2019-04-16T00:00:00",
          "2019-05-08T00:00:00",
          "2019-05-22T00:00:00",
          "2019-06-05T00:00:00",
          "2019-06-19T00:00:00",
          "2019-08-08T00:00:00",
          "2019-11-14T00:00:00",
          "2019-12-11T00:00:00",
          "2019-12-11T00:00:00",
          "2020-01-13T00:00:00",
          "2020-02-10T00:00:00",
          "2020-03-24T00:00:00",
          "2020-06-09T00:00:00",
          "2020-06-24T00:00:00",
          "2020-07-08T00:00:00",
          "2020-07-22T00:00:00",
          "2020-08-05T00:00:00",
          "2020-08-12T00:00:00",
          "2020-08-19T00:00:00",
          "2020-08-26T00:00:00",
          "2020-09-02T00:00:00",
          "2020-09-14T00:00:00",
          "2020-09-23T00:00:00",
          "2020-09-30T00:00:00",
          "2020-10-08T00:00:00",
          "2020-10-21T00:00:00",
          "2020-10-28T00:00:00",
          "2020-11-19T00:00:00",
          "2020-12-14T00:00:00",
          "2021-01-13T00:00:00",
          "2021-02-16T00:00:00",
          "2021-03-18T00:00:00",
          "2021-04-21T00:00:00",
          "2021-05-18T00:00:00",
          "2021-06-03T00:00:00",
          "2021-07-14T00:00:00",
          "2021-07-14T00:00:00",
          "2021-07-28T00:00:00",
          "2021-08-04T00:00:00",
          "2021-08-10T00:00:00"
         ],
         "xaxis": "x",
         "y": [
          null,
          "7.89",
          "8",
          "8",
          "8.07",
          "7.89",
          7.86,
          "7.64",
          "7.32",
          "7.31",
          "7.34",
          "7.23",
          "7.17",
          "7.18",
          "7.51",
          "7.66",
          "7.49",
          "7.73",
          "7.57",
          null,
          "7.44",
          "7.46",
          "7.54",
          "7.73",
          7.81,
          "7.99",
          7.74,
          "8.07",
          "7.86",
          7.74,
          7.4,
          null,
          null,
          null,
          null,
          "7.59",
          null,
          7.57,
          7.66,
          7.76,
          "7.99",
          "7.58",
          7.56,
          7.12,
          7.42,
          7.27,
          "7.55",
          7.37,
          7.58,
          7.61,
          7.43,
          7.5,
          7.4,
          7.42,
          7.45,
          7.5,
          7.47,
          7.65,
          "7.79",
          7.77,
          "7.88",
          "7.60",
          7.46,
          "7.31",
          null,
          7.24,
          7.41,
          7.27,
          "7.35"
         ],
         "yaxis": "y"
        }
       ],
       "layout": {
        "legend": {
         "tracegroupgap": 0
        },
        "margin": {
         "t": 60
        },
        "template": {
         "data": {
          "bar": [
           {
            "error_x": {
             "color": "#2a3f5f"
            },
            "error_y": {
             "color": "#2a3f5f"
            },
            "marker": {
             "line": {
              "color": "#E5ECF6",
              "width": 0.5
             },
             "pattern": {
              "fillmode": "overlay",
              "size": 10,
              "solidity": 0.2
             }
            },
            "type": "bar"
           }
          ],
          "barpolar": [
           {
            "marker": {
             "line": {
              "color": "#E5ECF6",
              "width": 0.5
             },
             "pattern": {
              "fillmode": "overlay",
              "size": 10,
              "solidity": 0.2
             }
            },
            "type": "barpolar"
           }
          ],
          "carpet": [
           {
            "aaxis": {
             "endlinecolor": "#2a3f5f",
             "gridcolor": "white",
             "linecolor": "white",
             "minorgridcolor": "white",
             "startlinecolor": "#2a3f5f"
            },
            "baxis": {
             "endlinecolor": "#2a3f5f",
             "gridcolor": "white",
             "linecolor": "white",
             "minorgridcolor": "white",
             "startlinecolor": "#2a3f5f"
            },
            "type": "carpet"
           }
          ],
          "choropleth": [
           {
            "colorbar": {
             "outlinewidth": 0,
             "ticks": ""
            },
            "type": "choropleth"
           }
          ],
          "contour": [
           {
            "colorbar": {
             "outlinewidth": 0,
             "ticks": ""
            },
            "colorscale": [
             [
              0,
              "#0d0887"
             ],
             [
              0.1111111111111111,
              "#46039f"
             ],
             [
              0.2222222222222222,
              "#7201a8"
             ],
             [
              0.3333333333333333,
              "#9c179e"
             ],
             [
              0.4444444444444444,
              "#bd3786"
             ],
             [
              0.5555555555555556,
              "#d8576b"
             ],
             [
              0.6666666666666666,
              "#ed7953"
             ],
             [
              0.7777777777777778,
              "#fb9f3a"
             ],
             [
              0.8888888888888888,
              "#fdca26"
             ],
             [
              1,
              "#f0f921"
             ]
            ],
            "type": "contour"
           }
          ],
          "contourcarpet": [
           {
            "colorbar": {
             "outlinewidth": 0,
             "ticks": ""
            },
            "type": "contourcarpet"
           }
          ],
          "heatmap": [
           {
            "colorbar": {
             "outlinewidth": 0,
             "ticks": ""
            },
            "colorscale": [
             [
              0,
              "#0d0887"
             ],
             [
              0.1111111111111111,
              "#46039f"
             ],
             [
              0.2222222222222222,
              "#7201a8"
             ],
             [
              0.3333333333333333,
              "#9c179e"
             ],
             [
              0.4444444444444444,
              "#bd3786"
             ],
             [
              0.5555555555555556,
              "#d8576b"
             ],
             [
              0.6666666666666666,
              "#ed7953"
             ],
             [
              0.7777777777777778,
              "#fb9f3a"
             ],
             [
              0.8888888888888888,
              "#fdca26"
             ],
             [
              1,
              "#f0f921"
             ]
            ],
            "type": "heatmap"
           }
          ],
          "heatmapgl": [
           {
            "colorbar": {
             "outlinewidth": 0,
             "ticks": ""
            },
            "colorscale": [
             [
              0,
              "#0d0887"
             ],
             [
              0.1111111111111111,
              "#46039f"
             ],
             [
              0.2222222222222222,
              "#7201a8"
             ],
             [
              0.3333333333333333,
              "#9c179e"
             ],
             [
              0.4444444444444444,
              "#bd3786"
             ],
             [
              0.5555555555555556,
              "#d8576b"
             ],
             [
              0.6666666666666666,
              "#ed7953"
             ],
             [
              0.7777777777777778,
              "#fb9f3a"
             ],
             [
              0.8888888888888888,
              "#fdca26"
             ],
             [
              1,
              "#f0f921"
             ]
            ],
            "type": "heatmapgl"
           }
          ],
          "histogram": [
           {
            "marker": {
             "pattern": {
              "fillmode": "overlay",
              "size": 10,
              "solidity": 0.2
             }
            },
            "type": "histogram"
           }
          ],
          "histogram2d": [
           {
            "colorbar": {
             "outlinewidth": 0,
             "ticks": ""
            },
            "colorscale": [
             [
              0,
              "#0d0887"
             ],
             [
              0.1111111111111111,
              "#46039f"
             ],
             [
              0.2222222222222222,
              "#7201a8"
             ],
             [
              0.3333333333333333,
              "#9c179e"
             ],
             [
              0.4444444444444444,
              "#bd3786"
             ],
             [
              0.5555555555555556,
              "#d8576b"
             ],
             [
              0.6666666666666666,
              "#ed7953"
             ],
             [
              0.7777777777777778,
              "#fb9f3a"
             ],
             [
              0.8888888888888888,
              "#fdca26"
             ],
             [
              1,
              "#f0f921"
             ]
            ],
            "type": "histogram2d"
           }
          ],
          "histogram2dcontour": [
           {
            "colorbar": {
             "outlinewidth": 0,
             "ticks": ""
            },
            "colorscale": [
             [
              0,
              "#0d0887"
             ],
             [
              0.1111111111111111,
              "#46039f"
             ],
             [
              0.2222222222222222,
              "#7201a8"
             ],
             [
              0.3333333333333333,
              "#9c179e"
             ],
             [
              0.4444444444444444,
              "#bd3786"
             ],
             [
              0.5555555555555556,
              "#d8576b"
             ],
             [
              0.6666666666666666,
              "#ed7953"
             ],
             [
              0.7777777777777778,
              "#fb9f3a"
             ],
             [
              0.8888888888888888,
              "#fdca26"
             ],
             [
              1,
              "#f0f921"
             ]
            ],
            "type": "histogram2dcontour"
           }
          ],
          "mesh3d": [
           {
            "colorbar": {
             "outlinewidth": 0,
             "ticks": ""
            },
            "type": "mesh3d"
           }
          ],
          "parcoords": [
           {
            "line": {
             "colorbar": {
              "outlinewidth": 0,
              "ticks": ""
             }
            },
            "type": "parcoords"
           }
          ],
          "pie": [
           {
            "automargin": true,
            "type": "pie"
           }
          ],
          "scatter": [
           {
            "marker": {
             "colorbar": {
              "outlinewidth": 0,
              "ticks": ""
             }
            },
            "type": "scatter"
           }
          ],
          "scatter3d": [
           {
            "line": {
             "colorbar": {
              "outlinewidth": 0,
              "ticks": ""
             }
            },
            "marker": {
             "colorbar": {
              "outlinewidth": 0,
              "ticks": ""
             }
            },
            "type": "scatter3d"
           }
          ],
          "scattercarpet": [
           {
            "marker": {
             "colorbar": {
              "outlinewidth": 0,
              "ticks": ""
             }
            },
            "type": "scattercarpet"
           }
          ],
          "scattergeo": [
           {
            "marker": {
             "colorbar": {
              "outlinewidth": 0,
              "ticks": ""
             }
            },
            "type": "scattergeo"
           }
          ],
          "scattergl": [
           {
            "marker": {
             "colorbar": {
              "outlinewidth": 0,
              "ticks": ""
             }
            },
            "type": "scattergl"
           }
          ],
          "scattermapbox": [
           {
            "marker": {
             "colorbar": {
              "outlinewidth": 0,
              "ticks": ""
             }
            },
            "type": "scattermapbox"
           }
          ],
          "scatterpolar": [
           {
            "marker": {
             "colorbar": {
              "outlinewidth": 0,
              "ticks": ""
             }
            },
            "type": "scatterpolar"
           }
          ],
          "scatterpolargl": [
           {
            "marker": {
             "colorbar": {
              "outlinewidth": 0,
              "ticks": ""
             }
            },
            "type": "scatterpolargl"
           }
          ],
          "scatterternary": [
           {
            "marker": {
             "colorbar": {
              "outlinewidth": 0,
              "ticks": ""
             }
            },
            "type": "scatterternary"
           }
          ],
          "surface": [
           {
            "colorbar": {
             "outlinewidth": 0,
             "ticks": ""
            },
            "colorscale": [
             [
              0,
              "#0d0887"
             ],
             [
              0.1111111111111111,
              "#46039f"
             ],
             [
              0.2222222222222222,
              "#7201a8"
             ],
             [
              0.3333333333333333,
              "#9c179e"
             ],
             [
              0.4444444444444444,
              "#bd3786"
             ],
             [
              0.5555555555555556,
              "#d8576b"
             ],
             [
              0.6666666666666666,
              "#ed7953"
             ],
             [
              0.7777777777777778,
              "#fb9f3a"
             ],
             [
              0.8888888888888888,
              "#fdca26"
             ],
             [
              1,
              "#f0f921"
             ]
            ],
            "type": "surface"
           }
          ],
          "table": [
           {
            "cells": {
             "fill": {
              "color": "#EBF0F8"
             },
             "line": {
              "color": "white"
             }
            },
            "header": {
             "fill": {
              "color": "#C8D4E3"
             },
             "line": {
              "color": "white"
             }
            },
            "type": "table"
           }
          ]
         },
         "layout": {
          "annotationdefaults": {
           "arrowcolor": "#2a3f5f",
           "arrowhead": 0,
           "arrowwidth": 1
          },
          "autotypenumbers": "strict",
          "coloraxis": {
           "colorbar": {
            "outlinewidth": 0,
            "ticks": ""
           }
          },
          "colorscale": {
           "diverging": [
            [
             0,
             "#8e0152"
            ],
            [
             0.1,
             "#c51b7d"
            ],
            [
             0.2,
             "#de77ae"
            ],
            [
             0.3,
             "#f1b6da"
            ],
            [
             0.4,
             "#fde0ef"
            ],
            [
             0.5,
             "#f7f7f7"
            ],
            [
             0.6,
             "#e6f5d0"
            ],
            [
             0.7,
             "#b8e186"
            ],
            [
             0.8,
             "#7fbc41"
            ],
            [
             0.9,
             "#4d9221"
            ],
            [
             1,
             "#276419"
            ]
           ],
           "sequential": [
            [
             0,
             "#0d0887"
            ],
            [
             0.1111111111111111,
             "#46039f"
            ],
            [
             0.2222222222222222,
             "#7201a8"
            ],
            [
             0.3333333333333333,
             "#9c179e"
            ],
            [
             0.4444444444444444,
             "#bd3786"
            ],
            [
             0.5555555555555556,
             "#d8576b"
            ],
            [
             0.6666666666666666,
             "#ed7953"
            ],
            [
             0.7777777777777778,
             "#fb9f3a"
            ],
            [
             0.8888888888888888,
             "#fdca26"
            ],
            [
             1,
             "#f0f921"
            ]
           ],
           "sequentialminus": [
            [
             0,
             "#0d0887"
            ],
            [
             0.1111111111111111,
             "#46039f"
            ],
            [
             0.2222222222222222,
             "#7201a8"
            ],
            [
             0.3333333333333333,
             "#9c179e"
            ],
            [
             0.4444444444444444,
             "#bd3786"
            ],
            [
             0.5555555555555556,
             "#d8576b"
            ],
            [
             0.6666666666666666,
             "#ed7953"
            ],
            [
             0.7777777777777778,
             "#fb9f3a"
            ],
            [
             0.8888888888888888,
             "#fdca26"
            ],
            [
             1,
             "#f0f921"
            ]
           ]
          },
          "colorway": [
           "#636efa",
           "#EF553B",
           "#00cc96",
           "#ab63fa",
           "#FFA15A",
           "#19d3f3",
           "#FF6692",
           "#B6E880",
           "#FF97FF",
           "#FECB52"
          ],
          "font": {
           "color": "#2a3f5f"
          },
          "geo": {
           "bgcolor": "white",
           "lakecolor": "white",
           "landcolor": "#E5ECF6",
           "showlakes": true,
           "showland": true,
           "subunitcolor": "white"
          },
          "hoverlabel": {
           "align": "left"
          },
          "hovermode": "closest",
          "mapbox": {
           "style": "light"
          },
          "paper_bgcolor": "white",
          "plot_bgcolor": "#E5ECF6",
          "polar": {
           "angularaxis": {
            "gridcolor": "white",
            "linecolor": "white",
            "ticks": ""
           },
           "bgcolor": "#E5ECF6",
           "radialaxis": {
            "gridcolor": "white",
            "linecolor": "white",
            "ticks": ""
           }
          },
          "scene": {
           "xaxis": {
            "backgroundcolor": "#E5ECF6",
            "gridcolor": "white",
            "gridwidth": 2,
            "linecolor": "white",
            "showbackground": true,
            "ticks": "",
            "zerolinecolor": "white"
           },
           "yaxis": {
            "backgroundcolor": "#E5ECF6",
            "gridcolor": "white",
            "gridwidth": 2,
            "linecolor": "white",
            "showbackground": true,
            "ticks": "",
            "zerolinecolor": "white"
           },
           "zaxis": {
            "backgroundcolor": "#E5ECF6",
            "gridcolor": "white",
            "gridwidth": 2,
            "linecolor": "white",
            "showbackground": true,
            "ticks": "",
            "zerolinecolor": "white"
           }
          },
          "shapedefaults": {
           "line": {
            "color": "#2a3f5f"
           }
          },
          "ternary": {
           "aaxis": {
            "gridcolor": "white",
            "linecolor": "white",
            "ticks": ""
           },
           "baxis": {
            "gridcolor": "white",
            "linecolor": "white",
            "ticks": ""
           },
           "bgcolor": "#E5ECF6",
           "caxis": {
            "gridcolor": "white",
            "linecolor": "white",
            "ticks": ""
           }
          },
          "title": {
           "x": 0.05
          },
          "xaxis": {
           "automargin": true,
           "gridcolor": "white",
           "linecolor": "white",
           "ticks": "",
           "title": {
            "standoff": 15
           },
           "zerolinecolor": "white",
           "zerolinewidth": 2
          },
          "yaxis": {
           "automargin": true,
           "gridcolor": "white",
           "linecolor": "white",
           "ticks": "",
           "title": {
            "standoff": 15
           },
           "zerolinecolor": "white",
           "zerolinewidth": 2
          }
         }
        },
        "title": {
         "text": "Gowanus Canal Water Quality - pH"
        },
        "xaxis": {
         "anchor": "y",
         "domain": [
          0,
          1
         ],
         "dtick": "M3",
         "tickangle": 45,
         "tickformat": "%b %Y",
         "title": {
          "text": "Date"
         }
        },
        "yaxis": {
         "anchor": "x",
         "domain": [
          0,
          1
         ],
         "title": {
          "text": "pH"
         }
        }
       }
      },
      "text/html": [
       "<div>                            <div id=\"4cfc3e2c-d494-4eb9-991e-e195d090e3b0\" class=\"plotly-graph-div\" style=\"height:525px; width:100%;\"></div>            <script type=\"text/javascript\">                require([\"plotly\"], function(Plotly) {                    window.PLOTLYENV=window.PLOTLYENV || {};                                    if (document.getElementById(\"4cfc3e2c-d494-4eb9-991e-e195d090e3b0\")) {                    Plotly.newPlot(                        \"4cfc3e2c-d494-4eb9-991e-e195d090e3b0\",                        [{\"hovertemplate\":\"Date=%{x}<br>pH=%{y}<extra></extra>\",\"legendgroup\":\"\",\"line\":{\"color\":\"#636efa\",\"dash\":\"solid\"},\"marker\":{\"symbol\":\"circle\"},\"mode\":\"lines\",\"name\":\"\",\"orientation\":\"v\",\"showlegend\":false,\"x\":[\"2018-01-11T00:00:00\",\"2018-01-11T00:00:00\",\"2018-02-13T00:00:00\",\"2018-03-07T00:00:00\",\"2018-04-04T00:00:00\",\"2018-04-30T00:00:00\",\"2018-05-07T00:00:00\",\"2018-05-16T00:00:00\",\"2018-05-24T00:00:00\",\"2018-05-29T00:00:00\",\"2018-06-04T00:00:00\",\"2018-06-12T00:00:00\",\"2018-06-18T00:00:00\",\"2018-06-25T00:00:00\",\"2018-07-17T00:00:00\",\"2018-08-06T00:00:00\",\"2018-08-15T00:00:00\",\"2018-08-20T00:00:00\",\"2018-08-30T00:00:00\",\"2018-09-17T00:00:00\",\"2018-09-24T00:00:00\",\"2018-10-01T00:00:00\",\"2018-10-15T00:00:00\",\"2018-10-22T00:00:00\",\"2018-11-28T00:00:00\",\"2018-12-12T00:00:00\",\"2019-01-15T00:00:00\",\"2019-02-06T00:00:00\",\"2019-03-13T00:00:00\",\"2019-04-16T00:00:00\",\"2019-05-08T00:00:00\",\"2019-05-22T00:00:00\",\"2019-06-05T00:00:00\",\"2019-06-19T00:00:00\",\"2019-08-08T00:00:00\",\"2019-11-14T00:00:00\",\"2019-12-11T00:00:00\",\"2019-12-11T00:00:00\",\"2020-01-13T00:00:00\",\"2020-02-10T00:00:00\",\"2020-03-24T00:00:00\",\"2020-06-09T00:00:00\",\"2020-06-24T00:00:00\",\"2020-07-08T00:00:00\",\"2020-07-22T00:00:00\",\"2020-08-05T00:00:00\",\"2020-08-12T00:00:00\",\"2020-08-19T00:00:00\",\"2020-08-26T00:00:00\",\"2020-09-02T00:00:00\",\"2020-09-14T00:00:00\",\"2020-09-23T00:00:00\",\"2020-09-30T00:00:00\",\"2020-10-08T00:00:00\",\"2020-10-21T00:00:00\",\"2020-10-28T00:00:00\",\"2020-11-19T00:00:00\",\"2020-12-14T00:00:00\",\"2021-01-13T00:00:00\",\"2021-02-16T00:00:00\",\"2021-03-18T00:00:00\",\"2021-04-21T00:00:00\",\"2021-05-18T00:00:00\",\"2021-06-03T00:00:00\",\"2021-07-14T00:00:00\",\"2021-07-14T00:00:00\",\"2021-07-28T00:00:00\",\"2021-08-04T00:00:00\",\"2021-08-10T00:00:00\"],\"xaxis\":\"x\",\"y\":[null,\"7.89\",\"8\",\"8\",\"8.07\",\"7.89\",7.86,\"7.64\",\"7.32\",\"7.31\",\"7.34\",\"7.23\",\"7.17\",\"7.18\",\"7.51\",\"7.66\",\"7.49\",\"7.73\",\"7.57\",null,\"7.44\",\"7.46\",\"7.54\",\"7.73\",7.81,\"7.99\",7.74,\"8.07\",\"7.86\",7.74,7.4,null,null,null,null,\"7.59\",null,7.57,7.66,7.76,\"7.99\",\"7.58\",7.56,7.12,7.42,7.27,\"7.55\",7.37,7.58,7.61,7.43,7.5,7.4,7.42,7.45,7.5,7.47,7.65,\"7.79\",7.77,\"7.88\",\"7.60\",7.46,\"7.31\",null,7.24,7.41,7.27,\"7.35\"],\"yaxis\":\"y\",\"type\":\"scatter\"}],                        {\"template\":{\"data\":{\"bar\":[{\"error_x\":{\"color\":\"#2a3f5f\"},\"error_y\":{\"color\":\"#2a3f5f\"},\"marker\":{\"line\":{\"color\":\"#E5ECF6\",\"width\":0.5},\"pattern\":{\"fillmode\":\"overlay\",\"size\":10,\"solidity\":0.2}},\"type\":\"bar\"}],\"barpolar\":[{\"marker\":{\"line\":{\"color\":\"#E5ECF6\",\"width\":0.5},\"pattern\":{\"fillmode\":\"overlay\",\"size\":10,\"solidity\":0.2}},\"type\":\"barpolar\"}],\"carpet\":[{\"aaxis\":{\"endlinecolor\":\"#2a3f5f\",\"gridcolor\":\"white\",\"linecolor\":\"white\",\"minorgridcolor\":\"white\",\"startlinecolor\":\"#2a3f5f\"},\"baxis\":{\"endlinecolor\":\"#2a3f5f\",\"gridcolor\":\"white\",\"linecolor\":\"white\",\"minorgridcolor\":\"white\",\"startlinecolor\":\"#2a3f5f\"},\"type\":\"carpet\"}],\"choropleth\":[{\"colorbar\":{\"outlinewidth\":0,\"ticks\":\"\"},\"type\":\"choropleth\"}],\"contour\":[{\"colorbar\":{\"outlinewidth\":0,\"ticks\":\"\"},\"colorscale\":[[0.0,\"#0d0887\"],[0.1111111111111111,\"#46039f\"],[0.2222222222222222,\"#7201a8\"],[0.3333333333333333,\"#9c179e\"],[0.4444444444444444,\"#bd3786\"],[0.5555555555555556,\"#d8576b\"],[0.6666666666666666,\"#ed7953\"],[0.7777777777777778,\"#fb9f3a\"],[0.8888888888888888,\"#fdca26\"],[1.0,\"#f0f921\"]],\"type\":\"contour\"}],\"contourcarpet\":[{\"colorbar\":{\"outlinewidth\":0,\"ticks\":\"\"},\"type\":\"contourcarpet\"}],\"heatmap\":[{\"colorbar\":{\"outlinewidth\":0,\"ticks\":\"\"},\"colorscale\":[[0.0,\"#0d0887\"],[0.1111111111111111,\"#46039f\"],[0.2222222222222222,\"#7201a8\"],[0.3333333333333333,\"#9c179e\"],[0.4444444444444444,\"#bd3786\"],[0.5555555555555556,\"#d8576b\"],[0.6666666666666666,\"#ed7953\"],[0.7777777777777778,\"#fb9f3a\"],[0.8888888888888888,\"#fdca26\"],[1.0,\"#f0f921\"]],\"type\":\"heatmap\"}],\"heatmapgl\":[{\"colorbar\":{\"outlinewidth\":0,\"ticks\":\"\"},\"colorscale\":[[0.0,\"#0d0887\"],[0.1111111111111111,\"#46039f\"],[0.2222222222222222,\"#7201a8\"],[0.3333333333333333,\"#9c179e\"],[0.4444444444444444,\"#bd3786\"],[0.5555555555555556,\"#d8576b\"],[0.6666666666666666,\"#ed7953\"],[0.7777777777777778,\"#fb9f3a\"],[0.8888888888888888,\"#fdca26\"],[1.0,\"#f0f921\"]],\"type\":\"heatmapgl\"}],\"histogram\":[{\"marker\":{\"pattern\":{\"fillmode\":\"overlay\",\"size\":10,\"solidity\":0.2}},\"type\":\"histogram\"}],\"histogram2d\":[{\"colorbar\":{\"outlinewidth\":0,\"ticks\":\"\"},\"colorscale\":[[0.0,\"#0d0887\"],[0.1111111111111111,\"#46039f\"],[0.2222222222222222,\"#7201a8\"],[0.3333333333333333,\"#9c179e\"],[0.4444444444444444,\"#bd3786\"],[0.5555555555555556,\"#d8576b\"],[0.6666666666666666,\"#ed7953\"],[0.7777777777777778,\"#fb9f3a\"],[0.8888888888888888,\"#fdca26\"],[1.0,\"#f0f921\"]],\"type\":\"histogram2d\"}],\"histogram2dcontour\":[{\"colorbar\":{\"outlinewidth\":0,\"ticks\":\"\"},\"colorscale\":[[0.0,\"#0d0887\"],[0.1111111111111111,\"#46039f\"],[0.2222222222222222,\"#7201a8\"],[0.3333333333333333,\"#9c179e\"],[0.4444444444444444,\"#bd3786\"],[0.5555555555555556,\"#d8576b\"],[0.6666666666666666,\"#ed7953\"],[0.7777777777777778,\"#fb9f3a\"],[0.8888888888888888,\"#fdca26\"],[1.0,\"#f0f921\"]],\"type\":\"histogram2dcontour\"}],\"mesh3d\":[{\"colorbar\":{\"outlinewidth\":0,\"ticks\":\"\"},\"type\":\"mesh3d\"}],\"parcoords\":[{\"line\":{\"colorbar\":{\"outlinewidth\":0,\"ticks\":\"\"}},\"type\":\"parcoords\"}],\"pie\":[{\"automargin\":true,\"type\":\"pie\"}],\"scatter\":[{\"marker\":{\"colorbar\":{\"outlinewidth\":0,\"ticks\":\"\"}},\"type\":\"scatter\"}],\"scatter3d\":[{\"line\":{\"colorbar\":{\"outlinewidth\":0,\"ticks\":\"\"}},\"marker\":{\"colorbar\":{\"outlinewidth\":0,\"ticks\":\"\"}},\"type\":\"scatter3d\"}],\"scattercarpet\":[{\"marker\":{\"colorbar\":{\"outlinewidth\":0,\"ticks\":\"\"}},\"type\":\"scattercarpet\"}],\"scattergeo\":[{\"marker\":{\"colorbar\":{\"outlinewidth\":0,\"ticks\":\"\"}},\"type\":\"scattergeo\"}],\"scattergl\":[{\"marker\":{\"colorbar\":{\"outlinewidth\":0,\"ticks\":\"\"}},\"type\":\"scattergl\"}],\"scattermapbox\":[{\"marker\":{\"colorbar\":{\"outlinewidth\":0,\"ticks\":\"\"}},\"type\":\"scattermapbox\"}],\"scatterpolar\":[{\"marker\":{\"colorbar\":{\"outlinewidth\":0,\"ticks\":\"\"}},\"type\":\"scatterpolar\"}],\"scatterpolargl\":[{\"marker\":{\"colorbar\":{\"outlinewidth\":0,\"ticks\":\"\"}},\"type\":\"scatterpolargl\"}],\"scatterternary\":[{\"marker\":{\"colorbar\":{\"outlinewidth\":0,\"ticks\":\"\"}},\"type\":\"scatterternary\"}],\"surface\":[{\"colorbar\":{\"outlinewidth\":0,\"ticks\":\"\"},\"colorscale\":[[0.0,\"#0d0887\"],[0.1111111111111111,\"#46039f\"],[0.2222222222222222,\"#7201a8\"],[0.3333333333333333,\"#9c179e\"],[0.4444444444444444,\"#bd3786\"],[0.5555555555555556,\"#d8576b\"],[0.6666666666666666,\"#ed7953\"],[0.7777777777777778,\"#fb9f3a\"],[0.8888888888888888,\"#fdca26\"],[1.0,\"#f0f921\"]],\"type\":\"surface\"}],\"table\":[{\"cells\":{\"fill\":{\"color\":\"#EBF0F8\"},\"line\":{\"color\":\"white\"}},\"header\":{\"fill\":{\"color\":\"#C8D4E3\"},\"line\":{\"color\":\"white\"}},\"type\":\"table\"}]},\"layout\":{\"annotationdefaults\":{\"arrowcolor\":\"#2a3f5f\",\"arrowhead\":0,\"arrowwidth\":1},\"autotypenumbers\":\"strict\",\"coloraxis\":{\"colorbar\":{\"outlinewidth\":0,\"ticks\":\"\"}},\"colorscale\":{\"diverging\":[[0,\"#8e0152\"],[0.1,\"#c51b7d\"],[0.2,\"#de77ae\"],[0.3,\"#f1b6da\"],[0.4,\"#fde0ef\"],[0.5,\"#f7f7f7\"],[0.6,\"#e6f5d0\"],[0.7,\"#b8e186\"],[0.8,\"#7fbc41\"],[0.9,\"#4d9221\"],[1,\"#276419\"]],\"sequential\":[[0.0,\"#0d0887\"],[0.1111111111111111,\"#46039f\"],[0.2222222222222222,\"#7201a8\"],[0.3333333333333333,\"#9c179e\"],[0.4444444444444444,\"#bd3786\"],[0.5555555555555556,\"#d8576b\"],[0.6666666666666666,\"#ed7953\"],[0.7777777777777778,\"#fb9f3a\"],[0.8888888888888888,\"#fdca26\"],[1.0,\"#f0f921\"]],\"sequentialminus\":[[0.0,\"#0d0887\"],[0.1111111111111111,\"#46039f\"],[0.2222222222222222,\"#7201a8\"],[0.3333333333333333,\"#9c179e\"],[0.4444444444444444,\"#bd3786\"],[0.5555555555555556,\"#d8576b\"],[0.6666666666666666,\"#ed7953\"],[0.7777777777777778,\"#fb9f3a\"],[0.8888888888888888,\"#fdca26\"],[1.0,\"#f0f921\"]]},\"colorway\":[\"#636efa\",\"#EF553B\",\"#00cc96\",\"#ab63fa\",\"#FFA15A\",\"#19d3f3\",\"#FF6692\",\"#B6E880\",\"#FF97FF\",\"#FECB52\"],\"font\":{\"color\":\"#2a3f5f\"},\"geo\":{\"bgcolor\":\"white\",\"lakecolor\":\"white\",\"landcolor\":\"#E5ECF6\",\"showlakes\":true,\"showland\":true,\"subunitcolor\":\"white\"},\"hoverlabel\":{\"align\":\"left\"},\"hovermode\":\"closest\",\"mapbox\":{\"style\":\"light\"},\"paper_bgcolor\":\"white\",\"plot_bgcolor\":\"#E5ECF6\",\"polar\":{\"angularaxis\":{\"gridcolor\":\"white\",\"linecolor\":\"white\",\"ticks\":\"\"},\"bgcolor\":\"#E5ECF6\",\"radialaxis\":{\"gridcolor\":\"white\",\"linecolor\":\"white\",\"ticks\":\"\"}},\"scene\":{\"xaxis\":{\"backgroundcolor\":\"#E5ECF6\",\"gridcolor\":\"white\",\"gridwidth\":2,\"linecolor\":\"white\",\"showbackground\":true,\"ticks\":\"\",\"zerolinecolor\":\"white\"},\"yaxis\":{\"backgroundcolor\":\"#E5ECF6\",\"gridcolor\":\"white\",\"gridwidth\":2,\"linecolor\":\"white\",\"showbackground\":true,\"ticks\":\"\",\"zerolinecolor\":\"white\"},\"zaxis\":{\"backgroundcolor\":\"#E5ECF6\",\"gridcolor\":\"white\",\"gridwidth\":2,\"linecolor\":\"white\",\"showbackground\":true,\"ticks\":\"\",\"zerolinecolor\":\"white\"}},\"shapedefaults\":{\"line\":{\"color\":\"#2a3f5f\"}},\"ternary\":{\"aaxis\":{\"gridcolor\":\"white\",\"linecolor\":\"white\",\"ticks\":\"\"},\"baxis\":{\"gridcolor\":\"white\",\"linecolor\":\"white\",\"ticks\":\"\"},\"bgcolor\":\"#E5ECF6\",\"caxis\":{\"gridcolor\":\"white\",\"linecolor\":\"white\",\"ticks\":\"\"}},\"title\":{\"x\":0.05},\"xaxis\":{\"automargin\":true,\"gridcolor\":\"white\",\"linecolor\":\"white\",\"ticks\":\"\",\"title\":{\"standoff\":15},\"zerolinecolor\":\"white\",\"zerolinewidth\":2},\"yaxis\":{\"automargin\":true,\"gridcolor\":\"white\",\"linecolor\":\"white\",\"ticks\":\"\",\"title\":{\"standoff\":15},\"zerolinecolor\":\"white\",\"zerolinewidth\":2}}},\"xaxis\":{\"anchor\":\"y\",\"domain\":[0.0,1.0],\"title\":{\"text\":\"Date\"},\"tickformat\":\"%b %Y\",\"tickangle\":45,\"dtick\":\"M3\"},\"yaxis\":{\"anchor\":\"x\",\"domain\":[0.0,1.0],\"title\":{\"text\":\"pH\"}},\"legend\":{\"tracegroupgap\":0},\"margin\":{\"t\":60},\"title\":{\"text\":\"Gowanus Canal Water Quality - pH\"}},                        {\"responsive\": true}                    ).then(function(){\n",
       "                            \n",
       "var gd = document.getElementById('4cfc3e2c-d494-4eb9-991e-e195d090e3b0');\n",
       "var x = new MutationObserver(function (mutations, observer) {{\n",
       "        var display = window.getComputedStyle(gd).display;\n",
       "        if (!display || display === 'none') {{\n",
       "            console.log([gd, 'removed!']);\n",
       "            Plotly.purge(gd);\n",
       "            observer.disconnect();\n",
       "        }}\n",
       "}});\n",
       "\n",
       "// Listen for the removal of the full notebook cells\n",
       "var notebookContainer = gd.closest('#notebook-container');\n",
       "if (notebookContainer) {{\n",
       "    x.observe(notebookContainer, {childList: true});\n",
       "}}\n",
       "\n",
       "// Listen for the clearing of the current output cell\n",
       "var outputEl = gd.closest('.output');\n",
       "if (outputEl) {{\n",
       "    x.observe(outputEl, {childList: true});\n",
       "}}\n",
       "\n",
       "                        })                };                });            </script>        </div>"
      ]
     },
     "metadata": {},
     "output_type": "display_data"
    }
   ],
   "source": [
    "fig = px.line(GC6_pH, x=\"Date\", y=\"pH\")\n",
    "\n",
    "fig.update_layout(title = 'Gowanus Canal Water Quality - pH', xaxis=dict(tickformat=\"%b %Y\", tickangle=45))\n",
    "fig.update_xaxes(dtick=\"M3\")"
   ]
  },
  {
   "cell_type": "code",
   "execution_count": null,
   "id": "0825181f",
   "metadata": {},
   "outputs": [],
   "source": []
  },
  {
   "cell_type": "code",
   "execution_count": null,
   "id": "543f066f",
   "metadata": {},
   "outputs": [],
   "source": []
  }
 ],
 "metadata": {
  "kernelspec": {
   "display_name": "data_scores",
   "language": "python",
   "name": "data_scores"
  },
  "language_info": {
   "codemirror_mode": {
    "name": "ipython",
    "version": 3
   },
   "file_extension": ".py",
   "mimetype": "text/x-python",
   "name": "python",
   "nbconvert_exporter": "python",
   "pygments_lexer": "ipython3",
   "version": "3.10.2"
  }
 },
 "nbformat": 4,
 "nbformat_minor": 5
}
